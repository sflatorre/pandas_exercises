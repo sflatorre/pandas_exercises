{
 "cells": [
  {
   "cell_type": "markdown",
   "id": "8e52b97d-1dd5-4585-b589-964f954af941",
   "metadata": {},
   "source": [
    "<font size=\"+5\">#04 | Master the Python Syntax</font>"
   ]
  },
  {
   "cell_type": "markdown",
   "id": "ee404e98-7cce-4d1a-897d-572ec26ee648",
   "metadata": {},
   "source": [
    "\n",
    "<div class=\"alert alert-warning\">\n",
    "  <ul>\n",
    "    <li>\n",
    "      <b>Python</b> + <b>Data Science</b> Tutorials in ↓\n",
    "      <ul>\n",
    "        <li>\n",
    "          <a href=\"https://www.youtube.com/c/PythonResolver?sub_confirmation=1\"\n",
    "            >YouTube</a\n",
    "          >\n",
    "        </li>\n",
    "        <li>\n",
    "          <a href=\"https://blog.pythonresolver.com/\">Blog</a>\n",
    "        </li>\n",
    "        <li>\n",
    "          <a href=\"https://github.com/jsulopz/00-python-resolver-discipline\">GitHub</a>\n",
    "        </li>\n",
    "      </ul>\n",
    "    </li>\n",
    "    <li>\n",
    "      Author: <a href=\"https://twitter.com/jsulopz\"><b>@jsulopz</b></a>\n",
    "    </li>\n",
    "  </ul>\n",
    "</div>\n",
    "\n",
    "<a href=\"https://colab.research.google.com/github/jsulopz/resolving-python-data-science/blob/main/04_Master%20the%20Python%20Syntax/04_syntax_session.ipynb\">\n",
    "  <img src=\"https://colab.research.google.com/assets/colab-badge.svg\" alt=\"Open In Colab\"/>\n",
    "</a>\n"
   ]
  },
  {
   "cell_type": "markdown",
   "id": "ff269276-6dc1-406c-a20a-952c1792b995",
   "metadata": {
    "tags": []
   },
   "source": [
    "# The starting *thing*"
   ]
  },
  {
   "cell_type": "code",
   "execution_count": null,
   "id": "c3f7b612-d16e-474b-8c3b-f52aedc1d15e",
   "metadata": {},
   "outputs": [],
   "source": []
  },
  {
   "cell_type": "markdown",
   "id": "60ac3a49-cd1d-455c-a24d-3841c45ea3f3",
   "metadata": {},
   "source": [
    "- [ ] How can we play around with the `DataFrame`?"
   ]
  },
  {
   "cell_type": "markdown",
   "id": "a85b770f-8e13-4ffb-9000-2c0bc6d6072a",
   "metadata": {},
   "source": [
    "# The use of `variables` - `instances`"
   ]
  },
  {
   "cell_type": "markdown",
   "id": "eda3d07e-22ec-43d9-adb3-fae4d0135b5c",
   "metadata": {},
   "source": [
    "- A `variable` is an `instance` of `Class`\n",
    "- We'll refer to the *created variable* as an **instance**"
   ]
  },
  {
   "cell_type": "code",
   "execution_count": null,
   "id": "54b4935f-f21b-41de-8b41-ed9215a7dd37",
   "metadata": {},
   "outputs": [],
   "source": []
  },
  {
   "cell_type": "code",
   "execution_count": null,
   "id": "f1dbabb9-0d2b-4d37-aa86-dfca33e23f06",
   "metadata": {},
   "outputs": [],
   "source": []
  },
  {
   "cell_type": "markdown",
   "id": "ec8055e3-733d-4878-bf58-75929d0827b3",
   "metadata": {},
   "source": [
    "## The `string` object-instance"
   ]
  },
  {
   "cell_type": "code",
   "execution_count": null,
   "id": "1865b4be-f46f-4e18-804d-7bf677957426",
   "metadata": {},
   "outputs": [],
   "source": []
  },
  {
   "cell_type": "markdown",
   "id": "9baf1243-d37f-4eb6-ab3d-d8659a0f6060",
   "metadata": {},
   "source": [
    "### Using the `object` Directly"
   ]
  },
  {
   "cell_type": "code",
   "execution_count": null,
   "id": "029f624f-5b22-4b88-ade7-3026b191d9c0",
   "metadata": {},
   "outputs": [],
   "source": []
  },
  {
   "cell_type": "markdown",
   "id": "e5a70d50-2eab-41e3-b3ef-25b66d2c50aa",
   "metadata": {},
   "source": [
    "### Using the `instance`"
   ]
  },
  {
   "cell_type": "code",
   "execution_count": null,
   "id": "78aaa728-37d7-4290-b3fa-373ec061704c",
   "metadata": {},
   "outputs": [],
   "source": []
  },
  {
   "cell_type": "code",
   "execution_count": null,
   "id": "a3687b39-c51b-4ce3-b755-a07350190d72",
   "metadata": {},
   "outputs": [],
   "source": []
  },
  {
   "cell_type": "code",
   "execution_count": null,
   "id": "73496297-6bdb-4948-a660-b74530d3a881",
   "metadata": {},
   "outputs": [],
   "source": []
  },
  {
   "cell_type": "markdown",
   "id": "de66dac6-7ea7-421d-8258-97606ee4a4ed",
   "metadata": {},
   "source": [
    "<div class=\"alert alert-info\">\n",
    "    <b>Tip</b>\n",
    "    <br>❌ You don't need to create variables if you won't use the data later\n",
    "    <br>✅ Create a variable if you think you will repeat the code to reproduce the same data\n",
    "</div>"
   ]
  },
  {
   "cell_type": "markdown",
   "id": "de6457a7-7417-4f93-842e-77cfad5116e6",
   "metadata": {},
   "source": [
    "## Practical Recommendation "
   ]
  },
  {
   "cell_type": "markdown",
   "id": "708224c3-d45b-46aa-b248-2c1e8b035ac1",
   "metadata": {},
   "source": [
    "### Using the `object` Directly"
   ]
  },
  {
   "cell_type": "code",
   "execution_count": null,
   "id": "fe57e8ea-7600-45f8-b66a-1f9567b7d16e",
   "metadata": {},
   "outputs": [],
   "source": []
  },
  {
   "cell_type": "code",
   "execution_count": null,
   "id": "a99300c6-54f7-4fec-a6b4-027284f65335",
   "metadata": {},
   "outputs": [],
   "source": []
  },
  {
   "cell_type": "markdown",
   "id": "aad101ee-8a58-4562-b7ee-b408308807a5",
   "metadata": {},
   "source": [
    "### Using the `instance`"
   ]
  },
  {
   "cell_type": "code",
   "execution_count": null,
   "id": "c131a938-73be-4bd9-9fe5-48429a6fb82f",
   "metadata": {},
   "outputs": [],
   "source": []
  },
  {
   "cell_type": "code",
   "execution_count": null,
   "id": "3aafa064-d8b2-4f08-bbcb-6519072d3d32",
   "metadata": {},
   "outputs": [],
   "source": []
  },
  {
   "cell_type": "code",
   "execution_count": null,
   "id": "9fee3455-8093-43fb-8ed5-2f0d0abae117",
   "metadata": {},
   "outputs": [],
   "source": []
  },
  {
   "cell_type": "markdown",
   "id": "6854d584-3751-4b1e-bca6-6b7435d78da3",
   "metadata": {},
   "source": [
    "- [ ] Which way do you prefer?"
   ]
  },
  {
   "cell_type": "markdown",
   "id": "b8303de8-763b-42cf-b0e3-37b030038cd5",
   "metadata": {},
   "source": [
    "## The `DataFrame` object"
   ]
  },
  {
   "cell_type": "code",
   "execution_count": 27,
   "id": "7aadea7b-d31a-4299-97d2-244ba0f70121",
   "metadata": {},
   "outputs": [
    {
     "data": {
      "text/html": [
       "<div>\n",
       "<style scoped>\n",
       "    .dataframe tbody tr th:only-of-type {\n",
       "        vertical-align: middle;\n",
       "    }\n",
       "\n",
       "    .dataframe tbody tr th {\n",
       "        vertical-align: top;\n",
       "    }\n",
       "\n",
       "    .dataframe thead th {\n",
       "        text-align: right;\n",
       "    }\n",
       "</style>\n",
       "<table border=\"1\" class=\"dataframe\">\n",
       "  <thead>\n",
       "    <tr style=\"text-align: right;\">\n",
       "      <th></th>\n",
       "      <th>height</th>\n",
       "      <th>weight</th>\n",
       "    </tr>\n",
       "  </thead>\n",
       "  <tbody>\n",
       "    <tr>\n",
       "      <th>joseph</th>\n",
       "      <td>1.8</td>\n",
       "      <td>51</td>\n",
       "    </tr>\n",
       "    <tr>\n",
       "      <th>mary</th>\n",
       "      <td>2.0</td>\n",
       "      <td>52</td>\n",
       "    </tr>\n",
       "  </tbody>\n",
       "</table>\n",
       "</div>"
      ],
      "text/plain": [
       "        height  weight\n",
       "joseph     1.8      51\n",
       "mary       2.0      52"
      ]
     },
     "execution_count": 27,
     "metadata": {},
     "output_type": "execute_result"
    }
   ],
   "source": [
    "pd.DataFrame(data=[[1.80, 51], [2.0, 52]],\n",
    "             index=['joseph', 'mary'],\n",
    "             columns=['height', 'weight'])#!"
   ]
  },
  {
   "cell_type": "code",
   "execution_count": null,
   "id": "e0089c12-71df-43c9-a464-d4890e49cd85",
   "metadata": {},
   "outputs": [],
   "source": []
  },
  {
   "cell_type": "markdown",
   "id": "915a86ba-8afb-42d0-a542-f2d3d09e2f0d",
   "metadata": {},
   "source": [
    "### Using the `object` Directly"
   ]
  },
  {
   "cell_type": "code",
   "execution_count": null,
   "id": "4b968301-5525-40f3-949c-7beaf97a5988",
   "metadata": {},
   "outputs": [],
   "source": []
  },
  {
   "cell_type": "code",
   "execution_count": null,
   "id": "1e07f66f-05f4-4eaf-85a8-a103f01d022b",
   "metadata": {},
   "outputs": [],
   "source": []
  },
  {
   "cell_type": "markdown",
   "id": "4c7bc0d1-a823-45a1-8ad3-5229caebc55c",
   "metadata": {},
   "source": [
    "### Using the `instance`"
   ]
  },
  {
   "cell_type": "code",
   "execution_count": null,
   "id": "3953dbec-1338-4f9e-9868-6e9f210280f0",
   "metadata": {},
   "outputs": [],
   "source": []
  },
  {
   "cell_type": "code",
   "execution_count": null,
   "id": "a089801a-7035-4587-9b10-58ccfc0ccc62",
   "metadata": {},
   "outputs": [],
   "source": []
  },
  {
   "cell_type": "markdown",
   "id": "22edb124-0e9b-48e6-8913-2de44d7a34be",
   "metadata": {},
   "source": [
    "## Exploiting the `DataFrame` instance"
   ]
  },
  {
   "cell_type": "markdown",
   "id": "d15957a4-05bb-41dc-ba86-17ea7c5f3ddd",
   "metadata": {},
   "source": [
    "- [ ] Can you do the `.average()` of the `DataFrame`?"
   ]
  },
  {
   "cell_type": "code",
   "execution_count": null,
   "id": "ec0e33bd-1e86-46aa-acf9-e472c0100369",
   "metadata": {},
   "outputs": [],
   "source": []
  },
  {
   "cell_type": "markdown",
   "id": "04d90dd6-132a-4548-8125-191a4aad7e0d",
   "metadata": {},
   "source": [
    "- [ ] Why?\n",
    "- [ ] Is there a way to know which `.functions()` we can use with `instances`?"
   ]
  },
  {
   "cell_type": "markdown",
   "id": "a34dfafb-4c76-44e4-9b3d-b7ca59336dd5",
   "metadata": {},
   "source": [
    "<div class=\"alert alert-info\">\n",
    "    <b>Tip</b>\n",
    "    <br>Use the <b>autocompletion</b> tool <code>df. + [tab]</code>\n",
    "</div>"
   ]
  },
  {
   "cell_type": "markdown",
   "id": "b86e2cbe-6d6b-4524-8b7e-633ce22dff1e",
   "metadata": {},
   "source": [
    "# Working with the `instance`\n",
    "\n",
    "- Objects are **data structures** that store information\n",
    "- [ ] Which [**syntax**](https://github.com/jsulopz/00-python-resolver-discipline/blob/main/01_Code%20of%20Discipline/00_The%20Elements%20of%20Programming.md) do you write to exploit the `object`?"
   ]
  },
  {
   "cell_type": "code",
   "execution_count": 30,
   "id": "d8ddbc11-41ea-4f7e-947d-0088abcd2c57",
   "metadata": {},
   "outputs": [],
   "source": [
    "df = pd.read_csv('https://raw.githubusercontent.com/mwaskom/seaborn-data/master/mpg.csv', index_col='name').drop(columns='origin') #!"
   ]
  },
  {
   "cell_type": "markdown",
   "id": "83689200-c64b-48ec-8440-6138a60195c0",
   "metadata": {},
   "source": [
    "- [ ] Can you compute the *sum*?"
   ]
  },
  {
   "cell_type": "code",
   "execution_count": null,
   "id": "e8497cea-6892-4b4a-ae23-955ae7d19e24",
   "metadata": {},
   "outputs": [],
   "source": []
  },
  {
   "cell_type": "markdown",
   "id": "d65b7ca6-e386-4a02-bee1-16dfb51c1695",
   "metadata": {},
   "source": [
    "- [ ] Can you compute the *average*?"
   ]
  },
  {
   "cell_type": "code",
   "execution_count": null,
   "id": "f56ffa90-33b1-4027-a18e-8594fd69cd9d",
   "metadata": {},
   "outputs": [],
   "source": []
  },
  {
   "cell_type": "markdown",
   "id": "030a8a83-6189-4fce-82f4-d3157e1ee3ce",
   "metadata": {},
   "source": [
    "- [ ] Can you compute the *correlation*?"
   ]
  },
  {
   "cell_type": "code",
   "execution_count": null,
   "id": "d4a7d7b3-8133-4493-aef3-3f4f2c38deab",
   "metadata": {},
   "outputs": [],
   "source": []
  },
  {
   "cell_type": "markdown",
   "id": "c0b7678a-c4a7-4605-8065-81f17c3ad16b",
   "metadata": {},
   "source": [
    "- [ ] Can you create a *histogram*?"
   ]
  },
  {
   "cell_type": "code",
   "execution_count": null,
   "id": "461af73a-04f0-4b22-83bf-30cfebed07ac",
   "metadata": {},
   "outputs": [],
   "source": []
  },
  {
   "cell_type": "markdown",
   "id": "21443221-041c-4faa-84da-b460f001d958",
   "metadata": {},
   "source": [
    "- [ ] Can you use the brackets `[]` for a `function[]`?"
   ]
  },
  {
   "cell_type": "code",
   "execution_count": null,
   "id": "6bd32c1d-6b7a-4ffe-8cec-17bc79f73e3b",
   "metadata": {},
   "outputs": [],
   "source": []
  },
  {
   "cell_type": "markdown",
   "id": "a6a36d78-f912-4976-a2ce-2bd3f9165212",
   "metadata": {},
   "source": [
    "- [ ] Why?\n",
    "- [ ] Is there a rule to put `[]` vs `()`?"
   ]
  },
  {
   "cell_type": "markdown",
   "id": "63d1be8d-2bff-4ba0-a7b5-70c5e4e40e91",
   "metadata": {},
   "source": [
    "<div class=\"alert alert-success\">\n",
    "    <b>Python Fundamentals</b>\n",
    "    <ul>\n",
    "        <li><code>[]</code> are used to access already created data within the <code>instance[]</code>\n",
    "        <li><code>()</code> are used to call a <code>function()</code> and execute several lines of code <i>behind the curtains</i>\n",
    "    </ul>\n",
    "</div>"
   ]
  },
  {
   "cell_type": "markdown",
   "id": "e969e199-7d60-408b-a6bb-ffd5bb21a898",
   "metadata": {},
   "source": [
    "# Brackets `[]` vs Parenthesis `()`"
   ]
  },
  {
   "cell_type": "markdown",
   "id": "b33e45a9-7109-40be-b8a2-bb3c31861160",
   "metadata": {},
   "source": [
    "## Accessing the `instance[access]`"
   ]
  },
  {
   "cell_type": "code",
   "execution_count": null,
   "id": "18633ce5-ef43-4daa-8791-d913416ad904",
   "metadata": {},
   "outputs": [],
   "source": []
  },
  {
   "cell_type": "code",
   "execution_count": null,
   "id": "df9029ef-9ed7-4d96-ba02-8b6b90b52a08",
   "metadata": {},
   "outputs": [],
   "source": []
  },
  {
   "cell_type": "markdown",
   "id": "f8e9c70f-202a-4aa9-9e0d-bc661db72a25",
   "metadata": {},
   "source": [
    "<div class=\"alert alert-info\">\n",
    "    <b>Tip</b>\n",
    "    <br>❌ You can't use <code>()</code> to access a created element within the <code>instance</code>\n",
    "</div>"
   ]
  },
  {
   "cell_type": "markdown",
   "id": "48e3f0af-f265-4d8e-b727-611cb68a94fd",
   "metadata": {},
   "source": [
    "## Execute the `instance.function()`"
   ]
  },
  {
   "cell_type": "code",
   "execution_count": null,
   "id": "9605e5d2-fa64-492a-a673-79030ee56218",
   "metadata": {},
   "outputs": [],
   "source": []
  },
  {
   "cell_type": "code",
   "execution_count": null,
   "id": "9f82af84-cf15-4205-88e1-f9356fb8107e",
   "metadata": {},
   "outputs": [],
   "source": []
  },
  {
   "cell_type": "markdown",
   "id": "ea76af6d-5b64-4c2f-a7dc-5b5488136f06",
   "metadata": {},
   "source": [
    "<div class=\"alert alert-info\">\n",
    "    <b>Tip</b>\n",
    "    <br>❌ You can't use <code>[]</code> to <b>call* the function</b>\n",
    "    <br>✅ You use the <code>()</code>\n",
    "    <br>*Execute the instructions of code within the computer\n",
    "</div>"
   ]
  },
  {
   "cell_type": "code",
   "execution_count": null,
   "id": "c3a5e121-8080-456d-b8f7-10b574302b32",
   "metadata": {},
   "outputs": [],
   "source": []
  },
  {
   "cell_type": "markdown",
   "id": "39d4bb66-88a4-4da3-9b9b-ae144bb30530",
   "metadata": {},
   "source": [
    "`~/miniforge3/lib/python3.9/site-packages/pandas/core/frame.py`"
   ]
  },
  {
   "cell_type": "code",
   "execution_count": 39,
   "id": "a662347e-f84b-4aaf-b9f2-e071fbef1df8",
   "metadata": {},
   "outputs": [
    {
     "data": {
      "text/html": [
       "<div>\n",
       "<style scoped>\n",
       "    .dataframe tbody tr th:only-of-type {\n",
       "        vertical-align: middle;\n",
       "    }\n",
       "\n",
       "    .dataframe tbody tr th {\n",
       "        vertical-align: top;\n",
       "    }\n",
       "\n",
       "    .dataframe thead th {\n",
       "        text-align: right;\n",
       "    }\n",
       "</style>\n",
       "<table border=\"1\" class=\"dataframe\">\n",
       "  <thead>\n",
       "    <tr style=\"text-align: right;\">\n",
       "      <th></th>\n",
       "      <th>mpg</th>\n",
       "      <th>cylinders</th>\n",
       "      <th>displacement</th>\n",
       "      <th>horsepower</th>\n",
       "      <th>weight</th>\n",
       "      <th>acceleration</th>\n",
       "      <th>model_year</th>\n",
       "    </tr>\n",
       "    <tr>\n",
       "      <th>name</th>\n",
       "      <th></th>\n",
       "      <th></th>\n",
       "      <th></th>\n",
       "      <th></th>\n",
       "      <th></th>\n",
       "      <th></th>\n",
       "      <th></th>\n",
       "    </tr>\n",
       "  </thead>\n",
       "  <tbody>\n",
       "    <tr>\n",
       "      <th>chevrolet chevelle malibu</th>\n",
       "      <td>18.0</td>\n",
       "      <td>8</td>\n",
       "      <td>307.0</td>\n",
       "      <td>130.0</td>\n",
       "      <td>3504</td>\n",
       "      <td>12.0</td>\n",
       "      <td>70</td>\n",
       "    </tr>\n",
       "    <tr>\n",
       "      <th>buick skylark 320</th>\n",
       "      <td>15.0</td>\n",
       "      <td>8</td>\n",
       "      <td>350.0</td>\n",
       "      <td>165.0</td>\n",
       "      <td>3693</td>\n",
       "      <td>11.5</td>\n",
       "      <td>70</td>\n",
       "    </tr>\n",
       "    <tr>\n",
       "      <th>plymouth satellite</th>\n",
       "      <td>18.0</td>\n",
       "      <td>8</td>\n",
       "      <td>318.0</td>\n",
       "      <td>150.0</td>\n",
       "      <td>3436</td>\n",
       "      <td>11.0</td>\n",
       "      <td>70</td>\n",
       "    </tr>\n",
       "    <tr>\n",
       "      <th>amc rebel sst</th>\n",
       "      <td>16.0</td>\n",
       "      <td>8</td>\n",
       "      <td>304.0</td>\n",
       "      <td>150.0</td>\n",
       "      <td>3433</td>\n",
       "      <td>12.0</td>\n",
       "      <td>70</td>\n",
       "    </tr>\n",
       "    <tr>\n",
       "      <th>ford torino</th>\n",
       "      <td>17.0</td>\n",
       "      <td>8</td>\n",
       "      <td>302.0</td>\n",
       "      <td>140.0</td>\n",
       "      <td>3449</td>\n",
       "      <td>10.5</td>\n",
       "      <td>70</td>\n",
       "    </tr>\n",
       "  </tbody>\n",
       "</table>\n",
       "</div>"
      ],
      "text/plain": [
       "                            mpg  cylinders  displacement  horsepower  weight  \\\n",
       "name                                                                           \n",
       "chevrolet chevelle malibu  18.0          8         307.0       130.0    3504   \n",
       "buick skylark 320          15.0          8         350.0       165.0    3693   \n",
       "plymouth satellite         18.0          8         318.0       150.0    3436   \n",
       "amc rebel sst              16.0          8         304.0       150.0    3433   \n",
       "ford torino                17.0          8         302.0       140.0    3449   \n",
       "\n",
       "                           acceleration  model_year  \n",
       "name                                                 \n",
       "chevrolet chevelle malibu          12.0          70  \n",
       "buick skylark 320                  11.5          70  \n",
       "plymouth satellite                 11.0          70  \n",
       "amc rebel sst                      12.0          70  \n",
       "ford torino                        10.5          70  "
      ]
     },
     "execution_count": 39,
     "metadata": {},
     "output_type": "execute_result"
    }
   ],
   "source": [
    "df.head(5) #!"
   ]
  },
  {
   "cell_type": "markdown",
   "id": "c91c6ff2-d10a-4380-ba1e-dbacd6c8e04c",
   "metadata": {},
   "source": [
    "- [ ] Can you access the column `mpg` with the position number?"
   ]
  },
  {
   "cell_type": "code",
   "execution_count": null,
   "id": "235a5069-9158-4d62-96ab-c6c34c12bf9b",
   "metadata": {},
   "outputs": [],
   "source": []
  },
  {
   "cell_type": "markdown",
   "id": "b71cfaa6-e49b-42b4-adaa-fbcba7433a2a",
   "metadata": {},
   "source": [
    "- [ ] Why?"
   ]
  },
  {
   "cell_type": "code",
   "execution_count": null,
   "id": "96657cca-321e-4ee5-ac4c-dc5317f23a07",
   "metadata": {},
   "outputs": [],
   "source": []
  },
  {
   "cell_type": "markdown",
   "id": "b2f11aef-3dd4-4e79-8960-42db0c38fab4",
   "metadata": {},
   "source": [
    "<div class=\"alert alert-success\">\n",
    "    <b>Python Fundamentals</b>\n",
    "    <ul>\n",
    "        <li>❌ The position of the column is not a key of the <code>DataFrame</code></li>\n",
    "        <li>✅ The <code>keys</code> of the <code>DataFrame</code> are name of the columns</li>\n",
    "    </ul>\n",
    "</div>"
   ]
  },
  {
   "cell_type": "markdown",
   "id": "cdf9aabd-370b-4778-9b39-3170ef063c39",
   "metadata": {},
   "source": [
    "<div class=\"alert alert-info\">\n",
    "    <b>Tip</b>\n",
    "    <br>Use the error as feedback to get the result you want\n",
    "</div>"
   ]
  },
  {
   "cell_type": "code",
   "execution_count": null,
   "id": "310c6d4c-872d-40b5-83f7-94d85c68fe4b",
   "metadata": {},
   "outputs": [],
   "source": []
  },
  {
   "cell_type": "code",
   "execution_count": null,
   "id": "c7a22a2a-9e6a-4712-8262-6ebd5312e841",
   "metadata": {},
   "outputs": [],
   "source": []
  },
  {
   "cell_type": "code",
   "execution_count": null,
   "id": "d555e3da-ef0b-4f93-94d3-e0ba0f4cce5a",
   "metadata": {},
   "outputs": [],
   "source": []
  },
  {
   "cell_type": "markdown",
   "id": "a7f64809-cf78-4b5a-88d3-9663971adf44",
   "metadata": {},
   "source": [
    "## Different ways to *Access* an instance"
   ]
  },
  {
   "cell_type": "code",
   "execution_count": null,
   "id": "d4d86224-5d38-42b5-a8ef-850121a77ad6",
   "metadata": {},
   "outputs": [],
   "source": []
  },
  {
   "cell_type": "markdown",
   "id": "3f9fd356-6dfd-491c-80ae-484e21100b2b",
   "metadata": {},
   "source": [
    "### `list[index]`"
   ]
  },
  {
   "cell_type": "code",
   "execution_count": null,
   "id": "d0a36358-a5bc-4803-9178-1a4a1d7aeabe",
   "metadata": {},
   "outputs": [],
   "source": []
  },
  {
   "cell_type": "code",
   "execution_count": null,
   "id": "e71b4d22-c66a-4958-84eb-a34083cb5a14",
   "metadata": {},
   "outputs": [],
   "source": []
  },
  {
   "cell_type": "markdown",
   "id": "e8f0b375-69b5-4fc1-bdce-570da1976b05",
   "metadata": {},
   "source": [
    "### `dict[key]`"
   ]
  },
  {
   "cell_type": "code",
   "execution_count": null,
   "id": "2ec80e23-974b-4a03-b5f8-568decaecb03",
   "metadata": {},
   "outputs": [],
   "source": []
  },
  {
   "cell_type": "code",
   "execution_count": null,
   "id": "01075f13-1a24-4baf-97c8-f5dde3d1a3ee",
   "metadata": {},
   "outputs": [],
   "source": []
  },
  {
   "cell_type": "markdown",
   "id": "1ce95cfd-2a47-4911-b36a-593e242ff343",
   "metadata": {},
   "source": [
    "<div class=\"alert alert-success\">\n",
    "    <b>Python Fundamentals</b>\n",
    "    <ul>\n",
    "        <li>The <code>list</code> automatically generates a key corresponding to the position of the element</li>\n",
    "        <li>The <code>dictionary</code> needs the <code>{key:value}</code></li> \n",
    "    </ul>\n",
    "</div>"
   ]
  },
  {
   "cell_type": "code",
   "execution_count": null,
   "id": "336a53ee-f12f-4d9a-b7d3-ab7e4b856c5c",
   "metadata": {},
   "outputs": [],
   "source": []
  },
  {
   "cell_type": "code",
   "execution_count": null,
   "id": "524c72b8-9d33-4bda-87a7-d1c0070887b0",
   "metadata": {},
   "outputs": [],
   "source": []
  },
  {
   "cell_type": "markdown",
   "id": "eb5daad7-e61a-47f1-b5f0-bf10fc533478",
   "metadata": {},
   "source": [
    "### `DataFrame[key]`"
   ]
  },
  {
   "cell_type": "code",
   "execution_count": null,
   "id": "d1e5efaf-849e-47b9-8faa-0017a038be4f",
   "metadata": {},
   "outputs": [],
   "source": []
  },
  {
   "cell_type": "code",
   "execution_count": null,
   "id": "43a5f092-cbd6-45e0-bdaf-fe690d5cde04",
   "metadata": {},
   "outputs": [],
   "source": []
  },
  {
   "cell_type": "markdown",
   "id": "744b4294-9722-483b-ab95-68d57845630d",
   "metadata": {},
   "source": [
    "- [ ] But... there must be a way of accessing the `DataFrame` by the position number!"
   ]
  },
  {
   "cell_type": "code",
   "execution_count": null,
   "id": "c8341052-53de-4e0b-baad-ac8e862e0f39",
   "metadata": {},
   "outputs": [],
   "source": []
  },
  {
   "cell_type": "code",
   "execution_count": null,
   "id": "b6fa9ee6-aa85-4b2a-b90d-50a2734f66a2",
   "metadata": {},
   "outputs": [],
   "source": []
  },
  {
   "cell_type": "markdown",
   "id": "588768f5-d590-4e5b-97a9-aa0efd492ac2",
   "metadata": {},
   "source": [
    "- [ ] How could you know you had to put `[]` vs `()`?"
   ]
  },
  {
   "cell_type": "code",
   "execution_count": null,
   "id": "5532a4f1-90b1-452f-ab04-ca5055b31b59",
   "metadata": {},
   "outputs": [],
   "source": []
  },
  {
   "cell_type": "markdown",
   "id": "1e09fc9d-c2c2-45c2-8fbc-044fabe7f656",
   "metadata": {},
   "source": [
    "<div class=\"alert alert-success\">\n",
    "    <b>Python Fundamentals</b>\n",
    "    <ul>\n",
    "        <li><code>instance[key]</code></li>\n",
    "        <li><code>function()</code></li>\n",
    "    </ul>\n",
    "</div>"
   ]
  },
  {
   "cell_type": "code",
   "execution_count": null,
   "id": "48692fc3-2ea5-4f5e-9ac5-bd05bb71d388",
   "metadata": {},
   "outputs": [],
   "source": []
  },
  {
   "cell_type": "code",
   "execution_count": null,
   "id": "abb5d299-a312-4105-acdd-3c63b092c8f3",
   "metadata": {},
   "outputs": [],
   "source": []
  },
  {
   "cell_type": "code",
   "execution_count": null,
   "id": "f6a9fdf2-48fc-40de-8832-354569ec64dc",
   "metadata": {},
   "outputs": [],
   "source": []
  },
  {
   "cell_type": "code",
   "execution_count": null,
   "id": "c5836d0b-a74f-405c-b07f-a9f2386f8a4a",
   "metadata": {},
   "outputs": [],
   "source": []
  },
  {
   "cell_type": "code",
   "execution_count": null,
   "id": "45e1809c-2565-477f-b71d-3a75a639a258",
   "metadata": {},
   "outputs": [],
   "source": []
  },
  {
   "cell_type": "code",
   "execution_count": null,
   "id": "c81100e4-854c-4609-81d6-42276983daad",
   "metadata": {},
   "outputs": [],
   "source": []
  },
  {
   "cell_type": "markdown",
   "id": "a6da5053-612b-416f-b59a-e171a3ae9ade",
   "metadata": {},
   "source": [
    "<div class=\"alert alert-info\">\n",
    "    <b>Tip</b>\n",
    "    <br>Use the <b>autocompletion tool</b> to know which Python element you are working with\n",
    "</div>"
   ]
  },
  {
   "cell_type": "markdown",
   "id": "9a329fbf-cfbb-4737-b38a-bc90fd3a2eb0",
   "metadata": {},
   "source": [
    "<div class=\"alert alert-success\">\n",
    "    <b>Python Fundamentals</b>\n",
    "    <br><u>Subscriptable</u> means you can access the <code>element[key]</code>\n",
    "</div>"
   ]
  },
  {
   "cell_type": "markdown",
   "id": "98a8133e-96cf-4e6e-b887-652fefe87704",
   "metadata": {},
   "source": [
    "<div class=\"alert alert-info\">\n",
    "    <b>Tip</b>\n",
    "    <br>Be curious and note everything you don't know\n",
    "    <br>Don't be too picky\n",
    "</div>"
   ]
  },
  {
   "cell_type": "markdown",
   "id": "e555af33-a010-47ca-bb95-dcae000aaf2c",
   "metadata": {},
   "source": [
    "![](https://pbs.twimg.com/media/D4H82qEU0AI_Z-f?format=jpg&name=medium)"
   ]
  },
  {
   "cell_type": "markdown",
   "id": "4c1c6fc1-502b-4945-86ba-7b338b803b52",
   "metadata": {},
   "source": [
    "- [ ] Could have you searched this in Google?"
   ]
  },
  {
   "cell_type": "code",
   "execution_count": null,
   "id": "5bd18c29-ade9-423b-9117-108a95eb951d",
   "metadata": {},
   "outputs": [],
   "source": []
  },
  {
   "cell_type": "markdown",
   "id": "6bf9807c-b9e2-40f8-b147-568dab923dca",
   "metadata": {},
   "source": [
    "- [ ] Can you access the instance and execute a `function()` in the same line?"
   ]
  },
  {
   "cell_type": "code",
   "execution_count": null,
   "id": "69759b98-7840-40ab-ba21-326965756113",
   "metadata": {},
   "outputs": [],
   "source": []
  },
  {
   "cell_type": "markdown",
   "id": "ed5a5dfc-5c62-4703-9c0e-9154ddc78b22",
   "metadata": {},
   "source": [
    "# Chaining Functions"
   ]
  },
  {
   "cell_type": "code",
   "execution_count": null,
   "id": "9eb0a688-1a20-454f-9f9b-1be0b4f98b0a",
   "metadata": {},
   "outputs": [],
   "source": []
  },
  {
   "cell_type": "code",
   "execution_count": null,
   "id": "63818d8a-aac0-462b-ae1c-7ffb5ae6a44e",
   "metadata": {},
   "outputs": [],
   "source": []
  },
  {
   "cell_type": "markdown",
   "id": "944649bd-f2dc-4d73-9031-d0fb765e46e0",
   "metadata": {},
   "source": [
    "## Using the `object` Directly"
   ]
  },
  {
   "cell_type": "code",
   "execution_count": null,
   "id": "c704de9c-d0ac-479f-9582-46dcdc161742",
   "metadata": {},
   "outputs": [],
   "source": []
  },
  {
   "cell_type": "code",
   "execution_count": null,
   "id": "c0dd5c65-6d41-4fe9-9fcb-7d4649de5bc0",
   "metadata": {},
   "outputs": [],
   "source": []
  },
  {
   "cell_type": "code",
   "execution_count": null,
   "id": "c96910a4-a8e2-4bdd-9362-0fea041f4b76",
   "metadata": {},
   "outputs": [],
   "source": []
  },
  {
   "cell_type": "code",
   "execution_count": null,
   "id": "0956dec5-65b1-432e-9640-55228d1990a8",
   "metadata": {},
   "outputs": [],
   "source": []
  },
  {
   "cell_type": "code",
   "execution_count": null,
   "id": "54aeb43d-0912-426d-bea0-5602f0f1ae74",
   "metadata": {},
   "outputs": [],
   "source": []
  },
  {
   "cell_type": "code",
   "execution_count": null,
   "id": "ec30c882-c140-493d-a061-75b634931149",
   "metadata": {},
   "outputs": [],
   "source": []
  },
  {
   "cell_type": "code",
   "execution_count": null,
   "id": "d253966c-64e9-41d5-b8bc-d68b8282308c",
   "metadata": {},
   "outputs": [],
   "source": []
  },
  {
   "cell_type": "code",
   "execution_count": null,
   "id": "479271aa-3a6d-4c75-b766-2e04eed7f136",
   "metadata": {},
   "outputs": [],
   "source": []
  },
  {
   "cell_type": "code",
   "execution_count": null,
   "id": "86c17a5e-172b-4c4e-9add-d37136719b8f",
   "metadata": {},
   "outputs": [],
   "source": []
  },
  {
   "cell_type": "code",
   "execution_count": null,
   "id": "eb136d5a-046f-4d44-ab3f-2072d134b392",
   "metadata": {},
   "outputs": [],
   "source": []
  },
  {
   "cell_type": "markdown",
   "id": "fe38a247-026d-459d-8160-c4adbf9acc2e",
   "metadata": {},
   "source": [
    "<div class=\"alert alert-success\">\n",
    "    <b>Python Fundamentals</b>\n",
    "    <ul>\n",
    "        <li>❌ You can't apply any function to any object</li>\n",
    "        <li>✅ You can chain functions as long as the resultant object <code>df.describe()</code> can perform the function you are about to call <code>df.describe().sum()</code></li>\n",
    "    </ul>\n",
    "</div>"
   ]
  },
  {
   "cell_type": "markdown",
   "id": "932c5477-6e60-41ae-9178-190dc96b0a75",
   "metadata": {},
   "source": [
    "## Using the `instance`"
   ]
  },
  {
   "cell_type": "code",
   "execution_count": 76,
   "id": "9f347392-450a-4517-bee1-a444c5216c07",
   "metadata": {},
   "outputs": [
    {
     "data": {
      "text/html": [
       "<div>\n",
       "<style scoped>\n",
       "    .dataframe tbody tr th:only-of-type {\n",
       "        vertical-align: middle;\n",
       "    }\n",
       "\n",
       "    .dataframe tbody tr th {\n",
       "        vertical-align: top;\n",
       "    }\n",
       "\n",
       "    .dataframe thead th {\n",
       "        text-align: right;\n",
       "    }\n",
       "</style>\n",
       "<table border=\"1\" class=\"dataframe\">\n",
       "  <thead>\n",
       "    <tr style=\"text-align: right;\">\n",
       "      <th></th>\n",
       "      <th>mpg</th>\n",
       "      <th>cylinders</th>\n",
       "      <th>displacement</th>\n",
       "      <th>horsepower</th>\n",
       "      <th>weight</th>\n",
       "      <th>acceleration</th>\n",
       "      <th>model_year</th>\n",
       "    </tr>\n",
       "    <tr>\n",
       "      <th>name</th>\n",
       "      <th></th>\n",
       "      <th></th>\n",
       "      <th></th>\n",
       "      <th></th>\n",
       "      <th></th>\n",
       "      <th></th>\n",
       "      <th></th>\n",
       "    </tr>\n",
       "  </thead>\n",
       "  <tbody>\n",
       "    <tr>\n",
       "      <th>chevrolet chevelle malibu</th>\n",
       "      <td>18.0</td>\n",
       "      <td>8</td>\n",
       "      <td>307.0</td>\n",
       "      <td>130.0</td>\n",
       "      <td>3504</td>\n",
       "      <td>12.0</td>\n",
       "      <td>70</td>\n",
       "    </tr>\n",
       "    <tr>\n",
       "      <th>buick skylark 320</th>\n",
       "      <td>15.0</td>\n",
       "      <td>8</td>\n",
       "      <td>350.0</td>\n",
       "      <td>165.0</td>\n",
       "      <td>3693</td>\n",
       "      <td>11.5</td>\n",
       "      <td>70</td>\n",
       "    </tr>\n",
       "    <tr>\n",
       "      <th>plymouth satellite</th>\n",
       "      <td>18.0</td>\n",
       "      <td>8</td>\n",
       "      <td>318.0</td>\n",
       "      <td>150.0</td>\n",
       "      <td>3436</td>\n",
       "      <td>11.0</td>\n",
       "      <td>70</td>\n",
       "    </tr>\n",
       "    <tr>\n",
       "      <th>amc rebel sst</th>\n",
       "      <td>16.0</td>\n",
       "      <td>8</td>\n",
       "      <td>304.0</td>\n",
       "      <td>150.0</td>\n",
       "      <td>3433</td>\n",
       "      <td>12.0</td>\n",
       "      <td>70</td>\n",
       "    </tr>\n",
       "    <tr>\n",
       "      <th>ford torino</th>\n",
       "      <td>17.0</td>\n",
       "      <td>8</td>\n",
       "      <td>302.0</td>\n",
       "      <td>140.0</td>\n",
       "      <td>3449</td>\n",
       "      <td>10.5</td>\n",
       "      <td>70</td>\n",
       "    </tr>\n",
       "  </tbody>\n",
       "</table>\n",
       "</div>"
      ],
      "text/plain": [
       "                            mpg  cylinders  displacement  horsepower  weight  \\\n",
       "name                                                                           \n",
       "chevrolet chevelle malibu  18.0          8         307.0       130.0    3504   \n",
       "buick skylark 320          15.0          8         350.0       165.0    3693   \n",
       "plymouth satellite         18.0          8         318.0       150.0    3436   \n",
       "amc rebel sst              16.0          8         304.0       150.0    3433   \n",
       "ford torino                17.0          8         302.0       140.0    3449   \n",
       "\n",
       "                           acceleration  model_year  \n",
       "name                                                 \n",
       "chevrolet chevelle malibu          12.0          70  \n",
       "buick skylark 320                  11.5          70  \n",
       "plymouth satellite                 11.0          70  \n",
       "amc rebel sst                      12.0          70  \n",
       "ford torino                        10.5          70  "
      ]
     },
     "execution_count": 76,
     "metadata": {},
     "output_type": "execute_result"
    }
   ],
   "source": [
    "df.head() #!"
   ]
  },
  {
   "cell_type": "code",
   "execution_count": null,
   "id": "77641058-951a-49e7-bee4-0c036c27dc06",
   "metadata": {},
   "outputs": [],
   "source": []
  },
  {
   "cell_type": "code",
   "execution_count": null,
   "id": "1f0c7b9f-4a1d-46a4-a86b-23ada69968a4",
   "metadata": {},
   "outputs": [],
   "source": []
  },
  {
   "cell_type": "code",
   "execution_count": null,
   "id": "6ac1d5f7-5856-4005-af66-71b23afe150a",
   "metadata": {},
   "outputs": [],
   "source": []
  },
  {
   "cell_type": "code",
   "execution_count": null,
   "id": "e3521edc-5490-4f7c-b3ce-1b35f0dd9b7f",
   "metadata": {},
   "outputs": [],
   "source": []
  },
  {
   "cell_type": "code",
   "execution_count": null,
   "id": "83eacbc5-2ff5-4b09-908e-24284c7e7f65",
   "metadata": {},
   "outputs": [],
   "source": []
  },
  {
   "cell_type": "code",
   "execution_count": null,
   "id": "8f7e77c7-2a4c-4031-aa42-e2d0c0b043b7",
   "metadata": {},
   "outputs": [],
   "source": []
  },
  {
   "cell_type": "code",
   "execution_count": null,
   "id": "da305d12-c91b-4828-b58d-23dfc39de19c",
   "metadata": {},
   "outputs": [],
   "source": []
  },
  {
   "cell_type": "code",
   "execution_count": null,
   "id": "9ce66768-03d6-42f8-b02c-b2247b23bb87",
   "metadata": {},
   "outputs": [],
   "source": []
  },
  {
   "cell_type": "code",
   "execution_count": null,
   "id": "0c57cfcb-4248-4407-a639-b08d2894c706",
   "metadata": {},
   "outputs": [],
   "source": []
  },
  {
   "cell_type": "code",
   "execution_count": null,
   "id": "78437b93-5450-4869-9364-bb2c5fed9cdb",
   "metadata": {},
   "outputs": [],
   "source": []
  },
  {
   "cell_type": "code",
   "execution_count": null,
   "id": "fac77890-ae42-45c5-a8c7-3d6cb33a44dd",
   "metadata": {},
   "outputs": [],
   "source": []
  },
  {
   "cell_type": "code",
   "execution_count": null,
   "id": "42708fc5-4dfa-4944-a534-4a6e68f99b85",
   "metadata": {},
   "outputs": [],
   "source": []
  },
  {
   "cell_type": "code",
   "execution_count": null,
   "id": "3273de84-ee38-4473-98ba-333a7e4a52d4",
   "metadata": {},
   "outputs": [],
   "source": []
  },
  {
   "cell_type": "markdown",
   "id": "8deeabc4-6a86-46b4-89c8-db760232539b",
   "metadata": {},
   "source": [
    "- [ ] Can we execute the `mean()` function from `pandas` library?"
   ]
  },
  {
   "cell_type": "code",
   "execution_count": null,
   "id": "d3ef5ca0-8a86-4d8f-b6df-f1e3fda3f4f9",
   "metadata": {},
   "outputs": [],
   "source": []
  },
  {
   "cell_type": "markdown",
   "id": "eb8a6079-ea5f-4469-a27a-9297d368588d",
   "metadata": {},
   "source": [
    "- [ ] Why?"
   ]
  },
  {
   "cell_type": "markdown",
   "id": "f4c27d55-5c79-42b2-a576-cd1780b897b5",
   "metadata": {},
   "source": [
    "# `library.functions()` vs `object.functions()`"
   ]
  },
  {
   "cell_type": "code",
   "execution_count": null,
   "id": "92901763-0e1b-44c4-a784-e9862ff5fc96",
   "metadata": {},
   "outputs": [],
   "source": []
  },
  {
   "cell_type": "code",
   "execution_count": null,
   "id": "5ee468f4-9ccd-4fcc-84f7-ce7bd5a3ff9d",
   "metadata": {},
   "outputs": [],
   "source": []
  },
  {
   "cell_type": "code",
   "execution_count": null,
   "id": "1f04dbe8-b48b-4c88-8086-c126e052d5fe",
   "metadata": {},
   "outputs": [],
   "source": []
  },
  {
   "cell_type": "code",
   "execution_count": null,
   "id": "bdc12539-c6bf-44aa-9a6c-495ff1dc2597",
   "metadata": {},
   "outputs": [],
   "source": []
  },
  {
   "cell_type": "markdown",
   "id": "5923f7e7-e01d-474c-84d8-2231fc2760fa",
   "metadata": {},
   "source": [
    "<div class=\"alert alert-info\">\n",
    "    <b>Tip</b>\n",
    "    <br>Apply the <a href=\"https://github.com/jsulopz/python-resolver-discipline/blob/main/01_Code%20of%20Discipline/03_Google%20Method.md\">Python Resolver Discipline</a> to look for the function in Google\n",
    "</div>"
   ]
  },
  {
   "cell_type": "markdown",
   "id": "7c09ad2a-043a-423f-884a-e485879c1f53",
   "metadata": {},
   "source": [
    "- [ ] What are you working with?"
   ]
  },
  {
   "cell_type": "code",
   "execution_count": null,
   "id": "fcc4830c-f65f-4456-b67a-32aa559a336f",
   "metadata": {},
   "outputs": [],
   "source": []
  },
  {
   "cell_type": "markdown",
   "id": "188ecb38-9c66-4e5a-8424-998bc6864330",
   "metadata": {},
   "source": [
    "- [ ] What is the technical name of it?"
   ]
  },
  {
   "cell_type": "code",
   "execution_count": null,
   "id": "d9c9c6a6-46dd-46f3-ad6f-0171e84d5148",
   "metadata": {},
   "outputs": [],
   "source": []
  },
  {
   "cell_type": "markdown",
   "id": "4ca5cef9-0a1d-4151-b09b-9a8e9add534f",
   "metadata": {},
   "source": [
    "- Let's reconnect with the challenge..."
   ]
  },
  {
   "cell_type": "code",
   "execution_count": null,
   "id": "9772019f-8c04-4549-be75-e05d7e51fa38",
   "metadata": {},
   "outputs": [],
   "source": []
  },
  {
   "cell_type": "markdown",
   "id": "75de1d08-0ab9-413c-8752-0e9f0282c76c",
   "metadata": {
    "tags": []
   },
   "source": [
    "# Working with the `module`\n",
    "\n",
    "- [ ] Create the same type of visualization with\n",
    "    - the function `scatter()`\n",
    "    - within the `plotly` module"
   ]
  },
  {
   "cell_type": "code",
   "execution_count": null,
   "id": "f97ebe05-fb88-44d5-aeeb-b10c15ef7ae7",
   "metadata": {},
   "outputs": [],
   "source": []
  },
  {
   "cell_type": "code",
   "execution_count": null,
   "id": "ba29b59d-31fd-4ed8-a8c4-33acba173c6b",
   "metadata": {},
   "outputs": [],
   "source": []
  },
  {
   "cell_type": "markdown",
   "id": "2b228ffe-fd56-408e-941b-b0bf3c6be62f",
   "metadata": {
    "tags": []
   },
   "source": [
    "- [ ] Try again ↓\n",
    "    - the function `scatter()`\n",
    "    - within `express` module\n",
    "    - within the `plotly` module"
   ]
  },
  {
   "cell_type": "code",
   "execution_count": null,
   "id": "4407dba0-eddd-4254-bca3-c9fe58c8a326",
   "metadata": {},
   "outputs": [],
   "source": []
  },
  {
   "cell_type": "code",
   "execution_count": null,
   "id": "cf2463fc-4fcb-41e8-bd71-6d841b6dff47",
   "metadata": {},
   "outputs": [],
   "source": []
  },
  {
   "cell_type": "code",
   "execution_count": null,
   "id": "e1711bc0-1263-402e-a61b-f1e3983d3ff0",
   "metadata": {},
   "outputs": [],
   "source": []
  },
  {
   "cell_type": "markdown",
   "id": "d070be74-8c93-42ae-bbf9-4525b49fb4c7",
   "metadata": {},
   "source": [
    "<div class=\"alert alert-info\">\n",
    "    <b>Tip</b>\n",
    "    <br>❌ You don't need to know this beforehand\n",
    "    <br>✅ Google it and deduce how it works ↓\n",
    "    <br><i>\"plotly scatter python\"</i>\n",
    "</div>"
   ]
  },
  {
   "cell_type": "markdown",
   "id": "3aff9714-17e9-4922-b382-25b0cf7ecbf3",
   "metadata": {},
   "source": [
    "- [ ] Create a histogram with `mpg` column"
   ]
  },
  {
   "cell_type": "code",
   "execution_count": null,
   "id": "e015d3ae-b9c1-44bf-be2c-495c38e45782",
   "metadata": {},
   "outputs": [],
   "source": []
  },
  {
   "cell_type": "markdown",
   "id": "fea92120-c327-46ab-bc91-7ac3b6d92e47",
   "metadata": {},
   "source": [
    "<div class=\"alert alert-info\">\n",
    "    <b>Tip</b>\n",
    "    <br>Be lazy and <b>ali<code>as</code></b> the <code>import</code>\n",
    "</div>"
   ]
  },
  {
   "cell_type": "markdown",
   "id": "5b37c137-f336-4843-9340-a1cc99ca955f",
   "metadata": {},
   "source": [
    "- [ ] Alias the module `express` as `px`"
   ]
  },
  {
   "cell_type": "code",
   "execution_count": null,
   "id": "d24bb908-b9f6-45d4-a62a-92ad57ac6f16",
   "metadata": {},
   "outputs": [],
   "source": []
  },
  {
   "cell_type": "code",
   "execution_count": null,
   "id": "80ae8a55-fd41-4636-b86b-bb8a475d952b",
   "metadata": {},
   "outputs": [],
   "source": []
  },
  {
   "cell_type": "code",
   "execution_count": null,
   "id": "d7a6f8cb-2fad-486a-a806-5a77c53605c4",
   "metadata": {},
   "outputs": [],
   "source": []
  },
  {
   "cell_type": "markdown",
   "id": "c2c63fd9-f923-417c-b060-7166c587e9aa",
   "metadata": {},
   "source": [
    "- [ ] Execute the following line & diagnose the error"
   ]
  },
  {
   "cell_type": "code",
   "execution_count": 106,
   "id": "7d220031-8026-490a-b247-5b252e6a41bd",
   "metadata": {},
   "outputs": [
    {
     "ename": "ValueError",
     "evalue": "String or int arguments are only possible when a DataFrame or an array is provided in the `data_frame` argument. No DataFrame was provided, but argument 'x' is of type str or int.",
     "output_type": "error",
     "traceback": [
      "\u001b[0;31m---------------------------------------------------------------------------\u001b[0m",
      "\u001b[0;31mValueError\u001b[0m                                Traceback (most recent call last)",
      "\u001b[0;32m/var/folders/24/tg28vxls25l9mjvqrnh0plc80000gn/T/ipykernel_8807/2547231220.py\u001b[0m in \u001b[0;36m<module>\u001b[0;34m\u001b[0m\n\u001b[0;32m----> 1\u001b[0;31m \u001b[0mpx\u001b[0m\u001b[0;34m.\u001b[0m\u001b[0mscatter\u001b[0m\u001b[0;34m(\u001b[0m\u001b[0mx\u001b[0m\u001b[0;34m=\u001b[0m\u001b[0;34m'weight'\u001b[0m\u001b[0;34m,\u001b[0m \u001b[0my\u001b[0m\u001b[0;34m=\u001b[0m\u001b[0;34m'mpg'\u001b[0m\u001b[0;34m)\u001b[0m \u001b[0;31m#!\u001b[0m\u001b[0;34m\u001b[0m\u001b[0;34m\u001b[0m\u001b[0m\n\u001b[0m",
      "\u001b[0;32m~/miniforge3/lib/python3.9/site-packages/plotly/express/_chart_types.py\u001b[0m in \u001b[0;36mscatter\u001b[0;34m(data_frame, x, y, color, symbol, size, hover_name, hover_data, custom_data, text, facet_row, facet_col, facet_col_wrap, facet_row_spacing, facet_col_spacing, error_x, error_x_minus, error_y, error_y_minus, animation_frame, animation_group, category_orders, labels, orientation, color_discrete_sequence, color_discrete_map, color_continuous_scale, range_color, color_continuous_midpoint, symbol_sequence, symbol_map, opacity, size_max, marginal_x, marginal_y, trendline, trendline_options, trendline_color_override, trendline_scope, log_x, log_y, range_x, range_y, render_mode, title, template, width, height)\u001b[0m\n\u001b[1;32m     64\u001b[0m     \u001b[0mmark\u001b[0m \u001b[0;32min\u001b[0m \u001b[0;36m2\u001b[0m\u001b[0mD\u001b[0m \u001b[0mspace\u001b[0m\u001b[0;34m.\u001b[0m\u001b[0;34m\u001b[0m\u001b[0;34m\u001b[0m\u001b[0m\n\u001b[1;32m     65\u001b[0m     \"\"\"\n\u001b[0;32m---> 66\u001b[0;31m     \u001b[0;32mreturn\u001b[0m \u001b[0mmake_figure\u001b[0m\u001b[0;34m(\u001b[0m\u001b[0margs\u001b[0m\u001b[0;34m=\u001b[0m\u001b[0mlocals\u001b[0m\u001b[0;34m(\u001b[0m\u001b[0;34m)\u001b[0m\u001b[0;34m,\u001b[0m \u001b[0mconstructor\u001b[0m\u001b[0;34m=\u001b[0m\u001b[0mgo\u001b[0m\u001b[0;34m.\u001b[0m\u001b[0mScatter\u001b[0m\u001b[0;34m)\u001b[0m\u001b[0;34m\u001b[0m\u001b[0;34m\u001b[0m\u001b[0m\n\u001b[0m\u001b[1;32m     67\u001b[0m \u001b[0;34m\u001b[0m\u001b[0m\n\u001b[1;32m     68\u001b[0m \u001b[0;34m\u001b[0m\u001b[0m\n",
      "\u001b[0;32m~/miniforge3/lib/python3.9/site-packages/plotly/express/_core.py\u001b[0m in \u001b[0;36mmake_figure\u001b[0;34m(args, constructor, trace_patch, layout_patch)\u001b[0m\n\u001b[1;32m   1943\u001b[0m     \u001b[0mapply_default_cascade\u001b[0m\u001b[0;34m(\u001b[0m\u001b[0margs\u001b[0m\u001b[0;34m)\u001b[0m\u001b[0;34m\u001b[0m\u001b[0;34m\u001b[0m\u001b[0m\n\u001b[1;32m   1944\u001b[0m \u001b[0;34m\u001b[0m\u001b[0m\n\u001b[0;32m-> 1945\u001b[0;31m     \u001b[0margs\u001b[0m \u001b[0;34m=\u001b[0m \u001b[0mbuild_dataframe\u001b[0m\u001b[0;34m(\u001b[0m\u001b[0margs\u001b[0m\u001b[0;34m,\u001b[0m \u001b[0mconstructor\u001b[0m\u001b[0;34m)\u001b[0m\u001b[0;34m\u001b[0m\u001b[0;34m\u001b[0m\u001b[0m\n\u001b[0m\u001b[1;32m   1946\u001b[0m     \u001b[0;32mif\u001b[0m \u001b[0mconstructor\u001b[0m \u001b[0;32min\u001b[0m \u001b[0;34m[\u001b[0m\u001b[0mgo\u001b[0m\u001b[0;34m.\u001b[0m\u001b[0mTreemap\u001b[0m\u001b[0;34m,\u001b[0m \u001b[0mgo\u001b[0m\u001b[0;34m.\u001b[0m\u001b[0mSunburst\u001b[0m\u001b[0;34m,\u001b[0m \u001b[0mgo\u001b[0m\u001b[0;34m.\u001b[0m\u001b[0mIcicle\u001b[0m\u001b[0;34m]\u001b[0m \u001b[0;32mand\u001b[0m \u001b[0margs\u001b[0m\u001b[0;34m[\u001b[0m\u001b[0;34m\"path\"\u001b[0m\u001b[0;34m]\u001b[0m \u001b[0;32mis\u001b[0m \u001b[0;32mnot\u001b[0m \u001b[0;32mNone\u001b[0m\u001b[0;34m:\u001b[0m\u001b[0;34m\u001b[0m\u001b[0;34m\u001b[0m\u001b[0m\n\u001b[1;32m   1947\u001b[0m         \u001b[0margs\u001b[0m \u001b[0;34m=\u001b[0m \u001b[0mprocess_dataframe_hierarchy\u001b[0m\u001b[0;34m(\u001b[0m\u001b[0margs\u001b[0m\u001b[0;34m)\u001b[0m\u001b[0;34m\u001b[0m\u001b[0;34m\u001b[0m\u001b[0m\n",
      "\u001b[0;32m~/miniforge3/lib/python3.9/site-packages/plotly/express/_core.py\u001b[0m in \u001b[0;36mbuild_dataframe\u001b[0;34m(args, constructor)\u001b[0m\n\u001b[1;32m   1403\u001b[0m     \u001b[0;31m# now that things have been prepped, we do the systematic rewriting of `args`\u001b[0m\u001b[0;34m\u001b[0m\u001b[0;34m\u001b[0m\u001b[0m\n\u001b[1;32m   1404\u001b[0m \u001b[0;34m\u001b[0m\u001b[0m\n\u001b[0;32m-> 1405\u001b[0;31m     df_output, wide_id_vars = process_args_into_dataframe(\n\u001b[0m\u001b[1;32m   1406\u001b[0m         \u001b[0margs\u001b[0m\u001b[0;34m,\u001b[0m \u001b[0mwide_mode\u001b[0m\u001b[0;34m,\u001b[0m \u001b[0mvar_name\u001b[0m\u001b[0;34m,\u001b[0m \u001b[0mvalue_name\u001b[0m\u001b[0;34m\u001b[0m\u001b[0;34m\u001b[0m\u001b[0m\n\u001b[1;32m   1407\u001b[0m     )\n",
      "\u001b[0;32m~/miniforge3/lib/python3.9/site-packages/plotly/express/_core.py\u001b[0m in \u001b[0;36mprocess_args_into_dataframe\u001b[0;34m(args, wide_mode, var_name, value_name)\u001b[0m\n\u001b[1;32m   1187\u001b[0m                     \u001b[0mdf_output\u001b[0m\u001b[0;34m[\u001b[0m\u001b[0mcol_name\u001b[0m\u001b[0;34m]\u001b[0m \u001b[0;34m=\u001b[0m \u001b[0mto_unindexed_series\u001b[0m\u001b[0;34m(\u001b[0m\u001b[0mreal_argument\u001b[0m\u001b[0;34m)\u001b[0m\u001b[0;34m\u001b[0m\u001b[0;34m\u001b[0m\u001b[0m\n\u001b[1;32m   1188\u001b[0m                 \u001b[0;32melif\u001b[0m \u001b[0;32mnot\u001b[0m \u001b[0mdf_provided\u001b[0m\u001b[0;34m:\u001b[0m\u001b[0;34m\u001b[0m\u001b[0;34m\u001b[0m\u001b[0m\n\u001b[0;32m-> 1189\u001b[0;31m                     raise ValueError(\n\u001b[0m\u001b[1;32m   1190\u001b[0m                         \u001b[0;34m\"String or int arguments are only possible when a \"\u001b[0m\u001b[0;34m\u001b[0m\u001b[0;34m\u001b[0m\u001b[0m\n\u001b[1;32m   1191\u001b[0m                         \u001b[0;34m\"DataFrame or an array is provided in the `data_frame` \"\u001b[0m\u001b[0;34m\u001b[0m\u001b[0;34m\u001b[0m\u001b[0m\n",
      "\u001b[0;31mValueError\u001b[0m: String or int arguments are only possible when a DataFrame or an array is provided in the `data_frame` argument. No DataFrame was provided, but argument 'x' is of type str or int."
     ]
    }
   ],
   "source": [
    "px.scatter(x='weight', y='mpg') #!"
   ]
  },
  {
   "cell_type": "markdown",
   "id": "45861730-8b63-4ee9-a240-4d27a54f830f",
   "metadata": {},
   "source": [
    "- [ ] Why?"
   ]
  },
  {
   "cell_type": "markdown",
   "id": "08f695ec-0867-418d-b663-ff6adfe8f017",
   "metadata": {
    "tags": []
   },
   "source": [
    "# Put the previous knowledge to work"
   ]
  },
  {
   "cell_type": "code",
   "execution_count": 107,
   "id": "eef1a667-2af3-4b16-9b05-2aa2d3e68b22",
   "metadata": {},
   "outputs": [
    {
     "data": {
      "application/vnd.plotly.v1+json": {
       "config": {
        "plotlyServerURL": "https://plotly.com"
       },
       "data": [
        {
         "hovertemplate": "x=%{x}<br>y=%{y}<extra></extra>",
         "legendgroup": "",
         "marker": {
          "color": "#636efa",
          "symbol": "circle"
         },
         "mode": "markers",
         "name": "",
         "orientation": "v",
         "showlegend": false,
         "type": "scatter",
         "x": [
          1,
          2,
          3
         ],
         "xaxis": "x",
         "y": [
          1,
          2,
          1
         ],
         "yaxis": "y"
        }
       ],
       "layout": {
        "autosize": true,
        "legend": {
         "tracegroupgap": 0
        },
        "margin": {
         "t": 60
        },
        "template": {
         "data": {
          "bar": [
           {
            "error_x": {
             "color": "#2a3f5f"
            },
            "error_y": {
             "color": "#2a3f5f"
            },
            "marker": {
             "line": {
              "color": "#E5ECF6",
              "width": 0.5
             },
             "pattern": {
              "fillmode": "overlay",
              "size": 10,
              "solidity": 0.2
             }
            },
            "type": "bar"
           }
          ],
          "barpolar": [
           {
            "marker": {
             "line": {
              "color": "#E5ECF6",
              "width": 0.5
             },
             "pattern": {
              "fillmode": "overlay",
              "size": 10,
              "solidity": 0.2
             }
            },
            "type": "barpolar"
           }
          ],
          "carpet": [
           {
            "aaxis": {
             "endlinecolor": "#2a3f5f",
             "gridcolor": "white",
             "linecolor": "white",
             "minorgridcolor": "white",
             "startlinecolor": "#2a3f5f"
            },
            "baxis": {
             "endlinecolor": "#2a3f5f",
             "gridcolor": "white",
             "linecolor": "white",
             "minorgridcolor": "white",
             "startlinecolor": "#2a3f5f"
            },
            "type": "carpet"
           }
          ],
          "choropleth": [
           {
            "colorbar": {
             "outlinewidth": 0,
             "ticks": ""
            },
            "type": "choropleth"
           }
          ],
          "contour": [
           {
            "colorbar": {
             "outlinewidth": 0,
             "ticks": ""
            },
            "colorscale": [
             [
              0,
              "#0d0887"
             ],
             [
              0.1111111111111111,
              "#46039f"
             ],
             [
              0.2222222222222222,
              "#7201a8"
             ],
             [
              0.3333333333333333,
              "#9c179e"
             ],
             [
              0.4444444444444444,
              "#bd3786"
             ],
             [
              0.5555555555555556,
              "#d8576b"
             ],
             [
              0.6666666666666666,
              "#ed7953"
             ],
             [
              0.7777777777777778,
              "#fb9f3a"
             ],
             [
              0.8888888888888888,
              "#fdca26"
             ],
             [
              1,
              "#f0f921"
             ]
            ],
            "type": "contour"
           }
          ],
          "contourcarpet": [
           {
            "colorbar": {
             "outlinewidth": 0,
             "ticks": ""
            },
            "type": "contourcarpet"
           }
          ],
          "heatmap": [
           {
            "colorbar": {
             "outlinewidth": 0,
             "ticks": ""
            },
            "colorscale": [
             [
              0,
              "#0d0887"
             ],
             [
              0.1111111111111111,
              "#46039f"
             ],
             [
              0.2222222222222222,
              "#7201a8"
             ],
             [
              0.3333333333333333,
              "#9c179e"
             ],
             [
              0.4444444444444444,
              "#bd3786"
             ],
             [
              0.5555555555555556,
              "#d8576b"
             ],
             [
              0.6666666666666666,
              "#ed7953"
             ],
             [
              0.7777777777777778,
              "#fb9f3a"
             ],
             [
              0.8888888888888888,
              "#fdca26"
             ],
             [
              1,
              "#f0f921"
             ]
            ],
            "type": "heatmap"
           }
          ],
          "heatmapgl": [
           {
            "colorbar": {
             "outlinewidth": 0,
             "ticks": ""
            },
            "colorscale": [
             [
              0,
              "#0d0887"
             ],
             [
              0.1111111111111111,
              "#46039f"
             ],
             [
              0.2222222222222222,
              "#7201a8"
             ],
             [
              0.3333333333333333,
              "#9c179e"
             ],
             [
              0.4444444444444444,
              "#bd3786"
             ],
             [
              0.5555555555555556,
              "#d8576b"
             ],
             [
              0.6666666666666666,
              "#ed7953"
             ],
             [
              0.7777777777777778,
              "#fb9f3a"
             ],
             [
              0.8888888888888888,
              "#fdca26"
             ],
             [
              1,
              "#f0f921"
             ]
            ],
            "type": "heatmapgl"
           }
          ],
          "histogram": [
           {
            "marker": {
             "pattern": {
              "fillmode": "overlay",
              "size": 10,
              "solidity": 0.2
             }
            },
            "type": "histogram"
           }
          ],
          "histogram2d": [
           {
            "colorbar": {
             "outlinewidth": 0,
             "ticks": ""
            },
            "colorscale": [
             [
              0,
              "#0d0887"
             ],
             [
              0.1111111111111111,
              "#46039f"
             ],
             [
              0.2222222222222222,
              "#7201a8"
             ],
             [
              0.3333333333333333,
              "#9c179e"
             ],
             [
              0.4444444444444444,
              "#bd3786"
             ],
             [
              0.5555555555555556,
              "#d8576b"
             ],
             [
              0.6666666666666666,
              "#ed7953"
             ],
             [
              0.7777777777777778,
              "#fb9f3a"
             ],
             [
              0.8888888888888888,
              "#fdca26"
             ],
             [
              1,
              "#f0f921"
             ]
            ],
            "type": "histogram2d"
           }
          ],
          "histogram2dcontour": [
           {
            "colorbar": {
             "outlinewidth": 0,
             "ticks": ""
            },
            "colorscale": [
             [
              0,
              "#0d0887"
             ],
             [
              0.1111111111111111,
              "#46039f"
             ],
             [
              0.2222222222222222,
              "#7201a8"
             ],
             [
              0.3333333333333333,
              "#9c179e"
             ],
             [
              0.4444444444444444,
              "#bd3786"
             ],
             [
              0.5555555555555556,
              "#d8576b"
             ],
             [
              0.6666666666666666,
              "#ed7953"
             ],
             [
              0.7777777777777778,
              "#fb9f3a"
             ],
             [
              0.8888888888888888,
              "#fdca26"
             ],
             [
              1,
              "#f0f921"
             ]
            ],
            "type": "histogram2dcontour"
           }
          ],
          "mesh3d": [
           {
            "colorbar": {
             "outlinewidth": 0,
             "ticks": ""
            },
            "type": "mesh3d"
           }
          ],
          "parcoords": [
           {
            "line": {
             "colorbar": {
              "outlinewidth": 0,
              "ticks": ""
             }
            },
            "type": "parcoords"
           }
          ],
          "pie": [
           {
            "automargin": true,
            "type": "pie"
           }
          ],
          "scatter": [
           {
            "marker": {
             "colorbar": {
              "outlinewidth": 0,
              "ticks": ""
             }
            },
            "type": "scatter"
           }
          ],
          "scatter3d": [
           {
            "line": {
             "colorbar": {
              "outlinewidth": 0,
              "ticks": ""
             }
            },
            "marker": {
             "colorbar": {
              "outlinewidth": 0,
              "ticks": ""
             }
            },
            "type": "scatter3d"
           }
          ],
          "scattercarpet": [
           {
            "marker": {
             "colorbar": {
              "outlinewidth": 0,
              "ticks": ""
             }
            },
            "type": "scattercarpet"
           }
          ],
          "scattergeo": [
           {
            "marker": {
             "colorbar": {
              "outlinewidth": 0,
              "ticks": ""
             }
            },
            "type": "scattergeo"
           }
          ],
          "scattergl": [
           {
            "marker": {
             "colorbar": {
              "outlinewidth": 0,
              "ticks": ""
             }
            },
            "type": "scattergl"
           }
          ],
          "scattermapbox": [
           {
            "marker": {
             "colorbar": {
              "outlinewidth": 0,
              "ticks": ""
             }
            },
            "type": "scattermapbox"
           }
          ],
          "scatterpolar": [
           {
            "marker": {
             "colorbar": {
              "outlinewidth": 0,
              "ticks": ""
             }
            },
            "type": "scatterpolar"
           }
          ],
          "scatterpolargl": [
           {
            "marker": {
             "colorbar": {
              "outlinewidth": 0,
              "ticks": ""
             }
            },
            "type": "scatterpolargl"
           }
          ],
          "scatterternary": [
           {
            "marker": {
             "colorbar": {
              "outlinewidth": 0,
              "ticks": ""
             }
            },
            "type": "scatterternary"
           }
          ],
          "surface": [
           {
            "colorbar": {
             "outlinewidth": 0,
             "ticks": ""
            },
            "colorscale": [
             [
              0,
              "#0d0887"
             ],
             [
              0.1111111111111111,
              "#46039f"
             ],
             [
              0.2222222222222222,
              "#7201a8"
             ],
             [
              0.3333333333333333,
              "#9c179e"
             ],
             [
              0.4444444444444444,
              "#bd3786"
             ],
             [
              0.5555555555555556,
              "#d8576b"
             ],
             [
              0.6666666666666666,
              "#ed7953"
             ],
             [
              0.7777777777777778,
              "#fb9f3a"
             ],
             [
              0.8888888888888888,
              "#fdca26"
             ],
             [
              1,
              "#f0f921"
             ]
            ],
            "type": "surface"
           }
          ],
          "table": [
           {
            "cells": {
             "fill": {
              "color": "#EBF0F8"
             },
             "line": {
              "color": "white"
             }
            },
            "header": {
             "fill": {
              "color": "#C8D4E3"
             },
             "line": {
              "color": "white"
             }
            },
            "type": "table"
           }
          ]
         },
         "layout": {
          "annotationdefaults": {
           "arrowcolor": "#2a3f5f",
           "arrowhead": 0,
           "arrowwidth": 1
          },
          "autotypenumbers": "strict",
          "coloraxis": {
           "colorbar": {
            "outlinewidth": 0,
            "ticks": ""
           }
          },
          "colorscale": {
           "diverging": [
            [
             0,
             "#8e0152"
            ],
            [
             0.1,
             "#c51b7d"
            ],
            [
             0.2,
             "#de77ae"
            ],
            [
             0.3,
             "#f1b6da"
            ],
            [
             0.4,
             "#fde0ef"
            ],
            [
             0.5,
             "#f7f7f7"
            ],
            [
             0.6,
             "#e6f5d0"
            ],
            [
             0.7,
             "#b8e186"
            ],
            [
             0.8,
             "#7fbc41"
            ],
            [
             0.9,
             "#4d9221"
            ],
            [
             1,
             "#276419"
            ]
           ],
           "sequential": [
            [
             0,
             "#0d0887"
            ],
            [
             0.1111111111111111,
             "#46039f"
            ],
            [
             0.2222222222222222,
             "#7201a8"
            ],
            [
             0.3333333333333333,
             "#9c179e"
            ],
            [
             0.4444444444444444,
             "#bd3786"
            ],
            [
             0.5555555555555556,
             "#d8576b"
            ],
            [
             0.6666666666666666,
             "#ed7953"
            ],
            [
             0.7777777777777778,
             "#fb9f3a"
            ],
            [
             0.8888888888888888,
             "#fdca26"
            ],
            [
             1,
             "#f0f921"
            ]
           ],
           "sequentialminus": [
            [
             0,
             "#0d0887"
            ],
            [
             0.1111111111111111,
             "#46039f"
            ],
            [
             0.2222222222222222,
             "#7201a8"
            ],
            [
             0.3333333333333333,
             "#9c179e"
            ],
            [
             0.4444444444444444,
             "#bd3786"
            ],
            [
             0.5555555555555556,
             "#d8576b"
            ],
            [
             0.6666666666666666,
             "#ed7953"
            ],
            [
             0.7777777777777778,
             "#fb9f3a"
            ],
            [
             0.8888888888888888,
             "#fdca26"
            ],
            [
             1,
             "#f0f921"
            ]
           ]
          },
          "colorway": [
           "#636efa",
           "#EF553B",
           "#00cc96",
           "#ab63fa",
           "#FFA15A",
           "#19d3f3",
           "#FF6692",
           "#B6E880",
           "#FF97FF",
           "#FECB52"
          ],
          "font": {
           "color": "#2a3f5f"
          },
          "geo": {
           "bgcolor": "white",
           "lakecolor": "white",
           "landcolor": "#E5ECF6",
           "showlakes": true,
           "showland": true,
           "subunitcolor": "white"
          },
          "hoverlabel": {
           "align": "left"
          },
          "hovermode": "closest",
          "mapbox": {
           "style": "light"
          },
          "paper_bgcolor": "white",
          "plot_bgcolor": "#E5ECF6",
          "polar": {
           "angularaxis": {
            "gridcolor": "white",
            "linecolor": "white",
            "ticks": ""
           },
           "bgcolor": "#E5ECF6",
           "radialaxis": {
            "gridcolor": "white",
            "linecolor": "white",
            "ticks": ""
           }
          },
          "scene": {
           "xaxis": {
            "backgroundcolor": "#E5ECF6",
            "gridcolor": "white",
            "gridwidth": 2,
            "linecolor": "white",
            "showbackground": true,
            "ticks": "",
            "zerolinecolor": "white"
           },
           "yaxis": {
            "backgroundcolor": "#E5ECF6",
            "gridcolor": "white",
            "gridwidth": 2,
            "linecolor": "white",
            "showbackground": true,
            "ticks": "",
            "zerolinecolor": "white"
           },
           "zaxis": {
            "backgroundcolor": "#E5ECF6",
            "gridcolor": "white",
            "gridwidth": 2,
            "linecolor": "white",
            "showbackground": true,
            "ticks": "",
            "zerolinecolor": "white"
           }
          },
          "shapedefaults": {
           "line": {
            "color": "#2a3f5f"
           }
          },
          "ternary": {
           "aaxis": {
            "gridcolor": "white",
            "linecolor": "white",
            "ticks": ""
           },
           "baxis": {
            "gridcolor": "white",
            "linecolor": "white",
            "ticks": ""
           },
           "bgcolor": "#E5ECF6",
           "caxis": {
            "gridcolor": "white",
            "linecolor": "white",
            "ticks": ""
           }
          },
          "title": {
           "x": 0.05
          },
          "xaxis": {
           "automargin": true,
           "gridcolor": "white",
           "linecolor": "white",
           "ticks": "",
           "title": {
            "standoff": 15
           },
           "zerolinecolor": "white",
           "zerolinewidth": 2
          },
          "yaxis": {
           "automargin": true,
           "gridcolor": "white",
           "linecolor": "white",
           "ticks": "",
           "title": {
            "standoff": 15
           },
           "zerolinecolor": "white",
           "zerolinewidth": 2
          }
         }
        },
        "xaxis": {
         "anchor": "y",
         "autorange": true,
         "domain": [
          0,
          1
         ],
         "range": [
          0.8701707097933513,
          3.129829290206649
         ],
         "title": {
          "text": "x"
         },
         "type": "linear"
        },
        "yaxis": {
         "anchor": "x",
         "autorange": true,
         "domain": [
          0,
          1
         ],
         "range": [
          0.9225721784776904,
          2.07742782152231
         ],
         "title": {
          "text": "y"
         },
         "type": "linear"
        }
       }
      },
      "image/png": "[encoded data removed]",
      "text/html": [
       "<div>                            <div id=\"57e619ad-001d-48fc-aa7d-5c950668d45d\" class=\"plotly-graph-div\" style=\"height:525px; width:100%;\"></div>            <script type=\"text/javascript\">                require([\"plotly\"], function(Plotly) {                    window.PLOTLYENV=window.PLOTLYENV || {};                                    if (document.getElementById(\"57e619ad-001d-48fc-aa7d-5c950668d45d\")) {                    Plotly.newPlot(                        \"57e619ad-001d-48fc-aa7d-5c950668d45d\",                        [{\"hovertemplate\":\"x=%{x}<br>y=%{y}<extra></extra>\",\"legendgroup\":\"\",\"marker\":{\"color\":\"#636efa\",\"symbol\":\"circle\"},\"mode\":\"markers\",\"name\":\"\",\"orientation\":\"v\",\"showlegend\":false,\"x\":[1,2,3],\"xaxis\":\"x\",\"y\":[1,2,1],\"yaxis\":\"y\",\"type\":\"scatter\"}],                        {\"template\":{\"data\":{\"bar\":[{\"error_x\":{\"color\":\"#2a3f5f\"},\"error_y\":{\"color\":\"#2a3f5f\"},\"marker\":{\"line\":{\"color\":\"#E5ECF6\",\"width\":0.5},\"pattern\":{\"fillmode\":\"overlay\",\"size\":10,\"solidity\":0.2}},\"type\":\"bar\"}],\"barpolar\":[{\"marker\":{\"line\":{\"color\":\"#E5ECF6\",\"width\":0.5},\"pattern\":{\"fillmode\":\"overlay\",\"size\":10,\"solidity\":0.2}},\"type\":\"barpolar\"}],\"carpet\":[{\"aaxis\":{\"endlinecolor\":\"#2a3f5f\",\"gridcolor\":\"white\",\"linecolor\":\"white\",\"minorgridcolor\":\"white\",\"startlinecolor\":\"#2a3f5f\"},\"baxis\":{\"endlinecolor\":\"#2a3f5f\",\"gridcolor\":\"white\",\"linecolor\":\"white\",\"minorgridcolor\":\"white\",\"startlinecolor\":\"#2a3f5f\"},\"type\":\"carpet\"}],\"choropleth\":[{\"colorbar\":{\"outlinewidth\":0,\"ticks\":\"\"},\"type\":\"choropleth\"}],\"contour\":[{\"colorbar\":{\"outlinewidth\":0,\"ticks\":\"\"},\"colorscale\":[[0.0,\"#0d0887\"],[0.1111111111111111,\"#46039f\"],[0.2222222222222222,\"#7201a8\"],[0.3333333333333333,\"#9c179e\"],[0.4444444444444444,\"#bd3786\"],[0.5555555555555556,\"#d8576b\"],[0.6666666666666666,\"#ed7953\"],[0.7777777777777778,\"#fb9f3a\"],[0.8888888888888888,\"#fdca26\"],[1.0,\"#f0f921\"]],\"type\":\"contour\"}],\"contourcarpet\":[{\"colorbar\":{\"outlinewidth\":0,\"ticks\":\"\"},\"type\":\"contourcarpet\"}],\"heatmap\":[{\"colorbar\":{\"outlinewidth\":0,\"ticks\":\"\"},\"colorscale\":[[0.0,\"#0d0887\"],[0.1111111111111111,\"#46039f\"],[0.2222222222222222,\"#7201a8\"],[0.3333333333333333,\"#9c179e\"],[0.4444444444444444,\"#bd3786\"],[0.5555555555555556,\"#d8576b\"],[0.6666666666666666,\"#ed7953\"],[0.7777777777777778,\"#fb9f3a\"],[0.8888888888888888,\"#fdca26\"],[1.0,\"#f0f921\"]],\"type\":\"heatmap\"}],\"heatmapgl\":[{\"colorbar\":{\"outlinewidth\":0,\"ticks\":\"\"},\"colorscale\":[[0.0,\"#0d0887\"],[0.1111111111111111,\"#46039f\"],[0.2222222222222222,\"#7201a8\"],[0.3333333333333333,\"#9c179e\"],[0.4444444444444444,\"#bd3786\"],[0.5555555555555556,\"#d8576b\"],[0.6666666666666666,\"#ed7953\"],[0.7777777777777778,\"#fb9f3a\"],[0.8888888888888888,\"#fdca26\"],[1.0,\"#f0f921\"]],\"type\":\"heatmapgl\"}],\"histogram\":[{\"marker\":{\"pattern\":{\"fillmode\":\"overlay\",\"size\":10,\"solidity\":0.2}},\"type\":\"histogram\"}],\"histogram2d\":[{\"colorbar\":{\"outlinewidth\":0,\"ticks\":\"\"},\"colorscale\":[[0.0,\"#0d0887\"],[0.1111111111111111,\"#46039f\"],[0.2222222222222222,\"#7201a8\"],[0.3333333333333333,\"#9c179e\"],[0.4444444444444444,\"#bd3786\"],[0.5555555555555556,\"#d8576b\"],[0.6666666666666666,\"#ed7953\"],[0.7777777777777778,\"#fb9f3a\"],[0.8888888888888888,\"#fdca26\"],[1.0,\"#f0f921\"]],\"type\":\"histogram2d\"}],\"histogram2dcontour\":[{\"colorbar\":{\"outlinewidth\":0,\"ticks\":\"\"},\"colorscale\":[[0.0,\"#0d0887\"],[0.1111111111111111,\"#46039f\"],[0.2222222222222222,\"#7201a8\"],[0.3333333333333333,\"#9c179e\"],[0.4444444444444444,\"#bd3786\"],[0.5555555555555556,\"#d8576b\"],[0.6666666666666666,\"#ed7953\"],[0.7777777777777778,\"#fb9f3a\"],[0.8888888888888888,\"#fdca26\"],[1.0,\"#f0f921\"]],\"type\":\"histogram2dcontour\"}],\"mesh3d\":[{\"colorbar\":{\"outlinewidth\":0,\"ticks\":\"\"},\"type\":\"mesh3d\"}],\"parcoords\":[{\"line\":{\"colorbar\":{\"outlinewidth\":0,\"ticks\":\"\"}},\"type\":\"parcoords\"}],\"pie\":[{\"automargin\":true,\"type\":\"pie\"}],\"scatter\":[{\"marker\":{\"colorbar\":{\"outlinewidth\":0,\"ticks\":\"\"}},\"type\":\"scatter\"}],\"scatter3d\":[{\"line\":{\"colorbar\":{\"outlinewidth\":0,\"ticks\":\"\"}},\"marker\":{\"colorbar\":{\"outlinewidth\":0,\"ticks\":\"\"}},\"type\":\"scatter3d\"}],\"scattercarpet\":[{\"marker\":{\"colorbar\":{\"outlinewidth\":0,\"ticks\":\"\"}},\"type\":\"scattercarpet\"}],\"scattergeo\":[{\"marker\":{\"colorbar\":{\"outlinewidth\":0,\"ticks\":\"\"}},\"type\":\"scattergeo\"}],\"scattergl\":[{\"marker\":{\"colorbar\":{\"outlinewidth\":0,\"ticks\":\"\"}},\"type\":\"scattergl\"}],\"scattermapbox\":[{\"marker\":{\"colorbar\":{\"outlinewidth\":0,\"ticks\":\"\"}},\"type\":\"scattermapbox\"}],\"scatterpolar\":[{\"marker\":{\"colorbar\":{\"outlinewidth\":0,\"ticks\":\"\"}},\"type\":\"scatterpolar\"}],\"scatterpolargl\":[{\"marker\":{\"colorbar\":{\"outlinewidth\":0,\"ticks\":\"\"}},\"type\":\"scatterpolargl\"}],\"scatterternary\":[{\"marker\":{\"colorbar\":{\"outlinewidth\":0,\"ticks\":\"\"}},\"type\":\"scatterternary\"}],\"surface\":[{\"colorbar\":{\"outlinewidth\":0,\"ticks\":\"\"},\"colorscale\":[[0.0,\"#0d0887\"],[0.1111111111111111,\"#46039f\"],[0.2222222222222222,\"#7201a8\"],[0.3333333333333333,\"#9c179e\"],[0.4444444444444444,\"#bd3786\"],[0.5555555555555556,\"#d8576b\"],[0.6666666666666666,\"#ed7953\"],[0.7777777777777778,\"#fb9f3a\"],[0.8888888888888888,\"#fdca26\"],[1.0,\"#f0f921\"]],\"type\":\"surface\"}],\"table\":[{\"cells\":{\"fill\":{\"color\":\"#EBF0F8\"},\"line\":{\"color\":\"white\"}},\"header\":{\"fill\":{\"color\":\"#C8D4E3\"},\"line\":{\"color\":\"white\"}},\"type\":\"table\"}]},\"layout\":{\"annotationdefaults\":{\"arrowcolor\":\"#2a3f5f\",\"arrowhead\":0,\"arrowwidth\":1},\"autotypenumbers\":\"strict\",\"coloraxis\":{\"colorbar\":{\"outlinewidth\":0,\"ticks\":\"\"}},\"colorscale\":{\"diverging\":[[0,\"#8e0152\"],[0.1,\"#c51b7d\"],[0.2,\"#de77ae\"],[0.3,\"#f1b6da\"],[0.4,\"#fde0ef\"],[0.5,\"#f7f7f7\"],[0.6,\"#e6f5d0\"],[0.7,\"#b8e186\"],[0.8,\"#7fbc41\"],[0.9,\"#4d9221\"],[1,\"#276419\"]],\"sequential\":[[0.0,\"#0d0887\"],[0.1111111111111111,\"#46039f\"],[0.2222222222222222,\"#7201a8\"],[0.3333333333333333,\"#9c179e\"],[0.4444444444444444,\"#bd3786\"],[0.5555555555555556,\"#d8576b\"],[0.6666666666666666,\"#ed7953\"],[0.7777777777777778,\"#fb9f3a\"],[0.8888888888888888,\"#fdca26\"],[1.0,\"#f0f921\"]],\"sequentialminus\":[[0.0,\"#0d0887\"],[0.1111111111111111,\"#46039f\"],[0.2222222222222222,\"#7201a8\"],[0.3333333333333333,\"#9c179e\"],[0.4444444444444444,\"#bd3786\"],[0.5555555555555556,\"#d8576b\"],[0.6666666666666666,\"#ed7953\"],[0.7777777777777778,\"#fb9f3a\"],[0.8888888888888888,\"#fdca26\"],[1.0,\"#f0f921\"]]},\"colorway\":[\"#636efa\",\"#EF553B\",\"#00cc96\",\"#ab63fa\",\"#FFA15A\",\"#19d3f3\",\"#FF6692\",\"#B6E880\",\"#FF97FF\",\"#FECB52\"],\"font\":{\"color\":\"#2a3f5f\"},\"geo\":{\"bgcolor\":\"white\",\"lakecolor\":\"white\",\"landcolor\":\"#E5ECF6\",\"showlakes\":true,\"showland\":true,\"subunitcolor\":\"white\"},\"hoverlabel\":{\"align\":\"left\"},\"hovermode\":\"closest\",\"mapbox\":{\"style\":\"light\"},\"paper_bgcolor\":\"white\",\"plot_bgcolor\":\"#E5ECF6\",\"polar\":{\"angularaxis\":{\"gridcolor\":\"white\",\"linecolor\":\"white\",\"ticks\":\"\"},\"bgcolor\":\"#E5ECF6\",\"radialaxis\":{\"gridcolor\":\"white\",\"linecolor\":\"white\",\"ticks\":\"\"}},\"scene\":{\"xaxis\":{\"backgroundcolor\":\"#E5ECF6\",\"gridcolor\":\"white\",\"gridwidth\":2,\"linecolor\":\"white\",\"showbackground\":true,\"ticks\":\"\",\"zerolinecolor\":\"white\"},\"yaxis\":{\"backgroundcolor\":\"#E5ECF6\",\"gridcolor\":\"white\",\"gridwidth\":2,\"linecolor\":\"white\",\"showbackground\":true,\"ticks\":\"\",\"zerolinecolor\":\"white\"},\"zaxis\":{\"backgroundcolor\":\"#E5ECF6\",\"gridcolor\":\"white\",\"gridwidth\":2,\"linecolor\":\"white\",\"showbackground\":true,\"ticks\":\"\",\"zerolinecolor\":\"white\"}},\"shapedefaults\":{\"line\":{\"color\":\"#2a3f5f\"}},\"ternary\":{\"aaxis\":{\"gridcolor\":\"white\",\"linecolor\":\"white\",\"ticks\":\"\"},\"baxis\":{\"gridcolor\":\"white\",\"linecolor\":\"white\",\"ticks\":\"\"},\"bgcolor\":\"#E5ECF6\",\"caxis\":{\"gridcolor\":\"white\",\"linecolor\":\"white\",\"ticks\":\"\"}},\"title\":{\"x\":0.05},\"xaxis\":{\"automargin\":true,\"gridcolor\":\"white\",\"linecolor\":\"white\",\"ticks\":\"\",\"title\":{\"standoff\":15},\"zerolinecolor\":\"white\",\"zerolinewidth\":2},\"yaxis\":{\"automargin\":true,\"gridcolor\":\"white\",\"linecolor\":\"white\",\"ticks\":\"\",\"title\":{\"standoff\":15},\"zerolinecolor\":\"white\",\"zerolinewidth\":2}}},\"xaxis\":{\"anchor\":\"y\",\"domain\":[0.0,1.0],\"title\":{\"text\":\"x\"}},\"yaxis\":{\"anchor\":\"x\",\"domain\":[0.0,1.0],\"title\":{\"text\":\"y\"}},\"legend\":{\"tracegroupgap\":0},\"margin\":{\"t\":60}},                        {\"responsive\": true}                    ).then(function(){\n",
       "                            \n",
       "var gd = document.getElementById('57e619ad-001d-48fc-aa7d-5c950668d45d');\n",
       "var x = new MutationObserver(function (mutations, observer) {{\n",
       "        var display = window.getComputedStyle(gd).display;\n",
       "        if (!display || display === 'none') {{\n",
       "            console.log([gd, 'removed!']);\n",
       "            Plotly.purge(gd);\n",
       "            observer.disconnect();\n",
       "        }}\n",
       "}});\n",
       "\n",
       "// Listen for the removal of the full notebook cells\n",
       "var notebookContainer = gd.closest('#notebook-container');\n",
       "if (notebookContainer) {{\n",
       "    x.observe(notebookContainer, {childList: true});\n",
       "}}\n",
       "\n",
       "// Listen for the clearing of the current output cell\n",
       "var outputEl = gd.closest('.output');\n",
       "if (outputEl) {{\n",
       "    x.observe(outputEl, {childList: true});\n",
       "}}\n",
       "\n",
       "                        })                };                });            </script>        </div>"
      ]
     },
     "metadata": {},
     "output_type": "display_data"
    }
   ],
   "source": [
    "px.scatter(x=[1,2,3], y=[1,2,1]) #!"
   ]
  },
  {
   "cell_type": "markdown",
   "id": "116f8fce-3cb7-4ad9-8bae-4dcb345267ef",
   "metadata": {},
   "source": [
    "<div class=\"alert alert-success\">\n",
    "    <b>Python Fundamentals</b>\n",
    "    <ul>\n",
    "        <li>❌ You cannot just throw a random <code>string</code> to the <code>.scatter()</code></li>\n",
    "        <li>✅ This function <code>.scatter()</code> works with numerical data</li>\n",
    "    </ul>\n",
    "</div>"
   ]
  },
  {
   "cell_type": "code",
   "execution_count": null,
   "id": "0883f4f0-54e4-44e6-a50e-ee19c9d84f24",
   "metadata": {},
   "outputs": [],
   "source": []
  },
  {
   "cell_type": "code",
   "execution_count": null,
   "id": "705f6549-c7d1-4361-b473-771d3607e2d7",
   "metadata": {},
   "outputs": [],
   "source": []
  },
  {
   "cell_type": "code",
   "execution_count": 106,
   "id": "f3661ad9-f936-4276-bd30-a98a4c8e0f65",
   "metadata": {},
   "outputs": [
    {
     "ename": "ValueError",
     "evalue": "String or int arguments are only possible when a DataFrame or an array is provided in the `data_frame` argument. No DataFrame was provided, but argument 'x' is of type str or int.",
     "output_type": "error",
     "traceback": [
      "\u001b[0;31m---------------------------------------------------------------------------\u001b[0m",
      "\u001b[0;31mValueError\u001b[0m                                Traceback (most recent call last)",
      "\u001b[0;32m/var/folders/24/tg28vxls25l9mjvqrnh0plc80000gn/T/ipykernel_8807/2547231220.py\u001b[0m in \u001b[0;36m<module>\u001b[0;34m\u001b[0m\n\u001b[0;32m----> 1\u001b[0;31m \u001b[0mpx\u001b[0m\u001b[0;34m.\u001b[0m\u001b[0mscatter\u001b[0m\u001b[0;34m(\u001b[0m\u001b[0mx\u001b[0m\u001b[0;34m=\u001b[0m\u001b[0;34m'weight'\u001b[0m\u001b[0;34m,\u001b[0m \u001b[0my\u001b[0m\u001b[0;34m=\u001b[0m\u001b[0;34m'mpg'\u001b[0m\u001b[0;34m)\u001b[0m \u001b[0;31m#!\u001b[0m\u001b[0;34m\u001b[0m\u001b[0;34m\u001b[0m\u001b[0m\n\u001b[0m",
      "\u001b[0;32m~/miniforge3/lib/python3.9/site-packages/plotly/express/_chart_types.py\u001b[0m in \u001b[0;36mscatter\u001b[0;34m(data_frame, x, y, color, symbol, size, hover_name, hover_data, custom_data, text, facet_row, facet_col, facet_col_wrap, facet_row_spacing, facet_col_spacing, error_x, error_x_minus, error_y, error_y_minus, animation_frame, animation_group, category_orders, labels, orientation, color_discrete_sequence, color_discrete_map, color_continuous_scale, range_color, color_continuous_midpoint, symbol_sequence, symbol_map, opacity, size_max, marginal_x, marginal_y, trendline, trendline_options, trendline_color_override, trendline_scope, log_x, log_y, range_x, range_y, render_mode, title, template, width, height)\u001b[0m\n\u001b[1;32m     64\u001b[0m     \u001b[0mmark\u001b[0m \u001b[0;32min\u001b[0m \u001b[0;36m2\u001b[0m\u001b[0mD\u001b[0m \u001b[0mspace\u001b[0m\u001b[0;34m.\u001b[0m\u001b[0;34m\u001b[0m\u001b[0;34m\u001b[0m\u001b[0m\n\u001b[1;32m     65\u001b[0m     \"\"\"\n\u001b[0;32m---> 66\u001b[0;31m     \u001b[0;32mreturn\u001b[0m \u001b[0mmake_figure\u001b[0m\u001b[0;34m(\u001b[0m\u001b[0margs\u001b[0m\u001b[0;34m=\u001b[0m\u001b[0mlocals\u001b[0m\u001b[0;34m(\u001b[0m\u001b[0;34m)\u001b[0m\u001b[0;34m,\u001b[0m \u001b[0mconstructor\u001b[0m\u001b[0;34m=\u001b[0m\u001b[0mgo\u001b[0m\u001b[0;34m.\u001b[0m\u001b[0mScatter\u001b[0m\u001b[0;34m)\u001b[0m\u001b[0;34m\u001b[0m\u001b[0;34m\u001b[0m\u001b[0m\n\u001b[0m\u001b[1;32m     67\u001b[0m \u001b[0;34m\u001b[0m\u001b[0m\n\u001b[1;32m     68\u001b[0m \u001b[0;34m\u001b[0m\u001b[0m\n",
      "\u001b[0;32m~/miniforge3/lib/python3.9/site-packages/plotly/express/_core.py\u001b[0m in \u001b[0;36mmake_figure\u001b[0;34m(args, constructor, trace_patch, layout_patch)\u001b[0m\n\u001b[1;32m   1943\u001b[0m     \u001b[0mapply_default_cascade\u001b[0m\u001b[0;34m(\u001b[0m\u001b[0margs\u001b[0m\u001b[0;34m)\u001b[0m\u001b[0;34m\u001b[0m\u001b[0;34m\u001b[0m\u001b[0m\n\u001b[1;32m   1944\u001b[0m \u001b[0;34m\u001b[0m\u001b[0m\n\u001b[0;32m-> 1945\u001b[0;31m     \u001b[0margs\u001b[0m \u001b[0;34m=\u001b[0m \u001b[0mbuild_dataframe\u001b[0m\u001b[0;34m(\u001b[0m\u001b[0margs\u001b[0m\u001b[0;34m,\u001b[0m \u001b[0mconstructor\u001b[0m\u001b[0;34m)\u001b[0m\u001b[0;34m\u001b[0m\u001b[0;34m\u001b[0m\u001b[0m\n\u001b[0m\u001b[1;32m   1946\u001b[0m     \u001b[0;32mif\u001b[0m \u001b[0mconstructor\u001b[0m \u001b[0;32min\u001b[0m \u001b[0;34m[\u001b[0m\u001b[0mgo\u001b[0m\u001b[0;34m.\u001b[0m\u001b[0mTreemap\u001b[0m\u001b[0;34m,\u001b[0m \u001b[0mgo\u001b[0m\u001b[0;34m.\u001b[0m\u001b[0mSunburst\u001b[0m\u001b[0;34m,\u001b[0m \u001b[0mgo\u001b[0m\u001b[0;34m.\u001b[0m\u001b[0mIcicle\u001b[0m\u001b[0;34m]\u001b[0m \u001b[0;32mand\u001b[0m \u001b[0margs\u001b[0m\u001b[0;34m[\u001b[0m\u001b[0;34m\"path\"\u001b[0m\u001b[0;34m]\u001b[0m \u001b[0;32mis\u001b[0m \u001b[0;32mnot\u001b[0m \u001b[0;32mNone\u001b[0m\u001b[0;34m:\u001b[0m\u001b[0;34m\u001b[0m\u001b[0;34m\u001b[0m\u001b[0m\n\u001b[1;32m   1947\u001b[0m         \u001b[0margs\u001b[0m \u001b[0;34m=\u001b[0m \u001b[0mprocess_dataframe_hierarchy\u001b[0m\u001b[0;34m(\u001b[0m\u001b[0margs\u001b[0m\u001b[0;34m)\u001b[0m\u001b[0;34m\u001b[0m\u001b[0;34m\u001b[0m\u001b[0m\n",
      "\u001b[0;32m~/miniforge3/lib/python3.9/site-packages/plotly/express/_core.py\u001b[0m in \u001b[0;36mbuild_dataframe\u001b[0;34m(args, constructor)\u001b[0m\n\u001b[1;32m   1403\u001b[0m     \u001b[0;31m# now that things have been prepped, we do the systematic rewriting of `args`\u001b[0m\u001b[0;34m\u001b[0m\u001b[0;34m\u001b[0m\u001b[0m\n\u001b[1;32m   1404\u001b[0m \u001b[0;34m\u001b[0m\u001b[0m\n\u001b[0;32m-> 1405\u001b[0;31m     df_output, wide_id_vars = process_args_into_dataframe(\n\u001b[0m\u001b[1;32m   1406\u001b[0m         \u001b[0margs\u001b[0m\u001b[0;34m,\u001b[0m \u001b[0mwide_mode\u001b[0m\u001b[0;34m,\u001b[0m \u001b[0mvar_name\u001b[0m\u001b[0;34m,\u001b[0m \u001b[0mvalue_name\u001b[0m\u001b[0;34m\u001b[0m\u001b[0;34m\u001b[0m\u001b[0m\n\u001b[1;32m   1407\u001b[0m     )\n",
      "\u001b[0;32m~/miniforge3/lib/python3.9/site-packages/plotly/express/_core.py\u001b[0m in \u001b[0;36mprocess_args_into_dataframe\u001b[0;34m(args, wide_mode, var_name, value_name)\u001b[0m\n\u001b[1;32m   1187\u001b[0m                     \u001b[0mdf_output\u001b[0m\u001b[0;34m[\u001b[0m\u001b[0mcol_name\u001b[0m\u001b[0;34m]\u001b[0m \u001b[0;34m=\u001b[0m \u001b[0mto_unindexed_series\u001b[0m\u001b[0;34m(\u001b[0m\u001b[0mreal_argument\u001b[0m\u001b[0;34m)\u001b[0m\u001b[0;34m\u001b[0m\u001b[0;34m\u001b[0m\u001b[0m\n\u001b[1;32m   1188\u001b[0m                 \u001b[0;32melif\u001b[0m \u001b[0;32mnot\u001b[0m \u001b[0mdf_provided\u001b[0m\u001b[0;34m:\u001b[0m\u001b[0;34m\u001b[0m\u001b[0;34m\u001b[0m\u001b[0m\n\u001b[0;32m-> 1189\u001b[0;31m                     raise ValueError(\n\u001b[0m\u001b[1;32m   1190\u001b[0m                         \u001b[0;34m\"String or int arguments are only possible when a \"\u001b[0m\u001b[0;34m\u001b[0m\u001b[0;34m\u001b[0m\u001b[0m\n\u001b[1;32m   1191\u001b[0m                         \u001b[0;34m\"DataFrame or an array is provided in the `data_frame` \"\u001b[0m\u001b[0;34m\u001b[0m\u001b[0;34m\u001b[0m\u001b[0m\n",
      "\u001b[0;31mValueError\u001b[0m: String or int arguments are only possible when a DataFrame or an array is provided in the `data_frame` argument. No DataFrame was provided, but argument 'x' is of type str or int."
     ]
    }
   ],
   "source": [
    "px.scatter(x='weight', y='mpg') #!"
   ]
  },
  {
   "cell_type": "markdown",
   "id": "1eb3dc62-1f89-4da3-bd08-9bd487d9820f",
   "metadata": {},
   "source": [
    "- [ ] Which created instance contains the numbers?"
   ]
  },
  {
   "cell_type": "code",
   "execution_count": 108,
   "id": "b582e69f-115b-42b8-b967-8763ea30aac3",
   "metadata": {},
   "outputs": [
    {
     "data": {
      "text/html": [
       "<div>\n",
       "<style scoped>\n",
       "    .dataframe tbody tr th:only-of-type {\n",
       "        vertical-align: middle;\n",
       "    }\n",
       "\n",
       "    .dataframe tbody tr th {\n",
       "        vertical-align: top;\n",
       "    }\n",
       "\n",
       "    .dataframe thead th {\n",
       "        text-align: right;\n",
       "    }\n",
       "</style>\n",
       "<table border=\"1\" class=\"dataframe\">\n",
       "  <thead>\n",
       "    <tr style=\"text-align: right;\">\n",
       "      <th></th>\n",
       "      <th>mpg</th>\n",
       "      <th>cylinders</th>\n",
       "      <th>displacement</th>\n",
       "      <th>horsepower</th>\n",
       "      <th>weight</th>\n",
       "      <th>acceleration</th>\n",
       "      <th>model_year</th>\n",
       "    </tr>\n",
       "    <tr>\n",
       "      <th>name</th>\n",
       "      <th></th>\n",
       "      <th></th>\n",
       "      <th></th>\n",
       "      <th></th>\n",
       "      <th></th>\n",
       "      <th></th>\n",
       "      <th></th>\n",
       "    </tr>\n",
       "  </thead>\n",
       "  <tbody>\n",
       "    <tr>\n",
       "      <th>chevrolet chevelle malibu</th>\n",
       "      <td>18.0</td>\n",
       "      <td>8</td>\n",
       "      <td>307.0</td>\n",
       "      <td>130.0</td>\n",
       "      <td>3504</td>\n",
       "      <td>12.0</td>\n",
       "      <td>70</td>\n",
       "    </tr>\n",
       "    <tr>\n",
       "      <th>buick skylark 320</th>\n",
       "      <td>15.0</td>\n",
       "      <td>8</td>\n",
       "      <td>350.0</td>\n",
       "      <td>165.0</td>\n",
       "      <td>3693</td>\n",
       "      <td>11.5</td>\n",
       "      <td>70</td>\n",
       "    </tr>\n",
       "    <tr>\n",
       "      <th>plymouth satellite</th>\n",
       "      <td>18.0</td>\n",
       "      <td>8</td>\n",
       "      <td>318.0</td>\n",
       "      <td>150.0</td>\n",
       "      <td>3436</td>\n",
       "      <td>11.0</td>\n",
       "      <td>70</td>\n",
       "    </tr>\n",
       "    <tr>\n",
       "      <th>amc rebel sst</th>\n",
       "      <td>16.0</td>\n",
       "      <td>8</td>\n",
       "      <td>304.0</td>\n",
       "      <td>150.0</td>\n",
       "      <td>3433</td>\n",
       "      <td>12.0</td>\n",
       "      <td>70</td>\n",
       "    </tr>\n",
       "    <tr>\n",
       "      <th>ford torino</th>\n",
       "      <td>17.0</td>\n",
       "      <td>8</td>\n",
       "      <td>302.0</td>\n",
       "      <td>140.0</td>\n",
       "      <td>3449</td>\n",
       "      <td>10.5</td>\n",
       "      <td>70</td>\n",
       "    </tr>\n",
       "  </tbody>\n",
       "</table>\n",
       "</div>"
      ],
      "text/plain": [
       "                            mpg  cylinders  displacement  horsepower  weight  \\\n",
       "name                                                                           \n",
       "chevrolet chevelle malibu  18.0          8         307.0       130.0    3504   \n",
       "buick skylark 320          15.0          8         350.0       165.0    3693   \n",
       "plymouth satellite         18.0          8         318.0       150.0    3436   \n",
       "amc rebel sst              16.0          8         304.0       150.0    3433   \n",
       "ford torino                17.0          8         302.0       140.0    3449   \n",
       "\n",
       "                           acceleration  model_year  \n",
       "name                                                 \n",
       "chevrolet chevelle malibu          12.0          70  \n",
       "buick skylark 320                  11.5          70  \n",
       "plymouth satellite                 11.0          70  \n",
       "amc rebel sst                      12.0          70  \n",
       "ford torino                        10.5          70  "
      ]
     },
     "execution_count": 108,
     "metadata": {},
     "output_type": "execute_result"
    }
   ],
   "source": [
    "df.head() #!"
   ]
  },
  {
   "cell_type": "markdown",
   "id": "638d4637-6616-483d-b1c4-cd5e785a6ba2",
   "metadata": {},
   "source": [
    "- [ ] Do you reference this instance in the `.scatter()`?"
   ]
  },
  {
   "cell_type": "code",
   "execution_count": null,
   "id": "6b6ba902-e02d-4343-930c-f1018dc6c5e3",
   "metadata": {},
   "outputs": [],
   "source": []
  },
  {
   "cell_type": "markdown",
   "id": "96392210-469a-416b-a106-f22bad3c10cc",
   "metadata": {},
   "source": [
    "## Accessing with the `keys`"
   ]
  },
  {
   "cell_type": "code",
   "execution_count": null,
   "id": "7f2e6d2f-4fa3-4fed-954d-4868027d8d9b",
   "metadata": {},
   "outputs": [],
   "source": []
  },
  {
   "cell_type": "code",
   "execution_count": null,
   "id": "af35205a-c1ca-4f58-ad4c-aa83d42a949b",
   "metadata": {},
   "outputs": [],
   "source": []
  },
  {
   "cell_type": "code",
   "execution_count": null,
   "id": "a47b0739-994a-427c-9a1f-66d9f7622299",
   "metadata": {},
   "outputs": [],
   "source": []
  },
  {
   "cell_type": "code",
   "execution_count": null,
   "id": "503f52dd-5a07-496e-bf81-fc65b8fc1e44",
   "metadata": {},
   "outputs": [],
   "source": []
  },
  {
   "cell_type": "markdown",
   "id": "c06936ec-e811-47c3-b72a-e845884fcd9e",
   "metadata": {},
   "source": [
    "## Accesing with the `instance`"
   ]
  },
  {
   "cell_type": "code",
   "execution_count": null,
   "id": "b1673a7e-d5ef-4d1e-bd44-810df9b9b3ba",
   "metadata": {},
   "outputs": [],
   "source": []
  },
  {
   "cell_type": "code",
   "execution_count": null,
   "id": "6b1ab7e2-5286-4034-9a3c-72ccf28ac48b",
   "metadata": {},
   "outputs": [],
   "source": []
  },
  {
   "cell_type": "code",
   "execution_count": null,
   "id": "763b01a6-0c60-4ea5-95a7-d42ac1e8cd44",
   "metadata": {},
   "outputs": [],
   "source": []
  },
  {
   "cell_type": "markdown",
   "id": "cb91813a-60b4-4257-be6d-35936089e38c",
   "metadata": {},
   "source": [
    "- [ ] Is it a way to omit the repetition of `df`?"
   ]
  },
  {
   "cell_type": "code",
   "execution_count": null,
   "id": "f1b8c324-0b08-4b28-b062-751c22581035",
   "metadata": {},
   "outputs": [],
   "source": []
  },
  {
   "cell_type": "markdown",
   "id": "23d1cf49-686b-4e5f-a328-06194263a421",
   "metadata": {},
   "source": [
    "# The Most Important [Elements of Programming](https://github.com/jsulopz/00-python-resolver-discipline/blob/main/01_Code%20of%20Discipline/00_The%20Elements%20of%20Programming.md)"
   ]
  },
  {
   "cell_type": "markdown",
   "id": "1b3c874e-096b-43ae-a9c3-aaf78a4cf9ff",
   "metadata": {},
   "source": [
    "## The `function()`"
   ]
  },
  {
   "cell_type": "markdown",
   "id": "8d7291ef-6555-48f2-8348-b5ee01327c54",
   "metadata": {},
   "source": [
    "The **function** contains nothing\n",
    "- ` `; it's the endpoint of programming\n",
    "\n",
    "```python\n",
    "pandas.read_csv()\n",
    "```"
   ]
  },
  {
   "cell_type": "markdown",
   "id": "bb25cbed-02fe-49b8-8c71-2556b09a1c99",
   "metadata": {},
   "source": [
    "## The `instance`"
   ]
  },
  {
   "cell_type": "markdown",
   "id": "05107422-ced5-4a1d-b8c8-01c7c8158467",
   "metadata": {},
   "source": [
    "The **instance** (object) may contain:\n",
    "- `function`\n",
    "\n",
    "    ```python\n",
    "    df.describe()\n",
    "    ```\n",
    "    \n",
    "- more `instance`s\n",
    "\n",
    "    ```python\n",
    "    df.columns\n",
    "    ```"
   ]
  },
  {
   "cell_type": "markdown",
   "id": "b3639f30-fb46-4bf4-aed8-891f84ba5185",
   "metadata": {},
   "source": [
    "## The `module`"
   ]
  },
  {
   "cell_type": "markdown",
   "id": "eb9d14a6-b2fb-4943-b123-9e02566aca7e",
   "metadata": {},
   "source": [
    "The **module** may contain:\n",
    "- `module` (subfolder)\n",
    "- `function`\n",
    "- object `class` **to be created**\n",
    "- object `instance` **(object) already created**"
   ]
  },
  {
   "cell_type": "markdown",
   "id": "c2b4b49d-450e-4d69-a516-9b53b13eedcd",
   "metadata": {},
   "source": [
    "- [ ] What's the most important element of programming? Why?"
   ]
  },
  {
   "cell_type": "markdown",
   "id": "00ae094f-deb6-47dd-b3c7-0b15d70bf281",
   "metadata": {},
   "source": [
    "# Apply the Knowledge & Uncover the Solution"
   ]
  },
  {
   "cell_type": "code",
   "execution_count": null,
   "id": "913a74ac-d434-4d40-9749-e35c983569f3",
   "metadata": {},
   "outputs": [],
   "source": []
  },
  {
   "cell_type": "code",
   "execution_count": 90,
   "id": "8e00a4f9-ce4b-436c-8543-76c8bcaad285",
   "metadata": {},
   "outputs": [
    {
     "data": {
      "application/vnd.plotly.v1+json": {
       "config": {
        "plotlyServerURL": "https://plotly.com"
       },
       "data": [
        {
         "hovertemplate": "<b>%{hovertext}</b><br><br>origin=usa<br>weight=%{x}<br>mpg=%{y}<extra></extra>",
         "hovertext": [
          "chevrolet chevelle malibu",
          "buick skylark 320",
          "plymouth satellite",
          "amc rebel sst",
          "ford torino",
          "ford galaxie 500",
          "chevrolet impala",
          "plymouth fury iii",
          "pontiac catalina",
          "amc ambassador dpl",
          "dodge challenger se",
          "plymouth 'cuda 340",
          "chevrolet monte carlo",
          "buick estate wagon (sw)",
          "plymouth duster",
          "amc hornet",
          "ford maverick",
          "amc gremlin",
          "ford f250",
          "chevy c20",
          "dodge d200",
          "hi 1200d",
          "chevrolet vega 2300",
          "ford pinto",
          "amc gremlin",
          "plymouth satellite custom",
          "chevrolet chevelle malibu",
          "ford torino 500",
          "amc matador",
          "chevrolet impala",
          "pontiac catalina brougham",
          "ford galaxie 500",
          "plymouth fury iii",
          "dodge monaco (sw)",
          "ford country squire (sw)",
          "pontiac safari (sw)",
          "amc hornet sportabout (sw)",
          "chevrolet vega (sw)",
          "pontiac firebird",
          "ford mustang",
          "mercury capri 2000",
          "plymouth cricket",
          "dodge colt hardtop",
          "chevrolet vega",
          "ford pinto runabout",
          "chevrolet impala",
          "pontiac catalina",
          "plymouth fury iii",
          "ford galaxie 500",
          "amc ambassador sst",
          "mercury marquis",
          "buick lesabre custom",
          "oldsmobile delta 88 royale",
          "chrysler newport royal",
          "amc matador (sw)",
          "chevrolet chevelle concours (sw)",
          "ford gran torino (sw)",
          "plymouth satellite custom (sw)",
          "ford pinto (sw)",
          "dodge colt (sw)",
          "buick century 350",
          "amc matador",
          "chevrolet malibu",
          "ford gran torino",
          "dodge coronet custom",
          "mercury marquis brougham",
          "chevrolet caprice classic",
          "ford ltd",
          "plymouth fury gran sedan",
          "chrysler new yorker brougham",
          "buick electra 225 custom",
          "amc ambassador brougham",
          "plymouth valiant",
          "chevrolet nova custom",
          "amc hornet",
          "ford maverick",
          "plymouth duster",
          "chevrolet impala",
          "ford country",
          "plymouth custom suburb",
          "oldsmobile vista cruiser",
          "amc gremlin",
          "chevrolet vega",
          "ford pinto",
          "mercury capri v6",
          "chevrolet monte carlo s",
          "pontiac grand prix",
          "dodge dart custom",
          "oldsmobile omega",
          "plymouth duster",
          "ford maverick",
          "amc hornet",
          "chevrolet nova",
          "ford pinto",
          "chevrolet vega",
          "chevrolet chevelle malibu classic",
          "amc matador",
          "plymouth satellite sebring",
          "ford gran torino",
          "buick century luxus (sw)",
          "dodge coronet custom (sw)",
          "ford gran torino (sw)",
          "amc matador (sw)",
          "dodge colt",
          "plymouth valiant custom",
          "chevrolet nova",
          "mercury monarch",
          "ford maverick",
          "pontiac catalina",
          "chevrolet bel air",
          "plymouth grand fury",
          "ford ltd",
          "buick century",
          "chevroelt chevelle malibu",
          "amc matador",
          "plymouth fury",
          "buick skyhawk",
          "chevrolet monza 2+2",
          "ford mustang ii",
          "ford pinto",
          "amc gremlin",
          "pontiac astro",
          "ford pinto",
          "amc pacer",
          "capri ii",
          "dodge colt",
          "chevrolet chevelle malibu classic",
          "dodge coronet brougham",
          "amc matador",
          "ford gran torino",
          "plymouth valiant",
          "chevrolet nova",
          "ford maverick",
          "amc hornet",
          "chevrolet chevette",
          "chevrolet woody",
          "dodge aspen se",
          "ford granada ghia",
          "pontiac ventura sj",
          "amc pacer d/l",
          "ford pinto",
          "plymouth volare premier v8",
          "cadillac seville",
          "chevy c10",
          "ford f108",
          "dodge d100",
          "buick opel isuzu deluxe",
          "plymouth arrow gs",
          "chevrolet caprice classic",
          "oldsmobile cutlass supreme",
          "dodge monaco brougham",
          "mercury cougar brougham",
          "chevrolet concours",
          "buick skylark",
          "plymouth volare custom",
          "ford granada",
          "pontiac grand prix lj",
          "chevrolet monte carlo landau",
          "chrysler cordoba",
          "ford thunderbird",
          "pontiac sunbird coupe",
          "ford mustang ii 2+2",
          "chevrolet chevette",
          "dodge colt m/m",
          "ford fiesta",
          "oldsmobile cutlass salon brougham",
          "dodge diplomat",
          "mercury monarch ghia",
          "pontiac phoenix lj",
          "chevrolet malibu",
          "ford fairmont (auto)",
          "ford fairmont (man)",
          "plymouth volare",
          "amc concord",
          "buick century special",
          "mercury zephyr",
          "dodge aspen",
          "amc concord d/l",
          "chevrolet monte carlo landau",
          "buick regal sport coupe (turbo)",
          "ford futura",
          "dodge magnum xe",
          "chevrolet chevette",
          "dodge omni",
          "plymouth sapporo",
          "oldsmobile starfire sx",
          "pontiac lemans v6",
          "mercury zephyr 6",
          "ford fairmont 4",
          "amc concord dl 6",
          "dodge aspen 6",
          "chevrolet caprice classic",
          "ford ltd landau",
          "mercury grand marquis",
          "dodge st. regis",
          "buick estate wagon (sw)",
          "ford country squire (sw)",
          "chevrolet malibu classic (sw)",
          "chrysler lebaron town @ country (sw)",
          "dodge colt hatchback custom",
          "amc spirit dl",
          "cadillac eldorado",
          "oldsmobile cutlass salon brougham",
          "plymouth horizon",
          "plymouth horizon tc3",
          "buick skylark limited",
          "chevrolet citation",
          "oldsmobile omega brougham",
          "pontiac phoenix",
          "chevrolet chevette",
          "chevrolet citation",
          "ford fairmont",
          "amc concord",
          "dodge aspen",
          "dodge colt",
          "ford mustang cobra",
          "plymouth reliant",
          "buick skylark",
          "dodge aries wagon (sw)",
          "chevrolet citation",
          "plymouth reliant",
          "plymouth champ",
          "plymouth horizon 4",
          "ford escort 4w",
          "ford escort 2h",
          "buick century",
          "oldsmobile cutlass ls",
          "ford granada gl",
          "chrysler lebaron salon",
          "chevrolet cavalier",
          "chevrolet cavalier wagon",
          "chevrolet cavalier 2-door",
          "pontiac j2000 se hatchback",
          "dodge aries se",
          "pontiac phoenix",
          "ford fairmont futura",
          "amc concord dl",
          "plymouth horizon miser",
          "mercury lynx l",
          "buick century limited",
          "oldsmobile cutlass ciera (diesel)",
          "chrysler lebaron medallion",
          "ford granada l",
          "dodge charger 2.2",
          "chevrolet camaro",
          "ford mustang gl",
          "dodge rampage",
          "ford ranger",
          "chevy s-10"
         ],
         "legendgroup": "usa",
         "marker": {
          "color": "#636efa",
          "symbol": "circle"
         },
         "mode": "markers",
         "name": "usa",
         "orientation": "v",
         "showlegend": true,
         "type": "scatter",
         "x": [
          3504,
          3693,
          3436,
          3433,
          3449,
          4341,
          4354,
          4312,
          4425,
          3850,
          3563,
          3609,
          3761,
          3086,
          2833,
          2774,
          2587,
          2648,
          4615,
          4376,
          4382,
          4732,
          2264,
          2046,
          2634,
          3439,
          3329,
          3302,
          3288,
          4209,
          4464,
          4154,
          4096,
          4955,
          4746,
          5140,
          2962,
          2408,
          3282,
          3139,
          2220,
          1955,
          2126,
          2408,
          2226,
          4274,
          4385,
          4135,
          4129,
          3672,
          4633,
          4502,
          4456,
          4422,
          3892,
          4098,
          4294,
          4077,
          2395,
          2164,
          4100,
          3672,
          3988,
          4042,
          3777,
          4952,
          4464,
          4363,
          4237,
          4735,
          4951,
          3821,
          3121,
          3278,
          2945,
          3021,
          2904,
          4997,
          4906,
          4654,
          4499,
          2789,
          2401,
          2310,
          2472,
          4082,
          4278,
          3399,
          3664,
          3102,
          2875,
          2901,
          3336,
          2451,
          2542,
          3781,
          3632,
          3613,
          4141,
          4699,
          4457,
          4638,
          4257,
          2125,
          3264,
          3459,
          3432,
          3158,
          4668,
          4440,
          4498,
          4657,
          3907,
          3897,
          3730,
          3785,
          3039,
          3221,
          3169,
          2639,
          2914,
          2592,
          2984,
          3211,
          2572,
          2255,
          4215,
          4190,
          3962,
          4215,
          3233,
          3353,
          3012,
          3085,
          2035,
          2164,
          3651,
          3574,
          3645,
          3193,
          2565,
          3940,
          4380,
          4055,
          3870,
          3755,
          2155,
          2300,
          3880,
          4060,
          4140,
          4295,
          3520,
          3425,
          3630,
          3525,
          4220,
          4165,
          4325,
          4335,
          2740,
          2755,
          2051,
          2075,
          1800,
          3365,
          3735,
          3570,
          3535,
          3155,
          2965,
          2720,
          3430,
          3210,
          3380,
          3070,
          3620,
          3410,
          3425,
          3445,
          3205,
          4080,
          2155,
          2230,
          2745,
          2855,
          3245,
          2990,
          2890,
          3265,
          3360,
          3840,
          3725,
          3955,
          3830,
          4360,
          4054,
          3605,
          3940,
          1915,
          2670,
          3900,
          3420,
          2200,
          2150,
          2670,
          2595,
          2700,
          2556,
          2120,
          2678,
          2870,
          3003,
          3381,
          2800,
          2905,
          2490,
          2635,
          2620,
          2725,
          2385,
          1875,
          2215,
          2045,
          2380,
          3415,
          3725,
          3060,
          3465,
          2605,
          2640,
          2395,
          2575,
          2525,
          2735,
          2865,
          3035,
          2125,
          2125,
          2945,
          3015,
          2585,
          2835,
          2370,
          2950,
          2790,
          2295,
          2625,
          2720
         ],
         "xaxis": "x",
         "y": [
          18,
          15,
          18,
          16,
          17,
          15,
          14,
          14,
          14,
          15,
          15,
          14,
          15,
          14,
          22,
          18,
          21,
          21,
          10,
          10,
          11,
          9,
          28,
          25,
          19,
          16,
          17,
          19,
          18,
          14,
          14,
          14,
          14,
          12,
          13,
          13,
          18,
          22,
          19,
          18,
          23,
          26,
          25,
          20,
          21,
          13,
          14,
          15,
          14,
          17,
          11,
          13,
          12,
          13,
          15,
          13,
          13,
          14,
          22,
          28,
          13,
          14,
          13,
          14,
          15,
          12,
          13,
          13,
          14,
          13,
          12,
          13,
          18,
          16,
          18,
          18,
          23,
          11,
          12,
          13,
          12,
          18,
          21,
          19,
          21,
          15,
          16,
          15,
          11,
          20,
          21,
          19,
          15,
          26,
          25,
          16,
          16,
          18,
          16,
          13,
          14,
          14,
          14,
          28,
          19,
          18,
          15,
          15,
          16,
          15,
          16,
          14,
          17,
          16,
          15,
          18,
          21,
          20,
          13,
          23,
          20,
          23,
          18,
          19,
          25,
          26,
          17.5,
          16,
          15.5,
          14.5,
          22,
          22,
          24,
          22.5,
          29,
          24.5,
          20,
          18,
          18.5,
          17.5,
          26.5,
          13,
          16.5,
          13,
          13,
          13,
          30,
          25.5,
          17.5,
          17,
          15.5,
          15,
          17.5,
          20.5,
          19,
          18.5,
          16,
          15.5,
          15.5,
          16,
          24.5,
          25.5,
          30.5,
          33.5,
          36.1,
          19.9,
          19.4,
          20.2,
          19.2,
          20.5,
          20.2,
          25.1,
          20.5,
          19.4,
          20.6,
          20.8,
          18.6,
          18.1,
          19.2,
          17.7,
          18.1,
          17.5,
          30,
          30.9,
          23.2,
          23.8,
          21.5,
          19.8,
          22.3,
          20.2,
          20.6,
          17,
          17.6,
          16.5,
          18.2,
          16.9,
          15.5,
          19.2,
          18.5,
          35.7,
          27.4,
          23,
          23.9,
          34.2,
          34.5,
          28.4,
          28.8,
          26.8,
          33.5,
          32.1,
          28,
          26.4,
          24.3,
          19.1,
          27.9,
          23.6,
          27.2,
          26.6,
          25.8,
          23.5,
          30,
          39,
          34.7,
          34.4,
          29.9,
          22.4,
          26.6,
          20.2,
          17.6,
          28,
          27,
          34,
          31,
          29,
          27,
          24,
          23,
          38,
          36,
          25,
          38,
          26,
          22,
          36,
          27,
          27,
          32,
          28,
          31
         ],
         "yaxis": "y"
        },
        {
         "hovertemplate": "<b>%{hovertext}</b><br><br>origin=japan<br>weight=%{x}<br>mpg=%{y}<extra></extra>",
         "hovertext": [
          "toyota corona mark ii",
          "datsun pl510",
          "datsun pl510",
          "toyota corona",
          "toyota corolla 1200",
          "datsun 1200",
          "toyota corona hardtop",
          "mazda rx2 coupe",
          "datsun 510 (sw)",
          "toyouta corona mark ii (sw)",
          "toyota corolla 1600 (sw)",
          "toyota carina",
          "datsun 610",
          "maxda rx3",
          "toyota mark ii",
          "datsun b210",
          "toyota corolla 1200",
          "toyota corona",
          "datsun 710",
          "honda civic",
          "subaru",
          "toyota corolla",
          "toyota corona",
          "datsun 710",
          "honda civic cvcc",
          "honda civic",
          "datsun b-210",
          "toyota corolla",
          "toyota mark ii",
          "honda accord cvcc",
          "datsun f-10 hatchback",
          "toyota corolla liftback",
          "subaru dl",
          "datsun 810",
          "mazda rx-4",
          "mazda glc deluxe",
          "datsun b210 gx",
          "honda civic cvcc",
          "toyota corona",
          "datsun 510",
          "toyota celica gt liftback",
          "datsun 200-sx",
          "honda accord lx",
          "maxda glc deluxe",
          "datsun 210",
          "toyota corolla tercel",
          "datsun 310",
          "toyota corona liftback",
          "mazda 626",
          "datsun 510 hatchback",
          "toyota corolla",
          "mazda glc",
          "datsun 210",
          "honda civic 1500 gl",
          "subaru dl",
          "datsun 280-zx",
          "mazda rx-7 gs",
          "honda accord",
          "toyota starlet",
          "honda civic 1300",
          "subaru",
          "datsun 210 mpg",
          "toyota tercel",
          "mazda glc 4",
          "honda prelude",
          "toyota corolla",
          "datsun 200sx",
          "mazda 626",
          "toyota cressida",
          "datsun 810 maxima",
          "mazda glc custom l",
          "mazda glc custom",
          "nissan stanza xe",
          "honda accord",
          "toyota corolla",
          "honda civic",
          "honda civic (auto)",
          "datsun 310 gx",
          "toyota celica gt"
         ],
         "legendgroup": "japan",
         "marker": {
          "color": "#EF553B",
          "symbol": "circle"
         },
         "mode": "markers",
         "name": "japan",
         "orientation": "v",
         "showlegend": true,
         "type": "scatter",
         "x": [
          2372,
          2130,
          2130,
          2228,
          1773,
          1613,
          2278,
          2330,
          2288,
          2506,
          2100,
          2279,
          2379,
          2124,
          2807,
          1950,
          1836,
          1649,
          2003,
          2489,
          2391,
          2171,
          2702,
          2545,
          1795,
          1795,
          1990,
          2155,
          2930,
          2045,
          1945,
          2265,
          1985,
          2815,
          2720,
          1985,
          2070,
          1800,
          2560,
          2300,
          2515,
          2405,
          2135,
          1975,
          2020,
          1968,
          2019,
          2711,
          2542,
          2434,
          2265,
          2110,
          2110,
          1850,
          2145,
          2910,
          2420,
          2290,
          1755,
          1760,
          2065,
          1975,
          2050,
          1985,
          2210,
          2350,
          2615,
          2635,
          2900,
          2930,
          2025,
          1970,
          2160,
          2205,
          2245,
          1965,
          1965,
          1995,
          2665
         ],
         "xaxis": "x",
         "y": [
          24,
          27,
          27,
          25,
          31,
          35,
          24,
          19,
          28,
          23,
          27,
          20,
          22,
          18,
          20,
          31,
          32,
          31,
          32,
          24,
          26,
          29,
          24,
          24,
          33,
          33,
          32,
          28,
          19,
          31.5,
          33.5,
          26,
          30,
          22,
          21.5,
          32.8,
          39.4,
          36.1,
          27.5,
          27.2,
          21.1,
          23.9,
          29.5,
          34.1,
          31.8,
          38.1,
          37.2,
          29.8,
          31.3,
          37,
          32.2,
          46.6,
          40.8,
          44.6,
          33.8,
          32.7,
          23.7,
          32.4,
          39.1,
          35.1,
          32.3,
          37,
          37.7,
          34.1,
          33.7,
          32.4,
          32.9,
          31.6,
          25.4,
          24.2,
          37,
          31,
          36,
          36,
          34,
          38,
          32,
          38,
          32
         ],
         "yaxis": "y"
        },
        {
         "hovertemplate": "<b>%{hovertext}</b><br><br>origin=europe<br>weight=%{x}<br>mpg=%{y}<extra></extra>",
         "hovertext": [
          "volkswagen 1131 deluxe sedan",
          "peugeot 504",
          "audi 100 ls",
          "saab 99e",
          "bmw 2002",
          "opel 1900",
          "peugeot 304",
          "fiat 124b",
          "volkswagen model 111",
          "volkswagen type 3",
          "volvo 145e (sw)",
          "volkswagen 411 (sw)",
          "peugeot 504 (sw)",
          "renault 12 (sw)",
          "volkswagen super beetle",
          "fiat 124 sport coupe",
          "fiat 128",
          "opel manta",
          "audi 100ls",
          "volvo 144ea",
          "saab 99le",
          "audi fox",
          "volkswagen dasher",
          "opel manta",
          "fiat 128",
          "fiat 124 tc",
          "fiat x1.9",
          "volkswagen dasher",
          "volkswagen rabbit",
          "audi 100ls",
          "peugeot 504",
          "volvo 244dl",
          "saab 99le",
          "fiat 131",
          "opel 1900",
          "renault 12tl",
          "vw rabbit",
          "volkswagen rabbit",
          "volvo 245",
          "peugeot 504",
          "mercedes-benz 280s",
          "renault 5 gtl",
          "volkswagen rabbit custom",
          "volkswagen dasher",
          "bmw 320i",
          "volkswagen rabbit custom diesel",
          "audi 5000",
          "volvo 264gl",
          "saab 99gle",
          "peugeot 604sl",
          "volkswagen scirocco",
          "vw rabbit custom",
          "mercedes benz 300d",
          "peugeot 504",
          "fiat strada custom",
          "vw rabbit",
          "audi 4000",
          "vw rabbit c (diesel)",
          "vw dasher (diesel)",
          "audi 5000s (diesel)",
          "mercedes-benz 240d",
          "renault lecar deluxe",
          "vokswagen rabbit",
          "triumph tr7 coupe",
          "volkswagen jetta",
          "renault 18i",
          "peugeot 505s turbo diesel",
          "volvo diesel",
          "volkswagen rabbit l",
          "vw pickup"
         ],
         "legendgroup": "europe",
         "marker": {
          "color": "#00cc96",
          "symbol": "circle"
         },
         "mode": "markers",
         "name": "europe",
         "orientation": "v",
         "showlegend": true,
         "type": "scatter",
         "x": [
          1835,
          2672,
          2430,
          2375,
          2234,
          2123,
          2074,
          2065,
          1834,
          2254,
          2933,
          2511,
          2979,
          2189,
          1950,
          2265,
          1867,
          2158,
          2582,
          2868,
          2660,
          2219,
          1963,
          2300,
          2108,
          2246,
          2000,
          2223,
          1937,
          2694,
          2957,
          2945,
          2671,
          2464,
          2220,
          2202,
          1937,
          1825,
          3150,
          3270,
          3820,
          1825,
          1940,
          2190,
          2600,
          1985,
          2830,
          3140,
          2795,
          3410,
          1990,
          1925,
          3530,
          3190,
          2130,
          2144,
          2188,
          2085,
          2335,
          2950,
          3250,
          1835,
          1845,
          2500,
          2190,
          2320,
          3230,
          3160,
          1980,
          2130
         ],
         "xaxis": "x",
         "y": [
          26,
          25,
          24,
          25,
          26,
          28,
          30,
          30,
          27,
          23,
          18,
          22,
          21,
          26,
          26,
          26,
          29,
          24,
          20,
          19,
          24,
          29,
          26,
          26,
          24,
          26,
          31,
          25,
          29,
          23,
          23,
          22,
          25,
          28,
          25,
          27,
          29,
          29.5,
          20,
          19,
          16.5,
          36,
          29,
          30.5,
          21.5,
          43.1,
          20.3,
          17,
          21.6,
          16.2,
          31.5,
          31.9,
          25.4,
          27.2,
          37.3,
          41.5,
          34.3,
          44.3,
          43.4,
          36.4,
          30,
          40.9,
          29.8,
          35,
          33,
          34.5,
          28.1,
          30.7,
          36,
          44
         ],
         "yaxis": "y"
        }
       ],
       "layout": {
        "autosize": true,
        "legend": {
         "title": {
          "text": "origin"
         },
         "tracegroupgap": 0
        },
        "margin": {
         "t": 60
        },
        "template": {
         "data": {
          "bar": [
           {
            "error_x": {
             "color": "#2a3f5f"
            },
            "error_y": {
             "color": "#2a3f5f"
            },
            "marker": {
             "line": {
              "color": "#E5ECF6",
              "width": 0.5
             },
             "pattern": {
              "fillmode": "overlay",
              "size": 10,
              "solidity": 0.2
             }
            },
            "type": "bar"
           }
          ],
          "barpolar": [
           {
            "marker": {
             "line": {
              "color": "#E5ECF6",
              "width": 0.5
             },
             "pattern": {
              "fillmode": "overlay",
              "size": 10,
              "solidity": 0.2
             }
            },
            "type": "barpolar"
           }
          ],
          "carpet": [
           {
            "aaxis": {
             "endlinecolor": "#2a3f5f",
             "gridcolor": "white",
             "linecolor": "white",
             "minorgridcolor": "white",
             "startlinecolor": "#2a3f5f"
            },
            "baxis": {
             "endlinecolor": "#2a3f5f",
             "gridcolor": "white",
             "linecolor": "white",
             "minorgridcolor": "white",
             "startlinecolor": "#2a3f5f"
            },
            "type": "carpet"
           }
          ],
          "choropleth": [
           {
            "colorbar": {
             "outlinewidth": 0,
             "ticks": ""
            },
            "type": "choropleth"
           }
          ],
          "contour": [
           {
            "colorbar": {
             "outlinewidth": 0,
             "ticks": ""
            },
            "colorscale": [
             [
              0,
              "#0d0887"
             ],
             [
              0.1111111111111111,
              "#46039f"
             ],
             [
              0.2222222222222222,
              "#7201a8"
             ],
             [
              0.3333333333333333,
              "#9c179e"
             ],
             [
              0.4444444444444444,
              "#bd3786"
             ],
             [
              0.5555555555555556,
              "#d8576b"
             ],
             [
              0.6666666666666666,
              "#ed7953"
             ],
             [
              0.7777777777777778,
              "#fb9f3a"
             ],
             [
              0.8888888888888888,
              "#fdca26"
             ],
             [
              1,
              "#f0f921"
             ]
            ],
            "type": "contour"
           }
          ],
          "contourcarpet": [
           {
            "colorbar": {
             "outlinewidth": 0,
             "ticks": ""
            },
            "type": "contourcarpet"
           }
          ],
          "heatmap": [
           {
            "colorbar": {
             "outlinewidth": 0,
             "ticks": ""
            },
            "colorscale": [
             [
              0,
              "#0d0887"
             ],
             [
              0.1111111111111111,
              "#46039f"
             ],
             [
              0.2222222222222222,
              "#7201a8"
             ],
             [
              0.3333333333333333,
              "#9c179e"
             ],
             [
              0.4444444444444444,
              "#bd3786"
             ],
             [
              0.5555555555555556,
              "#d8576b"
             ],
             [
              0.6666666666666666,
              "#ed7953"
             ],
             [
              0.7777777777777778,
              "#fb9f3a"
             ],
             [
              0.8888888888888888,
              "#fdca26"
             ],
             [
              1,
              "#f0f921"
             ]
            ],
            "type": "heatmap"
           }
          ],
          "heatmapgl": [
           {
            "colorbar": {
             "outlinewidth": 0,
             "ticks": ""
            },
            "colorscale": [
             [
              0,
              "#0d0887"
             ],
             [
              0.1111111111111111,
              "#46039f"
             ],
             [
              0.2222222222222222,
              "#7201a8"
             ],
             [
              0.3333333333333333,
              "#9c179e"
             ],
             [
              0.4444444444444444,
              "#bd3786"
             ],
             [
              0.5555555555555556,
              "#d8576b"
             ],
             [
              0.6666666666666666,
              "#ed7953"
             ],
             [
              0.7777777777777778,
              "#fb9f3a"
             ],
             [
              0.8888888888888888,
              "#fdca26"
             ],
             [
              1,
              "#f0f921"
             ]
            ],
            "type": "heatmapgl"
           }
          ],
          "histogram": [
           {
            "marker": {
             "pattern": {
              "fillmode": "overlay",
              "size": 10,
              "solidity": 0.2
             }
            },
            "type": "histogram"
           }
          ],
          "histogram2d": [
           {
            "colorbar": {
             "outlinewidth": 0,
             "ticks": ""
            },
            "colorscale": [
             [
              0,
              "#0d0887"
             ],
             [
              0.1111111111111111,
              "#46039f"
             ],
             [
              0.2222222222222222,
              "#7201a8"
             ],
             [
              0.3333333333333333,
              "#9c179e"
             ],
             [
              0.4444444444444444,
              "#bd3786"
             ],
             [
              0.5555555555555556,
              "#d8576b"
             ],
             [
              0.6666666666666666,
              "#ed7953"
             ],
             [
              0.7777777777777778,
              "#fb9f3a"
             ],
             [
              0.8888888888888888,
              "#fdca26"
             ],
             [
              1,
              "#f0f921"
             ]
            ],
            "type": "histogram2d"
           }
          ],
          "histogram2dcontour": [
           {
            "colorbar": {
             "outlinewidth": 0,
             "ticks": ""
            },
            "colorscale": [
             [
              0,
              "#0d0887"
             ],
             [
              0.1111111111111111,
              "#46039f"
             ],
             [
              0.2222222222222222,
              "#7201a8"
             ],
             [
              0.3333333333333333,
              "#9c179e"
             ],
             [
              0.4444444444444444,
              "#bd3786"
             ],
             [
              0.5555555555555556,
              "#d8576b"
             ],
             [
              0.6666666666666666,
              "#ed7953"
             ],
             [
              0.7777777777777778,
              "#fb9f3a"
             ],
             [
              0.8888888888888888,
              "#fdca26"
             ],
             [
              1,
              "#f0f921"
             ]
            ],
            "type": "histogram2dcontour"
           }
          ],
          "mesh3d": [
           {
            "colorbar": {
             "outlinewidth": 0,
             "ticks": ""
            },
            "type": "mesh3d"
           }
          ],
          "parcoords": [
           {
            "line": {
             "colorbar": {
              "outlinewidth": 0,
              "ticks": ""
             }
            },
            "type": "parcoords"
           }
          ],
          "pie": [
           {
            "automargin": true,
            "type": "pie"
           }
          ],
          "scatter": [
           {
            "marker": {
             "colorbar": {
              "outlinewidth": 0,
              "ticks": ""
             }
            },
            "type": "scatter"
           }
          ],
          "scatter3d": [
           {
            "line": {
             "colorbar": {
              "outlinewidth": 0,
              "ticks": ""
             }
            },
            "marker": {
             "colorbar": {
              "outlinewidth": 0,
              "ticks": ""
             }
            },
            "type": "scatter3d"
           }
          ],
          "scattercarpet": [
           {
            "marker": {
             "colorbar": {
              "outlinewidth": 0,
              "ticks": ""
             }
            },
            "type": "scattercarpet"
           }
          ],
          "scattergeo": [
           {
            "marker": {
             "colorbar": {
              "outlinewidth": 0,
              "ticks": ""
             }
            },
            "type": "scattergeo"
           }
          ],
          "scattergl": [
           {
            "marker": {
             "colorbar": {
              "outlinewidth": 0,
              "ticks": ""
             }
            },
            "type": "scattergl"
           }
          ],
          "scattermapbox": [
           {
            "marker": {
             "colorbar": {
              "outlinewidth": 0,
              "ticks": ""
             }
            },
            "type": "scattermapbox"
           }
          ],
          "scatterpolar": [
           {
            "marker": {
             "colorbar": {
              "outlinewidth": 0,
              "ticks": ""
             }
            },
            "type": "scatterpolar"
           }
          ],
          "scatterpolargl": [
           {
            "marker": {
             "colorbar": {
              "outlinewidth": 0,
              "ticks": ""
             }
            },
            "type": "scatterpolargl"
           }
          ],
          "scatterternary": [
           {
            "marker": {
             "colorbar": {
              "outlinewidth": 0,
              "ticks": ""
             }
            },
            "type": "scatterternary"
           }
          ],
          "surface": [
           {
            "colorbar": {
             "outlinewidth": 0,
             "ticks": ""
            },
            "colorscale": [
             [
              0,
              "#0d0887"
             ],
             [
              0.1111111111111111,
              "#46039f"
             ],
             [
              0.2222222222222222,
              "#7201a8"
             ],
             [
              0.3333333333333333,
              "#9c179e"
             ],
             [
              0.4444444444444444,
              "#bd3786"
             ],
             [
              0.5555555555555556,
              "#d8576b"
             ],
             [
              0.6666666666666666,
              "#ed7953"
             ],
             [
              0.7777777777777778,
              "#fb9f3a"
             ],
             [
              0.8888888888888888,
              "#fdca26"
             ],
             [
              1,
              "#f0f921"
             ]
            ],
            "type": "surface"
           }
          ],
          "table": [
           {
            "cells": {
             "fill": {
              "color": "#EBF0F8"
             },
             "line": {
              "color": "white"
             }
            },
            "header": {
             "fill": {
              "color": "#C8D4E3"
             },
             "line": {
              "color": "white"
             }
            },
            "type": "table"
           }
          ]
         },
         "layout": {
          "annotationdefaults": {
           "arrowcolor": "#2a3f5f",
           "arrowhead": 0,
           "arrowwidth": 1
          },
          "autotypenumbers": "strict",
          "coloraxis": {
           "colorbar": {
            "outlinewidth": 0,
            "ticks": ""
           }
          },
          "colorscale": {
           "diverging": [
            [
             0,
             "#8e0152"
            ],
            [
             0.1,
             "#c51b7d"
            ],
            [
             0.2,
             "#de77ae"
            ],
            [
             0.3,
             "#f1b6da"
            ],
            [
             0.4,
             "#fde0ef"
            ],
            [
             0.5,
             "#f7f7f7"
            ],
            [
             0.6,
             "#e6f5d0"
            ],
            [
             0.7,
             "#b8e186"
            ],
            [
             0.8,
             "#7fbc41"
            ],
            [
             0.9,
             "#4d9221"
            ],
            [
             1,
             "#276419"
            ]
           ],
           "sequential": [
            [
             0,
             "#0d0887"
            ],
            [
             0.1111111111111111,
             "#46039f"
            ],
            [
             0.2222222222222222,
             "#7201a8"
            ],
            [
             0.3333333333333333,
             "#9c179e"
            ],
            [
             0.4444444444444444,
             "#bd3786"
            ],
            [
             0.5555555555555556,
             "#d8576b"
            ],
            [
             0.6666666666666666,
             "#ed7953"
            ],
            [
             0.7777777777777778,
             "#fb9f3a"
            ],
            [
             0.8888888888888888,
             "#fdca26"
            ],
            [
             1,
             "#f0f921"
            ]
           ],
           "sequentialminus": [
            [
             0,
             "#0d0887"
            ],
            [
             0.1111111111111111,
             "#46039f"
            ],
            [
             0.2222222222222222,
             "#7201a8"
            ],
            [
             0.3333333333333333,
             "#9c179e"
            ],
            [
             0.4444444444444444,
             "#bd3786"
            ],
            [
             0.5555555555555556,
             "#d8576b"
            ],
            [
             0.6666666666666666,
             "#ed7953"
            ],
            [
             0.7777777777777778,
             "#fb9f3a"
            ],
            [
             0.8888888888888888,
             "#fdca26"
            ],
            [
             1,
             "#f0f921"
            ]
           ]
          },
          "colorway": [
           "#636efa",
           "#EF553B",
           "#00cc96",
           "#ab63fa",
           "#FFA15A",
           "#19d3f3",
           "#FF6692",
           "#B6E880",
           "#FF97FF",
           "#FECB52"
          ],
          "font": {
           "color": "#2a3f5f"
          },
          "geo": {
           "bgcolor": "white",
           "lakecolor": "white",
           "landcolor": "#E5ECF6",
           "showlakes": true,
           "showland": true,
           "subunitcolor": "white"
          },
          "hoverlabel": {
           "align": "left"
          },
          "hovermode": "closest",
          "mapbox": {
           "style": "light"
          },
          "paper_bgcolor": "white",
          "plot_bgcolor": "#E5ECF6",
          "polar": {
           "angularaxis": {
            "gridcolor": "white",
            "linecolor": "white",
            "ticks": ""
           },
           "bgcolor": "#E5ECF6",
           "radialaxis": {
            "gridcolor": "white",
            "linecolor": "white",
            "ticks": ""
           }
          },
          "scene": {
           "xaxis": {
            "backgroundcolor": "#E5ECF6",
            "gridcolor": "white",
            "gridwidth": 2,
            "linecolor": "white",
            "showbackground": true,
            "ticks": "",
            "zerolinecolor": "white"
           },
           "yaxis": {
            "backgroundcolor": "#E5ECF6",
            "gridcolor": "white",
            "gridwidth": 2,
            "linecolor": "white",
            "showbackground": true,
            "ticks": "",
            "zerolinecolor": "white"
           },
           "zaxis": {
            "backgroundcolor": "#E5ECF6",
            "gridcolor": "white",
            "gridwidth": 2,
            "linecolor": "white",
            "showbackground": true,
            "ticks": "",
            "zerolinecolor": "white"
           }
          },
          "shapedefaults": {
           "line": {
            "color": "#2a3f5f"
           }
          },
          "ternary": {
           "aaxis": {
            "gridcolor": "white",
            "linecolor": "white",
            "ticks": ""
           },
           "baxis": {
            "gridcolor": "white",
            "linecolor": "white",
            "ticks": ""
           },
           "bgcolor": "#E5ECF6",
           "caxis": {
            "gridcolor": "white",
            "linecolor": "white",
            "ticks": ""
           }
          },
          "title": {
           "x": 0.05
          },
          "xaxis": {
           "automargin": true,
           "gridcolor": "white",
           "linecolor": "white",
           "ticks": "",
           "title": {
            "standoff": 15
           },
           "zerolinecolor": "white",
           "zerolinewidth": 2
          },
          "yaxis": {
           "automargin": true,
           "gridcolor": "white",
           "linecolor": "white",
           "ticks": "",
           "title": {
            "standoff": 15
           },
           "zerolinecolor": "white",
           "zerolinewidth": 2
          }
         }
        },
        "xaxis": {
         "anchor": "y",
         "autorange": true,
         "domain": [
          0,
          1
         ],
         "range": [
          1382.0654761904761,
          5370.934523809524
         ],
         "title": {
          "text": "weight"
         },
         "type": "linear"
        },
        "yaxis": {
         "anchor": "x",
         "autorange": true,
         "domain": [
          0,
          1
         ],
         "range": [
          6.088713910761155,
          49.511286089238844
         ],
         "title": {
          "text": "mpg"
         },
         "type": "linear"
        }
       }
      },
      "image/png": "[encoded data removed]",
      "text/html": [
       "<div>                            <div id=\"a818faae-d482-43f3-b6ac-87c0ee3d8443\" class=\"plotly-graph-div\" style=\"height:525px; width:100%;\"></div>            <script type=\"text/javascript\">                require([\"plotly\"], function(Plotly) {                    window.PLOTLYENV=window.PLOTLYENV || {};                                    if (document.getElementById(\"a818faae-d482-43f3-b6ac-87c0ee3d8443\")) {                    Plotly.newPlot(                        \"a818faae-d482-43f3-b6ac-87c0ee3d8443\",                        [{\"hovertemplate\":\"<b>%{hovertext}</b><br><br>origin=usa<br>weight=%{x}<br>mpg=%{y}<extra></extra>\",\"hovertext\":[\"chevrolet chevelle malibu\",\"buick skylark 320\",\"plymouth satellite\",\"amc rebel sst\",\"ford torino\",\"ford galaxie 500\",\"chevrolet impala\",\"plymouth fury iii\",\"pontiac catalina\",\"amc ambassador dpl\",\"dodge challenger se\",\"plymouth 'cuda 340\",\"chevrolet monte carlo\",\"buick estate wagon (sw)\",\"plymouth duster\",\"amc hornet\",\"ford maverick\",\"amc gremlin\",\"ford f250\",\"chevy c20\",\"dodge d200\",\"hi 1200d\",\"chevrolet vega 2300\",\"ford pinto\",\"amc gremlin\",\"plymouth satellite custom\",\"chevrolet chevelle malibu\",\"ford torino 500\",\"amc matador\",\"chevrolet impala\",\"pontiac catalina brougham\",\"ford galaxie 500\",\"plymouth fury iii\",\"dodge monaco (sw)\",\"ford country squire (sw)\",\"pontiac safari (sw)\",\"amc hornet sportabout (sw)\",\"chevrolet vega (sw)\",\"pontiac firebird\",\"ford mustang\",\"mercury capri 2000\",\"plymouth cricket\",\"dodge colt hardtop\",\"chevrolet vega\",\"ford pinto runabout\",\"chevrolet impala\",\"pontiac catalina\",\"plymouth fury iii\",\"ford galaxie 500\",\"amc ambassador sst\",\"mercury marquis\",\"buick lesabre custom\",\"oldsmobile delta 88 royale\",\"chrysler newport royal\",\"amc matador (sw)\",\"chevrolet chevelle concours (sw)\",\"ford gran torino (sw)\",\"plymouth satellite custom (sw)\",\"ford pinto (sw)\",\"dodge colt (sw)\",\"buick century 350\",\"amc matador\",\"chevrolet malibu\",\"ford gran torino\",\"dodge coronet custom\",\"mercury marquis brougham\",\"chevrolet caprice classic\",\"ford ltd\",\"plymouth fury gran sedan\",\"chrysler new yorker brougham\",\"buick electra 225 custom\",\"amc ambassador brougham\",\"plymouth valiant\",\"chevrolet nova custom\",\"amc hornet\",\"ford maverick\",\"plymouth duster\",\"chevrolet impala\",\"ford country\",\"plymouth custom suburb\",\"oldsmobile vista cruiser\",\"amc gremlin\",\"chevrolet vega\",\"ford pinto\",\"mercury capri v6\",\"chevrolet monte carlo s\",\"pontiac grand prix\",\"dodge dart custom\",\"oldsmobile omega\",\"plymouth duster\",\"ford maverick\",\"amc hornet\",\"chevrolet nova\",\"ford pinto\",\"chevrolet vega\",\"chevrolet chevelle malibu classic\",\"amc matador\",\"plymouth satellite sebring\",\"ford gran torino\",\"buick century luxus (sw)\",\"dodge coronet custom (sw)\",\"ford gran torino (sw)\",\"amc matador (sw)\",\"dodge colt\",\"plymouth valiant custom\",\"chevrolet nova\",\"mercury monarch\",\"ford maverick\",\"pontiac catalina\",\"chevrolet bel air\",\"plymouth grand fury\",\"ford ltd\",\"buick century\",\"chevroelt chevelle malibu\",\"amc matador\",\"plymouth fury\",\"buick skyhawk\",\"chevrolet monza 2+2\",\"ford mustang ii\",\"ford pinto\",\"amc gremlin\",\"pontiac astro\",\"ford pinto\",\"amc pacer\",\"capri ii\",\"dodge colt\",\"chevrolet chevelle malibu classic\",\"dodge coronet brougham\",\"amc matador\",\"ford gran torino\",\"plymouth valiant\",\"chevrolet nova\",\"ford maverick\",\"amc hornet\",\"chevrolet chevette\",\"chevrolet woody\",\"dodge aspen se\",\"ford granada ghia\",\"pontiac ventura sj\",\"amc pacer d/l\",\"ford pinto\",\"plymouth volare premier v8\",\"cadillac seville\",\"chevy c10\",\"ford f108\",\"dodge d100\",\"buick opel isuzu deluxe\",\"plymouth arrow gs\",\"chevrolet caprice classic\",\"oldsmobile cutlass supreme\",\"dodge monaco brougham\",\"mercury cougar brougham\",\"chevrolet concours\",\"buick skylark\",\"plymouth volare custom\",\"ford granada\",\"pontiac grand prix lj\",\"chevrolet monte carlo landau\",\"chrysler cordoba\",\"ford thunderbird\",\"pontiac sunbird coupe\",\"ford mustang ii 2+2\",\"chevrolet chevette\",\"dodge colt m/m\",\"ford fiesta\",\"oldsmobile cutlass salon brougham\",\"dodge diplomat\",\"mercury monarch ghia\",\"pontiac phoenix lj\",\"chevrolet malibu\",\"ford fairmont (auto)\",\"ford fairmont (man)\",\"plymouth volare\",\"amc concord\",\"buick century special\",\"mercury zephyr\",\"dodge aspen\",\"amc concord d/l\",\"chevrolet monte carlo landau\",\"buick regal sport coupe (turbo)\",\"ford futura\",\"dodge magnum xe\",\"chevrolet chevette\",\"dodge omni\",\"plymouth sapporo\",\"oldsmobile starfire sx\",\"pontiac lemans v6\",\"mercury zephyr 6\",\"ford fairmont 4\",\"amc concord dl 6\",\"dodge aspen 6\",\"chevrolet caprice classic\",\"ford ltd landau\",\"mercury grand marquis\",\"dodge st. regis\",\"buick estate wagon (sw)\",\"ford country squire (sw)\",\"chevrolet malibu classic (sw)\",\"chrysler lebaron town @ country (sw)\",\"dodge colt hatchback custom\",\"amc spirit dl\",\"cadillac eldorado\",\"oldsmobile cutlass salon brougham\",\"plymouth horizon\",\"plymouth horizon tc3\",\"buick skylark limited\",\"chevrolet citation\",\"oldsmobile omega brougham\",\"pontiac phoenix\",\"chevrolet chevette\",\"chevrolet citation\",\"ford fairmont\",\"amc concord\",\"dodge aspen\",\"dodge colt\",\"ford mustang cobra\",\"plymouth reliant\",\"buick skylark\",\"dodge aries wagon (sw)\",\"chevrolet citation\",\"plymouth reliant\",\"plymouth champ\",\"plymouth horizon 4\",\"ford escort 4w\",\"ford escort 2h\",\"buick century\",\"oldsmobile cutlass ls\",\"ford granada gl\",\"chrysler lebaron salon\",\"chevrolet cavalier\",\"chevrolet cavalier wagon\",\"chevrolet cavalier 2-door\",\"pontiac j2000 se hatchback\",\"dodge aries se\",\"pontiac phoenix\",\"ford fairmont futura\",\"amc concord dl\",\"plymouth horizon miser\",\"mercury lynx l\",\"buick century limited\",\"oldsmobile cutlass ciera (diesel)\",\"chrysler lebaron medallion\",\"ford granada l\",\"dodge charger 2.2\",\"chevrolet camaro\",\"ford mustang gl\",\"dodge rampage\",\"ford ranger\",\"chevy s-10\"],\"legendgroup\":\"usa\",\"marker\":{\"color\":\"#636efa\",\"symbol\":\"circle\"},\"mode\":\"markers\",\"name\":\"usa\",\"orientation\":\"v\",\"showlegend\":true,\"x\":[3504,3693,3436,3433,3449,4341,4354,4312,4425,3850,3563,3609,3761,3086,2833,2774,2587,2648,4615,4376,4382,4732,2264,2046,2634,3439,3329,3302,3288,4209,4464,4154,4096,4955,4746,5140,2962,2408,3282,3139,2220,1955,2126,2408,2226,4274,4385,4135,4129,3672,4633,4502,4456,4422,3892,4098,4294,4077,2395,2164,4100,3672,3988,4042,3777,4952,4464,4363,4237,4735,4951,3821,3121,3278,2945,3021,2904,4997,4906,4654,4499,2789,2401,2310,2472,4082,4278,3399,3664,3102,2875,2901,3336,2451,2542,3781,3632,3613,4141,4699,4457,4638,4257,2125,3264,3459,3432,3158,4668,4440,4498,4657,3907,3897,3730,3785,3039,3221,3169,2639,2914,2592,2984,3211,2572,2255,4215,4190,3962,4215,3233,3353,3012,3085,2035,2164,3651,3574,3645,3193,2565,3940,4380,4055,3870,3755,2155,2300,3880,4060,4140,4295,3520,3425,3630,3525,4220,4165,4325,4335,2740,2755,2051,2075,1800,3365,3735,3570,3535,3155,2965,2720,3430,3210,3380,3070,3620,3410,3425,3445,3205,4080,2155,2230,2745,2855,3245,2990,2890,3265,3360,3840,3725,3955,3830,4360,4054,3605,3940,1915,2670,3900,3420,2200,2150,2670,2595,2700,2556,2120,2678,2870,3003,3381,2800,2905,2490,2635,2620,2725,2385,1875,2215,2045,2380,3415,3725,3060,3465,2605,2640,2395,2575,2525,2735,2865,3035,2125,2125,2945,3015,2585,2835,2370,2950,2790,2295,2625,2720],\"xaxis\":\"x\",\"y\":[18.0,15.0,18.0,16.0,17.0,15.0,14.0,14.0,14.0,15.0,15.0,14.0,15.0,14.0,22.0,18.0,21.0,21.0,10.0,10.0,11.0,9.0,28.0,25.0,19.0,16.0,17.0,19.0,18.0,14.0,14.0,14.0,14.0,12.0,13.0,13.0,18.0,22.0,19.0,18.0,23.0,26.0,25.0,20.0,21.0,13.0,14.0,15.0,14.0,17.0,11.0,13.0,12.0,13.0,15.0,13.0,13.0,14.0,22.0,28.0,13.0,14.0,13.0,14.0,15.0,12.0,13.0,13.0,14.0,13.0,12.0,13.0,18.0,16.0,18.0,18.0,23.0,11.0,12.0,13.0,12.0,18.0,21.0,19.0,21.0,15.0,16.0,15.0,11.0,20.0,21.0,19.0,15.0,26.0,25.0,16.0,16.0,18.0,16.0,13.0,14.0,14.0,14.0,28.0,19.0,18.0,15.0,15.0,16.0,15.0,16.0,14.0,17.0,16.0,15.0,18.0,21.0,20.0,13.0,23.0,20.0,23.0,18.0,19.0,25.0,26.0,17.5,16.0,15.5,14.5,22.0,22.0,24.0,22.5,29.0,24.5,20.0,18.0,18.5,17.5,26.5,13.0,16.5,13.0,13.0,13.0,30.0,25.5,17.5,17.0,15.5,15.0,17.5,20.5,19.0,18.5,16.0,15.5,15.5,16.0,24.5,25.5,30.5,33.5,36.1,19.9,19.4,20.2,19.2,20.5,20.2,25.1,20.5,19.4,20.6,20.8,18.6,18.1,19.2,17.7,18.1,17.5,30.0,30.9,23.2,23.8,21.5,19.8,22.3,20.2,20.6,17.0,17.6,16.5,18.2,16.9,15.5,19.2,18.5,35.7,27.4,23.0,23.9,34.2,34.5,28.4,28.8,26.8,33.5,32.1,28.0,26.4,24.3,19.1,27.9,23.6,27.2,26.6,25.8,23.5,30.0,39.0,34.7,34.4,29.9,22.4,26.6,20.2,17.6,28.0,27.0,34.0,31.0,29.0,27.0,24.0,23.0,38.0,36.0,25.0,38.0,26.0,22.0,36.0,27.0,27.0,32.0,28.0,31.0],\"yaxis\":\"y\",\"type\":\"scatter\"},{\"hovertemplate\":\"<b>%{hovertext}</b><br><br>origin=japan<br>weight=%{x}<br>mpg=%{y}<extra></extra>\",\"hovertext\":[\"toyota corona mark ii\",\"datsun pl510\",\"datsun pl510\",\"toyota corona\",\"toyota corolla 1200\",\"datsun 1200\",\"toyota corona hardtop\",\"mazda rx2 coupe\",\"datsun 510 (sw)\",\"toyouta corona mark ii (sw)\",\"toyota corolla 1600 (sw)\",\"toyota carina\",\"datsun 610\",\"maxda rx3\",\"toyota mark ii\",\"datsun b210\",\"toyota corolla 1200\",\"toyota corona\",\"datsun 710\",\"honda civic\",\"subaru\",\"toyota corolla\",\"toyota corona\",\"datsun 710\",\"honda civic cvcc\",\"honda civic\",\"datsun b-210\",\"toyota corolla\",\"toyota mark ii\",\"honda accord cvcc\",\"datsun f-10 hatchback\",\"toyota corolla liftback\",\"subaru dl\",\"datsun 810\",\"mazda rx-4\",\"mazda glc deluxe\",\"datsun b210 gx\",\"honda civic cvcc\",\"toyota corona\",\"datsun 510\",\"toyota celica gt liftback\",\"datsun 200-sx\",\"honda accord lx\",\"maxda glc deluxe\",\"datsun 210\",\"toyota corolla tercel\",\"datsun 310\",\"toyota corona liftback\",\"mazda 626\",\"datsun 510 hatchback\",\"toyota corolla\",\"mazda glc\",\"datsun 210\",\"honda civic 1500 gl\",\"subaru dl\",\"datsun 280-zx\",\"mazda rx-7 gs\",\"honda accord\",\"toyota starlet\",\"honda civic 1300\",\"subaru\",\"datsun 210 mpg\",\"toyota tercel\",\"mazda glc 4\",\"honda prelude\",\"toyota corolla\",\"datsun 200sx\",\"mazda 626\",\"toyota cressida\",\"datsun 810 maxima\",\"mazda glc custom l\",\"mazda glc custom\",\"nissan stanza xe\",\"honda accord\",\"toyota corolla\",\"honda civic\",\"honda civic (auto)\",\"datsun 310 gx\",\"toyota celica gt\"],\"legendgroup\":\"japan\",\"marker\":{\"color\":\"#EF553B\",\"symbol\":\"circle\"},\"mode\":\"markers\",\"name\":\"japan\",\"orientation\":\"v\",\"showlegend\":true,\"x\":[2372,2130,2130,2228,1773,1613,2278,2330,2288,2506,2100,2279,2379,2124,2807,1950,1836,1649,2003,2489,2391,2171,2702,2545,1795,1795,1990,2155,2930,2045,1945,2265,1985,2815,2720,1985,2070,1800,2560,2300,2515,2405,2135,1975,2020,1968,2019,2711,2542,2434,2265,2110,2110,1850,2145,2910,2420,2290,1755,1760,2065,1975,2050,1985,2210,2350,2615,2635,2900,2930,2025,1970,2160,2205,2245,1965,1965,1995,2665],\"xaxis\":\"x\",\"y\":[24.0,27.0,27.0,25.0,31.0,35.0,24.0,19.0,28.0,23.0,27.0,20.0,22.0,18.0,20.0,31.0,32.0,31.0,32.0,24.0,26.0,29.0,24.0,24.0,33.0,33.0,32.0,28.0,19.0,31.5,33.5,26.0,30.0,22.0,21.5,32.8,39.4,36.1,27.5,27.2,21.1,23.9,29.5,34.1,31.8,38.1,37.2,29.8,31.3,37.0,32.2,46.6,40.8,44.6,33.8,32.7,23.7,32.4,39.1,35.1,32.3,37.0,37.7,34.1,33.7,32.4,32.9,31.6,25.4,24.2,37.0,31.0,36.0,36.0,34.0,38.0,32.0,38.0,32.0],\"yaxis\":\"y\",\"type\":\"scatter\"},{\"hovertemplate\":\"<b>%{hovertext}</b><br><br>origin=europe<br>weight=%{x}<br>mpg=%{y}<extra></extra>\",\"hovertext\":[\"volkswagen 1131 deluxe sedan\",\"peugeot 504\",\"audi 100 ls\",\"saab 99e\",\"bmw 2002\",\"opel 1900\",\"peugeot 304\",\"fiat 124b\",\"volkswagen model 111\",\"volkswagen type 3\",\"volvo 145e (sw)\",\"volkswagen 411 (sw)\",\"peugeot 504 (sw)\",\"renault 12 (sw)\",\"volkswagen super beetle\",\"fiat 124 sport coupe\",\"fiat 128\",\"opel manta\",\"audi 100ls\",\"volvo 144ea\",\"saab 99le\",\"audi fox\",\"volkswagen dasher\",\"opel manta\",\"fiat 128\",\"fiat 124 tc\",\"fiat x1.9\",\"volkswagen dasher\",\"volkswagen rabbit\",\"audi 100ls\",\"peugeot 504\",\"volvo 244dl\",\"saab 99le\",\"fiat 131\",\"opel 1900\",\"renault 12tl\",\"vw rabbit\",\"volkswagen rabbit\",\"volvo 245\",\"peugeot 504\",\"mercedes-benz 280s\",\"renault 5 gtl\",\"volkswagen rabbit custom\",\"volkswagen dasher\",\"bmw 320i\",\"volkswagen rabbit custom diesel\",\"audi 5000\",\"volvo 264gl\",\"saab 99gle\",\"peugeot 604sl\",\"volkswagen scirocco\",\"vw rabbit custom\",\"mercedes benz 300d\",\"peugeot 504\",\"fiat strada custom\",\"vw rabbit\",\"audi 4000\",\"vw rabbit c (diesel)\",\"vw dasher (diesel)\",\"audi 5000s (diesel)\",\"mercedes-benz 240d\",\"renault lecar deluxe\",\"vokswagen rabbit\",\"triumph tr7 coupe\",\"volkswagen jetta\",\"renault 18i\",\"peugeot 505s turbo diesel\",\"volvo diesel\",\"volkswagen rabbit l\",\"vw pickup\"],\"legendgroup\":\"europe\",\"marker\":{\"color\":\"#00cc96\",\"symbol\":\"circle\"},\"mode\":\"markers\",\"name\":\"europe\",\"orientation\":\"v\",\"showlegend\":true,\"x\":[1835,2672,2430,2375,2234,2123,2074,2065,1834,2254,2933,2511,2979,2189,1950,2265,1867,2158,2582,2868,2660,2219,1963,2300,2108,2246,2000,2223,1937,2694,2957,2945,2671,2464,2220,2202,1937,1825,3150,3270,3820,1825,1940,2190,2600,1985,2830,3140,2795,3410,1990,1925,3530,3190,2130,2144,2188,2085,2335,2950,3250,1835,1845,2500,2190,2320,3230,3160,1980,2130],\"xaxis\":\"x\",\"y\":[26.0,25.0,24.0,25.0,26.0,28.0,30.0,30.0,27.0,23.0,18.0,22.0,21.0,26.0,26.0,26.0,29.0,24.0,20.0,19.0,24.0,29.0,26.0,26.0,24.0,26.0,31.0,25.0,29.0,23.0,23.0,22.0,25.0,28.0,25.0,27.0,29.0,29.5,20.0,19.0,16.5,36.0,29.0,30.5,21.5,43.1,20.3,17.0,21.6,16.2,31.5,31.9,25.4,27.2,37.3,41.5,34.3,44.3,43.4,36.4,30.0,40.9,29.8,35.0,33.0,34.5,28.1,30.7,36.0,44.0],\"yaxis\":\"y\",\"type\":\"scatter\"}],                        {\"template\":{\"data\":{\"bar\":[{\"error_x\":{\"color\":\"#2a3f5f\"},\"error_y\":{\"color\":\"#2a3f5f\"},\"marker\":{\"line\":{\"color\":\"#E5ECF6\",\"width\":0.5},\"pattern\":{\"fillmode\":\"overlay\",\"size\":10,\"solidity\":0.2}},\"type\":\"bar\"}],\"barpolar\":[{\"marker\":{\"line\":{\"color\":\"#E5ECF6\",\"width\":0.5},\"pattern\":{\"fillmode\":\"overlay\",\"size\":10,\"solidity\":0.2}},\"type\":\"barpolar\"}],\"carpet\":[{\"aaxis\":{\"endlinecolor\":\"#2a3f5f\",\"gridcolor\":\"white\",\"linecolor\":\"white\",\"minorgridcolor\":\"white\",\"startlinecolor\":\"#2a3f5f\"},\"baxis\":{\"endlinecolor\":\"#2a3f5f\",\"gridcolor\":\"white\",\"linecolor\":\"white\",\"minorgridcolor\":\"white\",\"startlinecolor\":\"#2a3f5f\"},\"type\":\"carpet\"}],\"choropleth\":[{\"colorbar\":{\"outlinewidth\":0,\"ticks\":\"\"},\"type\":\"choropleth\"}],\"contour\":[{\"colorbar\":{\"outlinewidth\":0,\"ticks\":\"\"},\"colorscale\":[[0.0,\"#0d0887\"],[0.1111111111111111,\"#46039f\"],[0.2222222222222222,\"#7201a8\"],[0.3333333333333333,\"#9c179e\"],[0.4444444444444444,\"#bd3786\"],[0.5555555555555556,\"#d8576b\"],[0.6666666666666666,\"#ed7953\"],[0.7777777777777778,\"#fb9f3a\"],[0.8888888888888888,\"#fdca26\"],[1.0,\"#f0f921\"]],\"type\":\"contour\"}],\"contourcarpet\":[{\"colorbar\":{\"outlinewidth\":0,\"ticks\":\"\"},\"type\":\"contourcarpet\"}],\"heatmap\":[{\"colorbar\":{\"outlinewidth\":0,\"ticks\":\"\"},\"colorscale\":[[0.0,\"#0d0887\"],[0.1111111111111111,\"#46039f\"],[0.2222222222222222,\"#7201a8\"],[0.3333333333333333,\"#9c179e\"],[0.4444444444444444,\"#bd3786\"],[0.5555555555555556,\"#d8576b\"],[0.6666666666666666,\"#ed7953\"],[0.7777777777777778,\"#fb9f3a\"],[0.8888888888888888,\"#fdca26\"],[1.0,\"#f0f921\"]],\"type\":\"heatmap\"}],\"heatmapgl\":[{\"colorbar\":{\"outlinewidth\":0,\"ticks\":\"\"},\"colorscale\":[[0.0,\"#0d0887\"],[0.1111111111111111,\"#46039f\"],[0.2222222222222222,\"#7201a8\"],[0.3333333333333333,\"#9c179e\"],[0.4444444444444444,\"#bd3786\"],[0.5555555555555556,\"#d8576b\"],[0.6666666666666666,\"#ed7953\"],[0.7777777777777778,\"#fb9f3a\"],[0.8888888888888888,\"#fdca26\"],[1.0,\"#f0f921\"]],\"type\":\"heatmapgl\"}],\"histogram\":[{\"marker\":{\"pattern\":{\"fillmode\":\"overlay\",\"size\":10,\"solidity\":0.2}},\"type\":\"histogram\"}],\"histogram2d\":[{\"colorbar\":{\"outlinewidth\":0,\"ticks\":\"\"},\"colorscale\":[[0.0,\"#0d0887\"],[0.1111111111111111,\"#46039f\"],[0.2222222222222222,\"#7201a8\"],[0.3333333333333333,\"#9c179e\"],[0.4444444444444444,\"#bd3786\"],[0.5555555555555556,\"#d8576b\"],[0.6666666666666666,\"#ed7953\"],[0.7777777777777778,\"#fb9f3a\"],[0.8888888888888888,\"#fdca26\"],[1.0,\"#f0f921\"]],\"type\":\"histogram2d\"}],\"histogram2dcontour\":[{\"colorbar\":{\"outlinewidth\":0,\"ticks\":\"\"},\"colorscale\":[[0.0,\"#0d0887\"],[0.1111111111111111,\"#46039f\"],[0.2222222222222222,\"#7201a8\"],[0.3333333333333333,\"#9c179e\"],[0.4444444444444444,\"#bd3786\"],[0.5555555555555556,\"#d8576b\"],[0.6666666666666666,\"#ed7953\"],[0.7777777777777778,\"#fb9f3a\"],[0.8888888888888888,\"#fdca26\"],[1.0,\"#f0f921\"]],\"type\":\"histogram2dcontour\"}],\"mesh3d\":[{\"colorbar\":{\"outlinewidth\":0,\"ticks\":\"\"},\"type\":\"mesh3d\"}],\"parcoords\":[{\"line\":{\"colorbar\":{\"outlinewidth\":0,\"ticks\":\"\"}},\"type\":\"parcoords\"}],\"pie\":[{\"automargin\":true,\"type\":\"pie\"}],\"scatter\":[{\"marker\":{\"colorbar\":{\"outlinewidth\":0,\"ticks\":\"\"}},\"type\":\"scatter\"}],\"scatter3d\":[{\"line\":{\"colorbar\":{\"outlinewidth\":0,\"ticks\":\"\"}},\"marker\":{\"colorbar\":{\"outlinewidth\":0,\"ticks\":\"\"}},\"type\":\"scatter3d\"}],\"scattercarpet\":[{\"marker\":{\"colorbar\":{\"outlinewidth\":0,\"ticks\":\"\"}},\"type\":\"scattercarpet\"}],\"scattergeo\":[{\"marker\":{\"colorbar\":{\"outlinewidth\":0,\"ticks\":\"\"}},\"type\":\"scattergeo\"}],\"scattergl\":[{\"marker\":{\"colorbar\":{\"outlinewidth\":0,\"ticks\":\"\"}},\"type\":\"scattergl\"}],\"scattermapbox\":[{\"marker\":{\"colorbar\":{\"outlinewidth\":0,\"ticks\":\"\"}},\"type\":\"scattermapbox\"}],\"scatterpolar\":[{\"marker\":{\"colorbar\":{\"outlinewidth\":0,\"ticks\":\"\"}},\"type\":\"scatterpolar\"}],\"scatterpolargl\":[{\"marker\":{\"colorbar\":{\"outlinewidth\":0,\"ticks\":\"\"}},\"type\":\"scatterpolargl\"}],\"scatterternary\":[{\"marker\":{\"colorbar\":{\"outlinewidth\":0,\"ticks\":\"\"}},\"type\":\"scatterternary\"}],\"surface\":[{\"colorbar\":{\"outlinewidth\":0,\"ticks\":\"\"},\"colorscale\":[[0.0,\"#0d0887\"],[0.1111111111111111,\"#46039f\"],[0.2222222222222222,\"#7201a8\"],[0.3333333333333333,\"#9c179e\"],[0.4444444444444444,\"#bd3786\"],[0.5555555555555556,\"#d8576b\"],[0.6666666666666666,\"#ed7953\"],[0.7777777777777778,\"#fb9f3a\"],[0.8888888888888888,\"#fdca26\"],[1.0,\"#f0f921\"]],\"type\":\"surface\"}],\"table\":[{\"cells\":{\"fill\":{\"color\":\"#EBF0F8\"},\"line\":{\"color\":\"white\"}},\"header\":{\"fill\":{\"color\":\"#C8D4E3\"},\"line\":{\"color\":\"white\"}},\"type\":\"table\"}]},\"layout\":{\"annotationdefaults\":{\"arrowcolor\":\"#2a3f5f\",\"arrowhead\":0,\"arrowwidth\":1},\"autotypenumbers\":\"strict\",\"coloraxis\":{\"colorbar\":{\"outlinewidth\":0,\"ticks\":\"\"}},\"colorscale\":{\"diverging\":[[0,\"#8e0152\"],[0.1,\"#c51b7d\"],[0.2,\"#de77ae\"],[0.3,\"#f1b6da\"],[0.4,\"#fde0ef\"],[0.5,\"#f7f7f7\"],[0.6,\"#e6f5d0\"],[0.7,\"#b8e186\"],[0.8,\"#7fbc41\"],[0.9,\"#4d9221\"],[1,\"#276419\"]],\"sequential\":[[0.0,\"#0d0887\"],[0.1111111111111111,\"#46039f\"],[0.2222222222222222,\"#7201a8\"],[0.3333333333333333,\"#9c179e\"],[0.4444444444444444,\"#bd3786\"],[0.5555555555555556,\"#d8576b\"],[0.6666666666666666,\"#ed7953\"],[0.7777777777777778,\"#fb9f3a\"],[0.8888888888888888,\"#fdca26\"],[1.0,\"#f0f921\"]],\"sequentialminus\":[[0.0,\"#0d0887\"],[0.1111111111111111,\"#46039f\"],[0.2222222222222222,\"#7201a8\"],[0.3333333333333333,\"#9c179e\"],[0.4444444444444444,\"#bd3786\"],[0.5555555555555556,\"#d8576b\"],[0.6666666666666666,\"#ed7953\"],[0.7777777777777778,\"#fb9f3a\"],[0.8888888888888888,\"#fdca26\"],[1.0,\"#f0f921\"]]},\"colorway\":[\"#636efa\",\"#EF553B\",\"#00cc96\",\"#ab63fa\",\"#FFA15A\",\"#19d3f3\",\"#FF6692\",\"#B6E880\",\"#FF97FF\",\"#FECB52\"],\"font\":{\"color\":\"#2a3f5f\"},\"geo\":{\"bgcolor\":\"white\",\"lakecolor\":\"white\",\"landcolor\":\"#E5ECF6\",\"showlakes\":true,\"showland\":true,\"subunitcolor\":\"white\"},\"hoverlabel\":{\"align\":\"left\"},\"hovermode\":\"closest\",\"mapbox\":{\"style\":\"light\"},\"paper_bgcolor\":\"white\",\"plot_bgcolor\":\"#E5ECF6\",\"polar\":{\"angularaxis\":{\"gridcolor\":\"white\",\"linecolor\":\"white\",\"ticks\":\"\"},\"bgcolor\":\"#E5ECF6\",\"radialaxis\":{\"gridcolor\":\"white\",\"linecolor\":\"white\",\"ticks\":\"\"}},\"scene\":{\"xaxis\":{\"backgroundcolor\":\"#E5ECF6\",\"gridcolor\":\"white\",\"gridwidth\":2,\"linecolor\":\"white\",\"showbackground\":true,\"ticks\":\"\",\"zerolinecolor\":\"white\"},\"yaxis\":{\"backgroundcolor\":\"#E5ECF6\",\"gridcolor\":\"white\",\"gridwidth\":2,\"linecolor\":\"white\",\"showbackground\":true,\"ticks\":\"\",\"zerolinecolor\":\"white\"},\"zaxis\":{\"backgroundcolor\":\"#E5ECF6\",\"gridcolor\":\"white\",\"gridwidth\":2,\"linecolor\":\"white\",\"showbackground\":true,\"ticks\":\"\",\"zerolinecolor\":\"white\"}},\"shapedefaults\":{\"line\":{\"color\":\"#2a3f5f\"}},\"ternary\":{\"aaxis\":{\"gridcolor\":\"white\",\"linecolor\":\"white\",\"ticks\":\"\"},\"baxis\":{\"gridcolor\":\"white\",\"linecolor\":\"white\",\"ticks\":\"\"},\"bgcolor\":\"#E5ECF6\",\"caxis\":{\"gridcolor\":\"white\",\"linecolor\":\"white\",\"ticks\":\"\"}},\"title\":{\"x\":0.05},\"xaxis\":{\"automargin\":true,\"gridcolor\":\"white\",\"linecolor\":\"white\",\"ticks\":\"\",\"title\":{\"standoff\":15},\"zerolinecolor\":\"white\",\"zerolinewidth\":2},\"yaxis\":{\"automargin\":true,\"gridcolor\":\"white\",\"linecolor\":\"white\",\"ticks\":\"\",\"title\":{\"standoff\":15},\"zerolinecolor\":\"white\",\"zerolinewidth\":2}}},\"xaxis\":{\"anchor\":\"y\",\"domain\":[0.0,1.0],\"title\":{\"text\":\"weight\"}},\"yaxis\":{\"anchor\":\"x\",\"domain\":[0.0,1.0],\"title\":{\"text\":\"mpg\"}},\"legend\":{\"title\":{\"text\":\"origin\"},\"tracegroupgap\":0},\"margin\":{\"t\":60}},                        {\"responsive\": true}                    ).then(function(){\n",
       "                            \n",
       "var gd = document.getElementById('a818faae-d482-43f3-b6ac-87c0ee3d8443');\n",
       "var x = new MutationObserver(function (mutations, observer) {{\n",
       "        var display = window.getComputedStyle(gd).display;\n",
       "        if (!display || display === 'none') {{\n",
       "            console.log([gd, 'removed!']);\n",
       "            Plotly.purge(gd);\n",
       "            observer.disconnect();\n",
       "        }}\n",
       "}});\n",
       "\n",
       "// Listen for the removal of the full notebook cells\n",
       "var notebookContainer = gd.closest('#notebook-container');\n",
       "if (notebookContainer) {{\n",
       "    x.observe(notebookContainer, {childList: true});\n",
       "}}\n",
       "\n",
       "// Listen for the clearing of the current output cell\n",
       "var outputEl = gd.closest('.output');\n",
       "if (outputEl) {{\n",
       "    x.observe(outputEl, {childList: true});\n",
       "}}\n",
       "\n",
       "                        })                };                });            </script>        </div>"
      ]
     },
     "metadata": {},
     "output_type": "display_data"
    }
   ],
   "source": [
    "#! ??"
   ]
  },
  {
   "cell_type": "code",
   "execution_count": null,
   "id": "67772dd6-2e9a-4cdb-a45b-1722b3f45301",
   "metadata": {},
   "outputs": [],
   "source": []
  },
  {
   "cell_type": "code",
   "execution_count": null,
   "id": "dfced095-8ddf-4c03-9332-31d92b849702",
   "metadata": {},
   "outputs": [],
   "source": []
  },
  {
   "cell_type": "code",
   "execution_count": null,
   "id": "d57178a9-8346-4bda-a5c3-177e5c075833",
   "metadata": {},
   "outputs": [],
   "source": []
  },
  {
   "cell_type": "code",
   "execution_count": null,
   "id": "5a8ef0ee-59a8-4607-91c6-fe81bc1dfa5c",
   "metadata": {},
   "outputs": [],
   "source": []
  },
  {
   "cell_type": "code",
   "execution_count": null,
   "id": "814b8b97-9bb9-4a54-a084-ff0ca68da48d",
   "metadata": {},
   "outputs": [],
   "source": []
  },
  {
   "cell_type": "code",
   "execution_count": null,
   "id": "436ecf6f-4679-4157-a82b-f79e03500a32",
   "metadata": {},
   "outputs": [],
   "source": []
  },
  {
   "cell_type": "code",
   "execution_count": null,
   "id": "96123f20-44e6-45af-8e81-7647dadab5b5",
   "metadata": {},
   "outputs": [],
   "source": []
  },
  {
   "cell_type": "code",
   "execution_count": null,
   "id": "8065f876-d006-418c-b92a-8aa09d98ffdc",
   "metadata": {},
   "outputs": [],
   "source": []
  },
  {
   "cell_type": "markdown",
   "id": "19bb7166-e964-42be-9001-df2814b315cd",
   "metadata": {},
   "source": [
    "# The Uncovered Solution"
   ]
  },
  {
   "cell_type": "markdown",
   "id": "12742857-0c8c-48af-a900-498617d2b4db",
   "metadata": {},
   "source": [
    "1. Give the `weight` Series with `instance[key]`\n",
    "2. Give the `str` `'mpg'` to reference a `key` from...\n",
    "3. The `instance` passed to the parameter `data_frame`\n",
    "4. Give the points a color with the `instance` `.origin` from the `DataFrame`\n",
    "5. Pass the `index` instance of from the `DataFrame` to `hover_name`"
   ]
  },
  {
   "cell_type": "code",
   "execution_count": 90,
   "id": "522f16b6-da97-4c66-a694-9f5df768fca6",
   "metadata": {},
   "outputs": [
    {
     "data": {
      "application/vnd.plotly.v1+json": {
       "config": {
        "plotlyServerURL": "https://plotly.com"
       },
       "data": [
        {
         "hovertemplate": "<b>%{hovertext}</b><br><br>origin=usa<br>weight=%{x}<br>mpg=%{y}<extra></extra>",
         "hovertext": [
          "chevrolet chevelle malibu",
          "buick skylark 320",
          "plymouth satellite",
          "amc rebel sst",
          "ford torino",
          "ford galaxie 500",
          "chevrolet impala",
          "plymouth fury iii",
          "pontiac catalina",
          "amc ambassador dpl",
          "dodge challenger se",
          "plymouth 'cuda 340",
          "chevrolet monte carlo",
          "buick estate wagon (sw)",
          "plymouth duster",
          "amc hornet",
          "ford maverick",
          "amc gremlin",
          "ford f250",
          "chevy c20",
          "dodge d200",
          "hi 1200d",
          "chevrolet vega 2300",
          "ford pinto",
          "amc gremlin",
          "plymouth satellite custom",
          "chevrolet chevelle malibu",
          "ford torino 500",
          "amc matador",
          "chevrolet impala",
          "pontiac catalina brougham",
          "ford galaxie 500",
          "plymouth fury iii",
          "dodge monaco (sw)",
          "ford country squire (sw)",
          "pontiac safari (sw)",
          "amc hornet sportabout (sw)",
          "chevrolet vega (sw)",
          "pontiac firebird",
          "ford mustang",
          "mercury capri 2000",
          "plymouth cricket",
          "dodge colt hardtop",
          "chevrolet vega",
          "ford pinto runabout",
          "chevrolet impala",
          "pontiac catalina",
          "plymouth fury iii",
          "ford galaxie 500",
          "amc ambassador sst",
          "mercury marquis",
          "buick lesabre custom",
          "oldsmobile delta 88 royale",
          "chrysler newport royal",
          "amc matador (sw)",
          "chevrolet chevelle concours (sw)",
          "ford gran torino (sw)",
          "plymouth satellite custom (sw)",
          "ford pinto (sw)",
          "dodge colt (sw)",
          "buick century 350",
          "amc matador",
          "chevrolet malibu",
          "ford gran torino",
          "dodge coronet custom",
          "mercury marquis brougham",
          "chevrolet caprice classic",
          "ford ltd",
          "plymouth fury gran sedan",
          "chrysler new yorker brougham",
          "buick electra 225 custom",
          "amc ambassador brougham",
          "plymouth valiant",
          "chevrolet nova custom",
          "amc hornet",
          "ford maverick",
          "plymouth duster",
          "chevrolet impala",
          "ford country",
          "plymouth custom suburb",
          "oldsmobile vista cruiser",
          "amc gremlin",
          "chevrolet vega",
          "ford pinto",
          "mercury capri v6",
          "chevrolet monte carlo s",
          "pontiac grand prix",
          "dodge dart custom",
          "oldsmobile omega",
          "plymouth duster",
          "ford maverick",
          "amc hornet",
          "chevrolet nova",
          "ford pinto",
          "chevrolet vega",
          "chevrolet chevelle malibu classic",
          "amc matador",
          "plymouth satellite sebring",
          "ford gran torino",
          "buick century luxus (sw)",
          "dodge coronet custom (sw)",
          "ford gran torino (sw)",
          "amc matador (sw)",
          "dodge colt",
          "plymouth valiant custom",
          "chevrolet nova",
          "mercury monarch",
          "ford maverick",
          "pontiac catalina",
          "chevrolet bel air",
          "plymouth grand fury",
          "ford ltd",
          "buick century",
          "chevroelt chevelle malibu",
          "amc matador",
          "plymouth fury",
          "buick skyhawk",
          "chevrolet monza 2+2",
          "ford mustang ii",
          "ford pinto",
          "amc gremlin",
          "pontiac astro",
          "ford pinto",
          "amc pacer",
          "capri ii",
          "dodge colt",
          "chevrolet chevelle malibu classic",
          "dodge coronet brougham",
          "amc matador",
          "ford gran torino",
          "plymouth valiant",
          "chevrolet nova",
          "ford maverick",
          "amc hornet",
          "chevrolet chevette",
          "chevrolet woody",
          "dodge aspen se",
          "ford granada ghia",
          "pontiac ventura sj",
          "amc pacer d/l",
          "ford pinto",
          "plymouth volare premier v8",
          "cadillac seville",
          "chevy c10",
          "ford f108",
          "dodge d100",
          "buick opel isuzu deluxe",
          "plymouth arrow gs",
          "chevrolet caprice classic",
          "oldsmobile cutlass supreme",
          "dodge monaco brougham",
          "mercury cougar brougham",
          "chevrolet concours",
          "buick skylark",
          "plymouth volare custom",
          "ford granada",
          "pontiac grand prix lj",
          "chevrolet monte carlo landau",
          "chrysler cordoba",
          "ford thunderbird",
          "pontiac sunbird coupe",
          "ford mustang ii 2+2",
          "chevrolet chevette",
          "dodge colt m/m",
          "ford fiesta",
          "oldsmobile cutlass salon brougham",
          "dodge diplomat",
          "mercury monarch ghia",
          "pontiac phoenix lj",
          "chevrolet malibu",
          "ford fairmont (auto)",
          "ford fairmont (man)",
          "plymouth volare",
          "amc concord",
          "buick century special",
          "mercury zephyr",
          "dodge aspen",
          "amc concord d/l",
          "chevrolet monte carlo landau",
          "buick regal sport coupe (turbo)",
          "ford futura",
          "dodge magnum xe",
          "chevrolet chevette",
          "dodge omni",
          "plymouth sapporo",
          "oldsmobile starfire sx",
          "pontiac lemans v6",
          "mercury zephyr 6",
          "ford fairmont 4",
          "amc concord dl 6",
          "dodge aspen 6",
          "chevrolet caprice classic",
          "ford ltd landau",
          "mercury grand marquis",
          "dodge st. regis",
          "buick estate wagon (sw)",
          "ford country squire (sw)",
          "chevrolet malibu classic (sw)",
          "chrysler lebaron town @ country (sw)",
          "dodge colt hatchback custom",
          "amc spirit dl",
          "cadillac eldorado",
          "oldsmobile cutlass salon brougham",
          "plymouth horizon",
          "plymouth horizon tc3",
          "buick skylark limited",
          "chevrolet citation",
          "oldsmobile omega brougham",
          "pontiac phoenix",
          "chevrolet chevette",
          "chevrolet citation",
          "ford fairmont",
          "amc concord",
          "dodge aspen",
          "dodge colt",
          "ford mustang cobra",
          "plymouth reliant",
          "buick skylark",
          "dodge aries wagon (sw)",
          "chevrolet citation",
          "plymouth reliant",
          "plymouth champ",
          "plymouth horizon 4",
          "ford escort 4w",
          "ford escort 2h",
          "buick century",
          "oldsmobile cutlass ls",
          "ford granada gl",
          "chrysler lebaron salon",
          "chevrolet cavalier",
          "chevrolet cavalier wagon",
          "chevrolet cavalier 2-door",
          "pontiac j2000 se hatchback",
          "dodge aries se",
          "pontiac phoenix",
          "ford fairmont futura",
          "amc concord dl",
          "plymouth horizon miser",
          "mercury lynx l",
          "buick century limited",
          "oldsmobile cutlass ciera (diesel)",
          "chrysler lebaron medallion",
          "ford granada l",
          "dodge charger 2.2",
          "chevrolet camaro",
          "ford mustang gl",
          "dodge rampage",
          "ford ranger",
          "chevy s-10"
         ],
         "legendgroup": "usa",
         "marker": {
          "color": "#636efa",
          "symbol": "circle"
         },
         "mode": "markers",
         "name": "usa",
         "orientation": "v",
         "showlegend": true,
         "type": "scatter",
         "x": [
          3504,
          3693,
          3436,
          3433,
          3449,
          4341,
          4354,
          4312,
          4425,
          3850,
          3563,
          3609,
          3761,
          3086,
          2833,
          2774,
          2587,
          2648,
          4615,
          4376,
          4382,
          4732,
          2264,
          2046,
          2634,
          3439,
          3329,
          3302,
          3288,
          4209,
          4464,
          4154,
          4096,
          4955,
          4746,
          5140,
          2962,
          2408,
          3282,
          3139,
          2220,
          1955,
          2126,
          2408,
          2226,
          4274,
          4385,
          4135,
          4129,
          3672,
          4633,
          4502,
          4456,
          4422,
          3892,
          4098,
          4294,
          4077,
          2395,
          2164,
          4100,
          3672,
          3988,
          4042,
          3777,
          4952,
          4464,
          4363,
          4237,
          4735,
          4951,
          3821,
          3121,
          3278,
          2945,
          3021,
          2904,
          4997,
          4906,
          4654,
          4499,
          2789,
          2401,
          2310,
          2472,
          4082,
          4278,
          3399,
          3664,
          3102,
          2875,
          2901,
          3336,
          2451,
          2542,
          3781,
          3632,
          3613,
          4141,
          4699,
          4457,
          4638,
          4257,
          2125,
          3264,
          3459,
          3432,
          3158,
          4668,
          4440,
          4498,
          4657,
          3907,
          3897,
          3730,
          3785,
          3039,
          3221,
          3169,
          2639,
          2914,
          2592,
          2984,
          3211,
          2572,
          2255,
          4215,
          4190,
          3962,
          4215,
          3233,
          3353,
          3012,
          3085,
          2035,
          2164,
          3651,
          3574,
          3645,
          3193,
          2565,
          3940,
          4380,
          4055,
          3870,
          3755,
          2155,
          2300,
          3880,
          4060,
          4140,
          4295,
          3520,
          3425,
          3630,
          3525,
          4220,
          4165,
          4325,
          4335,
          2740,
          2755,
          2051,
          2075,
          1800,
          3365,
          3735,
          3570,
          3535,
          3155,
          2965,
          2720,
          3430,
          3210,
          3380,
          3070,
          3620,
          3410,
          3425,
          3445,
          3205,
          4080,
          2155,
          2230,
          2745,
          2855,
          3245,
          2990,
          2890,
          3265,
          3360,
          3840,
          3725,
          3955,
          3830,
          4360,
          4054,
          3605,
          3940,
          1915,
          2670,
          3900,
          3420,
          2200,
          2150,
          2670,
          2595,
          2700,
          2556,
          2120,
          2678,
          2870,
          3003,
          3381,
          2800,
          2905,
          2490,
          2635,
          2620,
          2725,
          2385,
          1875,
          2215,
          2045,
          2380,
          3415,
          3725,
          3060,
          3465,
          2605,
          2640,
          2395,
          2575,
          2525,
          2735,
          2865,
          3035,
          2125,
          2125,
          2945,
          3015,
          2585,
          2835,
          2370,
          2950,
          2790,
          2295,
          2625,
          2720
         ],
         "xaxis": "x",
         "y": [
          18,
          15,
          18,
          16,
          17,
          15,
          14,
          14,
          14,
          15,
          15,
          14,
          15,
          14,
          22,
          18,
          21,
          21,
          10,
          10,
          11,
          9,
          28,
          25,
          19,
          16,
          17,
          19,
          18,
          14,
          14,
          14,
          14,
          12,
          13,
          13,
          18,
          22,
          19,
          18,
          23,
          26,
          25,
          20,
          21,
          13,
          14,
          15,
          14,
          17,
          11,
          13,
          12,
          13,
          15,
          13,
          13,
          14,
          22,
          28,
          13,
          14,
          13,
          14,
          15,
          12,
          13,
          13,
          14,
          13,
          12,
          13,
          18,
          16,
          18,
          18,
          23,
          11,
          12,
          13,
          12,
          18,
          21,
          19,
          21,
          15,
          16,
          15,
          11,
          20,
          21,
          19,
          15,
          26,
          25,
          16,
          16,
          18,
          16,
          13,
          14,
          14,
          14,
          28,
          19,
          18,
          15,
          15,
          16,
          15,
          16,
          14,
          17,
          16,
          15,
          18,
          21,
          20,
          13,
          23,
          20,
          23,
          18,
          19,
          25,
          26,
          17.5,
          16,
          15.5,
          14.5,
          22,
          22,
          24,
          22.5,
          29,
          24.5,
          20,
          18,
          18.5,
          17.5,
          26.5,
          13,
          16.5,
          13,
          13,
          13,
          30,
          25.5,
          17.5,
          17,
          15.5,
          15,
          17.5,
          20.5,
          19,
          18.5,
          16,
          15.5,
          15.5,
          16,
          24.5,
          25.5,
          30.5,
          33.5,
          36.1,
          19.9,
          19.4,
          20.2,
          19.2,
          20.5,
          20.2,
          25.1,
          20.5,
          19.4,
          20.6,
          20.8,
          18.6,
          18.1,
          19.2,
          17.7,
          18.1,
          17.5,
          30,
          30.9,
          23.2,
          23.8,
          21.5,
          19.8,
          22.3,
          20.2,
          20.6,
          17,
          17.6,
          16.5,
          18.2,
          16.9,
          15.5,
          19.2,
          18.5,
          35.7,
          27.4,
          23,
          23.9,
          34.2,
          34.5,
          28.4,
          28.8,
          26.8,
          33.5,
          32.1,
          28,
          26.4,
          24.3,
          19.1,
          27.9,
          23.6,
          27.2,
          26.6,
          25.8,
          23.5,
          30,
          39,
          34.7,
          34.4,
          29.9,
          22.4,
          26.6,
          20.2,
          17.6,
          28,
          27,
          34,
          31,
          29,
          27,
          24,
          23,
          38,
          36,
          25,
          38,
          26,
          22,
          36,
          27,
          27,
          32,
          28,
          31
         ],
         "yaxis": "y"
        },
        {
         "hovertemplate": "<b>%{hovertext}</b><br><br>origin=japan<br>weight=%{x}<br>mpg=%{y}<extra></extra>",
         "hovertext": [
          "toyota corona mark ii",
          "datsun pl510",
          "datsun pl510",
          "toyota corona",
          "toyota corolla 1200",
          "datsun 1200",
          "toyota corona hardtop",
          "mazda rx2 coupe",
          "datsun 510 (sw)",
          "toyouta corona mark ii (sw)",
          "toyota corolla 1600 (sw)",
          "toyota carina",
          "datsun 610",
          "maxda rx3",
          "toyota mark ii",
          "datsun b210",
          "toyota corolla 1200",
          "toyota corona",
          "datsun 710",
          "honda civic",
          "subaru",
          "toyota corolla",
          "toyota corona",
          "datsun 710",
          "honda civic cvcc",
          "honda civic",
          "datsun b-210",
          "toyota corolla",
          "toyota mark ii",
          "honda accord cvcc",
          "datsun f-10 hatchback",
          "toyota corolla liftback",
          "subaru dl",
          "datsun 810",
          "mazda rx-4",
          "mazda glc deluxe",
          "datsun b210 gx",
          "honda civic cvcc",
          "toyota corona",
          "datsun 510",
          "toyota celica gt liftback",
          "datsun 200-sx",
          "honda accord lx",
          "maxda glc deluxe",
          "datsun 210",
          "toyota corolla tercel",
          "datsun 310",
          "toyota corona liftback",
          "mazda 626",
          "datsun 510 hatchback",
          "toyota corolla",
          "mazda glc",
          "datsun 210",
          "honda civic 1500 gl",
          "subaru dl",
          "datsun 280-zx",
          "mazda rx-7 gs",
          "honda accord",
          "toyota starlet",
          "honda civic 1300",
          "subaru",
          "datsun 210 mpg",
          "toyota tercel",
          "mazda glc 4",
          "honda prelude",
          "toyota corolla",
          "datsun 200sx",
          "mazda 626",
          "toyota cressida",
          "datsun 810 maxima",
          "mazda glc custom l",
          "mazda glc custom",
          "nissan stanza xe",
          "honda accord",
          "toyota corolla",
          "honda civic",
          "honda civic (auto)",
          "datsun 310 gx",
          "toyota celica gt"
         ],
         "legendgroup": "japan",
         "marker": {
          "color": "#EF553B",
          "symbol": "circle"
         },
         "mode": "markers",
         "name": "japan",
         "orientation": "v",
         "showlegend": true,
         "type": "scatter",
         "x": [
          2372,
          2130,
          2130,
          2228,
          1773,
          1613,
          2278,
          2330,
          2288,
          2506,
          2100,
          2279,
          2379,
          2124,
          2807,
          1950,
          1836,
          1649,
          2003,
          2489,
          2391,
          2171,
          2702,
          2545,
          1795,
          1795,
          1990,
          2155,
          2930,
          2045,
          1945,
          2265,
          1985,
          2815,
          2720,
          1985,
          2070,
          1800,
          2560,
          2300,
          2515,
          2405,
          2135,
          1975,
          2020,
          1968,
          2019,
          2711,
          2542,
          2434,
          2265,
          2110,
          2110,
          1850,
          2145,
          2910,
          2420,
          2290,
          1755,
          1760,
          2065,
          1975,
          2050,
          1985,
          2210,
          2350,
          2615,
          2635,
          2900,
          2930,
          2025,
          1970,
          2160,
          2205,
          2245,
          1965,
          1965,
          1995,
          2665
         ],
         "xaxis": "x",
         "y": [
          24,
          27,
          27,
          25,
          31,
          35,
          24,
          19,
          28,
          23,
          27,
          20,
          22,
          18,
          20,
          31,
          32,
          31,
          32,
          24,
          26,
          29,
          24,
          24,
          33,
          33,
          32,
          28,
          19,
          31.5,
          33.5,
          26,
          30,
          22,
          21.5,
          32.8,
          39.4,
          36.1,
          27.5,
          27.2,
          21.1,
          23.9,
          29.5,
          34.1,
          31.8,
          38.1,
          37.2,
          29.8,
          31.3,
          37,
          32.2,
          46.6,
          40.8,
          44.6,
          33.8,
          32.7,
          23.7,
          32.4,
          39.1,
          35.1,
          32.3,
          37,
          37.7,
          34.1,
          33.7,
          32.4,
          32.9,
          31.6,
          25.4,
          24.2,
          37,
          31,
          36,
          36,
          34,
          38,
          32,
          38,
          32
         ],
         "yaxis": "y"
        },
        {
         "hovertemplate": "<b>%{hovertext}</b><br><br>origin=europe<br>weight=%{x}<br>mpg=%{y}<extra></extra>",
         "hovertext": [
          "volkswagen 1131 deluxe sedan",
          "peugeot 504",
          "audi 100 ls",
          "saab 99e",
          "bmw 2002",
          "opel 1900",
          "peugeot 304",
          "fiat 124b",
          "volkswagen model 111",
          "volkswagen type 3",
          "volvo 145e (sw)",
          "volkswagen 411 (sw)",
          "peugeot 504 (sw)",
          "renault 12 (sw)",
          "volkswagen super beetle",
          "fiat 124 sport coupe",
          "fiat 128",
          "opel manta",
          "audi 100ls",
          "volvo 144ea",
          "saab 99le",
          "audi fox",
          "volkswagen dasher",
          "opel manta",
          "fiat 128",
          "fiat 124 tc",
          "fiat x1.9",
          "volkswagen dasher",
          "volkswagen rabbit",
          "audi 100ls",
          "peugeot 504",
          "volvo 244dl",
          "saab 99le",
          "fiat 131",
          "opel 1900",
          "renault 12tl",
          "vw rabbit",
          "volkswagen rabbit",
          "volvo 245",
          "peugeot 504",
          "mercedes-benz 280s",
          "renault 5 gtl",
          "volkswagen rabbit custom",
          "volkswagen dasher",
          "bmw 320i",
          "volkswagen rabbit custom diesel",
          "audi 5000",
          "volvo 264gl",
          "saab 99gle",
          "peugeot 604sl",
          "volkswagen scirocco",
          "vw rabbit custom",
          "mercedes benz 300d",
          "peugeot 504",
          "fiat strada custom",
          "vw rabbit",
          "audi 4000",
          "vw rabbit c (diesel)",
          "vw dasher (diesel)",
          "audi 5000s (diesel)",
          "mercedes-benz 240d",
          "renault lecar deluxe",
          "vokswagen rabbit",
          "triumph tr7 coupe",
          "volkswagen jetta",
          "renault 18i",
          "peugeot 505s turbo diesel",
          "volvo diesel",
          "volkswagen rabbit l",
          "vw pickup"
         ],
         "legendgroup": "europe",
         "marker": {
          "color": "#00cc96",
          "symbol": "circle"
         },
         "mode": "markers",
         "name": "europe",
         "orientation": "v",
         "showlegend": true,
         "type": "scatter",
         "x": [
          1835,
          2672,
          2430,
          2375,
          2234,
          2123,
          2074,
          2065,
          1834,
          2254,
          2933,
          2511,
          2979,
          2189,
          1950,
          2265,
          1867,
          2158,
          2582,
          2868,
          2660,
          2219,
          1963,
          2300,
          2108,
          2246,
          2000,
          2223,
          1937,
          2694,
          2957,
          2945,
          2671,
          2464,
          2220,
          2202,
          1937,
          1825,
          3150,
          3270,
          3820,
          1825,
          1940,
          2190,
          2600,
          1985,
          2830,
          3140,
          2795,
          3410,
          1990,
          1925,
          3530,
          3190,
          2130,
          2144,
          2188,
          2085,
          2335,
          2950,
          3250,
          1835,
          1845,
          2500,
          2190,
          2320,
          3230,
          3160,
          1980,
          2130
         ],
         "xaxis": "x",
         "y": [
          26,
          25,
          24,
          25,
          26,
          28,
          30,
          30,
          27,
          23,
          18,
          22,
          21,
          26,
          26,
          26,
          29,
          24,
          20,
          19,
          24,
          29,
          26,
          26,
          24,
          26,
          31,
          25,
          29,
          23,
          23,
          22,
          25,
          28,
          25,
          27,
          29,
          29.5,
          20,
          19,
          16.5,
          36,
          29,
          30.5,
          21.5,
          43.1,
          20.3,
          17,
          21.6,
          16.2,
          31.5,
          31.9,
          25.4,
          27.2,
          37.3,
          41.5,
          34.3,
          44.3,
          43.4,
          36.4,
          30,
          40.9,
          29.8,
          35,
          33,
          34.5,
          28.1,
          30.7,
          36,
          44
         ],
         "yaxis": "y"
        }
       ],
       "layout": {
        "autosize": true,
        "legend": {
         "title": {
          "text": "origin"
         },
         "tracegroupgap": 0
        },
        "margin": {
         "t": 60
        },
        "template": {
         "data": {
          "bar": [
           {
            "error_x": {
             "color": "#2a3f5f"
            },
            "error_y": {
             "color": "#2a3f5f"
            },
            "marker": {
             "line": {
              "color": "#E5ECF6",
              "width": 0.5
             },
             "pattern": {
              "fillmode": "overlay",
              "size": 10,
              "solidity": 0.2
             }
            },
            "type": "bar"
           }
          ],
          "barpolar": [
           {
            "marker": {
             "line": {
              "color": "#E5ECF6",
              "width": 0.5
             },
             "pattern": {
              "fillmode": "overlay",
              "size": 10,
              "solidity": 0.2
             }
            },
            "type": "barpolar"
           }
          ],
          "carpet": [
           {
            "aaxis": {
             "endlinecolor": "#2a3f5f",
             "gridcolor": "white",
             "linecolor": "white",
             "minorgridcolor": "white",
             "startlinecolor": "#2a3f5f"
            },
            "baxis": {
             "endlinecolor": "#2a3f5f",
             "gridcolor": "white",
             "linecolor": "white",
             "minorgridcolor": "white",
             "startlinecolor": "#2a3f5f"
            },
            "type": "carpet"
           }
          ],
          "choropleth": [
           {
            "colorbar": {
             "outlinewidth": 0,
             "ticks": ""
            },
            "type": "choropleth"
           }
          ],
          "contour": [
           {
            "colorbar": {
             "outlinewidth": 0,
             "ticks": ""
            },
            "colorscale": [
             [
              0,
              "#0d0887"
             ],
             [
              0.1111111111111111,
              "#46039f"
             ],
             [
              0.2222222222222222,
              "#7201a8"
             ],
             [
              0.3333333333333333,
              "#9c179e"
             ],
             [
              0.4444444444444444,
              "#bd3786"
             ],
             [
              0.5555555555555556,
              "#d8576b"
             ],
             [
              0.6666666666666666,
              "#ed7953"
             ],
             [
              0.7777777777777778,
              "#fb9f3a"
             ],
             [
              0.8888888888888888,
              "#fdca26"
             ],
             [
              1,
              "#f0f921"
             ]
            ],
            "type": "contour"
           }
          ],
          "contourcarpet": [
           {
            "colorbar": {
             "outlinewidth": 0,
             "ticks": ""
            },
            "type": "contourcarpet"
           }
          ],
          "heatmap": [
           {
            "colorbar": {
             "outlinewidth": 0,
             "ticks": ""
            },
            "colorscale": [
             [
              0,
              "#0d0887"
             ],
             [
              0.1111111111111111,
              "#46039f"
             ],
             [
              0.2222222222222222,
              "#7201a8"
             ],
             [
              0.3333333333333333,
              "#9c179e"
             ],
             [
              0.4444444444444444,
              "#bd3786"
             ],
             [
              0.5555555555555556,
              "#d8576b"
             ],
             [
              0.6666666666666666,
              "#ed7953"
             ],
             [
              0.7777777777777778,
              "#fb9f3a"
             ],
             [
              0.8888888888888888,
              "#fdca26"
             ],
             [
              1,
              "#f0f921"
             ]
            ],
            "type": "heatmap"
           }
          ],
          "heatmapgl": [
           {
            "colorbar": {
             "outlinewidth": 0,
             "ticks": ""
            },
            "colorscale": [
             [
              0,
              "#0d0887"
             ],
             [
              0.1111111111111111,
              "#46039f"
             ],
             [
              0.2222222222222222,
              "#7201a8"
             ],
             [
              0.3333333333333333,
              "#9c179e"
             ],
             [
              0.4444444444444444,
              "#bd3786"
             ],
             [
              0.5555555555555556,
              "#d8576b"
             ],
             [
              0.6666666666666666,
              "#ed7953"
             ],
             [
              0.7777777777777778,
              "#fb9f3a"
             ],
             [
              0.8888888888888888,
              "#fdca26"
             ],
             [
              1,
              "#f0f921"
             ]
            ],
            "type": "heatmapgl"
           }
          ],
          "histogram": [
           {
            "marker": {
             "pattern": {
              "fillmode": "overlay",
              "size": 10,
              "solidity": 0.2
             }
            },
            "type": "histogram"
           }
          ],
          "histogram2d": [
           {
            "colorbar": {
             "outlinewidth": 0,
             "ticks": ""
            },
            "colorscale": [
             [
              0,
              "#0d0887"
             ],
             [
              0.1111111111111111,
              "#46039f"
             ],
             [
              0.2222222222222222,
              "#7201a8"
             ],
             [
              0.3333333333333333,
              "#9c179e"
             ],
             [
              0.4444444444444444,
              "#bd3786"
             ],
             [
              0.5555555555555556,
              "#d8576b"
             ],
             [
              0.6666666666666666,
              "#ed7953"
             ],
             [
              0.7777777777777778,
              "#fb9f3a"
             ],
             [
              0.8888888888888888,
              "#fdca26"
             ],
             [
              1,
              "#f0f921"
             ]
            ],
            "type": "histogram2d"
           }
          ],
          "histogram2dcontour": [
           {
            "colorbar": {
             "outlinewidth": 0,
             "ticks": ""
            },
            "colorscale": [
             [
              0,
              "#0d0887"
             ],
             [
              0.1111111111111111,
              "#46039f"
             ],
             [
              0.2222222222222222,
              "#7201a8"
             ],
             [
              0.3333333333333333,
              "#9c179e"
             ],
             [
              0.4444444444444444,
              "#bd3786"
             ],
             [
              0.5555555555555556,
              "#d8576b"
             ],
             [
              0.6666666666666666,
              "#ed7953"
             ],
             [
              0.7777777777777778,
              "#fb9f3a"
             ],
             [
              0.8888888888888888,
              "#fdca26"
             ],
             [
              1,
              "#f0f921"
             ]
            ],
            "type": "histogram2dcontour"
           }
          ],
          "mesh3d": [
           {
            "colorbar": {
             "outlinewidth": 0,
             "ticks": ""
            },
            "type": "mesh3d"
           }
          ],
          "parcoords": [
           {
            "line": {
             "colorbar": {
              "outlinewidth": 0,
              "ticks": ""
             }
            },
            "type": "parcoords"
           }
          ],
          "pie": [
           {
            "automargin": true,
            "type": "pie"
           }
          ],
          "scatter": [
           {
            "marker": {
             "colorbar": {
              "outlinewidth": 0,
              "ticks": ""
             }
            },
            "type": "scatter"
           }
          ],
          "scatter3d": [
           {
            "line": {
             "colorbar": {
              "outlinewidth": 0,
              "ticks": ""
             }
            },
            "marker": {
             "colorbar": {
              "outlinewidth": 0,
              "ticks": ""
             }
            },
            "type": "scatter3d"
           }
          ],
          "scattercarpet": [
           {
            "marker": {
             "colorbar": {
              "outlinewidth": 0,
              "ticks": ""
             }
            },
            "type": "scattercarpet"
           }
          ],
          "scattergeo": [
           {
            "marker": {
             "colorbar": {
              "outlinewidth": 0,
              "ticks": ""
             }
            },
            "type": "scattergeo"
           }
          ],
          "scattergl": [
           {
            "marker": {
             "colorbar": {
              "outlinewidth": 0,
              "ticks": ""
             }
            },
            "type": "scattergl"
           }
          ],
          "scattermapbox": [
           {
            "marker": {
             "colorbar": {
              "outlinewidth": 0,
              "ticks": ""
             }
            },
            "type": "scattermapbox"
           }
          ],
          "scatterpolar": [
           {
            "marker": {
             "colorbar": {
              "outlinewidth": 0,
              "ticks": ""
             }
            },
            "type": "scatterpolar"
           }
          ],
          "scatterpolargl": [
           {
            "marker": {
             "colorbar": {
              "outlinewidth": 0,
              "ticks": ""
             }
            },
            "type": "scatterpolargl"
           }
          ],
          "scatterternary": [
           {
            "marker": {
             "colorbar": {
              "outlinewidth": 0,
              "ticks": ""
             }
            },
            "type": "scatterternary"
           }
          ],
          "surface": [
           {
            "colorbar": {
             "outlinewidth": 0,
             "ticks": ""
            },
            "colorscale": [
             [
              0,
              "#0d0887"
             ],
             [
              0.1111111111111111,
              "#46039f"
             ],
             [
              0.2222222222222222,
              "#7201a8"
             ],
             [
              0.3333333333333333,
              "#9c179e"
             ],
             [
              0.4444444444444444,
              "#bd3786"
             ],
             [
              0.5555555555555556,
              "#d8576b"
             ],
             [
              0.6666666666666666,
              "#ed7953"
             ],
             [
              0.7777777777777778,
              "#fb9f3a"
             ],
             [
              0.8888888888888888,
              "#fdca26"
             ],
             [
              1,
              "#f0f921"
             ]
            ],
            "type": "surface"
           }
          ],
          "table": [
           {
            "cells": {
             "fill": {
              "color": "#EBF0F8"
             },
             "line": {
              "color": "white"
             }
            },
            "header": {
             "fill": {
              "color": "#C8D4E3"
             },
             "line": {
              "color": "white"
             }
            },
            "type": "table"
           }
          ]
         },
         "layout": {
          "annotationdefaults": {
           "arrowcolor": "#2a3f5f",
           "arrowhead": 0,
           "arrowwidth": 1
          },
          "autotypenumbers": "strict",
          "coloraxis": {
           "colorbar": {
            "outlinewidth": 0,
            "ticks": ""
           }
          },
          "colorscale": {
           "diverging": [
            [
             0,
             "#8e0152"
            ],
            [
             0.1,
             "#c51b7d"
            ],
            [
             0.2,
             "#de77ae"
            ],
            [
             0.3,
             "#f1b6da"
            ],
            [
             0.4,
             "#fde0ef"
            ],
            [
             0.5,
             "#f7f7f7"
            ],
            [
             0.6,
             "#e6f5d0"
            ],
            [
             0.7,
             "#b8e186"
            ],
            [
             0.8,
             "#7fbc41"
            ],
            [
             0.9,
             "#4d9221"
            ],
            [
             1,
             "#276419"
            ]
           ],
           "sequential": [
            [
             0,
             "#0d0887"
            ],
            [
             0.1111111111111111,
             "#46039f"
            ],
            [
             0.2222222222222222,
             "#7201a8"
            ],
            [
             0.3333333333333333,
             "#9c179e"
            ],
            [
             0.4444444444444444,
             "#bd3786"
            ],
            [
             0.5555555555555556,
             "#d8576b"
            ],
            [
             0.6666666666666666,
             "#ed7953"
            ],
            [
             0.7777777777777778,
             "#fb9f3a"
            ],
            [
             0.8888888888888888,
             "#fdca26"
            ],
            [
             1,
             "#f0f921"
            ]
           ],
           "sequentialminus": [
            [
             0,
             "#0d0887"
            ],
            [
             0.1111111111111111,
             "#46039f"
            ],
            [
             0.2222222222222222,
             "#7201a8"
            ],
            [
             0.3333333333333333,
             "#9c179e"
            ],
            [
             0.4444444444444444,
             "#bd3786"
            ],
            [
             0.5555555555555556,
             "#d8576b"
            ],
            [
             0.6666666666666666,
             "#ed7953"
            ],
            [
             0.7777777777777778,
             "#fb9f3a"
            ],
            [
             0.8888888888888888,
             "#fdca26"
            ],
            [
             1,
             "#f0f921"
            ]
           ]
          },
          "colorway": [
           "#636efa",
           "#EF553B",
           "#00cc96",
           "#ab63fa",
           "#FFA15A",
           "#19d3f3",
           "#FF6692",
           "#B6E880",
           "#FF97FF",
           "#FECB52"
          ],
          "font": {
           "color": "#2a3f5f"
          },
          "geo": {
           "bgcolor": "white",
           "lakecolor": "white",
           "landcolor": "#E5ECF6",
           "showlakes": true,
           "showland": true,
           "subunitcolor": "white"
          },
          "hoverlabel": {
           "align": "left"
          },
          "hovermode": "closest",
          "mapbox": {
           "style": "light"
          },
          "paper_bgcolor": "white",
          "plot_bgcolor": "#E5ECF6",
          "polar": {
           "angularaxis": {
            "gridcolor": "white",
            "linecolor": "white",
            "ticks": ""
           },
           "bgcolor": "#E5ECF6",
           "radialaxis": {
            "gridcolor": "white",
            "linecolor": "white",
            "ticks": ""
           }
          },
          "scene": {
           "xaxis": {
            "backgroundcolor": "#E5ECF6",
            "gridcolor": "white",
            "gridwidth": 2,
            "linecolor": "white",
            "showbackground": true,
            "ticks": "",
            "zerolinecolor": "white"
           },
           "yaxis": {
            "backgroundcolor": "#E5ECF6",
            "gridcolor": "white",
            "gridwidth": 2,
            "linecolor": "white",
            "showbackground": true,
            "ticks": "",
            "zerolinecolor": "white"
           },
           "zaxis": {
            "backgroundcolor": "#E5ECF6",
            "gridcolor": "white",
            "gridwidth": 2,
            "linecolor": "white",
            "showbackground": true,
            "ticks": "",
            "zerolinecolor": "white"
           }
          },
          "shapedefaults": {
           "line": {
            "color": "#2a3f5f"
           }
          },
          "ternary": {
           "aaxis": {
            "gridcolor": "white",
            "linecolor": "white",
            "ticks": ""
           },
           "baxis": {
            "gridcolor": "white",
            "linecolor": "white",
            "ticks": ""
           },
           "bgcolor": "#E5ECF6",
           "caxis": {
            "gridcolor": "white",
            "linecolor": "white",
            "ticks": ""
           }
          },
          "title": {
           "x": 0.05
          },
          "xaxis": {
           "automargin": true,
           "gridcolor": "white",
           "linecolor": "white",
           "ticks": "",
           "title": {
            "standoff": 15
           },
           "zerolinecolor": "white",
           "zerolinewidth": 2
          },
          "yaxis": {
           "automargin": true,
           "gridcolor": "white",
           "linecolor": "white",
           "ticks": "",
           "title": {
            "standoff": 15
           },
           "zerolinecolor": "white",
           "zerolinewidth": 2
          }
         }
        },
        "xaxis": {
         "anchor": "y",
         "autorange": true,
         "domain": [
          0,
          1
         ],
         "range": [
          1382.0654761904761,
          5370.934523809524
         ],
         "title": {
          "text": "weight"
         },
         "type": "linear"
        },
        "yaxis": {
         "anchor": "x",
         "autorange": true,
         "domain": [
          0,
          1
         ],
         "range": [
          6.088713910761155,
          49.511286089238844
         ],
         "title": {
          "text": "mpg"
         },
         "type": "linear"
        }
       }
      },
      "image/png": "[encoded data removed]",
      "text/html": [
       "<div>                            <div id=\"a818faae-d482-43f3-b6ac-87c0ee3d8443\" class=\"plotly-graph-div\" style=\"height:525px; width:100%;\"></div>            <script type=\"text/javascript\">                require([\"plotly\"], function(Plotly) {                    window.PLOTLYENV=window.PLOTLYENV || {};                                    if (document.getElementById(\"a818faae-d482-43f3-b6ac-87c0ee3d8443\")) {                    Plotly.newPlot(                        \"a818faae-d482-43f3-b6ac-87c0ee3d8443\",                        [{\"hovertemplate\":\"<b>%{hovertext}</b><br><br>origin=usa<br>weight=%{x}<br>mpg=%{y}<extra></extra>\",\"hovertext\":[\"chevrolet chevelle malibu\",\"buick skylark 320\",\"plymouth satellite\",\"amc rebel sst\",\"ford torino\",\"ford galaxie 500\",\"chevrolet impala\",\"plymouth fury iii\",\"pontiac catalina\",\"amc ambassador dpl\",\"dodge challenger se\",\"plymouth 'cuda 340\",\"chevrolet monte carlo\",\"buick estate wagon (sw)\",\"plymouth duster\",\"amc hornet\",\"ford maverick\",\"amc gremlin\",\"ford f250\",\"chevy c20\",\"dodge d200\",\"hi 1200d\",\"chevrolet vega 2300\",\"ford pinto\",\"amc gremlin\",\"plymouth satellite custom\",\"chevrolet chevelle malibu\",\"ford torino 500\",\"amc matador\",\"chevrolet impala\",\"pontiac catalina brougham\",\"ford galaxie 500\",\"plymouth fury iii\",\"dodge monaco (sw)\",\"ford country squire (sw)\",\"pontiac safari (sw)\",\"amc hornet sportabout (sw)\",\"chevrolet vega (sw)\",\"pontiac firebird\",\"ford mustang\",\"mercury capri 2000\",\"plymouth cricket\",\"dodge colt hardtop\",\"chevrolet vega\",\"ford pinto runabout\",\"chevrolet impala\",\"pontiac catalina\",\"plymouth fury iii\",\"ford galaxie 500\",\"amc ambassador sst\",\"mercury marquis\",\"buick lesabre custom\",\"oldsmobile delta 88 royale\",\"chrysler newport royal\",\"amc matador (sw)\",\"chevrolet chevelle concours (sw)\",\"ford gran torino (sw)\",\"plymouth satellite custom (sw)\",\"ford pinto (sw)\",\"dodge colt (sw)\",\"buick century 350\",\"amc matador\",\"chevrolet malibu\",\"ford gran torino\",\"dodge coronet custom\",\"mercury marquis brougham\",\"chevrolet caprice classic\",\"ford ltd\",\"plymouth fury gran sedan\",\"chrysler new yorker brougham\",\"buick electra 225 custom\",\"amc ambassador brougham\",\"plymouth valiant\",\"chevrolet nova custom\",\"amc hornet\",\"ford maverick\",\"plymouth duster\",\"chevrolet impala\",\"ford country\",\"plymouth custom suburb\",\"oldsmobile vista cruiser\",\"amc gremlin\",\"chevrolet vega\",\"ford pinto\",\"mercury capri v6\",\"chevrolet monte carlo s\",\"pontiac grand prix\",\"dodge dart custom\",\"oldsmobile omega\",\"plymouth duster\",\"ford maverick\",\"amc hornet\",\"chevrolet nova\",\"ford pinto\",\"chevrolet vega\",\"chevrolet chevelle malibu classic\",\"amc matador\",\"plymouth satellite sebring\",\"ford gran torino\",\"buick century luxus (sw)\",\"dodge coronet custom (sw)\",\"ford gran torino (sw)\",\"amc matador (sw)\",\"dodge colt\",\"plymouth valiant custom\",\"chevrolet nova\",\"mercury monarch\",\"ford maverick\",\"pontiac catalina\",\"chevrolet bel air\",\"plymouth grand fury\",\"ford ltd\",\"buick century\",\"chevroelt chevelle malibu\",\"amc matador\",\"plymouth fury\",\"buick skyhawk\",\"chevrolet monza 2+2\",\"ford mustang ii\",\"ford pinto\",\"amc gremlin\",\"pontiac astro\",\"ford pinto\",\"amc pacer\",\"capri ii\",\"dodge colt\",\"chevrolet chevelle malibu classic\",\"dodge coronet brougham\",\"amc matador\",\"ford gran torino\",\"plymouth valiant\",\"chevrolet nova\",\"ford maverick\",\"amc hornet\",\"chevrolet chevette\",\"chevrolet woody\",\"dodge aspen se\",\"ford granada ghia\",\"pontiac ventura sj\",\"amc pacer d/l\",\"ford pinto\",\"plymouth volare premier v8\",\"cadillac seville\",\"chevy c10\",\"ford f108\",\"dodge d100\",\"buick opel isuzu deluxe\",\"plymouth arrow gs\",\"chevrolet caprice classic\",\"oldsmobile cutlass supreme\",\"dodge monaco brougham\",\"mercury cougar brougham\",\"chevrolet concours\",\"buick skylark\",\"plymouth volare custom\",\"ford granada\",\"pontiac grand prix lj\",\"chevrolet monte carlo landau\",\"chrysler cordoba\",\"ford thunderbird\",\"pontiac sunbird coupe\",\"ford mustang ii 2+2\",\"chevrolet chevette\",\"dodge colt m/m\",\"ford fiesta\",\"oldsmobile cutlass salon brougham\",\"dodge diplomat\",\"mercury monarch ghia\",\"pontiac phoenix lj\",\"chevrolet malibu\",\"ford fairmont (auto)\",\"ford fairmont (man)\",\"plymouth volare\",\"amc concord\",\"buick century special\",\"mercury zephyr\",\"dodge aspen\",\"amc concord d/l\",\"chevrolet monte carlo landau\",\"buick regal sport coupe (turbo)\",\"ford futura\",\"dodge magnum xe\",\"chevrolet chevette\",\"dodge omni\",\"plymouth sapporo\",\"oldsmobile starfire sx\",\"pontiac lemans v6\",\"mercury zephyr 6\",\"ford fairmont 4\",\"amc concord dl 6\",\"dodge aspen 6\",\"chevrolet caprice classic\",\"ford ltd landau\",\"mercury grand marquis\",\"dodge st. regis\",\"buick estate wagon (sw)\",\"ford country squire (sw)\",\"chevrolet malibu classic (sw)\",\"chrysler lebaron town @ country (sw)\",\"dodge colt hatchback custom\",\"amc spirit dl\",\"cadillac eldorado\",\"oldsmobile cutlass salon brougham\",\"plymouth horizon\",\"plymouth horizon tc3\",\"buick skylark limited\",\"chevrolet citation\",\"oldsmobile omega brougham\",\"pontiac phoenix\",\"chevrolet chevette\",\"chevrolet citation\",\"ford fairmont\",\"amc concord\",\"dodge aspen\",\"dodge colt\",\"ford mustang cobra\",\"plymouth reliant\",\"buick skylark\",\"dodge aries wagon (sw)\",\"chevrolet citation\",\"plymouth reliant\",\"plymouth champ\",\"plymouth horizon 4\",\"ford escort 4w\",\"ford escort 2h\",\"buick century\",\"oldsmobile cutlass ls\",\"ford granada gl\",\"chrysler lebaron salon\",\"chevrolet cavalier\",\"chevrolet cavalier wagon\",\"chevrolet cavalier 2-door\",\"pontiac j2000 se hatchback\",\"dodge aries se\",\"pontiac phoenix\",\"ford fairmont futura\",\"amc concord dl\",\"plymouth horizon miser\",\"mercury lynx l\",\"buick century limited\",\"oldsmobile cutlass ciera (diesel)\",\"chrysler lebaron medallion\",\"ford granada l\",\"dodge charger 2.2\",\"chevrolet camaro\",\"ford mustang gl\",\"dodge rampage\",\"ford ranger\",\"chevy s-10\"],\"legendgroup\":\"usa\",\"marker\":{\"color\":\"#636efa\",\"symbol\":\"circle\"},\"mode\":\"markers\",\"name\":\"usa\",\"orientation\":\"v\",\"showlegend\":true,\"x\":[3504,3693,3436,3433,3449,4341,4354,4312,4425,3850,3563,3609,3761,3086,2833,2774,2587,2648,4615,4376,4382,4732,2264,2046,2634,3439,3329,3302,3288,4209,4464,4154,4096,4955,4746,5140,2962,2408,3282,3139,2220,1955,2126,2408,2226,4274,4385,4135,4129,3672,4633,4502,4456,4422,3892,4098,4294,4077,2395,2164,4100,3672,3988,4042,3777,4952,4464,4363,4237,4735,4951,3821,3121,3278,2945,3021,2904,4997,4906,4654,4499,2789,2401,2310,2472,4082,4278,3399,3664,3102,2875,2901,3336,2451,2542,3781,3632,3613,4141,4699,4457,4638,4257,2125,3264,3459,3432,3158,4668,4440,4498,4657,3907,3897,3730,3785,3039,3221,3169,2639,2914,2592,2984,3211,2572,2255,4215,4190,3962,4215,3233,3353,3012,3085,2035,2164,3651,3574,3645,3193,2565,3940,4380,4055,3870,3755,2155,2300,3880,4060,4140,4295,3520,3425,3630,3525,4220,4165,4325,4335,2740,2755,2051,2075,1800,3365,3735,3570,3535,3155,2965,2720,3430,3210,3380,3070,3620,3410,3425,3445,3205,4080,2155,2230,2745,2855,3245,2990,2890,3265,3360,3840,3725,3955,3830,4360,4054,3605,3940,1915,2670,3900,3420,2200,2150,2670,2595,2700,2556,2120,2678,2870,3003,3381,2800,2905,2490,2635,2620,2725,2385,1875,2215,2045,2380,3415,3725,3060,3465,2605,2640,2395,2575,2525,2735,2865,3035,2125,2125,2945,3015,2585,2835,2370,2950,2790,2295,2625,2720],\"xaxis\":\"x\",\"y\":[18.0,15.0,18.0,16.0,17.0,15.0,14.0,14.0,14.0,15.0,15.0,14.0,15.0,14.0,22.0,18.0,21.0,21.0,10.0,10.0,11.0,9.0,28.0,25.0,19.0,16.0,17.0,19.0,18.0,14.0,14.0,14.0,14.0,12.0,13.0,13.0,18.0,22.0,19.0,18.0,23.0,26.0,25.0,20.0,21.0,13.0,14.0,15.0,14.0,17.0,11.0,13.0,12.0,13.0,15.0,13.0,13.0,14.0,22.0,28.0,13.0,14.0,13.0,14.0,15.0,12.0,13.0,13.0,14.0,13.0,12.0,13.0,18.0,16.0,18.0,18.0,23.0,11.0,12.0,13.0,12.0,18.0,21.0,19.0,21.0,15.0,16.0,15.0,11.0,20.0,21.0,19.0,15.0,26.0,25.0,16.0,16.0,18.0,16.0,13.0,14.0,14.0,14.0,28.0,19.0,18.0,15.0,15.0,16.0,15.0,16.0,14.0,17.0,16.0,15.0,18.0,21.0,20.0,13.0,23.0,20.0,23.0,18.0,19.0,25.0,26.0,17.5,16.0,15.5,14.5,22.0,22.0,24.0,22.5,29.0,24.5,20.0,18.0,18.5,17.5,26.5,13.0,16.5,13.0,13.0,13.0,30.0,25.5,17.5,17.0,15.5,15.0,17.5,20.5,19.0,18.5,16.0,15.5,15.5,16.0,24.5,25.5,30.5,33.5,36.1,19.9,19.4,20.2,19.2,20.5,20.2,25.1,20.5,19.4,20.6,20.8,18.6,18.1,19.2,17.7,18.1,17.5,30.0,30.9,23.2,23.8,21.5,19.8,22.3,20.2,20.6,17.0,17.6,16.5,18.2,16.9,15.5,19.2,18.5,35.7,27.4,23.0,23.9,34.2,34.5,28.4,28.8,26.8,33.5,32.1,28.0,26.4,24.3,19.1,27.9,23.6,27.2,26.6,25.8,23.5,30.0,39.0,34.7,34.4,29.9,22.4,26.6,20.2,17.6,28.0,27.0,34.0,31.0,29.0,27.0,24.0,23.0,38.0,36.0,25.0,38.0,26.0,22.0,36.0,27.0,27.0,32.0,28.0,31.0],\"yaxis\":\"y\",\"type\":\"scatter\"},{\"hovertemplate\":\"<b>%{hovertext}</b><br><br>origin=japan<br>weight=%{x}<br>mpg=%{y}<extra></extra>\",\"hovertext\":[\"toyota corona mark ii\",\"datsun pl510\",\"datsun pl510\",\"toyota corona\",\"toyota corolla 1200\",\"datsun 1200\",\"toyota corona hardtop\",\"mazda rx2 coupe\",\"datsun 510 (sw)\",\"toyouta corona mark ii (sw)\",\"toyota corolla 1600 (sw)\",\"toyota carina\",\"datsun 610\",\"maxda rx3\",\"toyota mark ii\",\"datsun b210\",\"toyota corolla 1200\",\"toyota corona\",\"datsun 710\",\"honda civic\",\"subaru\",\"toyota corolla\",\"toyota corona\",\"datsun 710\",\"honda civic cvcc\",\"honda civic\",\"datsun b-210\",\"toyota corolla\",\"toyota mark ii\",\"honda accord cvcc\",\"datsun f-10 hatchback\",\"toyota corolla liftback\",\"subaru dl\",\"datsun 810\",\"mazda rx-4\",\"mazda glc deluxe\",\"datsun b210 gx\",\"honda civic cvcc\",\"toyota corona\",\"datsun 510\",\"toyota celica gt liftback\",\"datsun 200-sx\",\"honda accord lx\",\"maxda glc deluxe\",\"datsun 210\",\"toyota corolla tercel\",\"datsun 310\",\"toyota corona liftback\",\"mazda 626\",\"datsun 510 hatchback\",\"toyota corolla\",\"mazda glc\",\"datsun 210\",\"honda civic 1500 gl\",\"subaru dl\",\"datsun 280-zx\",\"mazda rx-7 gs\",\"honda accord\",\"toyota starlet\",\"honda civic 1300\",\"subaru\",\"datsun 210 mpg\",\"toyota tercel\",\"mazda glc 4\",\"honda prelude\",\"toyota corolla\",\"datsun 200sx\",\"mazda 626\",\"toyota cressida\",\"datsun 810 maxima\",\"mazda glc custom l\",\"mazda glc custom\",\"nissan stanza xe\",\"honda accord\",\"toyota corolla\",\"honda civic\",\"honda civic (auto)\",\"datsun 310 gx\",\"toyota celica gt\"],\"legendgroup\":\"japan\",\"marker\":{\"color\":\"#EF553B\",\"symbol\":\"circle\"},\"mode\":\"markers\",\"name\":\"japan\",\"orientation\":\"v\",\"showlegend\":true,\"x\":[2372,2130,2130,2228,1773,1613,2278,2330,2288,2506,2100,2279,2379,2124,2807,1950,1836,1649,2003,2489,2391,2171,2702,2545,1795,1795,1990,2155,2930,2045,1945,2265,1985,2815,2720,1985,2070,1800,2560,2300,2515,2405,2135,1975,2020,1968,2019,2711,2542,2434,2265,2110,2110,1850,2145,2910,2420,2290,1755,1760,2065,1975,2050,1985,2210,2350,2615,2635,2900,2930,2025,1970,2160,2205,2245,1965,1965,1995,2665],\"xaxis\":\"x\",\"y\":[24.0,27.0,27.0,25.0,31.0,35.0,24.0,19.0,28.0,23.0,27.0,20.0,22.0,18.0,20.0,31.0,32.0,31.0,32.0,24.0,26.0,29.0,24.0,24.0,33.0,33.0,32.0,28.0,19.0,31.5,33.5,26.0,30.0,22.0,21.5,32.8,39.4,36.1,27.5,27.2,21.1,23.9,29.5,34.1,31.8,38.1,37.2,29.8,31.3,37.0,32.2,46.6,40.8,44.6,33.8,32.7,23.7,32.4,39.1,35.1,32.3,37.0,37.7,34.1,33.7,32.4,32.9,31.6,25.4,24.2,37.0,31.0,36.0,36.0,34.0,38.0,32.0,38.0,32.0],\"yaxis\":\"y\",\"type\":\"scatter\"},{\"hovertemplate\":\"<b>%{hovertext}</b><br><br>origin=europe<br>weight=%{x}<br>mpg=%{y}<extra></extra>\",\"hovertext\":[\"volkswagen 1131 deluxe sedan\",\"peugeot 504\",\"audi 100 ls\",\"saab 99e\",\"bmw 2002\",\"opel 1900\",\"peugeot 304\",\"fiat 124b\",\"volkswagen model 111\",\"volkswagen type 3\",\"volvo 145e (sw)\",\"volkswagen 411 (sw)\",\"peugeot 504 (sw)\",\"renault 12 (sw)\",\"volkswagen super beetle\",\"fiat 124 sport coupe\",\"fiat 128\",\"opel manta\",\"audi 100ls\",\"volvo 144ea\",\"saab 99le\",\"audi fox\",\"volkswagen dasher\",\"opel manta\",\"fiat 128\",\"fiat 124 tc\",\"fiat x1.9\",\"volkswagen dasher\",\"volkswagen rabbit\",\"audi 100ls\",\"peugeot 504\",\"volvo 244dl\",\"saab 99le\",\"fiat 131\",\"opel 1900\",\"renault 12tl\",\"vw rabbit\",\"volkswagen rabbit\",\"volvo 245\",\"peugeot 504\",\"mercedes-benz 280s\",\"renault 5 gtl\",\"volkswagen rabbit custom\",\"volkswagen dasher\",\"bmw 320i\",\"volkswagen rabbit custom diesel\",\"audi 5000\",\"volvo 264gl\",\"saab 99gle\",\"peugeot 604sl\",\"volkswagen scirocco\",\"vw rabbit custom\",\"mercedes benz 300d\",\"peugeot 504\",\"fiat strada custom\",\"vw rabbit\",\"audi 4000\",\"vw rabbit c (diesel)\",\"vw dasher (diesel)\",\"audi 5000s (diesel)\",\"mercedes-benz 240d\",\"renault lecar deluxe\",\"vokswagen rabbit\",\"triumph tr7 coupe\",\"volkswagen jetta\",\"renault 18i\",\"peugeot 505s turbo diesel\",\"volvo diesel\",\"volkswagen rabbit l\",\"vw pickup\"],\"legendgroup\":\"europe\",\"marker\":{\"color\":\"#00cc96\",\"symbol\":\"circle\"},\"mode\":\"markers\",\"name\":\"europe\",\"orientation\":\"v\",\"showlegend\":true,\"x\":[1835,2672,2430,2375,2234,2123,2074,2065,1834,2254,2933,2511,2979,2189,1950,2265,1867,2158,2582,2868,2660,2219,1963,2300,2108,2246,2000,2223,1937,2694,2957,2945,2671,2464,2220,2202,1937,1825,3150,3270,3820,1825,1940,2190,2600,1985,2830,3140,2795,3410,1990,1925,3530,3190,2130,2144,2188,2085,2335,2950,3250,1835,1845,2500,2190,2320,3230,3160,1980,2130],\"xaxis\":\"x\",\"y\":[26.0,25.0,24.0,25.0,26.0,28.0,30.0,30.0,27.0,23.0,18.0,22.0,21.0,26.0,26.0,26.0,29.0,24.0,20.0,19.0,24.0,29.0,26.0,26.0,24.0,26.0,31.0,25.0,29.0,23.0,23.0,22.0,25.0,28.0,25.0,27.0,29.0,29.5,20.0,19.0,16.5,36.0,29.0,30.5,21.5,43.1,20.3,17.0,21.6,16.2,31.5,31.9,25.4,27.2,37.3,41.5,34.3,44.3,43.4,36.4,30.0,40.9,29.8,35.0,33.0,34.5,28.1,30.7,36.0,44.0],\"yaxis\":\"y\",\"type\":\"scatter\"}],                        {\"template\":{\"data\":{\"bar\":[{\"error_x\":{\"color\":\"#2a3f5f\"},\"error_y\":{\"color\":\"#2a3f5f\"},\"marker\":{\"line\":{\"color\":\"#E5ECF6\",\"width\":0.5},\"pattern\":{\"fillmode\":\"overlay\",\"size\":10,\"solidity\":0.2}},\"type\":\"bar\"}],\"barpolar\":[{\"marker\":{\"line\":{\"color\":\"#E5ECF6\",\"width\":0.5},\"pattern\":{\"fillmode\":\"overlay\",\"size\":10,\"solidity\":0.2}},\"type\":\"barpolar\"}],\"carpet\":[{\"aaxis\":{\"endlinecolor\":\"#2a3f5f\",\"gridcolor\":\"white\",\"linecolor\":\"white\",\"minorgridcolor\":\"white\",\"startlinecolor\":\"#2a3f5f\"},\"baxis\":{\"endlinecolor\":\"#2a3f5f\",\"gridcolor\":\"white\",\"linecolor\":\"white\",\"minorgridcolor\":\"white\",\"startlinecolor\":\"#2a3f5f\"},\"type\":\"carpet\"}],\"choropleth\":[{\"colorbar\":{\"outlinewidth\":0,\"ticks\":\"\"},\"type\":\"choropleth\"}],\"contour\":[{\"colorbar\":{\"outlinewidth\":0,\"ticks\":\"\"},\"colorscale\":[[0.0,\"#0d0887\"],[0.1111111111111111,\"#46039f\"],[0.2222222222222222,\"#7201a8\"],[0.3333333333333333,\"#9c179e\"],[0.4444444444444444,\"#bd3786\"],[0.5555555555555556,\"#d8576b\"],[0.6666666666666666,\"#ed7953\"],[0.7777777777777778,\"#fb9f3a\"],[0.8888888888888888,\"#fdca26\"],[1.0,\"#f0f921\"]],\"type\":\"contour\"}],\"contourcarpet\":[{\"colorbar\":{\"outlinewidth\":0,\"ticks\":\"\"},\"type\":\"contourcarpet\"}],\"heatmap\":[{\"colorbar\":{\"outlinewidth\":0,\"ticks\":\"\"},\"colorscale\":[[0.0,\"#0d0887\"],[0.1111111111111111,\"#46039f\"],[0.2222222222222222,\"#7201a8\"],[0.3333333333333333,\"#9c179e\"],[0.4444444444444444,\"#bd3786\"],[0.5555555555555556,\"#d8576b\"],[0.6666666666666666,\"#ed7953\"],[0.7777777777777778,\"#fb9f3a\"],[0.8888888888888888,\"#fdca26\"],[1.0,\"#f0f921\"]],\"type\":\"heatmap\"}],\"heatmapgl\":[{\"colorbar\":{\"outlinewidth\":0,\"ticks\":\"\"},\"colorscale\":[[0.0,\"#0d0887\"],[0.1111111111111111,\"#46039f\"],[0.2222222222222222,\"#7201a8\"],[0.3333333333333333,\"#9c179e\"],[0.4444444444444444,\"#bd3786\"],[0.5555555555555556,\"#d8576b\"],[0.6666666666666666,\"#ed7953\"],[0.7777777777777778,\"#fb9f3a\"],[0.8888888888888888,\"#fdca26\"],[1.0,\"#f0f921\"]],\"type\":\"heatmapgl\"}],\"histogram\":[{\"marker\":{\"pattern\":{\"fillmode\":\"overlay\",\"size\":10,\"solidity\":0.2}},\"type\":\"histogram\"}],\"histogram2d\":[{\"colorbar\":{\"outlinewidth\":0,\"ticks\":\"\"},\"colorscale\":[[0.0,\"#0d0887\"],[0.1111111111111111,\"#46039f\"],[0.2222222222222222,\"#7201a8\"],[0.3333333333333333,\"#9c179e\"],[0.4444444444444444,\"#bd3786\"],[0.5555555555555556,\"#d8576b\"],[0.6666666666666666,\"#ed7953\"],[0.7777777777777778,\"#fb9f3a\"],[0.8888888888888888,\"#fdca26\"],[1.0,\"#f0f921\"]],\"type\":\"histogram2d\"}],\"histogram2dcontour\":[{\"colorbar\":{\"outlinewidth\":0,\"ticks\":\"\"},\"colorscale\":[[0.0,\"#0d0887\"],[0.1111111111111111,\"#46039f\"],[0.2222222222222222,\"#7201a8\"],[0.3333333333333333,\"#9c179e\"],[0.4444444444444444,\"#bd3786\"],[0.5555555555555556,\"#d8576b\"],[0.6666666666666666,\"#ed7953\"],[0.7777777777777778,\"#fb9f3a\"],[0.8888888888888888,\"#fdca26\"],[1.0,\"#f0f921\"]],\"type\":\"histogram2dcontour\"}],\"mesh3d\":[{\"colorbar\":{\"outlinewidth\":0,\"ticks\":\"\"},\"type\":\"mesh3d\"}],\"parcoords\":[{\"line\":{\"colorbar\":{\"outlinewidth\":0,\"ticks\":\"\"}},\"type\":\"parcoords\"}],\"pie\":[{\"automargin\":true,\"type\":\"pie\"}],\"scatter\":[{\"marker\":{\"colorbar\":{\"outlinewidth\":0,\"ticks\":\"\"}},\"type\":\"scatter\"}],\"scatter3d\":[{\"line\":{\"colorbar\":{\"outlinewidth\":0,\"ticks\":\"\"}},\"marker\":{\"colorbar\":{\"outlinewidth\":0,\"ticks\":\"\"}},\"type\":\"scatter3d\"}],\"scattercarpet\":[{\"marker\":{\"colorbar\":{\"outlinewidth\":0,\"ticks\":\"\"}},\"type\":\"scattercarpet\"}],\"scattergeo\":[{\"marker\":{\"colorbar\":{\"outlinewidth\":0,\"ticks\":\"\"}},\"type\":\"scattergeo\"}],\"scattergl\":[{\"marker\":{\"colorbar\":{\"outlinewidth\":0,\"ticks\":\"\"}},\"type\":\"scattergl\"}],\"scattermapbox\":[{\"marker\":{\"colorbar\":{\"outlinewidth\":0,\"ticks\":\"\"}},\"type\":\"scattermapbox\"}],\"scatterpolar\":[{\"marker\":{\"colorbar\":{\"outlinewidth\":0,\"ticks\":\"\"}},\"type\":\"scatterpolar\"}],\"scatterpolargl\":[{\"marker\":{\"colorbar\":{\"outlinewidth\":0,\"ticks\":\"\"}},\"type\":\"scatterpolargl\"}],\"scatterternary\":[{\"marker\":{\"colorbar\":{\"outlinewidth\":0,\"ticks\":\"\"}},\"type\":\"scatterternary\"}],\"surface\":[{\"colorbar\":{\"outlinewidth\":0,\"ticks\":\"\"},\"colorscale\":[[0.0,\"#0d0887\"],[0.1111111111111111,\"#46039f\"],[0.2222222222222222,\"#7201a8\"],[0.3333333333333333,\"#9c179e\"],[0.4444444444444444,\"#bd3786\"],[0.5555555555555556,\"#d8576b\"],[0.6666666666666666,\"#ed7953\"],[0.7777777777777778,\"#fb9f3a\"],[0.8888888888888888,\"#fdca26\"],[1.0,\"#f0f921\"]],\"type\":\"surface\"}],\"table\":[{\"cells\":{\"fill\":{\"color\":\"#EBF0F8\"},\"line\":{\"color\":\"white\"}},\"header\":{\"fill\":{\"color\":\"#C8D4E3\"},\"line\":{\"color\":\"white\"}},\"type\":\"table\"}]},\"layout\":{\"annotationdefaults\":{\"arrowcolor\":\"#2a3f5f\",\"arrowhead\":0,\"arrowwidth\":1},\"autotypenumbers\":\"strict\",\"coloraxis\":{\"colorbar\":{\"outlinewidth\":0,\"ticks\":\"\"}},\"colorscale\":{\"diverging\":[[0,\"#8e0152\"],[0.1,\"#c51b7d\"],[0.2,\"#de77ae\"],[0.3,\"#f1b6da\"],[0.4,\"#fde0ef\"],[0.5,\"#f7f7f7\"],[0.6,\"#e6f5d0\"],[0.7,\"#b8e186\"],[0.8,\"#7fbc41\"],[0.9,\"#4d9221\"],[1,\"#276419\"]],\"sequential\":[[0.0,\"#0d0887\"],[0.1111111111111111,\"#46039f\"],[0.2222222222222222,\"#7201a8\"],[0.3333333333333333,\"#9c179e\"],[0.4444444444444444,\"#bd3786\"],[0.5555555555555556,\"#d8576b\"],[0.6666666666666666,\"#ed7953\"],[0.7777777777777778,\"#fb9f3a\"],[0.8888888888888888,\"#fdca26\"],[1.0,\"#f0f921\"]],\"sequentialminus\":[[0.0,\"#0d0887\"],[0.1111111111111111,\"#46039f\"],[0.2222222222222222,\"#7201a8\"],[0.3333333333333333,\"#9c179e\"],[0.4444444444444444,\"#bd3786\"],[0.5555555555555556,\"#d8576b\"],[0.6666666666666666,\"#ed7953\"],[0.7777777777777778,\"#fb9f3a\"],[0.8888888888888888,\"#fdca26\"],[1.0,\"#f0f921\"]]},\"colorway\":[\"#636efa\",\"#EF553B\",\"#00cc96\",\"#ab63fa\",\"#FFA15A\",\"#19d3f3\",\"#FF6692\",\"#B6E880\",\"#FF97FF\",\"#FECB52\"],\"font\":{\"color\":\"#2a3f5f\"},\"geo\":{\"bgcolor\":\"white\",\"lakecolor\":\"white\",\"landcolor\":\"#E5ECF6\",\"showlakes\":true,\"showland\":true,\"subunitcolor\":\"white\"},\"hoverlabel\":{\"align\":\"left\"},\"hovermode\":\"closest\",\"mapbox\":{\"style\":\"light\"},\"paper_bgcolor\":\"white\",\"plot_bgcolor\":\"#E5ECF6\",\"polar\":{\"angularaxis\":{\"gridcolor\":\"white\",\"linecolor\":\"white\",\"ticks\":\"\"},\"bgcolor\":\"#E5ECF6\",\"radialaxis\":{\"gridcolor\":\"white\",\"linecolor\":\"white\",\"ticks\":\"\"}},\"scene\":{\"xaxis\":{\"backgroundcolor\":\"#E5ECF6\",\"gridcolor\":\"white\",\"gridwidth\":2,\"linecolor\":\"white\",\"showbackground\":true,\"ticks\":\"\",\"zerolinecolor\":\"white\"},\"yaxis\":{\"backgroundcolor\":\"#E5ECF6\",\"gridcolor\":\"white\",\"gridwidth\":2,\"linecolor\":\"white\",\"showbackground\":true,\"ticks\":\"\",\"zerolinecolor\":\"white\"},\"zaxis\":{\"backgroundcolor\":\"#E5ECF6\",\"gridcolor\":\"white\",\"gridwidth\":2,\"linecolor\":\"white\",\"showbackground\":true,\"ticks\":\"\",\"zerolinecolor\":\"white\"}},\"shapedefaults\":{\"line\":{\"color\":\"#2a3f5f\"}},\"ternary\":{\"aaxis\":{\"gridcolor\":\"white\",\"linecolor\":\"white\",\"ticks\":\"\"},\"baxis\":{\"gridcolor\":\"white\",\"linecolor\":\"white\",\"ticks\":\"\"},\"bgcolor\":\"#E5ECF6\",\"caxis\":{\"gridcolor\":\"white\",\"linecolor\":\"white\",\"ticks\":\"\"}},\"title\":{\"x\":0.05},\"xaxis\":{\"automargin\":true,\"gridcolor\":\"white\",\"linecolor\":\"white\",\"ticks\":\"\",\"title\":{\"standoff\":15},\"zerolinecolor\":\"white\",\"zerolinewidth\":2},\"yaxis\":{\"automargin\":true,\"gridcolor\":\"white\",\"linecolor\":\"white\",\"ticks\":\"\",\"title\":{\"standoff\":15},\"zerolinecolor\":\"white\",\"zerolinewidth\":2}}},\"xaxis\":{\"anchor\":\"y\",\"domain\":[0.0,1.0],\"title\":{\"text\":\"weight\"}},\"yaxis\":{\"anchor\":\"x\",\"domain\":[0.0,1.0],\"title\":{\"text\":\"mpg\"}},\"legend\":{\"title\":{\"text\":\"origin\"},\"tracegroupgap\":0},\"margin\":{\"t\":60}},                        {\"responsive\": true}                    ).then(function(){\n",
       "                            \n",
       "var gd = document.getElementById('a818faae-d482-43f3-b6ac-87c0ee3d8443');\n",
       "var x = new MutationObserver(function (mutations, observer) {{\n",
       "        var display = window.getComputedStyle(gd).display;\n",
       "        if (!display || display === 'none') {{\n",
       "            console.log([gd, 'removed!']);\n",
       "            Plotly.purge(gd);\n",
       "            observer.disconnect();\n",
       "        }}\n",
       "}});\n",
       "\n",
       "// Listen for the removal of the full notebook cells\n",
       "var notebookContainer = gd.closest('#notebook-container');\n",
       "if (notebookContainer) {{\n",
       "    x.observe(notebookContainer, {childList: true});\n",
       "}}\n",
       "\n",
       "// Listen for the clearing of the current output cell\n",
       "var outputEl = gd.closest('.output');\n",
       "if (outputEl) {{\n",
       "    x.observe(outputEl, {childList: true});\n",
       "}}\n",
       "\n",
       "                        })                };                });            </script>        </div>"
      ]
     },
     "metadata": {},
     "output_type": "display_data"
    }
   ],
   "source": [
    "import pandas as pd #!\n",
    "import plotly.express as px\n",
    "\n",
    "url = 'https://raw.githubusercontent.com/mwaskom/seaborn-data/master/mpg.csv'\n",
    "df = pd.read_csv(url, index_col='name')\n",
    "px.scatter(x=df['weight'], y=df.mpg, data_frame=df,\n",
    "           color=df['origin'], hover_name=df.index)"
   ]
  }
 ],
 "metadata": {
  "authors": [
   {
    "blog": "https//blog.pythonresolver.com",
    "name": "Jesús López",
    "twitter": "https://twitter.com/jsulopz"
   }
  ],
  "kernelspec": {
   "display_name": "Python 3 (ipykernel)",
   "language": "python",
   "name": "python3"
  },
  "language_info": {
   "codemirror_mode": {
    "name": "ipython",
    "version": 3
   },
   "file_extension": ".py",
   "mimetype": "text/x-python",
   "name": "python",
   "nbconvert_exporter": "python",
   "pygments_lexer": "ipython3",
   "version": "3.9.7"
  },
  "title": "Master the Python Syntax",
  "toc-autonumbering": true
 },
 "nbformat": 4,
 "nbformat_minor": 5
}
