{
 "cells": [
  {
   "cell_type": "markdown",
   "id": "2cc3483d",
   "metadata": {},
   "source": [
    "<font size=\"+5\">#10 | Many Paths to Rome with Data Visualization</font>"
   ]
  },
  {
   "cell_type": "markdown",
   "id": "4e6e4b14-ad7c-4175-8601-879bd4be6cc2",
   "metadata": {},
   "source": [
    "\n",
    "<div class=\"alert alert-warning\">\n",
    "  <ul>\n",
    "    <li>\n",
    "      <b>Python</b> + <b>Data Science</b> Tutorials in ↓\n",
    "      <ul>\n",
    "        <li>\n",
    "          <a href=\"https://www.youtube.com/c/PythonResolver?sub_confirmation=1\"\n",
    "            >YouTube</a\n",
    "          >\n",
    "        </li>\n",
    "        <li>\n",
    "          <a href=\"https://blog.pythonresolver.com/\">Blog</a>\n",
    "        </li>\n",
    "        <li>\n",
    "          <a href=\"https://github.com/jsulopz/00-python-resolver-discipline\">GitHub</a>\n",
    "        </li>\n",
    "      </ul>\n",
    "    </li>\n",
    "    <li>\n",
    "      Author: <a href=\"https://twitter.com/jsulopz\"><b>@jsulopz</b></a>\n",
    "    </li>\n",
    "  </ul>\n",
    "</div>\n",
    "\n",
    "<a href=\"https://colab.research.google.com/github/jsulopz/resolving-python-data-science/blob/main/10_Many%20Paths%20to%20Rome%20with%20Data%20Visualization/10_many-paths-dataviz_session.ipynb\">\n",
    "  <img src=\"https://colab.research.google.com/assets/colab-badge.svg\" alt=\"Open In Colab\"/>\n",
    "</a>\n"
   ]
  },
  {
   "cell_type": "markdown",
   "id": "de6cb613",
   "metadata": {},
   "source": [
    "# Discipline to Search Solutions in Google"
   ]
  },
  {
   "cell_type": "markdown",
   "id": "d190b76b",
   "metadata": {},
   "source": [
    "> Apply the following steps when **looking for solutions in Google**:\n",
    ">\n",
    "> 1. **Necesity**: How to load an Excel in Python?\n",
    "> 2. **Search in Google**: by keywords\n",
    ">   - `load excel python`\n",
    ">   - ~~how to load excel in python~~\n",
    "> 3. **Solution**: What's the `function()` that loads an Excel in Python?\n",
    ">   - A Function to Programming is what the Atom to Phisics.\n",
    ">   - Every time you want to do something in programming\n",
    ">   - **You will need a `function()`** to make it\n",
    ">   - Theferore, you must **detect parenthesis `()`**\n",
    ">   - Out of all the words that you see in a website\n",
    ">   - Because they indicate the presence of a `function()`."
   ]
  },
  {
   "cell_type": "markdown",
   "id": "510f29e2",
   "metadata": {},
   "source": [
    "# Load the Data"
   ]
  },
  {
   "cell_type": "markdown",
   "id": "480d9891",
   "metadata": {},
   "source": [
    "> - Download [this Excel](https://github.com/sotastica/data/raw/main/internet_usage_spain.xlsx).\n",
    "> - Apply the above discipline and make it happen 🚀\n",
    "> - I want to see the table, c'mon 👇"
   ]
  },
  {
   "cell_type": "code",
   "execution_count": null,
   "id": "daee04ec",
   "metadata": {},
   "outputs": [],
   "source": []
  },
  {
   "cell_type": "markdown",
   "id": "98d16690",
   "metadata": {},
   "source": [
    "# `DataFrame` Manipulation"
   ]
  },
  {
   "cell_type": "markdown",
   "id": "3803462d",
   "metadata": {},
   "source": [
    "> Could we solve the following questions with a `DataFrame` **object**?"
   ]
  },
  {
   "cell_type": "markdown",
   "id": "fac241dc",
   "metadata": {},
   "source": [
    "## How many people are in each study category?"
   ]
  },
  {
   "cell_type": "markdown",
   "id": "0f382868-8908-4895-b8f5-96aec113a96c",
   "metadata": {},
   "source": [
    "> 1. Check where is the `study category`\n",
    "> 2. Probably in the DataFrame `df`\n",
    "> 3. Show **just** this column"
   ]
  },
  {
   "cell_type": "code",
   "execution_count": null,
   "id": "a954fbcf",
   "metadata": {},
   "outputs": [],
   "source": []
  },
  {
   "cell_type": "markdown",
   "id": "9c301767-9545-4081-833d-819bc73b31c8",
   "metadata": {},
   "source": [
    "> - Apply the `intuition` and check if there is some `function()`\n",
    "> - **within the object**"
   ]
  },
  {
   "cell_type": "code",
   "execution_count": null,
   "id": "41974210-f873-454d-8e27-8cf85ed55814",
   "metadata": {},
   "outputs": [],
   "source": []
  },
  {
   "cell_type": "code",
   "execution_count": null,
   "id": "bc673c7c-1fc3-4c55-b872-9124e2049a62",
   "metadata": {},
   "outputs": [],
   "source": []
  },
  {
   "cell_type": "code",
   "execution_count": null,
   "id": "d4d853fb-ab31-4c3e-8cfb-b1ad08da10d8",
   "metadata": {},
   "outputs": [],
   "source": []
  },
  {
   "cell_type": "markdown",
   "id": "e025e6ad-6f00-4702-a6d0-7d13f950678d",
   "metadata": {},
   "source": [
    "> - **Create a `plot` to represent the previous result**"
   ]
  },
  {
   "cell_type": "code",
   "execution_count": null,
   "id": "c36c2159-4280-4f63-8f3f-9411a727ee94",
   "metadata": {},
   "outputs": [],
   "source": []
  },
  {
   "cell_type": "code",
   "execution_count": null,
   "id": "089cb344-05d6-45b2-a5bf-f8efa9e2f3ef",
   "metadata": {},
   "outputs": [],
   "source": []
  },
  {
   "cell_type": "markdown",
   "id": "c0f13617-daa9-497a-9e99-eacc5ae1a987",
   "metadata": {},
   "source": [
    "> - [ ] Now do it with a `DataFrame`"
   ]
  },
  {
   "cell_type": "code",
   "execution_count": null,
   "id": "44bb9940-398f-4d64-bde5-309f58b246cd",
   "metadata": {},
   "outputs": [],
   "source": []
  },
  {
   "cell_type": "code",
   "execution_count": null,
   "id": "ac49e944-973d-4477-ad09-e3adc4a40272",
   "metadata": {},
   "outputs": [],
   "source": []
  },
  {
   "cell_type": "code",
   "execution_count": null,
   "id": "1c00d7d9-15e9-4ecf-ba8c-0027be5bc8e6",
   "metadata": {},
   "outputs": [],
   "source": []
  },
  {
   "cell_type": "code",
   "execution_count": null,
   "id": "4874e5cc-19e7-4451-a3f1-a03b67632036",
   "metadata": {},
   "outputs": [],
   "source": []
  },
  {
   "cell_type": "markdown",
   "id": "1c3b9144-fea5-40fc-a405-7c2516c2b5bc",
   "metadata": {},
   "source": [
    "> - [ ] Which way you'd rather prefer?"
   ]
  },
  {
   "cell_type": "markdown",
   "id": "3f627e50",
   "metadata": {},
   "source": [
    "## Average weight by sex"
   ]
  },
  {
   "cell_type": "code",
   "execution_count": null,
   "id": "9bc579de",
   "metadata": {},
   "outputs": [],
   "source": []
  },
  {
   "cell_type": "code",
   "execution_count": null,
   "id": "6bda5450-9c9f-45e8-afac-9a7fe98a79b3",
   "metadata": {},
   "outputs": [],
   "source": []
  },
  {
   "cell_type": "code",
   "execution_count": null,
   "id": "9759d0a8-e929-4508-839e-7e2f3a81c6bb",
   "metadata": {},
   "outputs": [],
   "source": []
  },
  {
   "cell_type": "code",
   "execution_count": null,
   "id": "01ed1860-58d9-40c9-9b3e-6ae2b75f096e",
   "metadata": {},
   "outputs": [],
   "source": []
  },
  {
   "cell_type": "code",
   "execution_count": null,
   "id": "0a53b818-5f0b-491d-b3ab-65e3dc7d4f36",
   "metadata": {},
   "outputs": [],
   "source": []
  },
  {
   "cell_type": "code",
   "execution_count": null,
   "id": "67e92ecb-6f5a-4527-b7e0-d06cfaa953fe",
   "metadata": {},
   "outputs": [],
   "source": []
  },
  {
   "cell_type": "code",
   "execution_count": null,
   "id": "cf504122-f458-4a79-935f-9f00ad7d458d",
   "metadata": {},
   "outputs": [],
   "source": []
  },
  {
   "cell_type": "markdown",
   "id": "7947c496-c22f-4666-926e-9f40f1e736ea",
   "metadata": {},
   "source": [
    "> - [ ] Can we apply `get_group()` to `df`?"
   ]
  },
  {
   "cell_type": "code",
   "execution_count": null,
   "id": "cce91ab0-3fb2-43c8-9301-b4b5ddfe9a7e",
   "metadata": {},
   "outputs": [],
   "source": []
  },
  {
   "cell_type": "markdown",
   "id": "d07356af-c2b5-45ef-870d-8e181a0819a9",
   "metadata": {},
   "source": [
    "> - Why not?\n",
    "> - It isn't a ..."
   ]
  },
  {
   "cell_type": "code",
   "execution_count": null,
   "id": "f3ad3bae-2632-4bda-a4e7-fbcb61ef2c2a",
   "metadata": {},
   "outputs": [],
   "source": []
  },
  {
   "cell_type": "markdown",
   "id": "1aa5c969-83f2-43ff-a3be-233777819b9b",
   "metadata": {},
   "source": [
    "> - It is a simple ..."
   ]
  },
  {
   "cell_type": "code",
   "execution_count": null,
   "id": "729d0a72-1d2d-42ef-be82-2fd8c4f0863a",
   "metadata": {},
   "outputs": [],
   "source": []
  },
  {
   "cell_type": "markdown",
   "id": "6b74622b-02e7-4b28-8372-ac06fa022210",
   "metadata": {},
   "source": [
    "> - Let's not miss the point!\n",
    "> - We need to compute the average `weight` by each gender ↓"
   ]
  },
  {
   "cell_type": "code",
   "execution_count": null,
   "id": "e9feaf39-2bd7-4904-b86b-e9e7b3bd8a43",
   "metadata": {},
   "outputs": [],
   "source": []
  },
  {
   "cell_type": "code",
   "execution_count": null,
   "id": "0fe85881-19f4-4a8f-923d-deaf1a6e4f71",
   "metadata": {},
   "outputs": [],
   "source": []
  },
  {
   "cell_type": "markdown",
   "id": "085aaaf4-c3f7-4394-ba66-bdf6f14c6e6f",
   "metadata": {},
   "source": [
    "> - [ ] Altogether"
   ]
  },
  {
   "cell_type": "code",
   "execution_count": null,
   "id": "bed18de1-2ec7-4c1a-9fad-39ec237473cf",
   "metadata": {},
   "outputs": [],
   "source": []
  },
  {
   "cell_type": "code",
   "execution_count": null,
   "id": "4871da47-70f3-4f02-bbe0-4fbab1509fc5",
   "metadata": {},
   "outputs": [],
   "source": []
  },
  {
   "cell_type": "markdown",
   "id": "59a656ff-4e74-412c-ab8c-f1389f58ef8d",
   "metadata": {},
   "source": [
    "> - **Create a `plot` to represent the previous result**"
   ]
  },
  {
   "cell_type": "code",
   "execution_count": null,
   "id": "129fe63e-1f8d-44b9-9d70-173e19c351d5",
   "metadata": {},
   "outputs": [],
   "source": []
  },
  {
   "cell_type": "markdown",
   "id": "bd0f211f",
   "metadata": {},
   "source": [
    "## Weight average by internet usage and sex"
   ]
  },
  {
   "cell_type": "code",
   "execution_count": null,
   "id": "74818f7f-b883-430e-984f-853d6f982976",
   "metadata": {},
   "outputs": [],
   "source": []
  },
  {
   "cell_type": "code",
   "execution_count": null,
   "id": "51805ee5",
   "metadata": {},
   "outputs": [],
   "source": []
  },
  {
   "cell_type": "code",
   "execution_count": null,
   "id": "5f63ac4b-5b67-49eb-8ffa-3d922174dd07",
   "metadata": {},
   "outputs": [],
   "source": []
  },
  {
   "cell_type": "code",
   "execution_count": null,
   "id": "161b4ddc-13c1-4e89-b19c-1062a69366cb",
   "metadata": {},
   "outputs": [],
   "source": []
  },
  {
   "cell_type": "code",
   "execution_count": null,
   "id": "0c04c8d5-fc09-4de3-9def-ba9bd77ec3f9",
   "metadata": {},
   "outputs": [],
   "source": []
  },
  {
   "cell_type": "code",
   "execution_count": null,
   "id": "4bc0be24-38f7-43c6-9e58-5368a8b80932",
   "metadata": {},
   "outputs": [],
   "source": []
  },
  {
   "cell_type": "code",
   "execution_count": null,
   "id": "69172ab7-b86e-46a5-8c11-7c952f0454c3",
   "metadata": {},
   "outputs": [],
   "source": []
  },
  {
   "cell_type": "code",
   "execution_count": null,
   "id": "eb96e368-843b-4f97-81c7-c4300091a68b",
   "metadata": {},
   "outputs": [],
   "source": []
  },
  {
   "cell_type": "markdown",
   "id": "9e216c44-8d34-4453-b066-a3a32003000c",
   "metadata": {},
   "source": [
    "> - **Create a `plot` to represent the previous result**"
   ]
  },
  {
   "cell_type": "code",
   "execution_count": null,
   "id": "e5854e70-3f44-4323-9d10-629ee16a29e3",
   "metadata": {},
   "outputs": [],
   "source": []
  },
  {
   "cell_type": "markdown",
   "id": "9527df56",
   "metadata": {},
   "source": [
    "# Data Visualization with Python"
   ]
  },
  {
   "cell_type": "markdown",
   "id": "7a8a94b1",
   "metadata": {},
   "source": [
    "## Load Another Dataset"
   ]
  },
  {
   "cell_type": "markdown",
   "id": "54a25d43",
   "metadata": {},
   "source": [
    "> We load this [csv file](https://raw.githubusercontent.com/mwaskom/seaborn-data/master/tips.csv).\n",
    "> ¿What does it mean `csv`?\n",
    "> ¿Why don't we use an `Excel` to better see the data?"
   ]
  },
  {
   "cell_type": "code",
   "execution_count": null,
   "id": "64d83365-d2f3-4b52-bdd9-37c4b02da50e",
   "metadata": {},
   "outputs": [],
   "source": []
  },
  {
   "cell_type": "code",
   "execution_count": null,
   "id": "4ce31869",
   "metadata": {},
   "outputs": [],
   "source": []
  },
  {
   "cell_type": "markdown",
   "id": "71b64dcb",
   "metadata": {},
   "source": [
    "## Scatterplot"
   ]
  },
  {
   "cell_type": "markdown",
   "id": "ffcf2783",
   "metadata": {},
   "source": [
    "### With `Matplotlib` library"
   ]
  },
  {
   "cell_type": "markdown",
   "id": "6a446edb",
   "metadata": {},
   "source": [
    "> Scatterplot"
   ]
  },
  {
   "cell_type": "code",
   "execution_count": null,
   "id": "58bbb14f",
   "metadata": {},
   "outputs": [],
   "source": []
  },
  {
   "cell_type": "markdown",
   "id": "087472ac",
   "metadata": {},
   "source": [
    "### With `Seaborn` library"
   ]
  },
  {
   "cell_type": "markdown",
   "id": "e83ad76f",
   "metadata": {},
   "source": [
    "> Scatterplot"
   ]
  },
  {
   "cell_type": "code",
   "execution_count": null,
   "id": "74a79114-055c-4446-8919-c9451173c668",
   "metadata": {},
   "outputs": [],
   "source": []
  },
  {
   "cell_type": "code",
   "execution_count": null,
   "id": "20d5ac3a-3b31-48e3-a1e7-c35ebd8ba036",
   "metadata": {},
   "outputs": [],
   "source": []
  },
  {
   "cell_type": "code",
   "execution_count": null,
   "id": "45f23fa9-26f7-4015-8876-5416538eb05b",
   "metadata": {},
   "outputs": [],
   "source": []
  },
  {
   "cell_type": "markdown",
   "id": "8dcd9849",
   "metadata": {},
   "source": [
    "### With `Plotly` library"
   ]
  },
  {
   "cell_type": "markdown",
   "id": "e7b22ee1",
   "metadata": {},
   "source": [
    "> Scatterplot"
   ]
  },
  {
   "cell_type": "code",
   "execution_count": null,
   "id": "0ba2afe9-908e-47ad-91b1-3b6c782c8984",
   "metadata": {},
   "outputs": [],
   "source": []
  },
  {
   "cell_type": "code",
   "execution_count": null,
   "id": "5db035ca-ebb6-4db1-9870-00166c579502",
   "metadata": {},
   "outputs": [],
   "source": []
  },
  {
   "cell_type": "code",
   "execution_count": null,
   "id": "747cf6f6-57fa-4e69-9014-541d8aec1c86",
   "metadata": {},
   "outputs": [],
   "source": []
  },
  {
   "cell_type": "code",
   "execution_count": null,
   "id": "6bcae28c-94fa-4e41-b0e6-7b4fe03d74f4",
   "metadata": {},
   "outputs": [],
   "source": []
  },
  {
   "cell_type": "code",
   "execution_count": null,
   "id": "84bbeeee-29e7-4f63-ac01-08738fca1682",
   "metadata": {},
   "outputs": [],
   "source": []
  },
  {
   "cell_type": "markdown",
   "id": "03eb349f",
   "metadata": {},
   "source": [
    "## Other Data Visualization Figures"
   ]
  },
  {
   "cell_type": "markdown",
   "id": "7d58a290",
   "metadata": {},
   "source": [
    "### Histogram"
   ]
  },
  {
   "cell_type": "code",
   "execution_count": null,
   "id": "1f1a3e30",
   "metadata": {},
   "outputs": [],
   "source": []
  },
  {
   "cell_type": "code",
   "execution_count": null,
   "id": "0e978dde-fbf4-462b-83fb-deb9ed962710",
   "metadata": {},
   "outputs": [],
   "source": []
  },
  {
   "cell_type": "code",
   "execution_count": null,
   "id": "a8bbe974-16ba-4cdf-8a6a-d9367f9ecc95",
   "metadata": {},
   "outputs": [],
   "source": []
  },
  {
   "cell_type": "markdown",
   "id": "405b778b",
   "metadata": {},
   "source": [
    "### Boxplot"
   ]
  },
  {
   "cell_type": "code",
   "execution_count": null,
   "id": "16e910fd-358c-4117-8b95-594f8d5a1620",
   "metadata": {},
   "outputs": [],
   "source": []
  },
  {
   "cell_type": "code",
   "execution_count": null,
   "id": "a021eb91-19fa-49bd-9873-75250262d75a",
   "metadata": {},
   "outputs": [],
   "source": []
  },
  {
   "cell_type": "code",
   "execution_count": null,
   "id": "dd72dc2d-4ea7-428a-9e79-817ee57946a2",
   "metadata": {},
   "outputs": [],
   "source": []
  },
  {
   "cell_type": "markdown",
   "id": "f43703cc",
   "metadata": {},
   "source": [
    "### Bar Chart"
   ]
  },
  {
   "cell_type": "code",
   "execution_count": null,
   "id": "8fa9e939-37ea-42ab-9beb-54dd2f7f0ea3",
   "metadata": {},
   "outputs": [],
   "source": []
  },
  {
   "cell_type": "code",
   "execution_count": null,
   "id": "ceb4a074-2f3e-4a6a-955d-bb2cd46b1a77",
   "metadata": {},
   "outputs": [],
   "source": []
  },
  {
   "cell_type": "code",
   "execution_count": null,
   "id": "7de29367-c6a6-4cbd-81c1-10804714754d",
   "metadata": {},
   "outputs": [],
   "source": []
  },
  {
   "cell_type": "code",
   "execution_count": null,
   "id": "569ac9eb-4554-488a-9ea7-5551a5a677d1",
   "metadata": {},
   "outputs": [],
   "source": []
  },
  {
   "cell_type": "code",
   "execution_count": null,
   "id": "3a4bbc31-de69-4748-85c8-5ab6334eb20c",
   "metadata": {},
   "outputs": [],
   "source": []
  },
  {
   "cell_type": "code",
   "execution_count": null,
   "id": "008a58d8-a6fb-4f20-b9c9-65bdcdd0c001",
   "metadata": {},
   "outputs": [],
   "source": []
  },
  {
   "cell_type": "code",
   "execution_count": null,
   "id": "9b6d184b-da29-45cd-a603-4a9596a74172",
   "metadata": {},
   "outputs": [],
   "source": []
  },
  {
   "cell_type": "code",
   "execution_count": null,
   "id": "36666c2a-c270-40b2-9d4a-f58935e1a6a7",
   "metadata": {},
   "outputs": [],
   "source": []
  },
  {
   "cell_type": "code",
   "execution_count": null,
   "id": "55b87c50-ded2-422c-9b30-fe60987cce31",
   "metadata": {},
   "outputs": [],
   "source": []
  },
  {
   "cell_type": "code",
   "execution_count": null,
   "id": "037ca308-deca-43aa-b829-8dcf28a7d726",
   "metadata": {},
   "outputs": [],
   "source": []
  },
  {
   "cell_type": "code",
   "execution_count": null,
   "id": "abca63e7-53b6-4ed3-b6f4-8ccfe861a042",
   "metadata": {},
   "outputs": [],
   "source": []
  },
  {
   "cell_type": "markdown",
   "id": "b42479de",
   "metadata": {},
   "source": [
    "### Pie Plot"
   ]
  },
  {
   "cell_type": "code",
   "execution_count": null,
   "id": "03d42606",
   "metadata": {},
   "outputs": [],
   "source": []
  },
  {
   "cell_type": "code",
   "execution_count": null,
   "id": "28cc78ea-5273-4e3e-ae92-f39da1cb811d",
   "metadata": {},
   "outputs": [],
   "source": []
  },
  {
   "cell_type": "code",
   "execution_count": null,
   "id": "cf83f903-fad4-425a-95b1-3dc1ae2d0c59",
   "metadata": {},
   "outputs": [],
   "source": []
  },
  {
   "cell_type": "markdown",
   "id": "293a27e3",
   "metadata": {},
   "source": [
    "### Maps"
   ]
  },
  {
   "cell_type": "code",
   "execution_count": null,
   "id": "3e38dffc",
   "metadata": {},
   "outputs": [],
   "source": []
  }
 ],
 "metadata": {
  "authors": [
   {
    "blog": "https//blog.pythonresolver.com",
    "name": "Jesús López",
    "twitter": "https://twitter.com/jsulopz"
   }
  ],
  "interpreter": {
   "hash": "414fd6d7c0f0aefb3d4e2db41edbeb0df03134e10d94a689550561b640a17652"
  },
  "kernelspec": {
   "display_name": "Python 3 (ipykernel)",
   "language": "python",
   "name": "python3"
  },
  "language_info": {
   "codemirror_mode": {
    "name": "ipython",
    "version": 3
   },
   "file_extension": ".py",
   "mimetype": "text/x-python",
   "name": "python",
   "nbconvert_exporter": "python",
   "pygments_lexer": "ipython3",
   "version": "3.9.7"
  },
  "title": "Many Paths to Rome with Data Visualization",
  "toc-autonumbering": true
 },
 "nbformat": 4,
 "nbformat_minor": 5
}
