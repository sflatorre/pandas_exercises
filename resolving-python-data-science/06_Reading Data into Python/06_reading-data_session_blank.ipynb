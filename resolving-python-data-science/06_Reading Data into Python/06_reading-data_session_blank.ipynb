{
 "cells": [
  {
   "cell_type": "markdown",
   "id": "0964ee3c-4460-4820-b89f-14e4c1ef7b4d",
   "metadata": {},
   "source": [
    "<font size=\"+5\">#06 | Reading Data into Python</font>"
   ]
  },
  {
   "cell_type": "markdown",
   "id": "2938e36c-43b4-4e42-a014-225bb30d30a7",
   "metadata": {},
   "source": [
    "\n",
    "<div class=\"alert alert-warning\">\n",
    "  <ul>\n",
    "    <li>\n",
    "      <b>Python</b> + <b>Data Science</b> Tutorials in ↓\n",
    "      <ul>\n",
    "        <li>\n",
    "          <a href=\"https://www.youtube.com/c/PythonResolver?sub_confirmation=1\"\n",
    "            >YouTube</a\n",
    "          >\n",
    "        </li>\n",
    "        <li>\n",
    "          <a href=\"https://blog.pythonresolver.com/\">Blog</a>\n",
    "        </li>\n",
    "        <li>\n",
    "          <a href=\"https://github.com/jsulopz/00-python-resolver-discipline\">GitHub</a>\n",
    "        </li>\n",
    "      </ul>\n",
    "    </li>\n",
    "    <li>\n",
    "      Author: <a href=\"https://twitter.com/jsulopz\"><b>@jsulopz</b></a>\n",
    "    </li>\n",
    "  </ul>\n",
    "</div>\n",
    "\n",
    "<a href=\"https://colab.research.google.com/github/jsulopz/resolving-python-data-science/blob/main/06_Reading%20Data%20into%20Python/06_reading-data_session.ipynb\">\n",
    "  <img src=\"https://colab.research.google.com/assets/colab-badge.svg\" alt=\"Open In Colab\"/>\n",
    "</a>\n"
   ]
  },
  {
   "cell_type": "markdown",
   "id": "6dbaa86a-3f40-4a59-b316-6e288c48549a",
   "metadata": {},
   "source": [
    "## Read data from a `json`"
   ]
  },
  {
   "cell_type": "code",
   "execution_count": null,
   "id": "5ac68757-3101-4c24-99e1-12df21ae49b1",
   "metadata": {},
   "outputs": [],
   "source": []
  },
  {
   "cell_type": "code",
   "execution_count": null,
   "id": "1543a76c-6d60-438d-9f08-a48f2f2bb812",
   "metadata": {},
   "outputs": [],
   "source": []
  },
  {
   "cell_type": "code",
   "execution_count": null,
   "id": "ffcee79e-5484-4432-b3ce-03227eff074f",
   "metadata": {},
   "outputs": [],
   "source": []
  },
  {
   "cell_type": "code",
   "execution_count": null,
   "id": "defeb0b6-c868-4ea0-a2cf-cdb3c436dbef",
   "metadata": {},
   "outputs": [],
   "source": []
  },
  {
   "cell_type": "code",
   "execution_count": null,
   "id": "925270e7-0986-4049-b6e4-e91e5a2f6f32",
   "metadata": {},
   "outputs": [],
   "source": []
  },
  {
   "cell_type": "code",
   "execution_count": null,
   "id": "b69013cb-797f-4031-925c-39fcd5b652e0",
   "metadata": {},
   "outputs": [],
   "source": []
  },
  {
   "cell_type": "code",
   "execution_count": null,
   "id": "9120495c-9302-40b7-878d-c364e7a0b339",
   "metadata": {},
   "outputs": [],
   "source": []
  },
  {
   "cell_type": "markdown",
   "id": "ff9fb846-0c7d-44ec-acb2-fc01073df1f9",
   "metadata": {},
   "source": [
    "## Read data from a `csv`"
   ]
  },
  {
   "cell_type": "code",
   "execution_count": null,
   "id": "efd41bbb-01dd-44c4-9a4f-d3f6d78c29ac",
   "metadata": {},
   "outputs": [],
   "source": []
  },
  {
   "cell_type": "markdown",
   "id": "a8a7d1fe-c9fe-4997-ae48-f39a5aac9087",
   "metadata": {},
   "source": [
    "## Read data from an `Excel` website"
   ]
  },
  {
   "cell_type": "code",
   "execution_count": null,
   "id": "a2ec00d9-81a9-4eab-8d59-38d7062b63cc",
   "metadata": {},
   "outputs": [],
   "source": []
  },
  {
   "cell_type": "markdown",
   "id": "b89ccc14-bc3e-450a-bb27-631de1d81e59",
   "metadata": {},
   "source": [
    "## Read data from an `html` website"
   ]
  },
  {
   "cell_type": "code",
   "execution_count": null,
   "id": "71ecded1-e48c-493f-8b81-81cd2f89a702",
   "metadata": {},
   "outputs": [],
   "source": []
  },
  {
   "cell_type": "markdown",
   "id": "24740ef8-02a3-427e-bbe6-efe6fba656b9",
   "metadata": {},
   "source": [
    "## Read data from a `database`"
   ]
  },
  {
   "cell_type": "code",
   "execution_count": null,
   "id": "05ef5569-a482-4af7-9131-5ed03761bdea",
   "metadata": {},
   "outputs": [],
   "source": []
  },
  {
   "cell_type": "code",
   "execution_count": null,
   "id": "4124faf0-265d-4607-8cf5-5d17b19c4e32",
   "metadata": {},
   "outputs": [],
   "source": []
  }
 ],
 "metadata": {
  "authors": [
   {
    "blog": "https//blog.pythonresolver.com",
    "name": "Jesús López",
    "twitter": "https://twitter.com/jsulopz"
   }
  ],
  "kernelspec": {
   "display_name": "Python 3 (ipykernel)",
   "language": "python",
   "name": "python3"
  },
  "language_info": {
   "codemirror_mode": {
    "name": "ipython",
    "version": 3
   },
   "file_extension": ".py",
   "mimetype": "text/x-python",
   "name": "python",
   "nbconvert_exporter": "python",
   "pygments_lexer": "ipython3",
   "version": "3.9.7"
  },
  "title": "Reading Data into Python"
 },
 "nbformat": 4,
 "nbformat_minor": 5
}
