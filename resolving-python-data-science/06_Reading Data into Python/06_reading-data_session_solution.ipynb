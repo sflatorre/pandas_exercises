{
 "cells": [
  {
   "cell_type": "markdown",
   "id": "0964ee3c-4460-4820-b89f-14e4c1ef7b4d",
   "metadata": {},
   "source": [
    "<font size=\"+5\">#06 | Reading Data into Python</font>"
   ]
  },
  {
   "cell_type": "markdown",
   "id": "2938e36c-43b4-4e42-a014-225bb30d30a7",
   "metadata": {},
   "source": [
    "\n",
    "<div class=\"alert alert-warning\">\n",
    "  <ul>\n",
    "    <li>\n",
    "      <b>Python</b> + <b>Data Science</b> Tutorials in ↓\n",
    "      <ul>\n",
    "        <li>\n",
    "          <a href=\"https://www.youtube.com/c/PythonResolver?sub_confirmation=1\"\n",
    "            >YouTube</a\n",
    "          >\n",
    "        </li>\n",
    "        <li>\n",
    "          <a href=\"https://blog.pythonresolver.com/\">Blog</a>\n",
    "        </li>\n",
    "        <li>\n",
    "          <a href=\"https://github.com/jsulopz/00-python-resolver-discipline\">GitHub</a>\n",
    "        </li>\n",
    "      </ul>\n",
    "    </li>\n",
    "    <li>\n",
    "      Author: <a href=\"https://twitter.com/jsulopz\"><b>@jsulopz</b></a>\n",
    "    </li>\n",
    "  </ul>\n",
    "</div>\n",
    "\n",
    "<a href=\"https://colab.research.google.com/github/jsulopz/resolving-python-data-science/blob/main/06_Reading%20Data%20into%20Python/06_reading-data_session.ipynb\">\n",
    "  <img src=\"https://colab.research.google.com/assets/colab-badge.svg\" alt=\"Open In Colab\"/>\n",
    "</a>\n"
   ]
  },
  {
   "cell_type": "markdown",
   "id": "6dbaa86a-3f40-4a59-b316-6e288c48549a",
   "metadata": {},
   "source": [
    "## Read data from a `json`"
   ]
  },
  {
   "cell_type": "code",
   "execution_count": 38,
   "id": "5ac68757-3101-4c24-99e1-12df21ae49b1",
   "metadata": {},
   "outputs": [],
   "source": [
    "df = pd.read_json('https://raw.githubusercontent.com/jsulopz/data/main/football_players_stats.json')"
   ]
  },
  {
   "cell_type": "code",
   "execution_count": 41,
   "id": "1543a76c-6d60-438d-9f08-a48f2f2bb812",
   "metadata": {},
   "outputs": [],
   "source": [
    "df = df.transpose()"
   ]
  },
  {
   "cell_type": "code",
   "execution_count": 43,
   "id": "ffcee79e-5484-4432-b3ce-03227eff074f",
   "metadata": {},
   "outputs": [
    {
     "data": {
      "text/plain": [
       "CR7            0.746479\n",
       "Messi          0.848750\n",
       "Lewandowski    0.752266\n",
       "Benzema        0.502035\n",
       "dtype: float64"
      ]
     },
     "execution_count": 43,
     "metadata": {},
     "output_type": "execute_result"
    }
   ],
   "source": [
    "df.goles/df.partidos"
   ]
  },
  {
   "cell_type": "code",
   "execution_count": 44,
   "id": "defeb0b6-c868-4ea0-a2cf-cdb3c436dbef",
   "metadata": {},
   "outputs": [],
   "source": [
    "res = df.goles/df.partidos"
   ]
  },
  {
   "cell_type": "code",
   "execution_count": 47,
   "id": "925270e7-0986-4049-b6e4-e91e5a2f6f32",
   "metadata": {},
   "outputs": [
    {
     "data": {
      "text/plain": [
       "Messi          0.848750\n",
       "Lewandowski    0.752266\n",
       "CR7            0.746479\n",
       "Benzema        0.502035\n",
       "dtype: float64"
      ]
     },
     "execution_count": 47,
     "metadata": {},
     "output_type": "execute_result"
    }
   ],
   "source": [
    "res.sort_values(ascending=False)"
   ]
  },
  {
   "cell_type": "code",
   "execution_count": 48,
   "id": "b69013cb-797f-4031-925c-39fcd5b652e0",
   "metadata": {},
   "outputs": [
    {
     "data": {
      "text/plain": [
       "<AxesSubplot:>"
      ]
     },
     "execution_count": 48,
     "metadata": {},
     "output_type": "execute_result"
    },
    {
     "data": {
      "image/png": "[encoded data removed]",
      "text/plain": [
       "<Figure size 432x288 with 1 Axes>"
      ]
     },
     "metadata": {
      "needs_background": "light"
     },
     "output_type": "display_data"
    }
   ],
   "source": [
    "res.sort_values(ascending=False).plot(kind='bar')"
   ]
  },
  {
   "cell_type": "code",
   "execution_count": 49,
   "id": "9120495c-9302-40b7-878d-c364e7a0b339",
   "metadata": {},
   "outputs": [
    {
     "data": {
      "text/html": [
       "<div>\n",
       "<style scoped>\n",
       "    .dataframe tbody tr th:only-of-type {\n",
       "        vertical-align: middle;\n",
       "    }\n",
       "\n",
       "    .dataframe tbody tr th {\n",
       "        vertical-align: top;\n",
       "    }\n",
       "\n",
       "    .dataframe thead th {\n",
       "        text-align: right;\n",
       "    }\n",
       "</style>\n",
       "<table border=\"1\" class=\"dataframe\">\n",
       "  <thead>\n",
       "    <tr style=\"text-align: right;\">\n",
       "      <th></th>\n",
       "      <th>partidos</th>\n",
       "      <th>goles</th>\n",
       "      <th>asistencias</th>\n",
       "      <th>tarjetas amarillas</th>\n",
       "      <th>tarjetas rojas</th>\n",
       "      <th>segundas amarillas</th>\n",
       "      <th>minutos jugados</th>\n",
       "    </tr>\n",
       "  </thead>\n",
       "  <tbody>\n",
       "    <tr>\n",
       "      <th>CR7</th>\n",
       "      <td>923</td>\n",
       "      <td>689</td>\n",
       "      <td>231</td>\n",
       "      <td>112</td>\n",
       "      <td>7</td>\n",
       "      <td>4</td>\n",
       "      <td>75372</td>\n",
       "    </tr>\n",
       "    <tr>\n",
       "      <th>Messi</th>\n",
       "      <td>800</td>\n",
       "      <td>679</td>\n",
       "      <td>312</td>\n",
       "      <td>82</td>\n",
       "      <td>1</td>\n",
       "      <td>0</td>\n",
       "      <td>65299</td>\n",
       "    </tr>\n",
       "    <tr>\n",
       "      <th>Lewandowski</th>\n",
       "      <td>662</td>\n",
       "      <td>498</td>\n",
       "      <td>131</td>\n",
       "      <td>68</td>\n",
       "      <td>0</td>\n",
       "      <td>1</td>\n",
       "      <td>65299</td>\n",
       "    </tr>\n",
       "    <tr>\n",
       "      <th>Benzema</th>\n",
       "      <td>737</td>\n",
       "      <td>370</td>\n",
       "      <td>182</td>\n",
       "      <td>15</td>\n",
       "      <td>0</td>\n",
       "      <td>0</td>\n",
       "      <td>52245</td>\n",
       "    </tr>\n",
       "  </tbody>\n",
       "</table>\n",
       "</div>"
      ],
      "text/plain": [
       "             partidos  goles  asistencias  tarjetas amarillas  tarjetas rojas  \\\n",
       "CR7               923    689          231                 112               7   \n",
       "Messi             800    679          312                  82               1   \n",
       "Lewandowski       662    498          131                  68               0   \n",
       "Benzema           737    370          182                  15               0   \n",
       "\n",
       "             segundas amarillas  minutos jugados  \n",
       "CR7                           4            75372  \n",
       "Messi                         0            65299  \n",
       "Lewandowski                   1            65299  \n",
       "Benzema                       0            52245  "
      ]
     },
     "execution_count": 49,
     "metadata": {},
     "output_type": "execute_result"
    }
   ],
   "source": [
    "df"
   ]
  },
  {
   "cell_type": "markdown",
   "id": "ff9fb846-0c7d-44ec-acb2-fc01073df1f9",
   "metadata": {},
   "source": [
    "## Read data from a `csv`"
   ]
  },
  {
   "cell_type": "code",
   "execution_count": null,
   "id": "efd41bbb-01dd-44c4-9a4f-d3f6d78c29ac",
   "metadata": {},
   "outputs": [],
   "source": []
  },
  {
   "cell_type": "markdown",
   "id": "a8a7d1fe-c9fe-4997-ae48-f39a5aac9087",
   "metadata": {},
   "source": [
    "## Read data from an `Excel` website"
   ]
  },
  {
   "cell_type": "code",
   "execution_count": null,
   "id": "a2ec00d9-81a9-4eab-8d59-38d7062b63cc",
   "metadata": {},
   "outputs": [],
   "source": []
  },
  {
   "cell_type": "markdown",
   "id": "b89ccc14-bc3e-450a-bb27-631de1d81e59",
   "metadata": {},
   "source": [
    "## Read data from an `html` website"
   ]
  },
  {
   "cell_type": "code",
   "execution_count": null,
   "id": "71ecded1-e48c-493f-8b81-81cd2f89a702",
   "metadata": {},
   "outputs": [],
   "source": []
  },
  {
   "cell_type": "markdown",
   "id": "24740ef8-02a3-427e-bbe6-efe6fba656b9",
   "metadata": {},
   "source": [
    "## Read data from a `database`"
   ]
  },
  {
   "cell_type": "code",
   "execution_count": null,
   "id": "05ef5569-a482-4af7-9131-5ed03761bdea",
   "metadata": {},
   "outputs": [],
   "source": []
  },
  {
   "cell_type": "code",
   "execution_count": null,
   "id": "4124faf0-265d-4607-8cf5-5d17b19c4e32",
   "metadata": {},
   "outputs": [],
   "source": []
  }
 ],
 "metadata": {
  "authors": [
   {
    "blog": "https//blog.pythonresolver.com",
    "name": "Jesús López",
    "twitter": "https://twitter.com/jsulopz"
   }
  ],
  "kernelspec": {
   "display_name": "Python 3 (ipykernel)",
   "language": "python",
   "name": "python3"
  },
  "language_info": {
   "codemirror_mode": {
    "name": "ipython",
    "version": 3
   },
   "file_extension": ".py",
   "mimetype": "text/x-python",
   "name": "python",
   "nbconvert_exporter": "python",
   "pygments_lexer": "ipython3",
   "version": "3.9.7"
  },
  "title": "Reading Data into Python"
 },
 "nbformat": 4,
 "nbformat_minor": 5
}
