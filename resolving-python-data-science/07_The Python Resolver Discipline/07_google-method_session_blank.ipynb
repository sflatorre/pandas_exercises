{
 "cells": [
  {
   "cell_type": "markdown",
   "id": "9bbbd733-d2b7-430e-853c-570203c65fb6",
   "metadata": {},
   "source": [
    "<font size=\"+5\">#07 | The Python Resolver Discipline</font>"
   ]
  },
  {
   "cell_type": "markdown",
   "id": "270e2bcd-3933-4955-8fee-86dd401fed40",
   "metadata": {},
   "source": [
    "\n",
    "<div class=\"alert alert-warning\">\n",
    "  <ul>\n",
    "    <li>\n",
    "      <b>Python</b> + <b>Data Science</b> Tutorials in ↓\n",
    "      <ul>\n",
    "        <li>\n",
    "          <a href=\"https://www.youtube.com/c/PythonResolver?sub_confirmation=1\"\n",
    "            >YouTube</a\n",
    "          >\n",
    "        </li>\n",
    "        <li>\n",
    "          <a href=\"https://blog.pythonresolver.com/\">Blog</a>\n",
    "        </li>\n",
    "        <li>\n",
    "          <a href=\"https://github.com/jsulopz/00-python-resolver-discipline\">GitHub</a>\n",
    "        </li>\n",
    "      </ul>\n",
    "    </li>\n",
    "    <li>\n",
    "      Author: <a href=\"https://twitter.com/jsulopz\"><b>@jsulopz</b></a>\n",
    "    </li>\n",
    "  </ul>\n",
    "</div>\n",
    "\n",
    "<a href=\"https://colab.research.google.com/github/jsulopz/resolving-python-data-science/blob/main/07_The%20Python%20Resolver%20Discipline/07_google-method_session.ipynb\">\n",
    "  <img src=\"https://colab.research.google.com/assets/colab-badge.svg\" alt=\"Open In Colab\"/>\n",
    "</a>\n"
   ]
  },
  {
   "cell_type": "markdown",
   "id": "2e7a56fd-8d80-470c-bbe9-7ca080c2fca4",
   "metadata": {},
   "source": [
    "# The Starting *Thing*"
   ]
  },
  {
   "cell_type": "code",
   "execution_count": 102,
   "id": "940d8c7d-144c-4854-9f95-4fc5116df54f",
   "metadata": {},
   "outputs": [
    {
     "data": {
      "text/html": [
       "<div>\n",
       "<style scoped>\n",
       "    .dataframe tbody tr th:only-of-type {\n",
       "        vertical-align: middle;\n",
       "    }\n",
       "\n",
       "    .dataframe tbody tr th {\n",
       "        vertical-align: top;\n",
       "    }\n",
       "\n",
       "    .dataframe thead th {\n",
       "        text-align: right;\n",
       "    }\n",
       "</style>\n",
       "<table border=\"1\" class=\"dataframe\">\n",
       "  <thead>\n",
       "    <tr style=\"text-align: right;\">\n",
       "      <th></th>\n",
       "      <th>Date</th>\n",
       "      <th>Open</th>\n",
       "      <th>High</th>\n",
       "      <th>Low</th>\n",
       "      <th>Close</th>\n",
       "      <th>Volume</th>\n",
       "      <th>Adj Close</th>\n",
       "    </tr>\n",
       "  </thead>\n",
       "  <tbody>\n",
       "    <tr>\n",
       "      <th>0</th>\n",
       "      <td>2014-07-08</td>\n",
       "      <td>96.27</td>\n",
       "      <td>96.80</td>\n",
       "      <td>93.92</td>\n",
       "      <td>95.35</td>\n",
       "      <td>65130000</td>\n",
       "      <td>95.35</td>\n",
       "    </tr>\n",
       "    <tr>\n",
       "      <th>1</th>\n",
       "      <td>2014-07-07</td>\n",
       "      <td>94.14</td>\n",
       "      <td>95.99</td>\n",
       "      <td>94.10</td>\n",
       "      <td>95.97</td>\n",
       "      <td>56305400</td>\n",
       "      <td>95.97</td>\n",
       "    </tr>\n",
       "    <tr>\n",
       "      <th>2</th>\n",
       "      <td>2014-07-03</td>\n",
       "      <td>93.67</td>\n",
       "      <td>94.10</td>\n",
       "      <td>93.20</td>\n",
       "      <td>94.03</td>\n",
       "      <td>22891800</td>\n",
       "      <td>94.03</td>\n",
       "    </tr>\n",
       "    <tr>\n",
       "      <th>3</th>\n",
       "      <td>2014-07-02</td>\n",
       "      <td>93.87</td>\n",
       "      <td>94.06</td>\n",
       "      <td>93.09</td>\n",
       "      <td>93.48</td>\n",
       "      <td>28420900</td>\n",
       "      <td>93.48</td>\n",
       "    </tr>\n",
       "    <tr>\n",
       "      <th>4</th>\n",
       "      <td>2014-07-01</td>\n",
       "      <td>93.52</td>\n",
       "      <td>94.07</td>\n",
       "      <td>93.13</td>\n",
       "      <td>93.52</td>\n",
       "      <td>38170200</td>\n",
       "      <td>93.52</td>\n",
       "    </tr>\n",
       "    <tr>\n",
       "      <th>...</th>\n",
       "      <td>...</td>\n",
       "      <td>...</td>\n",
       "      <td>...</td>\n",
       "      <td>...</td>\n",
       "      <td>...</td>\n",
       "      <td>...</td>\n",
       "      <td>...</td>\n",
       "    </tr>\n",
       "    <tr>\n",
       "      <th>8460</th>\n",
       "      <td>1980-12-18</td>\n",
       "      <td>26.63</td>\n",
       "      <td>26.75</td>\n",
       "      <td>26.63</td>\n",
       "      <td>26.63</td>\n",
       "      <td>18362400</td>\n",
       "      <td>0.41</td>\n",
       "    </tr>\n",
       "    <tr>\n",
       "      <th>8461</th>\n",
       "      <td>1980-12-17</td>\n",
       "      <td>25.87</td>\n",
       "      <td>26.00</td>\n",
       "      <td>25.87</td>\n",
       "      <td>25.87</td>\n",
       "      <td>21610400</td>\n",
       "      <td>0.40</td>\n",
       "    </tr>\n",
       "    <tr>\n",
       "      <th>8462</th>\n",
       "      <td>1980-12-16</td>\n",
       "      <td>25.37</td>\n",
       "      <td>25.37</td>\n",
       "      <td>25.25</td>\n",
       "      <td>25.25</td>\n",
       "      <td>26432000</td>\n",
       "      <td>0.39</td>\n",
       "    </tr>\n",
       "    <tr>\n",
       "      <th>8463</th>\n",
       "      <td>1980-12-15</td>\n",
       "      <td>27.38</td>\n",
       "      <td>27.38</td>\n",
       "      <td>27.25</td>\n",
       "      <td>27.25</td>\n",
       "      <td>43971200</td>\n",
       "      <td>0.42</td>\n",
       "    </tr>\n",
       "    <tr>\n",
       "      <th>8464</th>\n",
       "      <td>1980-12-12</td>\n",
       "      <td>28.75</td>\n",
       "      <td>28.87</td>\n",
       "      <td>28.75</td>\n",
       "      <td>28.75</td>\n",
       "      <td>117258400</td>\n",
       "      <td>0.45</td>\n",
       "    </tr>\n",
       "  </tbody>\n",
       "</table>\n",
       "<p>8465 rows × 7 columns</p>\n",
       "</div>"
      ],
      "text/plain": [
       "            Date   Open   High    Low  Close     Volume  Adj Close\n",
       "0     2014-07-08  96.27  96.80  93.92  95.35   65130000      95.35\n",
       "1     2014-07-07  94.14  95.99  94.10  95.97   56305400      95.97\n",
       "2     2014-07-03  93.67  94.10  93.20  94.03   22891800      94.03\n",
       "3     2014-07-02  93.87  94.06  93.09  93.48   28420900      93.48\n",
       "4     2014-07-01  93.52  94.07  93.13  93.52   38170200      93.52\n",
       "...          ...    ...    ...    ...    ...        ...        ...\n",
       "8460  1980-12-18  26.63  26.75  26.63  26.63   18362400       0.41\n",
       "8461  1980-12-17  25.87  26.00  25.87  25.87   21610400       0.40\n",
       "8462  1980-12-16  25.37  25.37  25.25  25.25   26432000       0.39\n",
       "8463  1980-12-15  27.38  27.38  27.25  27.25   43971200       0.42\n",
       "8464  1980-12-12  28.75  28.87  28.75  28.75  117258400       0.45\n",
       "\n",
       "[8465 rows x 7 columns]"
      ]
     },
     "execution_count": 102,
     "metadata": {},
     "output_type": "execute_result"
    }
   ],
   "source": [
    "import pandas as pd #!\n",
    "\n",
    "df = pd.read_csv('https://raw.githubusercontent.com/jsulopz/pandas_exercises/master/09_Time_Series/Apple_Stock/appl_1980_2014.csv')\n",
    "df"
   ]
  },
  {
   "cell_type": "markdown",
   "id": "2a8c3b82-d93e-4b49-97c4-a11c9f49c11f",
   "metadata": {},
   "source": [
    "# Look for the `function()` to Create the Data Visualization\n",
    "\n",
    "- Apply the [Python Resolver Discipline](https://github.com/jsulopz/python-resolver-discipline/blob/main/01_Code%20of%20Discipline/01_Sketch%20the%20Result.md)\n",
    "- The function `area()` from `express` module within `plotly` library\n",
    "- Where I specify:\n",
    "    - The `Date` column in the x-axis\n",
    "    - The `Volume` column in the `y-axis`\n",
    "    - And `df` as the `DataFrame` where to look for these columns"
   ]
  },
  {
   "cell_type": "code",
   "execution_count": null,
   "id": "4a808b59-d842-456c-a93e-9189e23c4ad9",
   "metadata": {},
   "outputs": [],
   "source": []
  },
  {
   "cell_type": "markdown",
   "id": "de9ed4a3-de7a-495c-8630-155a8ae428c9",
   "metadata": {},
   "source": [
    "- Zoom in and see the Timestamp\n",
    "- [ ] Is it Monthly?"
   ]
  },
  {
   "cell_type": "markdown",
   "id": "f365b5f6-0f3c-4fb2-a019-5b93e30fd88d",
   "metadata": {},
   "source": [
    "# Data Points Don't Appear on a Monthly Basis\n",
    "\n",
    "- Apply the [Python Resolver Discipline](https://github.com/jsulopz/python-resolver-discipline/blob/main/01_Code%20of%20Discipline/01_Sketch%20the%20Result.md)"
   ]
  },
  {
   "cell_type": "markdown",
   "id": "340c8b6a-6cd2-4458-84ff-14e16f392587",
   "metadata": {},
   "source": [
    "## Understand the Problem\n",
    "\n",
    "- Compute the Total `Volume` per Month\n",
    "    - `Volume` is a numerical column\n",
    "    - Month is implicitly said in `Date` column"
   ]
  },
  {
   "cell_type": "markdown",
   "id": "52b36c2a-fb74-46c9-91bc-4c874012d32d",
   "metadata": {},
   "source": [
    "## The Starting *Thing*"
   ]
  },
  {
   "cell_type": "code",
   "execution_count": null,
   "id": "dd5dadd3-4911-47b5-a725-47491a82fe80",
   "metadata": {},
   "outputs": [],
   "source": []
  },
  {
   "cell_type": "markdown",
   "id": "8007c4f7-97fd-4cec-a4b0-954cfe620f56",
   "metadata": {},
   "source": [
    "## The Desired Result"
   ]
  },
  {
   "cell_type": "raw",
   "id": "e3248391-6b5c-4464-8530-b39437ed9087",
   "metadata": {},
   "source": [
    "2014-07 - 60000000000\n",
    "2014-06 - 34830000034\n",
    "...\n",
    "1980-12 - 11231123424"
   ]
  },
  {
   "cell_type": "markdown",
   "id": "fc666239-f219-4ec6-a581-3da85a472541",
   "metadata": {},
   "source": [
    "## Work Out the Solution"
   ]
  },
  {
   "cell_type": "markdown",
   "id": "b91622b9-c533-4fb3-8c1f-e834b2a0b5d6",
   "metadata": {},
   "source": [
    "**1. Extract the month-year for every row**"
   ]
  },
  {
   "cell_type": "code",
   "execution_count": null,
   "id": "e0d1f3fe-6d91-43cc-a1d6-8e8fde609419",
   "metadata": {},
   "outputs": [],
   "source": []
  },
  {
   "cell_type": "code",
   "execution_count": null,
   "id": "b2320a3e-5109-4f32-8c4e-aa2ebafdb648",
   "metadata": {},
   "outputs": [],
   "source": []
  },
  {
   "cell_type": "code",
   "execution_count": null,
   "id": "d5f2ade4-314d-4bde-b57d-dbba66fc7ee9",
   "metadata": {},
   "outputs": [],
   "source": []
  },
  {
   "cell_type": "code",
   "execution_count": null,
   "id": "26d0ea8b-ea4a-4d38-9aec-6121afcc9481",
   "metadata": {},
   "outputs": [],
   "source": []
  },
  {
   "cell_type": "code",
   "execution_count": null,
   "id": "7660959b-6346-4553-a679-dfff6d275243",
   "metadata": {},
   "outputs": [],
   "source": []
  },
  {
   "cell_type": "code",
   "execution_count": null,
   "id": "16bca7e5-e5ed-42df-8ed5-acb83638dfe8",
   "metadata": {},
   "outputs": [],
   "source": []
  },
  {
   "cell_type": "code",
   "execution_count": null,
   "id": "5d41c9b7-cf45-4873-a0da-2343406571df",
   "metadata": {},
   "outputs": [],
   "source": []
  },
  {
   "cell_type": "code",
   "execution_count": null,
   "id": "46c292be-e1e3-44be-819f-4a038080b5f9",
   "metadata": {},
   "outputs": [],
   "source": []
  },
  {
   "cell_type": "code",
   "execution_count": null,
   "id": "1308d97b-ea38-490c-aa23-f08887501acc",
   "metadata": {},
   "outputs": [],
   "source": []
  },
  {
   "cell_type": "code",
   "execution_count": null,
   "id": "9f86f98a-979c-4114-b35b-ce9a7dbcf070",
   "metadata": {},
   "outputs": [],
   "source": []
  },
  {
   "cell_type": "code",
   "execution_count": null,
   "id": "ced4ccf4-b387-46b1-8a75-a663c8b53758",
   "metadata": {},
   "outputs": [],
   "source": []
  },
  {
   "cell_type": "code",
   "execution_count": null,
   "id": "cd4d5899-010a-4e9a-9818-912ffbd1cdd3",
   "metadata": {},
   "outputs": [],
   "source": []
  },
  {
   "cell_type": "markdown",
   "id": "02616665-54ef-4381-9ad5-9e95b26e1583",
   "metadata": {
    "tags": []
   },
   "source": [
    "**2. Aggregate the data to get the Volume per Month**"
   ]
  },
  {
   "cell_type": "code",
   "execution_count": null,
   "id": "999d25ce-ca8d-4eda-9d7a-ccaf06f37544",
   "metadata": {},
   "outputs": [],
   "source": []
  },
  {
   "cell_type": "code",
   "execution_count": null,
   "id": "92564114-8ad5-4d54-b936-43ff89fd668c",
   "metadata": {},
   "outputs": [],
   "source": []
  },
  {
   "cell_type": "code",
   "execution_count": null,
   "id": "5d1eae62-ebb7-4f40-ac06-28def02ba989",
   "metadata": {},
   "outputs": [],
   "source": []
  },
  {
   "cell_type": "markdown",
   "id": "c0aae7f2-1aac-4adc-8b04-1ff41a043a39",
   "metadata": {},
   "source": [
    "## Try Again"
   ]
  },
  {
   "cell_type": "code",
   "execution_count": null,
   "id": "e09c0500-ad31-44f8-8bed-2b5e8932ec62",
   "metadata": {},
   "outputs": [],
   "source": []
  },
  {
   "cell_type": "markdown",
   "id": "106ca675-8b5b-4a8b-9f51-89495231a59b",
   "metadata": {},
   "source": [
    "# Axis Data as a `Series` of the `DataFrame`\n",
    "\n",
    "- Apply the [Python Resolver Discipline](https://github.com/jsulopz/python-resolver-discipline/blob/main/01_Code%20of%20Discipline/01_Sketch%20the%20Result.md)"
   ]
  },
  {
   "cell_type": "markdown",
   "id": "2af3d4fd-2437-4371-b4b8-49430806e8b2",
   "metadata": {},
   "source": [
    "## Understand the Problem"
   ]
  },
  {
   "cell_type": "code",
   "execution_count": null,
   "id": "900d62d2-72d0-43d0-899f-8e89550dd293",
   "metadata": {},
   "outputs": [],
   "source": []
  },
  {
   "cell_type": "markdown",
   "id": "4a8d8659-db17-4999-9deb-15094d19a96f",
   "metadata": {},
   "source": [
    "## The Starting *Thing*"
   ]
  },
  {
   "cell_type": "code",
   "execution_count": null,
   "id": "e497ff92-be89-4b88-a85e-8ffb25d48c5c",
   "metadata": {},
   "outputs": [],
   "source": []
  },
  {
   "cell_type": "code",
   "execution_count": null,
   "id": "60cfa4c1-3659-4735-8650-aaf617e224be",
   "metadata": {},
   "outputs": [],
   "source": []
  },
  {
   "cell_type": "markdown",
   "id": "fa7e254d-f662-43bb-988c-274bf1f823cc",
   "metadata": {},
   "source": [
    "## The Desired Result"
   ]
  },
  {
   "cell_type": "markdown",
   "id": "c047f12c-1d93-4209-bfb0-6718de2bdc3f",
   "metadata": {},
   "source": [
    "- We need to convert `res` (now a `Series`) to a `DataFrame` object\n",
    "- Like the one below ↓"
   ]
  },
  {
   "cell_type": "code",
   "execution_count": 122,
   "id": "c5344689-8d9e-47ca-9a41-aee1512e0951",
   "metadata": {},
   "outputs": [
    {
     "data": {
      "text/html": [
       "<div>\n",
       "<style scoped>\n",
       "    .dataframe tbody tr th:only-of-type {\n",
       "        vertical-align: middle;\n",
       "    }\n",
       "\n",
       "    .dataframe tbody tr th {\n",
       "        vertical-align: top;\n",
       "    }\n",
       "\n",
       "    .dataframe thead th {\n",
       "        text-align: right;\n",
       "    }\n",
       "</style>\n",
       "<table border=\"1\" class=\"dataframe\">\n",
       "  <thead>\n",
       "    <tr style=\"text-align: right;\">\n",
       "      <th></th>\n",
       "      <th>Date</th>\n",
       "      <th>Open</th>\n",
       "      <th>High</th>\n",
       "      <th>Low</th>\n",
       "      <th>Close</th>\n",
       "      <th>Volume</th>\n",
       "      <th>Adj Close</th>\n",
       "      <th>Monthly</th>\n",
       "    </tr>\n",
       "  </thead>\n",
       "  <tbody>\n",
       "    <tr>\n",
       "      <th>0</th>\n",
       "      <td>2014-07-08</td>\n",
       "      <td>96.27</td>\n",
       "      <td>96.80</td>\n",
       "      <td>93.92</td>\n",
       "      <td>95.35</td>\n",
       "      <td>65130000</td>\n",
       "      <td>95.35</td>\n",
       "      <td>2014-07</td>\n",
       "    </tr>\n",
       "    <tr>\n",
       "      <th>1</th>\n",
       "      <td>2014-07-07</td>\n",
       "      <td>94.14</td>\n",
       "      <td>95.99</td>\n",
       "      <td>94.10</td>\n",
       "      <td>95.97</td>\n",
       "      <td>56305400</td>\n",
       "      <td>95.97</td>\n",
       "      <td>2014-07</td>\n",
       "    </tr>\n",
       "    <tr>\n",
       "      <th>2</th>\n",
       "      <td>2014-07-03</td>\n",
       "      <td>93.67</td>\n",
       "      <td>94.10</td>\n",
       "      <td>93.20</td>\n",
       "      <td>94.03</td>\n",
       "      <td>22891800</td>\n",
       "      <td>94.03</td>\n",
       "      <td>2014-07</td>\n",
       "    </tr>\n",
       "    <tr>\n",
       "      <th>3</th>\n",
       "      <td>2014-07-02</td>\n",
       "      <td>93.87</td>\n",
       "      <td>94.06</td>\n",
       "      <td>93.09</td>\n",
       "      <td>93.48</td>\n",
       "      <td>28420900</td>\n",
       "      <td>93.48</td>\n",
       "      <td>2014-07</td>\n",
       "    </tr>\n",
       "    <tr>\n",
       "      <th>4</th>\n",
       "      <td>2014-07-01</td>\n",
       "      <td>93.52</td>\n",
       "      <td>94.07</td>\n",
       "      <td>93.13</td>\n",
       "      <td>93.52</td>\n",
       "      <td>38170200</td>\n",
       "      <td>93.52</td>\n",
       "      <td>2014-07</td>\n",
       "    </tr>\n",
       "  </tbody>\n",
       "</table>\n",
       "</div>"
      ],
      "text/plain": [
       "        Date   Open   High    Low  Close    Volume  Adj Close  Monthly\n",
       "0 2014-07-08  96.27  96.80  93.92  95.35  65130000      95.35  2014-07\n",
       "1 2014-07-07  94.14  95.99  94.10  95.97  56305400      95.97  2014-07\n",
       "2 2014-07-03  93.67  94.10  93.20  94.03  22891800      94.03  2014-07\n",
       "3 2014-07-02  93.87  94.06  93.09  93.48  28420900      93.48  2014-07\n",
       "4 2014-07-01  93.52  94.07  93.13  93.52  38170200      93.52  2014-07"
      ]
     },
     "execution_count": 122,
     "metadata": {},
     "output_type": "execute_result"
    }
   ],
   "source": [
    "df.head() #!"
   ]
  },
  {
   "cell_type": "markdown",
   "id": "03afe9d6-b5f6-4e9f-a12a-bc24dfa8bb47",
   "metadata": {},
   "source": [
    "## Work Out the Solution"
   ]
  },
  {
   "cell_type": "code",
   "execution_count": null,
   "id": "f50eb20e-eade-414d-a1d7-9a0319c27980",
   "metadata": {},
   "outputs": [],
   "source": []
  },
  {
   "cell_type": "code",
   "execution_count": null,
   "id": "9accd654-13e3-40f2-afe9-1f3aba1fff19",
   "metadata": {},
   "outputs": [],
   "source": []
  },
  {
   "cell_type": "markdown",
   "id": "e20353df-bb82-499f-a23c-4f89df6bd931",
   "metadata": {},
   "source": [
    "## Try Again"
   ]
  },
  {
   "cell_type": "code",
   "execution_count": null,
   "id": "e4861200-2628-4799-a61d-2bbe4bef78a4",
   "metadata": {},
   "outputs": [],
   "source": []
  },
  {
   "cell_type": "markdown",
   "id": "48b546bb-5eed-49da-8b97-0c7ae6ab9c74",
   "metadata": {},
   "source": [
    "# Plotly doesn't understand the `Period`\n",
    "\n",
    "- Apply the [Python Resolver Discipline](https://github.com/jsulopz/python-resolver-discipline/blob/main/01_Code%20of%20Discipline/01_Sketch%20the%20Result.md)"
   ]
  },
  {
   "cell_type": "markdown",
   "id": "d453afce-f601-4da0-8d68-b3c8c0c0dc2e",
   "metadata": {},
   "source": [
    "## Understand the Problem"
   ]
  },
  {
   "cell_type": "code",
   "execution_count": null,
   "id": "0175f25c-c23c-4f1d-b17b-54ef035c8b79",
   "metadata": {},
   "outputs": [],
   "source": []
  },
  {
   "cell_type": "code",
   "execution_count": null,
   "id": "f9d40d83-2894-47f5-81ca-7d1c078db555",
   "metadata": {},
   "outputs": [],
   "source": []
  },
  {
   "cell_type": "code",
   "execution_count": null,
   "id": "6b271494-c2ca-4428-9e09-2c37865a60b5",
   "metadata": {},
   "outputs": [],
   "source": []
  },
  {
   "cell_type": "code",
   "execution_count": null,
   "id": "25601d8f-57ba-4aeb-a73b-39b6b57058ac",
   "metadata": {},
   "outputs": [],
   "source": []
  },
  {
   "cell_type": "code",
   "execution_count": null,
   "id": "2b146d3f-595c-43bd-9641-5fc52cf05925",
   "metadata": {},
   "outputs": [],
   "source": []
  },
  {
   "cell_type": "markdown",
   "id": "bdcbbc0d-303e-4fbe-b361-bbc3d6db70e5",
   "metadata": {},
   "source": [
    "## The Starting *Thing*"
   ]
  },
  {
   "cell_type": "code",
   "execution_count": null,
   "id": "39a5589f-c3f9-4faf-ba45-409cc19a51ec",
   "metadata": {},
   "outputs": [],
   "source": []
  },
  {
   "cell_type": "markdown",
   "id": "060cf0e3-91ac-47e1-bec5-17ebfabe98e5",
   "metadata": {},
   "source": [
    "## The Desired Result"
   ]
  },
  {
   "cell_type": "markdown",
   "id": "8d78613b-ee12-4f1e-91b9-a6847066a779",
   "metadata": {},
   "source": [
    "Monthly ~ object | datetime"
   ]
  },
  {
   "cell_type": "markdown",
   "id": "62c43559-c746-4a50-afed-8c03399c4c33",
   "metadata": {},
   "source": [
    "## Work Out the Solution"
   ]
  },
  {
   "cell_type": "code",
   "execution_count": null,
   "id": "f6034f3b-2dab-4776-9497-27d1726d76ce",
   "metadata": {},
   "outputs": [],
   "source": []
  },
  {
   "cell_type": "code",
   "execution_count": null,
   "id": "e3f3f1a5-c877-45b7-bc2a-526d848d3b0e",
   "metadata": {},
   "outputs": [],
   "source": []
  },
  {
   "cell_type": "code",
   "execution_count": null,
   "id": "c560ec89-ca2f-4ecf-aa2f-4d534f2871fb",
   "metadata": {},
   "outputs": [],
   "source": []
  },
  {
   "cell_type": "code",
   "execution_count": null,
   "id": "2f736fa4-a77e-42ac-9bf6-740d9dcbe7ba",
   "metadata": {},
   "outputs": [],
   "source": []
  },
  {
   "cell_type": "code",
   "execution_count": null,
   "id": "2078adc4-77f3-4ebe-9f1a-93665ab22848",
   "metadata": {},
   "outputs": [],
   "source": []
  },
  {
   "cell_type": "code",
   "execution_count": null,
   "id": "4583d206-434c-48b1-a354-b83b5abcb8bb",
   "metadata": {},
   "outputs": [],
   "source": []
  },
  {
   "cell_type": "markdown",
   "id": "6508a4f4-a71e-492f-9a75-c22346f1cfd0",
   "metadata": {},
   "source": [
    "## Try Again"
   ]
  },
  {
   "cell_type": "code",
   "execution_count": null,
   "id": "ae7a6b85-26c0-4e46-aa62-2994bf717ffb",
   "metadata": {},
   "outputs": [],
   "source": []
  },
  {
   "cell_type": "markdown",
   "id": "10ef7866-ee0b-491f-8dc8-485d25087ff9",
   "metadata": {},
   "source": [
    "# The Uncovered Solution"
   ]
  },
  {
   "cell_type": "code",
   "execution_count": null,
   "id": "c8a6ae18-303a-4ffc-a183-22c211936542",
   "metadata": {},
   "outputs": [],
   "source": []
  },
  {
   "cell_type": "code",
   "execution_count": null,
   "id": "0d0b3720-5c8b-4693-9fa8-67503429ce1f",
   "metadata": {},
   "outputs": [],
   "source": []
  },
  {
   "cell_type": "code",
   "execution_count": null,
   "id": "706f4d83-e4ad-4e4c-aef7-69988e445bac",
   "metadata": {},
   "outputs": [],
   "source": []
  },
  {
   "cell_type": "code",
   "execution_count": null,
   "id": "1b458ff6-a14f-4a14-9282-c03422a262c4",
   "metadata": {},
   "outputs": [],
   "source": []
  },
  {
   "cell_type": "code",
   "execution_count": null,
   "id": "1f49214c-ce28-4bc5-a0c0-51c4653aaf2e",
   "metadata": {},
   "outputs": [],
   "source": []
  },
  {
   "cell_type": "code",
   "execution_count": null,
   "id": "c9ef3299-1c05-4df9-9b32-cf1544748e2a",
   "metadata": {},
   "outputs": [],
   "source": []
  },
  {
   "cell_type": "code",
   "execution_count": null,
   "id": "27ed4bf1-0f5d-4c4b-90a8-957ed1aebf72",
   "metadata": {},
   "outputs": [],
   "source": []
  },
  {
   "cell_type": "code",
   "execution_count": null,
   "id": "b7f431ec-d150-4d1d-a1d1-b66643bd0de8",
   "metadata": {},
   "outputs": [],
   "source": []
  },
  {
   "cell_type": "code",
   "execution_count": null,
   "id": "a9a5c7f3-17ac-4b71-b864-8f6d39c26984",
   "metadata": {},
   "outputs": [],
   "source": []
  },
  {
   "cell_type": "markdown",
   "id": "922e944e-293f-46b7-9e92-a95065ae4c92",
   "metadata": {},
   "source": [
    "# What Have We Learnt?\n",
    "\n",
    "- How to get a correct diagnosis of the error?\n",
    "- How to ask for solutions in Google applying the [Python Resolver Discipline](https://github.com/jsulopz/python-resolver-discipline)?\n",
    "- How to break up the problem into pieces to finally reach the solution?"
   ]
  },
  {
   "cell_type": "markdown",
   "id": "19087f79-2971-497f-b28b-39fba6e25f35",
   "metadata": {},
   "source": [
    "# Which Concepts Have We Learnt?\n",
    "\n",
    "- Series\n",
    "- Datetime\n",
    "- Period\n",
    "- Timestamp\n",
    "- DataFrame\n",
    "- `pandas.Series.reset_index()`\n",
    "- Index"
   ]
  }
 ],
 "metadata": {
  "authors": [
   {
    "blog": "https//blog.pythonresolver.com",
    "name": "Jesús López",
    "twitter": "https://twitter.com/jsulopz"
   }
  ],
  "kernelspec": {
   "display_name": "Python 3 (ipykernel)",
   "language": "python",
   "name": "python3"
  },
  "language_info": {
   "codemirror_mode": {
    "name": "ipython",
    "version": 3
   },
   "file_extension": ".py",
   "mimetype": "text/x-python",
   "name": "python",
   "nbconvert_exporter": "python",
   "pygments_lexer": "ipython3",
   "version": "3.9.7"
  },
  "title": "The Python Resolver Discipline",
  "toc-autonumbering": true
 },
 "nbformat": 4,
 "nbformat_minor": 5
}
