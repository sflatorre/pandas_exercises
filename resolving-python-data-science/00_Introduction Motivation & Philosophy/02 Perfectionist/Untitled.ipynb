{
 "cells": [
  {
   "cell_type": "markdown",
   "id": "d5e83255-f6a4-49b3-804f-888d74f62155",
   "metadata": {},
   "source": [
    "# Answer the Ws?\n",
    "1. Context on who?\n",
    "    - people who are learning #python get stack in the exercises & don't move on\n",
    "2. Which problem?\n",
    "    - because they believe they have to learn every single detail...\n",
    "3. What can we offer to solve the problem?\n",
    "4. How/Topics to make it sexy?\n",
    "5. The solution?\n",
    "6. The challenge?\n",
    "7. The starting thing?"
   ]
  }
 ],
 "metadata": {
  "kernelspec": {
   "display_name": "Python 3 (ipykernel)",
   "language": "python",
   "name": "python3"
  },
  "language_info": {
   "codemirror_mode": {
    "name": "ipython",
    "version": 3
   },
   "file_extension": ".py",
   "mimetype": "text/x-python",
   "name": "python",
   "nbconvert_exporter": "python",
   "pygments_lexer": "ipython3",
   "version": "3.9.7"
  }
 },
 "nbformat": 4,
 "nbformat_minor": 5
}
