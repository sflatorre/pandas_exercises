{
 "cells": [
  {
   "cell_type": "markdown",
   "id": "09004607-d93d-4412-b4d4-5f02aa29ac0d",
   "metadata": {
    "tags": []
   },
   "source": [
    "<font size=\"+5\">Flexible Thinking</font>\n",
    "\n",
    "# The challenge"
   ]
  },
  {
   "cell_type": "markdown",
   "id": "4031eafc-9531-46e3-869d-d1725dc6bd3e",
   "metadata": {},
   "source": [
    "<div class=\"alert alert-success\">\n",
    "3 different lines of code to get the same result\n",
    "</div>"
   ]
  },
  {
   "cell_type": "markdown",
   "id": "cdc9cafa-71f9-468d-821e-3b3a5679e696",
   "metadata": {},
   "source": [
    "# The covered solution"
   ]
  },
  {
   "cell_type": "code",
   "execution_count": 8,
   "id": "a281fbc2-e2b6-4703-a8b6-d7e14e072dee",
   "metadata": {},
   "outputs": [],
   "source": [
    "import matplotlib.pyplot as plt\n",
    "import seaborn as sns"
   ]
  },
  {
   "cell_type": "code",
   "execution_count": 9,
   "id": "257d4744-4d50-4f13-9ebe-ee508e21ff36",
   "metadata": {},
   "outputs": [
    {
     "data": {
      "text/html": [
       "<div>\n",
       "<style scoped>\n",
       "    .dataframe tbody tr th:only-of-type {\n",
       "        vertical-align: middle;\n",
       "    }\n",
       "\n",
       "    .dataframe tbody tr th {\n",
       "        vertical-align: top;\n",
       "    }\n",
       "\n",
       "    .dataframe thead th {\n",
       "        text-align: right;\n",
       "    }\n",
       "</style>\n",
       "<table border=\"1\" class=\"dataframe\">\n",
       "  <thead>\n",
       "    <tr style=\"text-align: right;\">\n",
       "      <th></th>\n",
       "      <th>total</th>\n",
       "      <th>speeding</th>\n",
       "      <th>alcohol</th>\n",
       "      <th>not_distracted</th>\n",
       "      <th>no_previous</th>\n",
       "      <th>ins_premium</th>\n",
       "      <th>ins_losses</th>\n",
       "      <th>abbrev</th>\n",
       "    </tr>\n",
       "  </thead>\n",
       "  <tbody>\n",
       "    <tr>\n",
       "      <th>0</th>\n",
       "      <td>18.8</td>\n",
       "      <td>7.332</td>\n",
       "      <td>5.640</td>\n",
       "      <td>18.048</td>\n",
       "      <td>15.040</td>\n",
       "      <td>784.55</td>\n",
       "      <td>145.08</td>\n",
       "      <td>AL</td>\n",
       "    </tr>\n",
       "    <tr>\n",
       "      <th>1</th>\n",
       "      <td>18.1</td>\n",
       "      <td>7.421</td>\n",
       "      <td>4.525</td>\n",
       "      <td>16.290</td>\n",
       "      <td>17.014</td>\n",
       "      <td>1053.48</td>\n",
       "      <td>133.93</td>\n",
       "      <td>AK</td>\n",
       "    </tr>\n",
       "    <tr>\n",
       "      <th>2</th>\n",
       "      <td>18.6</td>\n",
       "      <td>6.510</td>\n",
       "      <td>5.208</td>\n",
       "      <td>15.624</td>\n",
       "      <td>17.856</td>\n",
       "      <td>899.47</td>\n",
       "      <td>110.35</td>\n",
       "      <td>AZ</td>\n",
       "    </tr>\n",
       "    <tr>\n",
       "      <th>3</th>\n",
       "      <td>22.4</td>\n",
       "      <td>4.032</td>\n",
       "      <td>5.824</td>\n",
       "      <td>21.056</td>\n",
       "      <td>21.280</td>\n",
       "      <td>827.34</td>\n",
       "      <td>142.39</td>\n",
       "      <td>AR</td>\n",
       "    </tr>\n",
       "    <tr>\n",
       "      <th>4</th>\n",
       "      <td>12.0</td>\n",
       "      <td>4.200</td>\n",
       "      <td>3.360</td>\n",
       "      <td>10.920</td>\n",
       "      <td>10.680</td>\n",
       "      <td>878.41</td>\n",
       "      <td>165.63</td>\n",
       "      <td>CA</td>\n",
       "    </tr>\n",
       "  </tbody>\n",
       "</table>\n",
       "</div>"
      ],
      "text/plain": [
       "   total  speeding  alcohol  not_distracted  no_previous  ins_premium  \\\n",
       "0   18.8     7.332    5.640          18.048       15.040       784.55   \n",
       "1   18.1     7.421    4.525          16.290       17.014      1053.48   \n",
       "2   18.6     6.510    5.208          15.624       17.856       899.47   \n",
       "3   22.4     4.032    5.824          21.056       21.280       827.34   \n",
       "4   12.0     4.200    3.360          10.920       10.680       878.41   \n",
       "\n",
       "   ins_losses abbrev  \n",
       "0      145.08     AL  \n",
       "1      133.93     AK  \n",
       "2      110.35     AZ  \n",
       "3      142.39     AR  \n",
       "4      165.63     CA  "
      ]
     },
     "execution_count": 9,
     "metadata": {},
     "output_type": "execute_result"
    }
   ],
   "source": [
    "df = sns.load_dataset('car_crashes')\n",
    "df.head()"
   ]
  },
  {
   "cell_type": "code",
   "execution_count": 10,
   "id": "1dcf9f5e-5fb9-409f-a0b9-9011753e9d31",
   "metadata": {},
   "outputs": [],
   "source": [
    "# code 1 ??"
   ]
  },
  {
   "cell_type": "code",
   "execution_count": 11,
   "id": "e90a2fc7-677e-45a4-bcce-db4240e0a137",
   "metadata": {},
   "outputs": [
    {
     "data": {
      "image/png": "[encoded data removed]",
      "text/plain": [
       "<Figure size 432x288 with 1 Axes>"
      ]
     },
     "metadata": {
      "needs_background": "light"
     },
     "output_type": "display_data"
    }
   ],
   "source": [
    "plt.scatter(x=df.alcohol, y=df.total);"
   ]
  },
  {
   "cell_type": "code",
   "execution_count": 12,
   "id": "9aad5537-01b2-4490-bd01-f90ebee7c569",
   "metadata": {},
   "outputs": [],
   "source": [
    "# code 2 ??"
   ]
  },
  {
   "cell_type": "code",
   "execution_count": 13,
   "id": "fd846580-d037-439a-b65e-a5680a12a225",
   "metadata": {},
   "outputs": [
    {
     "data": {
      "image/png": "[encoded data removed]",
      "text/plain": [
       "<Figure size 432x288 with 1 Axes>"
      ]
     },
     "metadata": {
      "needs_background": "light"
     },
     "output_type": "display_data"
    }
   ],
   "source": [
    "plt.scatter(x=df['alcohol'], y=df['total']);"
   ]
  },
  {
   "cell_type": "code",
   "execution_count": 14,
   "id": "9fbf1dea-e06c-44c5-9817-d0b8e93098db",
   "metadata": {},
   "outputs": [],
   "source": [
    "# code 3 ??"
   ]
  },
  {
   "cell_type": "code",
   "execution_count": 15,
   "id": "f66197c1-ea02-489f-b99a-205c7f006cc6",
   "metadata": {},
   "outputs": [
    {
     "data": {
      "image/png": "[encoded data removed]",
      "text/plain": [
       "<Figure size 432x288 with 1 Axes>"
      ]
     },
     "metadata": {
      "needs_background": "light"
     },
     "output_type": "display_data"
    }
   ],
   "source": [
    "plt.scatter(x='alcohol', y='total', data=df);"
   ]
  },
  {
   "cell_type": "markdown",
   "id": "bd78bef3-056a-4891-a733-d1bd8b038f9f",
   "metadata": {
    "jp-MarkdownHeadingCollapsed": true,
    "tags": []
   },
   "source": [
    "# What will we learn?\n",
    "\n",
    "- Fundamental Teaching 1\n",
    "- Fundamental Teaching 2"
   ]
  },
  {
   "cell_type": "markdown",
   "id": "7eb2c417-1232-46b1-b312-9602f0ea5dd0",
   "metadata": {},
   "source": [
    "# Which concepts will we use?\n",
    "\n",
    "- Fundamental Concept 1\n",
    "- Fundamental Concept 2"
   ]
  },
  {
   "cell_type": "markdown",
   "id": "944a8135-356f-475a-93fd-b2b14e2976b6",
   "metadata": {},
   "source": [
    "# Requirements?\n",
    "\n",
    "- Mandatory Requirement 1\n",
    "- Mandatory Requirement 2"
   ]
  },
  {
   "cell_type": "markdown",
   "id": "97f40436-ec9e-4bca-8be4-3849bf552593",
   "metadata": {
    "tags": []
   },
   "source": [
    "# The starting *thing*"
   ]
  },
  {
   "cell_type": "code",
   "execution_count": null,
   "id": "b0125f77-8d90-4435-a13f-0a442ab82391",
   "metadata": {},
   "outputs": [],
   "source": []
  },
  {
   "cell_type": "markdown",
   "id": "460964c0-2507-45ad-a6f9-c604c2e32f75",
   "metadata": {},
   "source": [
    "# Syllabus for the Material"
   ]
  },
  {
   "cell_type": "code",
   "execution_count": null,
   "id": "00f9afc0-d212-4083-bd9c-dc83a35c9a4a",
   "metadata": {},
   "outputs": [],
   "source": []
  },
  {
   "cell_type": "markdown",
   "id": "48450486-7559-47ed-989a-48c123178f86",
   "metadata": {},
   "source": [
    "# The uncovered solution"
   ]
  },
  {
   "cell_type": "code",
   "execution_count": null,
   "id": "6002f489-798c-471a-a393-20b50b9d9c9b",
   "metadata": {},
   "outputs": [],
   "source": []
  },
  {
   "cell_type": "markdown",
   "id": "dd97aa2a-f3fc-4872-a0c5-fd97f13867f2",
   "metadata": {},
   "source": [
    "# References\n",
    "\n",
    "> Links gathered while developing the solution\n",
    "\n",
    "- Link Reference 1\n",
    "- Link Reference 2"
   ]
  },
  {
   "cell_type": "code",
   "execution_count": null,
   "id": "c32270cd-6e22-477d-94a4-c158221d0515",
   "metadata": {},
   "outputs": [],
   "source": []
  }
 ],
 "metadata": {
  "kernelspec": {
   "display_name": "Python 3 (ipykernel)",
   "language": "python",
   "name": "python3"
  },
  "language_info": {
   "codemirror_mode": {
    "name": "ipython",
    "version": 3
   },
   "file_extension": ".py",
   "mimetype": "text/x-python",
   "name": "python",
   "nbconvert_exporter": "python",
   "pygments_lexer": "ipython3",
   "version": "3.9.7"
  }
 },
 "nbformat": 4,
 "nbformat_minor": 5
}
