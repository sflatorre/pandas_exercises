{
 "cells": [
  {
   "cell_type": "markdown",
   "id": "d3089aea-83d2-4b4a-8f89-99d43c8aef84",
   "metadata": {
    "tags": []
   },
   "source": [
    "<font size=\"+5\">#0x | Topic</font>"
   ]
  },
  {
   "cell_type": "markdown",
   "id": "97f40436-ec9e-4bca-8be4-3849bf552593",
   "metadata": {},
   "source": [
    "# The starting *thing*"
   ]
  },
  {
   "cell_type": "code",
   "execution_count": 45,
   "id": "8470ea18-ed1b-45d0-b810-031d8bb7fed9",
   "metadata": {
    "tags": []
   },
   "outputs": [
    {
     "data": {
      "text/html": [
       "<div>\n",
       "<style scoped>\n",
       "    .dataframe tbody tr th:only-of-type {\n",
       "        vertical-align: middle;\n",
       "    }\n",
       "\n",
       "    .dataframe tbody tr th {\n",
       "        vertical-align: top;\n",
       "    }\n",
       "\n",
       "    .dataframe thead th {\n",
       "        text-align: right;\n",
       "    }\n",
       "</style>\n",
       "<table border=\"1\" class=\"dataframe\">\n",
       "  <thead>\n",
       "    <tr style=\"text-align: right;\">\n",
       "      <th></th>\n",
       "      <th>total</th>\n",
       "      <th>speeding</th>\n",
       "      <th>alcohol</th>\n",
       "      <th>not_distracted</th>\n",
       "      <th>no_previous</th>\n",
       "      <th>ins_premium</th>\n",
       "      <th>ins_losses</th>\n",
       "      <th>abbrev</th>\n",
       "    </tr>\n",
       "  </thead>\n",
       "  <tbody>\n",
       "    <tr>\n",
       "      <th>0</th>\n",
       "      <td>18.8</td>\n",
       "      <td>7.332</td>\n",
       "      <td>5.640</td>\n",
       "      <td>18.048</td>\n",
       "      <td>15.040</td>\n",
       "      <td>784.55</td>\n",
       "      <td>145.08</td>\n",
       "      <td>AL</td>\n",
       "    </tr>\n",
       "    <tr>\n",
       "      <th>1</th>\n",
       "      <td>18.1</td>\n",
       "      <td>7.421</td>\n",
       "      <td>4.525</td>\n",
       "      <td>16.290</td>\n",
       "      <td>17.014</td>\n",
       "      <td>1053.48</td>\n",
       "      <td>133.93</td>\n",
       "      <td>AK</td>\n",
       "    </tr>\n",
       "    <tr>\n",
       "      <th>2</th>\n",
       "      <td>18.6</td>\n",
       "      <td>6.510</td>\n",
       "      <td>5.208</td>\n",
       "      <td>15.624</td>\n",
       "      <td>17.856</td>\n",
       "      <td>899.47</td>\n",
       "      <td>110.35</td>\n",
       "      <td>AZ</td>\n",
       "    </tr>\n",
       "    <tr>\n",
       "      <th>3</th>\n",
       "      <td>22.4</td>\n",
       "      <td>4.032</td>\n",
       "      <td>5.824</td>\n",
       "      <td>21.056</td>\n",
       "      <td>21.280</td>\n",
       "      <td>827.34</td>\n",
       "      <td>142.39</td>\n",
       "      <td>AR</td>\n",
       "    </tr>\n",
       "    <tr>\n",
       "      <th>4</th>\n",
       "      <td>12.0</td>\n",
       "      <td>4.200</td>\n",
       "      <td>3.360</td>\n",
       "      <td>10.920</td>\n",
       "      <td>10.680</td>\n",
       "      <td>878.41</td>\n",
       "      <td>165.63</td>\n",
       "      <td>CA</td>\n",
       "    </tr>\n",
       "  </tbody>\n",
       "</table>\n",
       "</div>"
      ],
      "text/plain": [
       "   total  speeding  alcohol  not_distracted  no_previous  ins_premium  \\\n",
       "0   18.8     7.332    5.640          18.048       15.040       784.55   \n",
       "1   18.1     7.421    4.525          16.290       17.014      1053.48   \n",
       "2   18.6     6.510    5.208          15.624       17.856       899.47   \n",
       "3   22.4     4.032    5.824          21.056       21.280       827.34   \n",
       "4   12.0     4.200    3.360          10.920       10.680       878.41   \n",
       "\n",
       "   ins_losses abbrev  \n",
       "0      145.08     AL  \n",
       "1      133.93     AK  \n",
       "2      110.35     AZ  \n",
       "3      142.39     AR  \n",
       "4      165.63     CA  "
      ]
     },
     "execution_count": 45,
     "metadata": {},
     "output_type": "execute_result"
    }
   ],
   "source": [
    "import matplotlib.pyplot as plt\n",
    "import seaborn as sns\n",
    "\n",
    "df = sns.load_dataset('car_crashes')\n",
    "df.head()"
   ]
  },
  {
   "cell_type": "code",
   "execution_count": 46,
   "id": "9b1f3062-49bc-4c3f-a846-cbde27530c61",
   "metadata": {},
   "outputs": [
    {
     "ename": "NameError",
     "evalue": "name 'alcohol' is not defined",
     "output_type": "error",
     "traceback": [
      "\u001b[0;31m---------------------------------------------------------------------------\u001b[0m",
      "\u001b[0;31mNameError\u001b[0m                                 Traceback (most recent call last)",
      "\u001b[0;32m/var/folders/24/tg28vxls25l9mjvqrnh0plc80000gn/T/ipykernel_9240/3933251502.py\u001b[0m in \u001b[0;36m<module>\u001b[0;34m\u001b[0m\n\u001b[0;32m----> 1\u001b[0;31m \u001b[0mplt\u001b[0m\u001b[0;34m.\u001b[0m\u001b[0mscatter\u001b[0m\u001b[0;34m(\u001b[0m\u001b[0mx\u001b[0m\u001b[0;34m=\u001b[0m\u001b[0malcohol\u001b[0m\u001b[0;34m,\u001b[0m \u001b[0my\u001b[0m\u001b[0;34m=\u001b[0m\u001b[0mtotal\u001b[0m\u001b[0;34m)\u001b[0m\u001b[0;34m;\u001b[0m\u001b[0;34m\u001b[0m\u001b[0;34m\u001b[0m\u001b[0m\n\u001b[0m",
      "\u001b[0;31mNameError\u001b[0m: name 'alcohol' is not defined"
     ]
    }
   ],
   "source": [
    "plt.scatter(x=alcohol, y=total);"
   ]
  },
  {
   "cell_type": "markdown",
   "id": "658c30e8-5dca-4f05-92a4-f1dd73f1611b",
   "metadata": {},
   "source": [
    "# Don't think about the solution\n",
    "\n",
    "- Let's imagine\n",
    "- We've got two surgeons\n",
    "    - Joseph to diagnose the illness (error)\n",
    "    - Mary to operate (solve) the illnes\n",
    "- Would you remove Joseph from the equation?\n",
    "- Mary may operate the nose\n",
    "- But the illness is in the eyes...\n",
    "- This is why you should always focus in fully understanding the error first\n",
    "\n",
    "## Solution:"
   ]
  },
  {
   "cell_type": "code",
   "execution_count": 49,
   "id": "1f85ecaf-b688-42fd-bf70-8adcec6270c6",
   "metadata": {},
   "outputs": [
    {
     "ename": "NameError",
     "evalue": "name 'alcohol' is not defined",
     "output_type": "error",
     "traceback": [
      "\u001b[0;31m---------------------------------------------------------------------------\u001b[0m",
      "\u001b[0;31mNameError\u001b[0m                                 Traceback (most recent call last)",
      "\u001b[0;32m/var/folders/24/tg28vxls25l9mjvqrnh0plc80000gn/T/ipykernel_9240/2726447888.py\u001b[0m in \u001b[0;36m<module>\u001b[0;34m\u001b[0m\n\u001b[0;32m----> 1\u001b[0;31m \u001b[0malcohol\u001b[0m\u001b[0;34m\u001b[0m\u001b[0;34m\u001b[0m\u001b[0m\n\u001b[0m",
      "\u001b[0;31mNameError\u001b[0m: name 'alcohol' is not defined"
     ]
    }
   ],
   "source": [
    "alcohol"
   ]
  },
  {
   "cell_type": "code",
   "execution_count": 51,
   "id": "3233050b-12a7-409e-9753-53a18ea8d837",
   "metadata": {},
   "outputs": [
    {
     "ename": "NameError",
     "evalue": "name 'jesus' is not defined",
     "output_type": "error",
     "traceback": [
      "\u001b[0;31m---------------------------------------------------------------------------\u001b[0m",
      "\u001b[0;31mNameError\u001b[0m                                 Traceback (most recent call last)",
      "\u001b[0;32m/var/folders/24/tg28vxls25l9mjvqrnh0plc80000gn/T/ipykernel_9240/3360255931.py\u001b[0m in \u001b[0;36m<module>\u001b[0;34m\u001b[0m\n\u001b[0;32m----> 1\u001b[0;31m \u001b[0mjesus\u001b[0m\u001b[0;34m\u001b[0m\u001b[0;34m\u001b[0m\u001b[0m\n\u001b[0m",
      "\u001b[0;31mNameError\u001b[0m: name 'jesus' is not defined"
     ]
    }
   ],
   "source": [
    "jesus"
   ]
  },
  {
   "cell_type": "code",
   "execution_count": 52,
   "id": "137284c5-776d-466a-a337-32b381de055d",
   "metadata": {},
   "outputs": [
    {
     "data": {
      "text/plain": [
       "'alcohol'"
      ]
     },
     "execution_count": 52,
     "metadata": {},
     "output_type": "execute_result"
    }
   ],
   "source": [
    "'alcohol'"
   ]
  },
  {
   "cell_type": "code",
   "execution_count": 53,
   "id": "3556b320-b835-459a-89d1-774c70a4d1a5",
   "metadata": {},
   "outputs": [
    {
     "data": {
      "text/plain": [
       "'jesus'"
      ]
     },
     "execution_count": 53,
     "metadata": {},
     "output_type": "execute_result"
    }
   ],
   "source": [
    "'jesus'"
   ]
  },
  {
   "cell_type": "code",
   "execution_count": 7,
   "id": "13056871-9786-4521-a2b5-762002825f6f",
   "metadata": {},
   "outputs": [],
   "source": [
    "# - Solve the `error_3`"
   ]
  },
  {
   "cell_type": "code",
   "execution_count": 54,
   "id": "5374550f-ad0c-440d-a007-20f9fef2b2fc",
   "metadata": {},
   "outputs": [
    {
     "ename": "NameError",
     "evalue": "name 'total' is not defined",
     "output_type": "error",
     "traceback": [
      "\u001b[0;31m---------------------------------------------------------------------------\u001b[0m",
      "\u001b[0;31mNameError\u001b[0m                                 Traceback (most recent call last)",
      "\u001b[0;32m/var/folders/24/tg28vxls25l9mjvqrnh0plc80000gn/T/ipykernel_9240/1069158763.py\u001b[0m in \u001b[0;36m<module>\u001b[0;34m\u001b[0m\n\u001b[0;32m----> 1\u001b[0;31m \u001b[0mplt\u001b[0m\u001b[0;34m.\u001b[0m\u001b[0mscatter\u001b[0m\u001b[0;34m(\u001b[0m\u001b[0mx\u001b[0m\u001b[0;34m=\u001b[0m\u001b[0;34m'alcohol'\u001b[0m\u001b[0;34m,\u001b[0m \u001b[0my\u001b[0m\u001b[0;34m=\u001b[0m\u001b[0mtotal\u001b[0m\u001b[0;34m)\u001b[0m\u001b[0;34m;\u001b[0m\u001b[0;34m\u001b[0m\u001b[0;34m\u001b[0m\u001b[0m\n\u001b[0m",
      "\u001b[0;31mNameError\u001b[0m: name 'total' is not defined"
     ]
    }
   ],
   "source": [
    "plt.scatter(x='alcohol', y=total);"
   ]
  },
  {
   "cell_type": "code",
   "execution_count": 55,
   "id": "736c082d-6576-400b-a9a9-547e15f0e311",
   "metadata": {},
   "outputs": [
    {
     "data": {
      "image/png": "[encoded data removed]",
      "text/plain": [
       "<Figure size 432x288 with 1 Axes>"
      ]
     },
     "metadata": {
      "needs_background": "light"
     },
     "output_type": "display_data"
    }
   ],
   "source": [
    "plt.scatter(x='alcohol', y='total');"
   ]
  },
  {
   "cell_type": "markdown",
   "id": "736485f0-44aa-4788-b88e-9d300455d131",
   "metadata": {},
   "source": [
    "## Error:"
   ]
  },
  {
   "cell_type": "markdown",
   "id": "8cd11fe6-d6c2-47ec-925c-ad25904710bb",
   "metadata": {},
   "source": [
    "- [ ] Why don't we have all the points?"
   ]
  },
  {
   "cell_type": "code",
   "execution_count": 38,
   "id": "34af3155-eea7-41ef-bec5-f37e7b9f83a3",
   "metadata": {},
   "outputs": [
    {
     "data": {
      "text/plain": [
       "'alcohol'"
      ]
     },
     "execution_count": 38,
     "metadata": {},
     "output_type": "execute_result"
    }
   ],
   "source": [
    "'alcohol'"
   ]
  },
  {
   "cell_type": "code",
   "execution_count": 40,
   "id": "6f93fd34-64c1-48ca-8ad4-2c007fb5dc41",
   "metadata": {},
   "outputs": [
    {
     "data": {
      "text/plain": [
       "'total'"
      ]
     },
     "execution_count": 40,
     "metadata": {},
     "output_type": "execute_result"
    }
   ],
   "source": [
    "'total'"
   ]
  },
  {
   "cell_type": "code",
   "execution_count": 41,
   "id": "26550c70-344e-49ee-9c33-3f7babaab405",
   "metadata": {},
   "outputs": [
    {
     "data": {
      "text/html": [
       "<div>\n",
       "<style scoped>\n",
       "    .dataframe tbody tr th:only-of-type {\n",
       "        vertical-align: middle;\n",
       "    }\n",
       "\n",
       "    .dataframe tbody tr th {\n",
       "        vertical-align: top;\n",
       "    }\n",
       "\n",
       "    .dataframe thead th {\n",
       "        text-align: right;\n",
       "    }\n",
       "</style>\n",
       "<table border=\"1\" class=\"dataframe\">\n",
       "  <thead>\n",
       "    <tr style=\"text-align: right;\">\n",
       "      <th></th>\n",
       "      <th>total</th>\n",
       "      <th>speeding</th>\n",
       "      <th>alcohol</th>\n",
       "      <th>not_distracted</th>\n",
       "      <th>no_previous</th>\n",
       "      <th>ins_premium</th>\n",
       "      <th>ins_losses</th>\n",
       "      <th>abbrev</th>\n",
       "    </tr>\n",
       "  </thead>\n",
       "  <tbody>\n",
       "    <tr>\n",
       "      <th>0</th>\n",
       "      <td>18.8</td>\n",
       "      <td>7.332</td>\n",
       "      <td>5.640</td>\n",
       "      <td>18.048</td>\n",
       "      <td>15.040</td>\n",
       "      <td>784.55</td>\n",
       "      <td>145.08</td>\n",
       "      <td>AL</td>\n",
       "    </tr>\n",
       "    <tr>\n",
       "      <th>1</th>\n",
       "      <td>18.1</td>\n",
       "      <td>7.421</td>\n",
       "      <td>4.525</td>\n",
       "      <td>16.290</td>\n",
       "      <td>17.014</td>\n",
       "      <td>1053.48</td>\n",
       "      <td>133.93</td>\n",
       "      <td>AK</td>\n",
       "    </tr>\n",
       "    <tr>\n",
       "      <th>2</th>\n",
       "      <td>18.6</td>\n",
       "      <td>6.510</td>\n",
       "      <td>5.208</td>\n",
       "      <td>15.624</td>\n",
       "      <td>17.856</td>\n",
       "      <td>899.47</td>\n",
       "      <td>110.35</td>\n",
       "      <td>AZ</td>\n",
       "    </tr>\n",
       "    <tr>\n",
       "      <th>3</th>\n",
       "      <td>22.4</td>\n",
       "      <td>4.032</td>\n",
       "      <td>5.824</td>\n",
       "      <td>21.056</td>\n",
       "      <td>21.280</td>\n",
       "      <td>827.34</td>\n",
       "      <td>142.39</td>\n",
       "      <td>AR</td>\n",
       "    </tr>\n",
       "    <tr>\n",
       "      <th>4</th>\n",
       "      <td>12.0</td>\n",
       "      <td>4.200</td>\n",
       "      <td>3.360</td>\n",
       "      <td>10.920</td>\n",
       "      <td>10.680</td>\n",
       "      <td>878.41</td>\n",
       "      <td>165.63</td>\n",
       "      <td>CA</td>\n",
       "    </tr>\n",
       "  </tbody>\n",
       "</table>\n",
       "</div>"
      ],
      "text/plain": [
       "   total  speeding  alcohol  not_distracted  no_previous  ins_premium  \\\n",
       "0   18.8     7.332    5.640          18.048       15.040       784.55   \n",
       "1   18.1     7.421    4.525          16.290       17.014      1053.48   \n",
       "2   18.6     6.510    5.208          15.624       17.856       899.47   \n",
       "3   22.4     4.032    5.824          21.056       21.280       827.34   \n",
       "4   12.0     4.200    3.360          10.920       10.680       878.41   \n",
       "\n",
       "   ins_losses abbrev  \n",
       "0      145.08     AL  \n",
       "1      133.93     AK  \n",
       "2      110.35     AZ  \n",
       "3      142.39     AR  \n",
       "4      165.63     CA  "
      ]
     },
     "execution_count": 41,
     "metadata": {},
     "output_type": "execute_result"
    }
   ],
   "source": [
    "df.head()"
   ]
  },
  {
   "cell_type": "markdown",
   "id": "dfa3e79d-e859-4356-880f-3e48352c4ce7",
   "metadata": {
    "tags": []
   },
   "source": [
    "# What you pass to the `function()` matters\n",
    "\n",
    "- The `function()` plays with\n",
    "- the `objects` passed\n",
    "- to the `parameters`\n",
    "\n",
    "## Solution:"
   ]
  },
  {
   "cell_type": "code",
   "execution_count": 28,
   "id": "df046cc0-99bb-47b7-b137-a4abe343c723",
   "metadata": {},
   "outputs": [],
   "source": [
    "# - Solve the `error_1`"
   ]
  },
  {
   "cell_type": "code",
   "execution_count": 29,
   "id": "61d9c91f-c465-4976-a93c-761ea6b288ff",
   "metadata": {},
   "outputs": [
    {
     "data": {
      "text/html": [
       "<div>\n",
       "<style scoped>\n",
       "    .dataframe tbody tr th:only-of-type {\n",
       "        vertical-align: middle;\n",
       "    }\n",
       "\n",
       "    .dataframe tbody tr th {\n",
       "        vertical-align: top;\n",
       "    }\n",
       "\n",
       "    .dataframe thead th {\n",
       "        text-align: right;\n",
       "    }\n",
       "</style>\n",
       "<table border=\"1\" class=\"dataframe\">\n",
       "  <thead>\n",
       "    <tr style=\"text-align: right;\">\n",
       "      <th></th>\n",
       "      <th>total</th>\n",
       "      <th>speeding</th>\n",
       "      <th>alcohol</th>\n",
       "      <th>not_distracted</th>\n",
       "      <th>no_previous</th>\n",
       "      <th>ins_premium</th>\n",
       "      <th>ins_losses</th>\n",
       "      <th>abbrev</th>\n",
       "    </tr>\n",
       "  </thead>\n",
       "  <tbody>\n",
       "    <tr>\n",
       "      <th>0</th>\n",
       "      <td>18.8</td>\n",
       "      <td>7.332</td>\n",
       "      <td>5.640</td>\n",
       "      <td>18.048</td>\n",
       "      <td>15.040</td>\n",
       "      <td>784.55</td>\n",
       "      <td>145.08</td>\n",
       "      <td>AL</td>\n",
       "    </tr>\n",
       "    <tr>\n",
       "      <th>1</th>\n",
       "      <td>18.1</td>\n",
       "      <td>7.421</td>\n",
       "      <td>4.525</td>\n",
       "      <td>16.290</td>\n",
       "      <td>17.014</td>\n",
       "      <td>1053.48</td>\n",
       "      <td>133.93</td>\n",
       "      <td>AK</td>\n",
       "    </tr>\n",
       "    <tr>\n",
       "      <th>2</th>\n",
       "      <td>18.6</td>\n",
       "      <td>6.510</td>\n",
       "      <td>5.208</td>\n",
       "      <td>15.624</td>\n",
       "      <td>17.856</td>\n",
       "      <td>899.47</td>\n",
       "      <td>110.35</td>\n",
       "      <td>AZ</td>\n",
       "    </tr>\n",
       "    <tr>\n",
       "      <th>3</th>\n",
       "      <td>22.4</td>\n",
       "      <td>4.032</td>\n",
       "      <td>5.824</td>\n",
       "      <td>21.056</td>\n",
       "      <td>21.280</td>\n",
       "      <td>827.34</td>\n",
       "      <td>142.39</td>\n",
       "      <td>AR</td>\n",
       "    </tr>\n",
       "    <tr>\n",
       "      <th>4</th>\n",
       "      <td>12.0</td>\n",
       "      <td>4.200</td>\n",
       "      <td>3.360</td>\n",
       "      <td>10.920</td>\n",
       "      <td>10.680</td>\n",
       "      <td>878.41</td>\n",
       "      <td>165.63</td>\n",
       "      <td>CA</td>\n",
       "    </tr>\n",
       "  </tbody>\n",
       "</table>\n",
       "</div>"
      ],
      "text/plain": [
       "   total  speeding  alcohol  not_distracted  no_previous  ins_premium  \\\n",
       "0   18.8     7.332    5.640          18.048       15.040       784.55   \n",
       "1   18.1     7.421    4.525          16.290       17.014      1053.48   \n",
       "2   18.6     6.510    5.208          15.624       17.856       899.47   \n",
       "3   22.4     4.032    5.824          21.056       21.280       827.34   \n",
       "4   12.0     4.200    3.360          10.920       10.680       878.41   \n",
       "\n",
       "   ins_losses abbrev  \n",
       "0      145.08     AL  \n",
       "1      133.93     AK  \n",
       "2      110.35     AZ  \n",
       "3      142.39     AR  \n",
       "4      165.63     CA  "
      ]
     },
     "execution_count": 29,
     "metadata": {},
     "output_type": "execute_result"
    }
   ],
   "source": [
    "df.head()"
   ]
  },
  {
   "cell_type": "code",
   "execution_count": 30,
   "id": "9a002f96-aeba-4e6a-95a4-6a5fca31d2b8",
   "metadata": {},
   "outputs": [
    {
     "data": {
      "image/png": "[encoded data removed]",
      "text/plain": [
       "<Figure size 432x288 with 1 Axes>"
      ]
     },
     "metadata": {
      "needs_background": "light"
     },
     "output_type": "display_data"
    }
   ],
   "source": [
    "plt.scatter(\n",
    "    x=[5.64, 4.525, 5.208, 5.824, 3.360],\n",
    "    y=[18.8, 18.1, 18.6, 22.4, 12.0]\n",
    ");"
   ]
  },
  {
   "cell_type": "markdown",
   "id": "5aba00a1-65a8-41c6-9904-dada103c17c1",
   "metadata": {},
   "source": [
    "## Error:"
   ]
  },
  {
   "cell_type": "code",
   "execution_count": 31,
   "id": "2b5054a2-e68c-4ac3-935b-20daf322483e",
   "metadata": {},
   "outputs": [],
   "source": [
    "# - Get an `error_2` from `solution_1`"
   ]
  },
  {
   "cell_type": "markdown",
   "id": "644b8276-b0b7-4f90-a9dd-9da1c02c79da",
   "metadata": {},
   "source": [
    "- [ ] How can we pass all the values to the parameters without writing down all of them?"
   ]
  },
  {
   "cell_type": "markdown",
   "id": "f146e86b-4a12-4139-bd57-acb44dad3fa8",
   "metadata": {},
   "source": [
    "# `Instance` within an `instance`\n",
    "\n",
    "1. Dot notation\n",
    "2. Access `instances` within `instances`\n",
    "\n",
    "## Solution:"
   ]
  },
  {
   "cell_type": "code",
   "execution_count": 32,
   "id": "6637544a-2ae9-4c47-9926-71a456e32f06",
   "metadata": {},
   "outputs": [],
   "source": [
    "# - Solve the `error_2`"
   ]
  },
  {
   "cell_type": "code",
   "execution_count": 21,
   "id": "e3f2ecd6-271e-4b1a-b956-564b3b5bacb2",
   "metadata": {},
   "outputs": [
    {
     "data": {
      "text/html": [
       "<div>\n",
       "<style scoped>\n",
       "    .dataframe tbody tr th:only-of-type {\n",
       "        vertical-align: middle;\n",
       "    }\n",
       "\n",
       "    .dataframe tbody tr th {\n",
       "        vertical-align: top;\n",
       "    }\n",
       "\n",
       "    .dataframe thead th {\n",
       "        text-align: right;\n",
       "    }\n",
       "</style>\n",
       "<table border=\"1\" class=\"dataframe\">\n",
       "  <thead>\n",
       "    <tr style=\"text-align: right;\">\n",
       "      <th></th>\n",
       "      <th>total</th>\n",
       "      <th>speeding</th>\n",
       "      <th>alcohol</th>\n",
       "      <th>not_distracted</th>\n",
       "      <th>no_previous</th>\n",
       "      <th>ins_premium</th>\n",
       "      <th>ins_losses</th>\n",
       "      <th>abbrev</th>\n",
       "    </tr>\n",
       "  </thead>\n",
       "  <tbody>\n",
       "    <tr>\n",
       "      <th>0</th>\n",
       "      <td>18.8</td>\n",
       "      <td>7.332</td>\n",
       "      <td>5.640</td>\n",
       "      <td>18.048</td>\n",
       "      <td>15.040</td>\n",
       "      <td>784.55</td>\n",
       "      <td>145.08</td>\n",
       "      <td>AL</td>\n",
       "    </tr>\n",
       "    <tr>\n",
       "      <th>1</th>\n",
       "      <td>18.1</td>\n",
       "      <td>7.421</td>\n",
       "      <td>4.525</td>\n",
       "      <td>16.290</td>\n",
       "      <td>17.014</td>\n",
       "      <td>1053.48</td>\n",
       "      <td>133.93</td>\n",
       "      <td>AK</td>\n",
       "    </tr>\n",
       "    <tr>\n",
       "      <th>2</th>\n",
       "      <td>18.6</td>\n",
       "      <td>6.510</td>\n",
       "      <td>5.208</td>\n",
       "      <td>15.624</td>\n",
       "      <td>17.856</td>\n",
       "      <td>899.47</td>\n",
       "      <td>110.35</td>\n",
       "      <td>AZ</td>\n",
       "    </tr>\n",
       "    <tr>\n",
       "      <th>3</th>\n",
       "      <td>22.4</td>\n",
       "      <td>4.032</td>\n",
       "      <td>5.824</td>\n",
       "      <td>21.056</td>\n",
       "      <td>21.280</td>\n",
       "      <td>827.34</td>\n",
       "      <td>142.39</td>\n",
       "      <td>AR</td>\n",
       "    </tr>\n",
       "    <tr>\n",
       "      <th>4</th>\n",
       "      <td>12.0</td>\n",
       "      <td>4.200</td>\n",
       "      <td>3.360</td>\n",
       "      <td>10.920</td>\n",
       "      <td>10.680</td>\n",
       "      <td>878.41</td>\n",
       "      <td>165.63</td>\n",
       "      <td>CA</td>\n",
       "    </tr>\n",
       "  </tbody>\n",
       "</table>\n",
       "</div>"
      ],
      "text/plain": [
       "   total  speeding  alcohol  not_distracted  no_previous  ins_premium  \\\n",
       "0   18.8     7.332    5.640          18.048       15.040       784.55   \n",
       "1   18.1     7.421    4.525          16.290       17.014      1053.48   \n",
       "2   18.6     6.510    5.208          15.624       17.856       899.47   \n",
       "3   22.4     4.032    5.824          21.056       21.280       827.34   \n",
       "4   12.0     4.200    3.360          10.920       10.680       878.41   \n",
       "\n",
       "   ins_losses abbrev  \n",
       "0      145.08     AL  \n",
       "1      133.93     AK  \n",
       "2      110.35     AZ  \n",
       "3      142.39     AR  \n",
       "4      165.63     CA  "
      ]
     },
     "execution_count": 21,
     "metadata": {},
     "output_type": "execute_result"
    }
   ],
   "source": [
    "df.head()"
   ]
  },
  {
   "cell_type": "code",
   "execution_count": 22,
   "id": "18acf706-890a-4421-a7d7-409f71b17322",
   "metadata": {},
   "outputs": [
    {
     "data": {
      "text/plain": [
       "0      5.640\n",
       "1      4.525\n",
       "2      5.208\n",
       "3      5.824\n",
       "4      3.360\n",
       "5      3.808\n",
       "6      3.888\n",
       "7      4.860\n",
       "8      1.593\n",
       "9      5.191\n",
       "10     3.900\n",
       "11     7.175\n",
       "12     4.437\n",
       "13     4.352\n",
       "14     4.205\n",
       "15     3.925\n",
       "16     4.272\n",
       "17     4.922\n",
       "18     6.765\n",
       "19     4.530\n",
       "20     4.000\n",
       "21     2.870\n",
       "22     3.948\n",
       "23     2.784\n",
       "24     5.456\n",
       "25     5.474\n",
       "26     9.416\n",
       "27     5.215\n",
       "28     4.704\n",
       "29     3.480\n",
       "30     3.136\n",
       "31     4.968\n",
       "32     3.567\n",
       "33     5.208\n",
       "34    10.038\n",
       "35     4.794\n",
       "36     5.771\n",
       "37     3.328\n",
       "38     5.642\n",
       "39     4.218\n",
       "40     9.799\n",
       "41     6.402\n",
       "42     5.655\n",
       "43     7.372\n",
       "44     1.808\n",
       "45     4.080\n",
       "46     3.429\n",
       "47     3.498\n",
       "48     6.664\n",
       "49     4.554\n",
       "50     5.568\n",
       "Name: alcohol, dtype: float64"
      ]
     },
     "execution_count": 22,
     "metadata": {},
     "output_type": "execute_result"
    }
   ],
   "source": [
    "df.alcohol"
   ]
  },
  {
   "cell_type": "code",
   "execution_count": 23,
   "id": "58d03944-b7a1-4af2-9809-e9f8c1b2566e",
   "metadata": {},
   "outputs": [
    {
     "data": {
      "text/plain": [
       "0     18.8\n",
       "1     18.1\n",
       "2     18.6\n",
       "3     22.4\n",
       "4     12.0\n",
       "5     13.6\n",
       "6     10.8\n",
       "7     16.2\n",
       "8      5.9\n",
       "9     17.9\n",
       "10    15.6\n",
       "11    17.5\n",
       "12    15.3\n",
       "13    12.8\n",
       "14    14.5\n",
       "15    15.7\n",
       "16    17.8\n",
       "17    21.4\n",
       "18    20.5\n",
       "19    15.1\n",
       "20    12.5\n",
       "21     8.2\n",
       "22    14.1\n",
       "23     9.6\n",
       "24    17.6\n",
       "25    16.1\n",
       "26    21.4\n",
       "27    14.9\n",
       "28    14.7\n",
       "29    11.6\n",
       "30    11.2\n",
       "31    18.4\n",
       "32    12.3\n",
       "33    16.8\n",
       "34    23.9\n",
       "35    14.1\n",
       "36    19.9\n",
       "37    12.8\n",
       "38    18.2\n",
       "39    11.1\n",
       "40    23.9\n",
       "41    19.4\n",
       "42    19.5\n",
       "43    19.4\n",
       "44    11.3\n",
       "45    13.6\n",
       "46    12.7\n",
       "47    10.6\n",
       "48    23.8\n",
       "49    13.8\n",
       "50    17.4\n",
       "Name: total, dtype: float64"
      ]
     },
     "execution_count": 23,
     "metadata": {},
     "output_type": "execute_result"
    }
   ],
   "source": [
    "df.total"
   ]
  },
  {
   "cell_type": "code",
   "execution_count": 25,
   "id": "125f5347-e876-497c-a27d-202a02b1c8f0",
   "metadata": {},
   "outputs": [
    {
     "data": {
      "image/png": "[encoded data removed]",
      "text/plain": [
       "<Figure size 432x288 with 1 Axes>"
      ]
     },
     "metadata": {
      "needs_background": "light"
     },
     "output_type": "display_data"
    }
   ],
   "source": [
    "plt.scatter(x=df.alcohol, y=df.total);"
   ]
  },
  {
   "cell_type": "markdown",
   "id": "f66ea328-4cc0-475d-9355-9bc00433c616",
   "metadata": {},
   "source": [
    "## Error:"
   ]
  },
  {
   "cell_type": "code",
   "execution_count": 5,
   "id": "55b2137c-a12a-4f22-b6d1-3d29dbc34c72",
   "metadata": {},
   "outputs": [],
   "source": [
    "# - Get an `error_3` from `solution_2`"
   ]
  },
  {
   "cell_type": "code",
   "execution_count": null,
   "id": "7a33ab95-4260-4af1-b525-fdaeac653e4c",
   "metadata": {},
   "outputs": [],
   "source": []
  },
  {
   "cell_type": "markdown",
   "id": "d93c3b24-1f4a-4108-bd54-2cbfde9be08d",
   "metadata": {},
   "source": [
    "# Concept needed for `error_3`\n",
    "\n",
    "1. Element 1\n",
    "2. Element 2\n",
    "3. Element …\n",
    "\n",
    "## Solution:"
   ]
  },
  {
   "cell_type": "code",
   "execution_count": 7,
   "id": "705a1900-c965-46d9-9074-4944d49d5e10",
   "metadata": {},
   "outputs": [],
   "source": [
    "# - Solve the `error_3`"
   ]
  },
  {
   "cell_type": "markdown",
   "id": "d64bf3aa-54e6-4c83-8d57-2a66566facc1",
   "metadata": {},
   "source": [
    "## Error:"
   ]
  },
  {
   "cell_type": "code",
   "execution_count": 6,
   "id": "15e798f6-dc3b-475c-8550-7b8591f10ba3",
   "metadata": {},
   "outputs": [],
   "source": [
    "# - Get an `error_x` from `solution_3`"
   ]
  },
  {
   "cell_type": "code",
   "execution_count": null,
   "id": "00f9afc0-d212-4083-bd9c-dc83a35c9a4a",
   "metadata": {},
   "outputs": [],
   "source": []
  },
  {
   "cell_type": "markdown",
   "id": "48450486-7559-47ed-989a-48c123178f86",
   "metadata": {},
   "source": [
    "# The uncovered solution"
   ]
  },
  {
   "cell_type": "code",
   "execution_count": null,
   "id": "6002f489-798c-471a-a393-20b50b9d9c9b",
   "metadata": {},
   "outputs": [],
   "source": []
  },
  {
   "cell_type": "markdown",
   "id": "c56f1e52-0bca-414a-988d-055c32bdf071",
   "metadata": {
    "tags": []
   },
   "source": [
    "# What have we learnt?\n",
    "\n",
    "## Fundamental Teaching 1"
   ]
  },
  {
   "cell_type": "code",
   "execution_count": null,
   "id": "6cc37c7a-5a27-47d5-a56d-e1fb4ead5013",
   "metadata": {},
   "outputs": [],
   "source": []
  },
  {
   "cell_type": "markdown",
   "id": "9fb66449-9057-49f0-ad0a-d9aab2366dc6",
   "metadata": {},
   "source": [
    "## Fundamental Teaching 2"
   ]
  },
  {
   "cell_type": "code",
   "execution_count": null,
   "id": "6402ffb5-ee6a-4eae-be3b-51dfe3e352ef",
   "metadata": {},
   "outputs": [],
   "source": []
  },
  {
   "cell_type": "markdown",
   "id": "7922957f-8377-4cfa-a14e-dc9670d762e0",
   "metadata": {},
   "source": [
    "# Define the concepts ↓\n",
    "\n",
    "- Fundamental Concept 1:\n",
    "\n",
    "---\n",
    "\n",
    "- Fundamental Concept 2:\n",
    "\n",
    "---"
   ]
  }
 ],
 "metadata": {
  "kernelspec": {
   "display_name": "Python 3 (ipykernel)",
   "language": "python",
   "name": "python3"
  },
  "language_info": {
   "codemirror_mode": {
    "name": "ipython",
    "version": 3
   },
   "file_extension": ".py",
   "mimetype": "text/x-python",
   "name": "python",
   "nbconvert_exporter": "python",
   "pygments_lexer": "ipython3",
   "version": "3.9.7"
  }
 },
 "nbformat": 4,
 "nbformat_minor": 5
}
