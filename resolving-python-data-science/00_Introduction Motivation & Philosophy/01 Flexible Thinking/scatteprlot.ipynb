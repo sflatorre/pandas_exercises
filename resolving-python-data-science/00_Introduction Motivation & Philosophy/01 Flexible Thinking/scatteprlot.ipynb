{
 "cells": [
  {
   "cell_type": "code",
   "execution_count": null,
   "id": "02ae16b1-4083-40b1-8c06-1279368b4d01",
   "metadata": {},
   "outputs": [],
   "source": []
  },
  {
   "cell_type": "code",
   "execution_count": null,
   "id": "188adf62-900c-4cde-8cc4-e5cc7c2fe9ae",
   "metadata": {},
   "outputs": [],
   "source": []
  },
  {
   "cell_type": "code",
   "execution_count": null,
   "id": "97200ee5-1e73-4323-a2d7-b540491bb6bc",
   "metadata": {},
   "outputs": [],
   "source": []
  },
  {
   "cell_type": "code",
   "execution_count": null,
   "id": "ccf3eca4-ee98-467c-a31b-38c479bb4388",
   "metadata": {},
   "outputs": [],
   "source": []
  },
  {
   "cell_type": "code",
   "execution_count": null,
   "id": "71536b40-da76-4bee-a3fc-8e6a2763d9a1",
   "metadata": {},
   "outputs": [],
   "source": []
  },
  {
   "cell_type": "code",
   "execution_count": null,
   "id": "617cb553-97dd-4382-8811-56cf76e8217e",
   "metadata": {},
   "outputs": [],
   "source": []
  },
  {
   "cell_type": "code",
   "execution_count": null,
   "id": "b43b91f9-da21-44cb-979d-a72a3da30e6a",
   "metadata": {},
   "outputs": [],
   "source": []
  },
  {
   "cell_type": "code",
   "execution_count": null,
   "id": "92d14dac-8554-4d21-9f41-0588832a86cd",
   "metadata": {},
   "outputs": [],
   "source": []
  },
  {
   "cell_type": "code",
   "execution_count": null,
   "id": "6e45c37a-efd9-4626-97fe-b696735c4f86",
   "metadata": {},
   "outputs": [],
   "source": []
  },
  {
   "cell_type": "code",
   "execution_count": null,
   "id": "8fa230b2-c0b3-43f6-8276-8b5d92378ff9",
   "metadata": {},
   "outputs": [],
   "source": []
  },
  {
   "cell_type": "code",
   "execution_count": 1,
   "id": "b199fee9-5e82-4055-8d25-49b125683e65",
   "metadata": {
    "tags": []
   },
   "outputs": [
    {
     "data": {
      "text/html": [
       "<div>\n",
       "<style scoped>\n",
       "    .dataframe tbody tr th:only-of-type {\n",
       "        vertical-align: middle;\n",
       "    }\n",
       "\n",
       "    .dataframe tbody tr th {\n",
       "        vertical-align: top;\n",
       "    }\n",
       "\n",
       "    .dataframe thead th {\n",
       "        text-align: right;\n",
       "    }\n",
       "</style>\n",
       "<table border=\"1\" class=\"dataframe\">\n",
       "  <thead>\n",
       "    <tr style=\"text-align: right;\">\n",
       "      <th></th>\n",
       "      <th>total</th>\n",
       "      <th>speeding</th>\n",
       "      <th>alcohol</th>\n",
       "      <th>not_distracted</th>\n",
       "      <th>no_previous</th>\n",
       "      <th>ins_premium</th>\n",
       "      <th>ins_losses</th>\n",
       "      <th>abbrev</th>\n",
       "    </tr>\n",
       "  </thead>\n",
       "  <tbody>\n",
       "    <tr>\n",
       "      <th>0</th>\n",
       "      <td>18.8</td>\n",
       "      <td>7.332</td>\n",
       "      <td>5.640</td>\n",
       "      <td>18.048</td>\n",
       "      <td>15.040</td>\n",
       "      <td>784.55</td>\n",
       "      <td>145.08</td>\n",
       "      <td>AL</td>\n",
       "    </tr>\n",
       "    <tr>\n",
       "      <th>1</th>\n",
       "      <td>18.1</td>\n",
       "      <td>7.421</td>\n",
       "      <td>4.525</td>\n",
       "      <td>16.290</td>\n",
       "      <td>17.014</td>\n",
       "      <td>1053.48</td>\n",
       "      <td>133.93</td>\n",
       "      <td>AK</td>\n",
       "    </tr>\n",
       "    <tr>\n",
       "      <th>2</th>\n",
       "      <td>18.6</td>\n",
       "      <td>6.510</td>\n",
       "      <td>5.208</td>\n",
       "      <td>15.624</td>\n",
       "      <td>17.856</td>\n",
       "      <td>899.47</td>\n",
       "      <td>110.35</td>\n",
       "      <td>AZ</td>\n",
       "    </tr>\n",
       "    <tr>\n",
       "      <th>3</th>\n",
       "      <td>22.4</td>\n",
       "      <td>4.032</td>\n",
       "      <td>5.824</td>\n",
       "      <td>21.056</td>\n",
       "      <td>21.280</td>\n",
       "      <td>827.34</td>\n",
       "      <td>142.39</td>\n",
       "      <td>AR</td>\n",
       "    </tr>\n",
       "    <tr>\n",
       "      <th>4</th>\n",
       "      <td>12.0</td>\n",
       "      <td>4.200</td>\n",
       "      <td>3.360</td>\n",
       "      <td>10.920</td>\n",
       "      <td>10.680</td>\n",
       "      <td>878.41</td>\n",
       "      <td>165.63</td>\n",
       "      <td>CA</td>\n",
       "    </tr>\n",
       "  </tbody>\n",
       "</table>\n",
       "</div>"
      ],
      "text/plain": [
       "   total  speeding  alcohol  not_distracted  no_previous  ins_premium  \\\n",
       "0   18.8     7.332    5.640          18.048       15.040       784.55   \n",
       "1   18.1     7.421    4.525          16.290       17.014      1053.48   \n",
       "2   18.6     6.510    5.208          15.624       17.856       899.47   \n",
       "3   22.4     4.032    5.824          21.056       21.280       827.34   \n",
       "4   12.0     4.200    3.360          10.920       10.680       878.41   \n",
       "\n",
       "   ins_losses abbrev  \n",
       "0      145.08     AL  \n",
       "1      133.93     AK  \n",
       "2      110.35     AZ  \n",
       "3      142.39     AR  \n",
       "4      165.63     CA  "
      ]
     },
     "execution_count": 1,
     "metadata": {},
     "output_type": "execute_result"
    }
   ],
   "source": [
    "import matplotlib.pyplot as plt\n",
    "import seaborn as sns\n",
    "\n",
    "df = sns.load_dataset('car_crashes')\n",
    "df.head()"
   ]
  },
  {
   "cell_type": "code",
   "execution_count": 2,
   "id": "17276727-2c17-40e0-be5d-e81e48061482",
   "metadata": {},
   "outputs": [
    {
     "ename": "NameError",
     "evalue": "name 'alcohol' is not defined",
     "output_type": "error",
     "traceback": [
      "\u001b[0;31m---------------------------------------------------------------------------\u001b[0m",
      "\u001b[0;31mNameError\u001b[0m                                 Traceback (most recent call last)",
      "\u001b[0;32m/var/folders/24/tg28vxls25l9mjvqrnh0plc80000gn/T/ipykernel_13820/2760133209.py\u001b[0m in \u001b[0;36m<module>\u001b[0;34m\u001b[0m\n\u001b[0;32m----> 1\u001b[0;31m \u001b[0mplt\u001b[0m\u001b[0;34m.\u001b[0m\u001b[0mscatter\u001b[0m\u001b[0;34m(\u001b[0m\u001b[0mx\u001b[0m\u001b[0;34m=\u001b[0m\u001b[0malcohol\u001b[0m\u001b[0;34m,\u001b[0m \u001b[0my\u001b[0m\u001b[0;34m=\u001b[0m\u001b[0mtotal\u001b[0m\u001b[0;34m)\u001b[0m\u001b[0;34m\u001b[0m\u001b[0;34m\u001b[0m\u001b[0m\n\u001b[0m",
      "\u001b[0;31mNameError\u001b[0m: name 'alcohol' is not defined"
     ]
    }
   ],
   "source": [
    "plt.scatter(x=alcohol, y=total)"
   ]
  },
  {
   "cell_type": "markdown",
   "id": "0a2cd3ad-cb35-40a7-aa08-cf5dd17e745e",
   "metadata": {},
   "source": [
    "- focus on the error of the variable"
   ]
  },
  {
   "cell_type": "code",
   "execution_count": 3,
   "id": "1e0e6536-f4d1-4b67-b0e9-f92e0040f496",
   "metadata": {},
   "outputs": [
    {
     "ename": "NameError",
     "evalue": "name 'alcohol' is not defined",
     "output_type": "error",
     "traceback": [
      "\u001b[0;31m---------------------------------------------------------------------------\u001b[0m",
      "\u001b[0;31mNameError\u001b[0m                                 Traceback (most recent call last)",
      "\u001b[0;32m/var/folders/24/tg28vxls25l9mjvqrnh0plc80000gn/T/ipykernel_13820/2726447888.py\u001b[0m in \u001b[0;36m<module>\u001b[0;34m\u001b[0m\n\u001b[0;32m----> 1\u001b[0;31m \u001b[0malcohol\u001b[0m\u001b[0;34m\u001b[0m\u001b[0;34m\u001b[0m\u001b[0m\n\u001b[0m",
      "\u001b[0;31mNameError\u001b[0m: name 'alcohol' is not defined"
     ]
    }
   ],
   "source": [
    "alcohol"
   ]
  },
  {
   "cell_type": "code",
   "execution_count": 4,
   "id": "bf1d2aac-499e-4447-802c-b1cabdab2b46",
   "metadata": {},
   "outputs": [
    {
     "data": {
      "text/plain": [
       "<function sum(iterable, /, start=0)>"
      ]
     },
     "execution_count": 4,
     "metadata": {},
     "output_type": "execute_result"
    }
   ],
   "source": [
    "sum"
   ]
  },
  {
   "cell_type": "code",
   "execution_count": 5,
   "id": "8dd9fe03-a275-433a-a553-7b71ac2e6f12",
   "metadata": {},
   "outputs": [
    {
     "data": {
      "text/plain": [
       "<function len(obj, /)>"
      ]
     },
     "execution_count": 5,
     "metadata": {},
     "output_type": "execute_result"
    }
   ],
   "source": [
    "len"
   ]
  },
  {
   "cell_type": "code",
   "execution_count": 6,
   "id": "bddd8596-8182-434c-91e9-2a63476533b2",
   "metadata": {},
   "outputs": [
    {
     "data": {
      "text/html": [
       "<div>\n",
       "<style scoped>\n",
       "    .dataframe tbody tr th:only-of-type {\n",
       "        vertical-align: middle;\n",
       "    }\n",
       "\n",
       "    .dataframe tbody tr th {\n",
       "        vertical-align: top;\n",
       "    }\n",
       "\n",
       "    .dataframe thead th {\n",
       "        text-align: right;\n",
       "    }\n",
       "</style>\n",
       "<table border=\"1\" class=\"dataframe\">\n",
       "  <thead>\n",
       "    <tr style=\"text-align: right;\">\n",
       "      <th></th>\n",
       "      <th>total</th>\n",
       "      <th>speeding</th>\n",
       "      <th>alcohol</th>\n",
       "      <th>not_distracted</th>\n",
       "      <th>no_previous</th>\n",
       "      <th>ins_premium</th>\n",
       "      <th>ins_losses</th>\n",
       "      <th>abbrev</th>\n",
       "    </tr>\n",
       "  </thead>\n",
       "  <tbody>\n",
       "    <tr>\n",
       "      <th>0</th>\n",
       "      <td>18.8</td>\n",
       "      <td>7.332</td>\n",
       "      <td>5.640</td>\n",
       "      <td>18.048</td>\n",
       "      <td>15.040</td>\n",
       "      <td>784.55</td>\n",
       "      <td>145.08</td>\n",
       "      <td>AL</td>\n",
       "    </tr>\n",
       "    <tr>\n",
       "      <th>1</th>\n",
       "      <td>18.1</td>\n",
       "      <td>7.421</td>\n",
       "      <td>4.525</td>\n",
       "      <td>16.290</td>\n",
       "      <td>17.014</td>\n",
       "      <td>1053.48</td>\n",
       "      <td>133.93</td>\n",
       "      <td>AK</td>\n",
       "    </tr>\n",
       "    <tr>\n",
       "      <th>2</th>\n",
       "      <td>18.6</td>\n",
       "      <td>6.510</td>\n",
       "      <td>5.208</td>\n",
       "      <td>15.624</td>\n",
       "      <td>17.856</td>\n",
       "      <td>899.47</td>\n",
       "      <td>110.35</td>\n",
       "      <td>AZ</td>\n",
       "    </tr>\n",
       "    <tr>\n",
       "      <th>3</th>\n",
       "      <td>22.4</td>\n",
       "      <td>4.032</td>\n",
       "      <td>5.824</td>\n",
       "      <td>21.056</td>\n",
       "      <td>21.280</td>\n",
       "      <td>827.34</td>\n",
       "      <td>142.39</td>\n",
       "      <td>AR</td>\n",
       "    </tr>\n",
       "    <tr>\n",
       "      <th>4</th>\n",
       "      <td>12.0</td>\n",
       "      <td>4.200</td>\n",
       "      <td>3.360</td>\n",
       "      <td>10.920</td>\n",
       "      <td>10.680</td>\n",
       "      <td>878.41</td>\n",
       "      <td>165.63</td>\n",
       "      <td>CA</td>\n",
       "    </tr>\n",
       "  </tbody>\n",
       "</table>\n",
       "</div>"
      ],
      "text/plain": [
       "   total  speeding  alcohol  not_distracted  no_previous  ins_premium  \\\n",
       "0   18.8     7.332    5.640          18.048       15.040       784.55   \n",
       "1   18.1     7.421    4.525          16.290       17.014      1053.48   \n",
       "2   18.6     6.510    5.208          15.624       17.856       899.47   \n",
       "3   22.4     4.032    5.824          21.056       21.280       827.34   \n",
       "4   12.0     4.200    3.360          10.920       10.680       878.41   \n",
       "\n",
       "   ins_losses abbrev  \n",
       "0      145.08     AL  \n",
       "1      133.93     AK  \n",
       "2      110.35     AZ  \n",
       "3      142.39     AR  \n",
       "4      165.63     CA  "
      ]
     },
     "execution_count": 6,
     "metadata": {},
     "output_type": "execute_result"
    }
   ],
   "source": [
    "df.head()"
   ]
  },
  {
   "cell_type": "markdown",
   "id": "90f7f923-f2cd-4386-8f64-a08bdd623ccd",
   "metadata": {},
   "source": [
    "- access the column of the DataFrame"
   ]
  },
  {
   "cell_type": "code",
   "execution_count": 9,
   "id": "4c062508-de32-4b89-b06b-160fbf4861b3",
   "metadata": {},
   "outputs": [
    {
     "ename": "NameError",
     "evalue": "name 'alcohol' is not defined",
     "output_type": "error",
     "traceback": [
      "\u001b[0;31m---------------------------------------------------------------------------\u001b[0m",
      "\u001b[0;31mNameError\u001b[0m                                 Traceback (most recent call last)",
      "\u001b[0;32m/var/folders/24/tg28vxls25l9mjvqrnh0plc80000gn/T/ipykernel_13820/942333340.py\u001b[0m in \u001b[0;36m<module>\u001b[0;34m\u001b[0m\n\u001b[0;32m----> 1\u001b[0;31m \u001b[0mdf\u001b[0m\u001b[0;34m[\u001b[0m\u001b[0malcohol\u001b[0m\u001b[0;34m]\u001b[0m\u001b[0;34m\u001b[0m\u001b[0;34m\u001b[0m\u001b[0m\n\u001b[0m",
      "\u001b[0;31mNameError\u001b[0m: name 'alcohol' is not defined"
     ]
    }
   ],
   "source": [
    "df[alcohol]"
   ]
  },
  {
   "cell_type": "markdown",
   "id": "b0421121-332b-4c48-b763-4403961f5e3b",
   "metadata": {},
   "source": [
    "- you need the string to tell Python\n",
    "- what you literally mean,\n",
    "- but haven't defined previously"
   ]
  },
  {
   "cell_type": "code",
   "execution_count": 10,
   "id": "30ecbf40-dbe1-4bcf-a1c8-5031935cc05f",
   "metadata": {},
   "outputs": [
    {
     "ename": "NameError",
     "evalue": "name 'alcohol' is not defined",
     "output_type": "error",
     "traceback": [
      "\u001b[0;31m---------------------------------------------------------------------------\u001b[0m",
      "\u001b[0;31mNameError\u001b[0m                                 Traceback (most recent call last)",
      "\u001b[0;32m/var/folders/24/tg28vxls25l9mjvqrnh0plc80000gn/T/ipykernel_13820/2726447888.py\u001b[0m in \u001b[0;36m<module>\u001b[0;34m\u001b[0m\n\u001b[0;32m----> 1\u001b[0;31m \u001b[0malcohol\u001b[0m\u001b[0;34m\u001b[0m\u001b[0;34m\u001b[0m\u001b[0m\n\u001b[0m",
      "\u001b[0;31mNameError\u001b[0m: name 'alcohol' is not defined"
     ]
    }
   ],
   "source": [
    "alcohol"
   ]
  },
  {
   "cell_type": "code",
   "execution_count": 11,
   "id": "e3a89b2d-df51-40ae-aab4-8b64e65f7207",
   "metadata": {},
   "outputs": [
    {
     "data": {
      "text/plain": [
       "'alcohol'"
      ]
     },
     "execution_count": 11,
     "metadata": {},
     "output_type": "execute_result"
    }
   ],
   "source": [
    "'alcohol'"
   ]
  },
  {
   "cell_type": "code",
   "execution_count": 12,
   "id": "9be17535-988a-42c5-9e60-e0e2f1d1c3dd",
   "metadata": {},
   "outputs": [
    {
     "data": {
      "text/plain": [
       "0      5.640\n",
       "1      4.525\n",
       "2      5.208\n",
       "3      5.824\n",
       "4      3.360\n",
       "5      3.808\n",
       "6      3.888\n",
       "7      4.860\n",
       "8      1.593\n",
       "9      5.191\n",
       "10     3.900\n",
       "11     7.175\n",
       "12     4.437\n",
       "13     4.352\n",
       "14     4.205\n",
       "15     3.925\n",
       "16     4.272\n",
       "17     4.922\n",
       "18     6.765\n",
       "19     4.530\n",
       "20     4.000\n",
       "21     2.870\n",
       "22     3.948\n",
       "23     2.784\n",
       "24     5.456\n",
       "25     5.474\n",
       "26     9.416\n",
       "27     5.215\n",
       "28     4.704\n",
       "29     3.480\n",
       "30     3.136\n",
       "31     4.968\n",
       "32     3.567\n",
       "33     5.208\n",
       "34    10.038\n",
       "35     4.794\n",
       "36     5.771\n",
       "37     3.328\n",
       "38     5.642\n",
       "39     4.218\n",
       "40     9.799\n",
       "41     6.402\n",
       "42     5.655\n",
       "43     7.372\n",
       "44     1.808\n",
       "45     4.080\n",
       "46     3.429\n",
       "47     3.498\n",
       "48     6.664\n",
       "49     4.554\n",
       "50     5.568\n",
       "Name: alcohol, dtype: float64"
      ]
     },
     "execution_count": 12,
     "metadata": {},
     "output_type": "execute_result"
    }
   ],
   "source": [
    "df['alcohol']"
   ]
  },
  {
   "cell_type": "markdown",
   "id": "68d5d6da-1cee-419b-90d8-ee5c0ecba772",
   "metadata": {},
   "source": [
    "- try it out now"
   ]
  },
  {
   "cell_type": "code",
   "execution_count": 15,
   "id": "c0a35a58-6568-4b12-9603-bfddb14c38ba",
   "metadata": {},
   "outputs": [
    {
     "data": {
      "image/png": "[encoded data removed]",
      "text/plain": [
       "<Figure size 432x288 with 1 Axes>"
      ]
     },
     "metadata": {
      "needs_background": "light"
     },
     "output_type": "display_data"
    }
   ],
   "source": [
    "plt.scatter(x=df['alcohol'], y=df['total']);"
   ]
  },
  {
   "cell_type": "markdown",
   "id": "832ac2cc-ab0f-4251-8710-f55154b6629b",
   "metadata": {},
   "source": [
    "- is this the only way?"
   ]
  },
  {
   "cell_type": "code",
   "execution_count": 17,
   "id": "5f978cb1-eae6-4611-b479-9bf65a7cc5ee",
   "metadata": {},
   "outputs": [
    {
     "data": {
      "image/png": "[encoded data removed]",
      "text/plain": [
       "<Figure size 432x288 with 1 Axes>"
      ]
     },
     "metadata": {
      "needs_background": "light"
     },
     "output_type": "display_data"
    }
   ],
   "source": [
    "plt.scatter(x='alcohol', y='total');"
   ]
  },
  {
   "cell_type": "markdown",
   "id": "2af89937-d16b-4b45-a9b3-71a87e7b1dd4",
   "metadata": {},
   "source": [
    "- why this?"
   ]
  },
  {
   "cell_type": "code",
   "execution_count": 21,
   "id": "68afcd95-be4f-4347-b6cb-808fe5c6de55",
   "metadata": {},
   "outputs": [
    {
     "data": {
      "image/png": "[encoded data removed]",
      "text/plain": [
       "<Figure size 432x288 with 1 Axes>"
      ]
     },
     "metadata": {
      "needs_background": "light"
     },
     "output_type": "display_data"
    }
   ],
   "source": [
    "plt.scatter(x=[1,2,3], y=[3,4,5]);"
   ]
  },
  {
   "cell_type": "markdown",
   "id": "4e1546c1-3915-4c73-9af3-2dcf06efe3b3",
   "metadata": {},
   "source": [
    "- the function plays with the objects involved in the function?"
   ]
  },
  {
   "cell_type": "code",
   "execution_count": 22,
   "id": "42946179-0b99-4c9e-94f9-7bebcfa1ee4e",
   "metadata": {},
   "outputs": [
    {
     "data": {
      "text/plain": [
       "'alcohol'"
      ]
     },
     "execution_count": 22,
     "metadata": {},
     "output_type": "execute_result"
    }
   ],
   "source": [
    "'alcohol'"
   ]
  },
  {
   "cell_type": "code",
   "execution_count": 23,
   "id": "00b3ca86-f705-4c49-bc59-416c4239eb09",
   "metadata": {},
   "outputs": [
    {
     "data": {
      "text/plain": [
       "'total'"
      ]
     },
     "execution_count": 23,
     "metadata": {},
     "output_type": "execute_result"
    }
   ],
   "source": [
    "'total'"
   ]
  },
  {
   "cell_type": "code",
   "execution_count": 24,
   "id": "03fa0732-2613-4923-89a3-358bed607815",
   "metadata": {},
   "outputs": [
    {
     "data": {
      "image/png": "[encoded data removed]",
      "text/plain": [
       "<Figure size 432x288 with 1 Axes>"
      ]
     },
     "metadata": {
      "needs_background": "light"
     },
     "output_type": "display_data"
    }
   ],
   "source": [
    "plt.scatter(x='alcohol', y='total');"
   ]
  },
  {
   "cell_type": "markdown",
   "id": "f3d4d7b0-fce9-402c-a8bf-72c5d1afd3a9",
   "metadata": {},
   "source": [
    "- `'alcohol'` & `'total'` are simple strings\n",
    "- that cannot plot all the points by themselves\n",
    "- [ ] where are the numbers for the points' coordinates?"
   ]
  },
  {
   "cell_type": "code",
   "execution_count": 25,
   "id": "9ae171ea-4ea1-4c72-b7f5-c3dc79562dd2",
   "metadata": {},
   "outputs": [
    {
     "data": {
      "text/html": [
       "<div>\n",
       "<style scoped>\n",
       "    .dataframe tbody tr th:only-of-type {\n",
       "        vertical-align: middle;\n",
       "    }\n",
       "\n",
       "    .dataframe tbody tr th {\n",
       "        vertical-align: top;\n",
       "    }\n",
       "\n",
       "    .dataframe thead th {\n",
       "        text-align: right;\n",
       "    }\n",
       "</style>\n",
       "<table border=\"1\" class=\"dataframe\">\n",
       "  <thead>\n",
       "    <tr style=\"text-align: right;\">\n",
       "      <th></th>\n",
       "      <th>total</th>\n",
       "      <th>speeding</th>\n",
       "      <th>alcohol</th>\n",
       "      <th>not_distracted</th>\n",
       "      <th>no_previous</th>\n",
       "      <th>ins_premium</th>\n",
       "      <th>ins_losses</th>\n",
       "      <th>abbrev</th>\n",
       "    </tr>\n",
       "  </thead>\n",
       "  <tbody>\n",
       "    <tr>\n",
       "      <th>0</th>\n",
       "      <td>18.8</td>\n",
       "      <td>7.332</td>\n",
       "      <td>5.640</td>\n",
       "      <td>18.048</td>\n",
       "      <td>15.040</td>\n",
       "      <td>784.55</td>\n",
       "      <td>145.08</td>\n",
       "      <td>AL</td>\n",
       "    </tr>\n",
       "    <tr>\n",
       "      <th>1</th>\n",
       "      <td>18.1</td>\n",
       "      <td>7.421</td>\n",
       "      <td>4.525</td>\n",
       "      <td>16.290</td>\n",
       "      <td>17.014</td>\n",
       "      <td>1053.48</td>\n",
       "      <td>133.93</td>\n",
       "      <td>AK</td>\n",
       "    </tr>\n",
       "    <tr>\n",
       "      <th>2</th>\n",
       "      <td>18.6</td>\n",
       "      <td>6.510</td>\n",
       "      <td>5.208</td>\n",
       "      <td>15.624</td>\n",
       "      <td>17.856</td>\n",
       "      <td>899.47</td>\n",
       "      <td>110.35</td>\n",
       "      <td>AZ</td>\n",
       "    </tr>\n",
       "    <tr>\n",
       "      <th>3</th>\n",
       "      <td>22.4</td>\n",
       "      <td>4.032</td>\n",
       "      <td>5.824</td>\n",
       "      <td>21.056</td>\n",
       "      <td>21.280</td>\n",
       "      <td>827.34</td>\n",
       "      <td>142.39</td>\n",
       "      <td>AR</td>\n",
       "    </tr>\n",
       "    <tr>\n",
       "      <th>4</th>\n",
       "      <td>12.0</td>\n",
       "      <td>4.200</td>\n",
       "      <td>3.360</td>\n",
       "      <td>10.920</td>\n",
       "      <td>10.680</td>\n",
       "      <td>878.41</td>\n",
       "      <td>165.63</td>\n",
       "      <td>CA</td>\n",
       "    </tr>\n",
       "  </tbody>\n",
       "</table>\n",
       "</div>"
      ],
      "text/plain": [
       "   total  speeding  alcohol  not_distracted  no_previous  ins_premium  \\\n",
       "0   18.8     7.332    5.640          18.048       15.040       784.55   \n",
       "1   18.1     7.421    4.525          16.290       17.014      1053.48   \n",
       "2   18.6     6.510    5.208          15.624       17.856       899.47   \n",
       "3   22.4     4.032    5.824          21.056       21.280       827.34   \n",
       "4   12.0     4.200    3.360          10.920       10.680       878.41   \n",
       "\n",
       "   ins_losses abbrev  \n",
       "0      145.08     AL  \n",
       "1      133.93     AK  \n",
       "2      110.35     AZ  \n",
       "3      142.39     AR  \n",
       "4      165.63     CA  "
      ]
     },
     "execution_count": 25,
     "metadata": {},
     "output_type": "execute_result"
    }
   ],
   "source": [
    "df.head()"
   ]
  },
  {
   "cell_type": "markdown",
   "id": "4e3adceb-4cc2-4fb0-8b19-096b7a555f62",
   "metadata": {},
   "source": [
    "- [ ] is `df` mentioned somewhere in the function?"
   ]
  },
  {
   "cell_type": "code",
   "execution_count": 24,
   "id": "d8051bf1-a1af-4eec-83ec-0ada5571de26",
   "metadata": {},
   "outputs": [
    {
     "data": {
      "image/png": "[encoded data removed]",
      "text/plain": [
       "<Figure size 432x288 with 1 Axes>"
      ]
     },
     "metadata": {
      "needs_background": "light"
     },
     "output_type": "display_data"
    }
   ],
   "source": [
    "plt.scatter(x='alcohol', y='total');"
   ]
  },
  {
   "cell_type": "markdown",
   "id": "1b9f5184-867f-4374-8f32-418df9d9f5cf",
   "metadata": {},
   "source": [
    "- [ ] how could we mention it?\n",
    "- [ ] is there a specific parameter for the DataFrame object?"
   ]
  },
  {
   "cell_type": "code",
   "execution_count": 26,
   "id": "93909911-b6f7-47c7-a132-b0968c53dcdd",
   "metadata": {},
   "outputs": [
    {
     "data": {
      "image/png": "[encoded data removed]",
      "text/plain": [
       "<Figure size 432x288 with 1 Axes>"
      ]
     },
     "metadata": {
      "needs_background": "light"
     },
     "output_type": "display_data"
    }
   ],
   "source": [
    "plt.scatter(x='alcohol', y='total', data=df);"
   ]
  },
  {
   "cell_type": "markdown",
   "id": "cfa2cd8b-bbc7-4681-a502-069e638b8fae",
   "metadata": {},
   "source": [
    "- is there any other way?"
   ]
  },
  {
   "cell_type": "markdown",
   "id": "b6192b20-22fb-4c60-afe1-047874d7f2f6",
   "metadata": {},
   "source": [
    "- [ ] using the `instance`, not the `key`..."
   ]
  },
  {
   "cell_type": "code",
   "execution_count": 32,
   "id": "4f5ed592-ad6f-4ab6-a075-34584da9f7ea",
   "metadata": {},
   "outputs": [
    {
     "data": {
      "text/plain": [
       "0      5.640\n",
       "1      4.525\n",
       "2      5.208\n",
       "3      5.824\n",
       "4      3.360\n",
       "5      3.808\n",
       "6      3.888\n",
       "7      4.860\n",
       "8      1.593\n",
       "9      5.191\n",
       "10     3.900\n",
       "11     7.175\n",
       "12     4.437\n",
       "13     4.352\n",
       "14     4.205\n",
       "15     3.925\n",
       "16     4.272\n",
       "17     4.922\n",
       "18     6.765\n",
       "19     4.530\n",
       "20     4.000\n",
       "21     2.870\n",
       "22     3.948\n",
       "23     2.784\n",
       "24     5.456\n",
       "25     5.474\n",
       "26     9.416\n",
       "27     5.215\n",
       "28     4.704\n",
       "29     3.480\n",
       "30     3.136\n",
       "31     4.968\n",
       "32     3.567\n",
       "33     5.208\n",
       "34    10.038\n",
       "35     4.794\n",
       "36     5.771\n",
       "37     3.328\n",
       "38     5.642\n",
       "39     4.218\n",
       "40     9.799\n",
       "41     6.402\n",
       "42     5.655\n",
       "43     7.372\n",
       "44     1.808\n",
       "45     4.080\n",
       "46     3.429\n",
       "47     3.498\n",
       "48     6.664\n",
       "49     4.554\n",
       "50     5.568\n",
       "Name: alcohol, dtype: float64"
      ]
     },
     "execution_count": 32,
     "metadata": {},
     "output_type": "execute_result"
    }
   ],
   "source": [
    "df.alcohol"
   ]
  },
  {
   "cell_type": "code",
   "execution_count": 33,
   "id": "39cde750-f2ed-4cc5-a950-207a594cf43d",
   "metadata": {},
   "outputs": [
    {
     "data": {
      "text/plain": [
       "0      5.640\n",
       "1      4.525\n",
       "2      5.208\n",
       "3      5.824\n",
       "4      3.360\n",
       "5      3.808\n",
       "6      3.888\n",
       "7      4.860\n",
       "8      1.593\n",
       "9      5.191\n",
       "10     3.900\n",
       "11     7.175\n",
       "12     4.437\n",
       "13     4.352\n",
       "14     4.205\n",
       "15     3.925\n",
       "16     4.272\n",
       "17     4.922\n",
       "18     6.765\n",
       "19     4.530\n",
       "20     4.000\n",
       "21     2.870\n",
       "22     3.948\n",
       "23     2.784\n",
       "24     5.456\n",
       "25     5.474\n",
       "26     9.416\n",
       "27     5.215\n",
       "28     4.704\n",
       "29     3.480\n",
       "30     3.136\n",
       "31     4.968\n",
       "32     3.567\n",
       "33     5.208\n",
       "34    10.038\n",
       "35     4.794\n",
       "36     5.771\n",
       "37     3.328\n",
       "38     5.642\n",
       "39     4.218\n",
       "40     9.799\n",
       "41     6.402\n",
       "42     5.655\n",
       "43     7.372\n",
       "44     1.808\n",
       "45     4.080\n",
       "46     3.429\n",
       "47     3.498\n",
       "48     6.664\n",
       "49     4.554\n",
       "50     5.568\n",
       "Name: alcohol, dtype: float64"
      ]
     },
     "execution_count": 33,
     "metadata": {},
     "output_type": "execute_result"
    }
   ],
   "source": [
    "df['alcohol']"
   ]
  },
  {
   "cell_type": "code",
   "execution_count": 34,
   "id": "1c4d65a1-b0ac-416a-a5cd-0781310b425d",
   "metadata": {},
   "outputs": [
    {
     "data": {
      "image/png": "[encoded data removed]",
      "text/plain": [
       "<Figure size 432x288 with 1 Axes>"
      ]
     },
     "metadata": {
      "needs_background": "light"
     },
     "output_type": "display_data"
    }
   ],
   "source": [
    "plt.scatter(x=df.alcohol, y=df.total);"
   ]
  },
  {
   "cell_type": "code",
   "execution_count": null,
   "id": "e8ea6e42-1758-4b78-a87a-95d6a33f78b0",
   "metadata": {},
   "outputs": [],
   "source": []
  },
  {
   "cell_type": "code",
   "execution_count": null,
   "id": "4d48ce92-a84c-4894-b600-3c38faa040cd",
   "metadata": {},
   "outputs": [],
   "source": []
  },
  {
   "cell_type": "code",
   "execution_count": 133,
   "id": "355a4284-65d6-4de4-94d0-de3fd01b91ba",
   "metadata": {},
   "outputs": [],
   "source": [
    "import seaborn as sns"
   ]
  },
  {
   "cell_type": "code",
   "execution_count": 137,
   "id": "3a9835f4-26b7-4759-9da6-270c3aa194c8",
   "metadata": {},
   "outputs": [
    {
     "name": "stdout",
     "output_type": "stream",
     "text": [
      "<table border=\"1\" class=\"dataframe\">\n",
      "  <thead>\n",
      "    <tr style=\"text-align: right;\">\n",
      "      <th></th>\n",
      "      <th>total_bill</th>\n",
      "      <th>tip</th>\n",
      "      <th>sex</th>\n",
      "      <th>smoker</th>\n",
      "      <th>day</th>\n",
      "      <th>time</th>\n",
      "      <th>size</th>\n",
      "    </tr>\n",
      "  </thead>\n",
      "  <tbody>\n",
      "    <tr>\n",
      "      <th>0</th>\n",
      "      <td>16.99</td>\n",
      "      <td>1.01</td>\n",
      "      <td>Female</td>\n",
      "      <td>No</td>\n",
      "      <td>Sun</td>\n",
      "      <td>Dinner</td>\n",
      "      <td>2</td>\n",
      "    </tr>\n",
      "    <tr>\n",
      "      <th>1</th>\n",
      "      <td>10.34</td>\n",
      "      <td>1.66</td>\n",
      "      <td>Male</td>\n",
      "      <td>No</td>\n",
      "      <td>Sun</td>\n",
      "      <td>Dinner</td>\n",
      "      <td>3</td>\n",
      "    </tr>\n",
      "    <tr>\n",
      "      <th>2</th>\n",
      "      <td>21.01</td>\n",
      "      <td>3.50</td>\n",
      "      <td>Male</td>\n",
      "      <td>No</td>\n",
      "      <td>Sun</td>\n",
      "      <td>Dinner</td>\n",
      "      <td>3</td>\n",
      "    </tr>\n",
      "    <tr>\n",
      "      <th>3</th>\n",
      "      <td>23.68</td>\n",
      "      <td>3.31</td>\n",
      "      <td>Male</td>\n",
      "      <td>No</td>\n",
      "      <td>Sun</td>\n",
      "      <td>Dinner</td>\n",
      "      <td>2</td>\n",
      "    </tr>\n",
      "    <tr>\n",
      "      <th>4</th>\n",
      "      <td>24.59</td>\n",
      "      <td>3.61</td>\n",
      "      <td>Female</td>\n",
      "      <td>No</td>\n",
      "      <td>Sun</td>\n",
      "      <td>Dinner</td>\n",
      "      <td>4</td>\n",
      "    </tr>\n",
      "  </tbody>\n",
      "</table>\n"
     ]
    }
   ],
   "source": [
    "df = sns.load_dataset('tips')\n",
    "print(df.head().to_html())"
   ]
  },
  {
   "cell_type": "markdown",
   "id": "10a3adb9-570a-4732-8ca0-996155a542c5",
   "metadata": {},
   "source": [
    "# Sketch the Result\n",
    "\n",
    "1. Understand the Problem:\n",
    "\n",
    "    - Get the number of people by `sex`\n",
    "        - `sex` is the column with the groups:\n",
    "            - `Female`\n",
    "            - `Male`\n",
    "\n",
    "2. What is your starting *thing*?\n",
    "\n",
    "    - This `DataFrame`:\n",
    "\n",
    "<table border=\"1\" class=\"dataframe\">\n",
    "  <thead>\n",
    "    <tr style=\"text-align: right;\">\n",
    "      <th></th>\n",
    "      <th>total_bill</th>\n",
    "      <th>tip</th>\n",
    "      <th>sex</th>\n",
    "      <th>smoker</th>\n",
    "      <th>day</th>\n",
    "      <th>time</th>\n",
    "      <th>size</th>\n",
    "    </tr>\n",
    "  </thead>\n",
    "  <tbody>\n",
    "    <tr>\n",
    "      <th>0</th>\n",
    "      <td>16.99</td>\n",
    "      <td>1.01</td>\n",
    "      <td>Female</td>\n",
    "      <td>No</td>\n",
    "      <td>Sun</td>\n",
    "      <td>Dinner</td>\n",
    "      <td>2</td>\n",
    "    </tr>\n",
    "    <tr>\n",
    "      <th>1</th>\n",
    "      <td>10.34</td>\n",
    "      <td>1.66</td>\n",
    "      <td>Male</td>\n",
    "      <td>No</td>\n",
    "      <td>Sun</td>\n",
    "      <td>Dinner</td>\n",
    "      <td>3</td>\n",
    "    </tr>\n",
    "    <tr>\n",
    "      <th>2</th>\n",
    "      <td>21.01</td>\n",
    "      <td>3.50</td>\n",
    "      <td>Male</td>\n",
    "      <td>No</td>\n",
    "      <td>Sun</td>\n",
    "      <td>Dinner</td>\n",
    "      <td>3</td>\n",
    "    </tr>\n",
    "    <tr>\n",
    "      <th>3</th>\n",
    "      <td>23.68</td>\n",
    "      <td>3.31</td>\n",
    "      <td>Male</td>\n",
    "      <td>No</td>\n",
    "      <td>Sun</td>\n",
    "      <td>Dinner</td>\n",
    "      <td>2</td>\n",
    "    </tr>\n",
    "    <tr>\n",
    "      <th>4</th>\n",
    "      <td>24.59</td>\n",
    "      <td>3.61</td>\n",
    "      <td>Female</td>\n",
    "      <td>No</td>\n",
    "      <td>Sun</td>\n",
    "      <td>Dinner</td>\n",
    "      <td>4</td>\n",
    "    </tr>\n",
    "  </tbody>\n",
    "</table>\n",
    "\n",
    "3. Sketch the result you desire:\n",
    "\n",
    "```python\n",
    "F - 157\n",
    "M - 87\n",
    "```\n",
    "\n",
    "4. Apply the [Deduction Method](<01_Deduction Method.md>) to get The Desired Result"
   ]
  },
  {
   "cell_type": "code",
   "execution_count": null,
   "id": "a949255c-4aa8-4d3f-b06c-bed327021bc1",
   "metadata": {},
   "outputs": [],
   "source": []
  },
  {
   "cell_type": "code",
   "execution_count": 150,
   "id": "8f8e55b4-7725-4cdd-9003-ed4948cc07d3",
   "metadata": {},
   "outputs": [
    {
     "data": {
      "text/plain": [
       "Male      157\n",
       "Female     87\n",
       "Name: sex, dtype: int64"
      ]
     },
     "execution_count": 150,
     "metadata": {},
     "output_type": "execute_result"
    }
   ],
   "source": [
    "df.sex.value_counts()"
   ]
  },
  {
   "cell_type": "code",
   "execution_count": null,
   "id": "33132d13-5e40-4e09-9e3d-1f24a4f3e17c",
   "metadata": {},
   "outputs": [],
   "source": []
  },
  {
   "cell_type": "code",
   "execution_count": null,
   "id": "6b41cf9b-407d-419f-94d4-a983d7b9bc85",
   "metadata": {},
   "outputs": [],
   "source": []
  },
  {
   "cell_type": "code",
   "execution_count": 140,
   "id": "c5fb4f62-c924-45d8-bce8-52481958bde7",
   "metadata": {},
   "outputs": [
    {
     "data": {
      "text/plain": [
       "RangeIndex(start=0, stop=244, step=1)"
      ]
     },
     "execution_count": 140,
     "metadata": {},
     "output_type": "execute_result"
    }
   ],
   "source": [
    "df.total_bill.keys()"
   ]
  },
  {
   "cell_type": "code",
   "execution_count": 142,
   "id": "d782ac2f-0a3a-4f0f-93dd-9b75584e9b7b",
   "metadata": {},
   "outputs": [
    {
     "data": {
      "text/plain": [
       "2"
      ]
     },
     "execution_count": 142,
     "metadata": {},
     "output_type": "execute_result"
    }
   ],
   "source": [
    "df.values.ndim"
   ]
  },
  {
   "cell_type": "code",
   "execution_count": 146,
   "id": "bcefb0bb-82b0-4b94-bc5b-deb212a01912",
   "metadata": {},
   "outputs": [
    {
     "data": {
      "text/plain": [
       "1708"
      ]
     },
     "execution_count": 146,
     "metadata": {},
     "output_type": "execute_result"
    }
   ],
   "source": [
    "df.values.size"
   ]
  },
  {
   "cell_type": "code",
   "execution_count": 147,
   "id": "0ddc03af-03f2-4007-b6ae-df5d528ea773",
   "metadata": {},
   "outputs": [
    {
     "data": {
      "text/plain": [
       "array([[16.99, 1.01, 'Female', ..., 'Sun', 'Dinner', 2],\n",
       "       [10.34, 1.66, 'Male', ..., 'Sun', 'Dinner', 3],\n",
       "       [21.01, 3.5, 'Male', ..., 'Sun', 'Dinner', 3],\n",
       "       ...,\n",
       "       [22.67, 2.0, 'Male', ..., 'Sat', 'Dinner', 2],\n",
       "       [17.82, 1.75, 'Male', ..., 'Sat', 'Dinner', 2],\n",
       "       [18.78, 3.0, 'Female', ..., 'Thur', 'Dinner', 2]], dtype=object)"
      ]
     },
     "execution_count": 147,
     "metadata": {},
     "output_type": "execute_result"
    }
   ],
   "source": [
    "df.values"
   ]
  },
  {
   "cell_type": "code",
   "execution_count": 148,
   "id": "0b04e66e-8bc7-47d0-85a0-0fd1288db7f5",
   "metadata": {},
   "outputs": [
    {
     "data": {
      "text/plain": [
       "<pandas.core.groupby.generic.DataFrameGroupBy object at 0x177288850>"
      ]
     },
     "execution_count": 148,
     "metadata": {},
     "output_type": "execute_result"
    }
   ],
   "source": [
    "df.groupby('sex')"
   ]
  },
  {
   "cell_type": "code",
   "execution_count": null,
   "id": "4ec8f7be-bcff-4d09-b473-954fb0050143",
   "metadata": {},
   "outputs": [],
   "source": []
  },
  {
   "cell_type": "code",
   "execution_count": null,
   "id": "be998a6a-5397-40ce-a6f4-fd935171ec09",
   "metadata": {},
   "outputs": [],
   "source": []
  },
  {
   "cell_type": "code",
   "execution_count": 262,
   "id": "b8b39512-7cdd-404d-bfc3-38d9bbfc145f",
   "metadata": {},
   "outputs": [
    {
     "data": {
      "text/plain": [
       "0.1     21957600.0\n",
       "0.5     66360000.0\n",
       "0.9    201937960.0\n",
       "Name: Volume, dtype: float64"
      ]
     },
     "execution_count": 262,
     "metadata": {},
     "output_type": "execute_result"
    }
   ],
   "source": [
    "df.Volume.quantile(q=[0.1,0.5,0.9])"
   ]
  },
  {
   "cell_type": "code",
   "execution_count": 264,
   "id": "81400993-957c-4a1b-9eb7-1d15457215e4",
   "metadata": {},
   "outputs": [
    {
     "data": {
      "text/html": [
       "<div>\n",
       "<style scoped>\n",
       "    .dataframe tbody tr th:only-of-type {\n",
       "        vertical-align: middle;\n",
       "    }\n",
       "\n",
       "    .dataframe tbody tr th {\n",
       "        vertical-align: top;\n",
       "    }\n",
       "\n",
       "    .dataframe thead th {\n",
       "        text-align: right;\n",
       "    }\n",
       "</style>\n",
       "<table border=\"1\" class=\"dataframe\">\n",
       "  <thead>\n",
       "    <tr style=\"text-align: right;\">\n",
       "      <th></th>\n",
       "      <th>Volume</th>\n",
       "    </tr>\n",
       "  </thead>\n",
       "  <tbody>\n",
       "    <tr>\n",
       "      <th>0.1</th>\n",
       "      <td>21957600.0</td>\n",
       "    </tr>\n",
       "    <tr>\n",
       "      <th>0.5</th>\n",
       "      <td>66360000.0</td>\n",
       "    </tr>\n",
       "    <tr>\n",
       "      <th>0.9</th>\n",
       "      <td>201937960.0</td>\n",
       "    </tr>\n",
       "  </tbody>\n",
       "</table>\n",
       "</div>"
      ],
      "text/plain": [
       "          Volume\n",
       "0.1   21957600.0\n",
       "0.5   66360000.0\n",
       "0.9  201937960.0"
      ]
     },
     "execution_count": 264,
     "metadata": {},
     "output_type": "execute_result"
    }
   ],
   "source": [
    "df.Volume.quantile(q=[0.1,0.5,0.9]).to_frame()"
   ]
  },
  {
   "cell_type": "code",
   "execution_count": 263,
   "id": "c378c295-91de-4bab-86b6-08b22d1f4480",
   "metadata": {},
   "outputs": [
    {
     "data": {
      "text/html": [
       "<div>\n",
       "<style scoped>\n",
       "    .dataframe tbody tr th:only-of-type {\n",
       "        vertical-align: middle;\n",
       "    }\n",
       "\n",
       "    .dataframe tbody tr th {\n",
       "        vertical-align: top;\n",
       "    }\n",
       "\n",
       "    .dataframe thead th {\n",
       "        text-align: right;\n",
       "    }\n",
       "</style>\n",
       "<table border=\"1\" class=\"dataframe\">\n",
       "  <thead>\n",
       "    <tr style=\"text-align: right;\">\n",
       "      <th></th>\n",
       "      <th>Volume</th>\n",
       "    </tr>\n",
       "  </thead>\n",
       "  <tbody>\n",
       "    <tr>\n",
       "      <th>0.1</th>\n",
       "      <td>21957600.0</td>\n",
       "    </tr>\n",
       "    <tr>\n",
       "      <th>0.5</th>\n",
       "      <td>66360000.0</td>\n",
       "    </tr>\n",
       "    <tr>\n",
       "      <th>0.9</th>\n",
       "      <td>201937960.0</td>\n",
       "    </tr>\n",
       "  </tbody>\n",
       "</table>\n",
       "</div>"
      ],
      "text/plain": [
       "          Volume\n",
       "0.1   21957600.0\n",
       "0.5   66360000.0\n",
       "0.9  201937960.0"
      ]
     },
     "execution_count": 263,
     "metadata": {},
     "output_type": "execute_result"
    }
   ],
   "source": [
    "pd.DataFrame(df.Volume.quantile(q=[0.1,0.5,0.9]))"
   ]
  },
  {
   "cell_type": "code",
   "execution_count": null,
   "id": "0f4a69f1-8bbd-45e0-9ad5-a73948237f7c",
   "metadata": {},
   "outputs": [],
   "source": []
  },
  {
   "cell_type": "code",
   "execution_count": 265,
   "id": "65002437-5655-4a90-9542-fa826ae789f8",
   "metadata": {},
   "outputs": [
    {
     "data": {
      "text/html": [
       "<div>\n",
       "<style scoped>\n",
       "    .dataframe tbody tr th:only-of-type {\n",
       "        vertical-align: middle;\n",
       "    }\n",
       "\n",
       "    .dataframe tbody tr th {\n",
       "        vertical-align: top;\n",
       "    }\n",
       "\n",
       "    .dataframe thead th {\n",
       "        text-align: right;\n",
       "    }\n",
       "</style>\n",
       "<table border=\"1\" class=\"dataframe\">\n",
       "  <thead>\n",
       "    <tr style=\"text-align: right;\">\n",
       "      <th></th>\n",
       "      <th>Date</th>\n",
       "      <th>Open</th>\n",
       "      <th>High</th>\n",
       "      <th>Low</th>\n",
       "      <th>Close</th>\n",
       "      <th>Volume</th>\n",
       "      <th>Adj Close</th>\n",
       "      <th>Monthly</th>\n",
       "    </tr>\n",
       "  </thead>\n",
       "  <tbody>\n",
       "    <tr>\n",
       "      <th>0</th>\n",
       "      <td>2014-07-08</td>\n",
       "      <td>96.27</td>\n",
       "      <td>96.80</td>\n",
       "      <td>93.92</td>\n",
       "      <td>95.35</td>\n",
       "      <td>65130000</td>\n",
       "      <td>95.35</td>\n",
       "      <td>2014-07</td>\n",
       "    </tr>\n",
       "    <tr>\n",
       "      <th>1</th>\n",
       "      <td>2014-07-07</td>\n",
       "      <td>94.14</td>\n",
       "      <td>95.99</td>\n",
       "      <td>94.10</td>\n",
       "      <td>95.97</td>\n",
       "      <td>56305400</td>\n",
       "      <td>95.97</td>\n",
       "      <td>2014-07</td>\n",
       "    </tr>\n",
       "    <tr>\n",
       "      <th>2</th>\n",
       "      <td>2014-07-03</td>\n",
       "      <td>93.67</td>\n",
       "      <td>94.10</td>\n",
       "      <td>93.20</td>\n",
       "      <td>94.03</td>\n",
       "      <td>22891800</td>\n",
       "      <td>94.03</td>\n",
       "      <td>2014-07</td>\n",
       "    </tr>\n",
       "    <tr>\n",
       "      <th>3</th>\n",
       "      <td>2014-07-02</td>\n",
       "      <td>93.87</td>\n",
       "      <td>94.06</td>\n",
       "      <td>93.09</td>\n",
       "      <td>93.48</td>\n",
       "      <td>28420900</td>\n",
       "      <td>93.48</td>\n",
       "      <td>2014-07</td>\n",
       "    </tr>\n",
       "    <tr>\n",
       "      <th>4</th>\n",
       "      <td>2014-07-01</td>\n",
       "      <td>93.52</td>\n",
       "      <td>94.07</td>\n",
       "      <td>93.13</td>\n",
       "      <td>93.52</td>\n",
       "      <td>38170200</td>\n",
       "      <td>93.52</td>\n",
       "      <td>2014-07</td>\n",
       "    </tr>\n",
       "  </tbody>\n",
       "</table>\n",
       "</div>"
      ],
      "text/plain": [
       "        Date   Open   High    Low  Close    Volume  Adj Close  Monthly\n",
       "0 2014-07-08  96.27  96.80  93.92  95.35  65130000      95.35  2014-07\n",
       "1 2014-07-07  94.14  95.99  94.10  95.97  56305400      95.97  2014-07\n",
       "2 2014-07-03  93.67  94.10  93.20  94.03  22891800      94.03  2014-07\n",
       "3 2014-07-02  93.87  94.06  93.09  93.48  28420900      93.48  2014-07\n",
       "4 2014-07-01  93.52  94.07  93.13  93.52  38170200      93.52  2014-07"
      ]
     },
     "execution_count": 265,
     "metadata": {},
     "output_type": "execute_result"
    }
   ],
   "source": [
    "df.head()"
   ]
  },
  {
   "cell_type": "code",
   "execution_count": 267,
   "id": "84c95eb8-a3e4-44bf-afe9-8ef735d55611",
   "metadata": {},
   "outputs": [
    {
     "data": {
      "text/html": [
       "<div>\n",
       "<style scoped>\n",
       "    .dataframe tbody tr th:only-of-type {\n",
       "        vertical-align: middle;\n",
       "    }\n",
       "\n",
       "    .dataframe tbody tr th {\n",
       "        vertical-align: top;\n",
       "    }\n",
       "\n",
       "    .dataframe thead th {\n",
       "        text-align: right;\n",
       "    }\n",
       "</style>\n",
       "<table border=\"1\" class=\"dataframe\">\n",
       "  <thead>\n",
       "    <tr style=\"text-align: right;\">\n",
       "      <th></th>\n",
       "      <th>Date</th>\n",
       "      <th>Open</th>\n",
       "      <th>High</th>\n",
       "      <th>Low</th>\n",
       "      <th>Close</th>\n",
       "      <th>Volume</th>\n",
       "      <th>Adj Close</th>\n",
       "      <th>Monthly</th>\n",
       "      <th>Dif</th>\n",
       "    </tr>\n",
       "  </thead>\n",
       "  <tbody>\n",
       "    <tr>\n",
       "      <th>0</th>\n",
       "      <td>2014-07-08</td>\n",
       "      <td>96.27</td>\n",
       "      <td>96.80</td>\n",
       "      <td>93.92</td>\n",
       "      <td>95.35</td>\n",
       "      <td>65130000</td>\n",
       "      <td>95.35</td>\n",
       "      <td>2014-07</td>\n",
       "      <td>2.88</td>\n",
       "    </tr>\n",
       "    <tr>\n",
       "      <th>1</th>\n",
       "      <td>2014-07-07</td>\n",
       "      <td>94.14</td>\n",
       "      <td>95.99</td>\n",
       "      <td>94.10</td>\n",
       "      <td>95.97</td>\n",
       "      <td>56305400</td>\n",
       "      <td>95.97</td>\n",
       "      <td>2014-07</td>\n",
       "      <td>1.89</td>\n",
       "    </tr>\n",
       "    <tr>\n",
       "      <th>2</th>\n",
       "      <td>2014-07-03</td>\n",
       "      <td>93.67</td>\n",
       "      <td>94.10</td>\n",
       "      <td>93.20</td>\n",
       "      <td>94.03</td>\n",
       "      <td>22891800</td>\n",
       "      <td>94.03</td>\n",
       "      <td>2014-07</td>\n",
       "      <td>0.90</td>\n",
       "    </tr>\n",
       "    <tr>\n",
       "      <th>3</th>\n",
       "      <td>2014-07-02</td>\n",
       "      <td>93.87</td>\n",
       "      <td>94.06</td>\n",
       "      <td>93.09</td>\n",
       "      <td>93.48</td>\n",
       "      <td>28420900</td>\n",
       "      <td>93.48</td>\n",
       "      <td>2014-07</td>\n",
       "      <td>0.97</td>\n",
       "    </tr>\n",
       "    <tr>\n",
       "      <th>4</th>\n",
       "      <td>2014-07-01</td>\n",
       "      <td>93.52</td>\n",
       "      <td>94.07</td>\n",
       "      <td>93.13</td>\n",
       "      <td>93.52</td>\n",
       "      <td>38170200</td>\n",
       "      <td>93.52</td>\n",
       "      <td>2014-07</td>\n",
       "      <td>0.94</td>\n",
       "    </tr>\n",
       "    <tr>\n",
       "      <th>...</th>\n",
       "      <td>...</td>\n",
       "      <td>...</td>\n",
       "      <td>...</td>\n",
       "      <td>...</td>\n",
       "      <td>...</td>\n",
       "      <td>...</td>\n",
       "      <td>...</td>\n",
       "      <td>...</td>\n",
       "      <td>...</td>\n",
       "    </tr>\n",
       "    <tr>\n",
       "      <th>8460</th>\n",
       "      <td>1980-12-18</td>\n",
       "      <td>26.63</td>\n",
       "      <td>26.75</td>\n",
       "      <td>26.63</td>\n",
       "      <td>26.63</td>\n",
       "      <td>18362400</td>\n",
       "      <td>0.41</td>\n",
       "      <td>1980-12</td>\n",
       "      <td>0.12</td>\n",
       "    </tr>\n",
       "    <tr>\n",
       "      <th>8461</th>\n",
       "      <td>1980-12-17</td>\n",
       "      <td>25.87</td>\n",
       "      <td>26.00</td>\n",
       "      <td>25.87</td>\n",
       "      <td>25.87</td>\n",
       "      <td>21610400</td>\n",
       "      <td>0.40</td>\n",
       "      <td>1980-12</td>\n",
       "      <td>0.13</td>\n",
       "    </tr>\n",
       "    <tr>\n",
       "      <th>8462</th>\n",
       "      <td>1980-12-16</td>\n",
       "      <td>25.37</td>\n",
       "      <td>25.37</td>\n",
       "      <td>25.25</td>\n",
       "      <td>25.25</td>\n",
       "      <td>26432000</td>\n",
       "      <td>0.39</td>\n",
       "      <td>1980-12</td>\n",
       "      <td>0.12</td>\n",
       "    </tr>\n",
       "    <tr>\n",
       "      <th>8463</th>\n",
       "      <td>1980-12-15</td>\n",
       "      <td>27.38</td>\n",
       "      <td>27.38</td>\n",
       "      <td>27.25</td>\n",
       "      <td>27.25</td>\n",
       "      <td>43971200</td>\n",
       "      <td>0.42</td>\n",
       "      <td>1980-12</td>\n",
       "      <td>0.13</td>\n",
       "    </tr>\n",
       "    <tr>\n",
       "      <th>8464</th>\n",
       "      <td>1980-12-12</td>\n",
       "      <td>28.75</td>\n",
       "      <td>28.87</td>\n",
       "      <td>28.75</td>\n",
       "      <td>28.75</td>\n",
       "      <td>117258400</td>\n",
       "      <td>0.45</td>\n",
       "      <td>1980-12</td>\n",
       "      <td>0.12</td>\n",
       "    </tr>\n",
       "  </tbody>\n",
       "</table>\n",
       "<p>8465 rows × 9 columns</p>\n",
       "</div>"
      ],
      "text/plain": [
       "           Date   Open   High    Low  Close     Volume  Adj Close  Monthly  \\\n",
       "0    2014-07-08  96.27  96.80  93.92  95.35   65130000      95.35  2014-07   \n",
       "1    2014-07-07  94.14  95.99  94.10  95.97   56305400      95.97  2014-07   \n",
       "2    2014-07-03  93.67  94.10  93.20  94.03   22891800      94.03  2014-07   \n",
       "3    2014-07-02  93.87  94.06  93.09  93.48   28420900      93.48  2014-07   \n",
       "4    2014-07-01  93.52  94.07  93.13  93.52   38170200      93.52  2014-07   \n",
       "...         ...    ...    ...    ...    ...        ...        ...      ...   \n",
       "8460 1980-12-18  26.63  26.75  26.63  26.63   18362400       0.41  1980-12   \n",
       "8461 1980-12-17  25.87  26.00  25.87  25.87   21610400       0.40  1980-12   \n",
       "8462 1980-12-16  25.37  25.37  25.25  25.25   26432000       0.39  1980-12   \n",
       "8463 1980-12-15  27.38  27.38  27.25  27.25   43971200       0.42  1980-12   \n",
       "8464 1980-12-12  28.75  28.87  28.75  28.75  117258400       0.45  1980-12   \n",
       "\n",
       "       Dif  \n",
       "0     2.88  \n",
       "1     1.89  \n",
       "2     0.90  \n",
       "3     0.97  \n",
       "4     0.94  \n",
       "...    ...  \n",
       "8460  0.12  \n",
       "8461  0.13  \n",
       "8462  0.12  \n",
       "8463  0.13  \n",
       "8464  0.12  \n",
       "\n",
       "[8465 rows x 9 columns]"
      ]
     },
     "execution_count": 267,
     "metadata": {},
     "output_type": "execute_result"
    }
   ],
   "source": [
    "df.assign(\n",
    "    Dif = df.High - df.Low\n",
    ")"
   ]
  },
  {
   "cell_type": "code",
   "execution_count": null,
   "id": "a0e24ee0-4fe1-41af-ad6a-62bfce26d037",
   "metadata": {},
   "outputs": [],
   "source": []
  },
  {
   "cell_type": "code",
   "execution_count": 260,
   "id": "c0c86082-7bdd-4e9e-9119-5e13bd41a73c",
   "metadata": {},
   "outputs": [
    {
     "data": {
      "text/html": [
       "<div>\n",
       "<style scoped>\n",
       "    .dataframe tbody tr th:only-of-type {\n",
       "        vertical-align: middle;\n",
       "    }\n",
       "\n",
       "    .dataframe tbody tr th {\n",
       "        vertical-align: top;\n",
       "    }\n",
       "\n",
       "    .dataframe thead th {\n",
       "        text-align: right;\n",
       "    }\n",
       "</style>\n",
       "<table border=\"1\" class=\"dataframe\">\n",
       "  <thead>\n",
       "    <tr style=\"text-align: right;\">\n",
       "      <th></th>\n",
       "      <th>Open</th>\n",
       "      <th>High</th>\n",
       "      <th>Low</th>\n",
       "      <th>Close</th>\n",
       "      <th>Volume</th>\n",
       "      <th>Adj Close</th>\n",
       "    </tr>\n",
       "  </thead>\n",
       "  <tbody>\n",
       "    <tr>\n",
       "      <th>0.1</th>\n",
       "      <td>18.630</td>\n",
       "      <td>19.000</td>\n",
       "      <td>18.370</td>\n",
       "      <td>18.630</td>\n",
       "      <td>21957600.0</td>\n",
       "      <td>0.410</td>\n",
       "    </tr>\n",
       "    <tr>\n",
       "      <th>0.9</th>\n",
       "      <td>329.988</td>\n",
       "      <td>333.658</td>\n",
       "      <td>326.684</td>\n",
       "      <td>331.058</td>\n",
       "      <td>201937960.0</td>\n",
       "      <td>45.776</td>\n",
       "    </tr>\n",
       "  </tbody>\n",
       "</table>\n",
       "</div>"
      ],
      "text/plain": [
       "        Open     High      Low    Close       Volume  Adj Close\n",
       "0.1   18.630   19.000   18.370   18.630   21957600.0      0.410\n",
       "0.9  329.988  333.658  326.684  331.058  201937960.0     45.776"
      ]
     },
     "execution_count": 260,
     "metadata": {},
     "output_type": "execute_result"
    }
   ],
   "source": [
    "df.quantile(q=[0.1,0.9])"
   ]
  },
  {
   "cell_type": "code",
   "execution_count": null,
   "id": "50b7fd31-8940-460b-bd79-1248f965ca10",
   "metadata": {},
   "outputs": [],
   "source": []
  }
 ],
 "metadata": {
  "kernelspec": {
   "display_name": "Python 3 (ipykernel)",
   "language": "python",
   "name": "python3"
  },
  "language_info": {
   "codemirror_mode": {
    "name": "ipython",
    "version": 3
   },
   "file_extension": ".py",
   "mimetype": "text/x-python",
   "name": "python",
   "nbconvert_exporter": "python",
   "pygments_lexer": "ipython3",
   "version": "3.9.7"
  }
 },
 "nbformat": 4,
 "nbformat_minor": 5
}
