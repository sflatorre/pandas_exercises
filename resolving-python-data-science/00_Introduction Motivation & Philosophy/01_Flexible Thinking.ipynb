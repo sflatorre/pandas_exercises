{
 "cells": [
  {
   "cell_type": "markdown",
   "id": "bd78bef3-056a-4891-a733-d1bd8b038f9f",
   "metadata": {},
   "source": [
    "# What will we learn?\n",
    "\n",
    "- Fundamental Concept 1\n",
    "- Fundamental Concept 2"
   ]
  },
  {
   "cell_type": "markdown",
   "id": "944a8135-356f-475a-93fd-b2b14e2976b6",
   "metadata": {},
   "source": [
    "# Requirements?\n",
    "- Mandatory Requirement 1\n",
    "- Mandatory Requirement 2"
   ]
  },
  {
   "cell_type": "markdown",
   "id": "97f40436-ec9e-4bca-8be4-3849bf552593",
   "metadata": {},
   "source": [
    "# Let’s develop the solution\n",
    "## The starting *thing*"
   ]
  },
  {
   "cell_type": "code",
   "execution_count": null,
   "id": "2b1cd129-4937-4e53-95d8-a57362253192",
   "metadata": {},
   "outputs": [],
   "source": []
  },
  {
   "cell_type": "markdown",
   "id": "75c119c3-0d04-4b36-9f75-184768c7798a",
   "metadata": {},
   "source": [
    "- `error_1`"
   ]
  },
  {
   "cell_type": "code",
   "execution_count": null,
   "id": "b141d3b0-de3a-4edd-a174-3b7a69f7ea07",
   "metadata": {},
   "outputs": [],
   "source": []
  },
  {
   "cell_type": "markdown",
   "id": "dfa3e79d-e859-4356-880f-3e48352c4ce7",
   "metadata": {},
   "source": [
    "## Concept needed for `error_1`\n",
    "- Parent concept and its elements:\n",
    "    1. Element 1\n",
    "    2. Element 2\n",
    "    3. Element …\n",
    "- `solution_1`\n",
    "    - Solve the `error_1`"
   ]
  },
  {
   "cell_type": "code",
   "execution_count": null,
   "id": "2b5054a2-e68c-4ac3-935b-20daf322483e",
   "metadata": {},
   "outputs": [],
   "source": []
  },
  {
   "cell_type": "markdown",
   "id": "4656b3e7-aca6-4ecc-bd82-b0f3bc9684ce",
   "metadata": {},
   "source": [
    "- Get an `error_2` from `solution_1`"
   ]
  },
  {
   "cell_type": "code",
   "execution_count": null,
   "id": "d258fc50-6403-41e5-92b2-b37c1dce77bf",
   "metadata": {},
   "outputs": [],
   "source": []
  },
  {
   "cell_type": "markdown",
   "id": "1664ef66-6e16-40a1-b1a2-1105909ec612",
   "metadata": {},
   "source": [
    "## Concept needed for `error_2`\n",
    "- Parent concept and its elements:\n",
    "    1. Element 1\n",
    "    2. Element 2\n",
    "    3. Element …\n",
    "- `solution_2`\n",
    "    - Solve the `error_2`"
   ]
  },
  {
   "cell_type": "code",
   "execution_count": null,
   "id": "12a550e5-dfff-4022-bf06-9645b92a0a66",
   "metadata": {},
   "outputs": [],
   "source": []
  },
  {
   "cell_type": "markdown",
   "id": "50e736dc-084f-46e3-8856-09417b821aa5",
   "metadata": {},
   "source": [
    "- Get an `error_x` from `solution_2`"
   ]
  },
  {
   "cell_type": "code",
   "execution_count": null,
   "id": "a5d4e28f-6ccc-4024-94cf-032226148ff7",
   "metadata": {},
   "outputs": [],
   "source": []
  },
  {
   "cell_type": "markdown",
   "id": "886739b5-d717-481a-a518-4280e1a99ea2",
   "metadata": {},
   "source": [
    "## Concept needed for `error_x`\n",
    "- Parent concept and its elements:\n",
    "    1. Element 1\n",
    "    2. Element 2\n",
    "    3. Element …\n",
    "- `solution_x`\n",
    "    - Solve the `error_x`"
   ]
  },
  {
   "cell_type": "code",
   "execution_count": null,
   "id": "0ff62969-84de-473a-ad77-fd1bd1cd8632",
   "metadata": {},
   "outputs": [],
   "source": []
  },
  {
   "cell_type": "markdown",
   "id": "48450486-7559-47ed-989a-48c123178f86",
   "metadata": {},
   "source": [
    "# The uncovered solution"
   ]
  },
  {
   "cell_type": "code",
   "execution_count": null,
   "id": "6002f489-798c-471a-a393-20b50b9d9c9b",
   "metadata": {},
   "outputs": [],
   "source": []
  },
  {
   "cell_type": "markdown",
   "id": "67a32be7-9b63-420a-9314-674eb009cf2f",
   "metadata": {
    "jp-MarkdownHeadingCollapsed": true,
    "tags": []
   },
   "source": [
    "# Recap on the learning\n",
    "- Fundamental Concept 1\n",
    "    - [ ] `solution`\n",
    "- Fundamental Concept 2\n",
    "    - [ ] `solution`"
   ]
  },
  {
   "cell_type": "markdown",
   "id": "dd97aa2a-f3fc-4872-a0c5-fd97f13867f2",
   "metadata": {},
   "source": [
    "# References\n",
    "- Link Reference 1\n",
    "- Link Reference 2"
   ]
  }
 ],
 "metadata": {
  "kernelspec": {
   "display_name": "Python 3 (ipykernel)",
   "language": "python",
   "name": "python3"
  },
  "language_info": {
   "codemirror_mode": {
    "name": "ipython",
    "version": 3
   },
   "file_extension": ".py",
   "mimetype": "text/x-python",
   "name": "python",
   "nbconvert_exporter": "python",
   "pygments_lexer": "ipython3",
   "version": "3.9.7"
  }
 },
 "nbformat": 4,
 "nbformat_minor": 5
}
