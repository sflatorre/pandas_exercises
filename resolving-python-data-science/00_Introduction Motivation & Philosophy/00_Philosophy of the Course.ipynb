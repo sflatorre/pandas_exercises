{
 "cells": [
  {
   "cell_type": "markdown",
   "id": "d3089aea-83d2-4b4a-8f89-99d43c8aef84",
   "metadata": {
    "tags": []
   },
   "source": [
    "<font size=\"+5\">#00 | Introduction Motivation & Learning Philosophy</font>\n",
    "\n",
    "# The challenge"
   ]
  },
  {
   "cell_type": "markdown",
   "id": "2ea950ab-dd3d-4d00-82f6-add9e83640c7",
   "metadata": {},
   "source": [
    "- [ ] What's your context right now?\n",
    "    - Studies\n",
    "    - Job\n",
    "    - Life\n",
    "    \n",
    "> Be honest with yourself and write down every single detail here ↓"
   ]
  },
  {
   "cell_type": "code",
   "execution_count": null,
   "id": "bcf975db-5516-4f9c-a30b-a2205bcfb2b7",
   "metadata": {},
   "outputs": [],
   "source": []
  },
  {
   "cell_type": "markdown",
   "id": "309f5c92-0853-4ed2-8e0e-28375dbcb668",
   "metadata": {},
   "source": [
    "# The covered solution\n",
    "\n",
    "- [ ] What's your ultimate goal in learning Python?\n",
    "    - Get a job?\n",
    "    - Change career?\n",
    "    - Promote in your job?\n",
    "    - For the sake of learning?\n",
    "    \n",
    "> Be honest with yourself and write down every single detail here ↓"
   ]
  },
  {
   "cell_type": "code",
   "execution_count": null,
   "id": "475f11e7-811e-4933-afa7-24ff8be76f60",
   "metadata": {},
   "outputs": [],
   "source": []
  },
  {
   "cell_type": "markdown",
   "id": "bd78bef3-056a-4891-a733-d1bd8b038f9f",
   "metadata": {},
   "source": [
    "# What will we learn?\n",
    "- Fundamental Concept 1\n",
    "- Fundamental Concept 2"
   ]
  },
  {
   "cell_type": "markdown",
   "id": "944a8135-356f-475a-93fd-b2b14e2976b6",
   "metadata": {},
   "source": [
    "# Requirements?\n",
    "- Mandatory Requirement 1\n",
    "- Mandatory Requirement 2"
   ]
  },
  {
   "cell_type": "markdown",
   "id": "97f40436-ec9e-4bca-8be4-3849bf552593",
   "metadata": {},
   "source": [
    "# Let’s develop the solution\n",
    "\n",
    "## The starting *thing*"
   ]
  },
  {
   "cell_type": "markdown",
   "id": "fbdc8846-902f-4591-b5e6-9779ed38ed56",
   "metadata": {},
   "source": [
    "- Imagine that you already know everything to achieve your goal...\n",
    "- [ ] How can they trust "
   ]
  },
  {
   "cell_type": "code",
   "execution_count": null,
   "id": "2b1cd129-4937-4e53-95d8-a57362253192",
   "metadata": {},
   "outputs": [],
   "source": []
  },
  {
   "cell_type": "markdown",
   "id": "75c119c3-0d04-4b36-9f75-184768c7798a",
   "metadata": {},
   "source": [
    "- `error_1`"
   ]
  },
  {
   "cell_type": "code",
   "execution_count": null,
   "id": "b141d3b0-de3a-4edd-a174-3b7a69f7ea07",
   "metadata": {},
   "outputs": [],
   "source": []
  },
  {
   "cell_type": "markdown",
   "id": "dfa3e79d-e859-4356-880f-3e48352c4ce7",
   "metadata": {},
   "source": [
    "## Concept needed for `error_1`\n",
    "- Parent concept and its elements:\n",
    "    1. Element 1\n",
    "    2. Element 2\n",
    "    3. Element …\n",
    "- `solution_1`\n",
    "    - Solve the `error_1`"
   ]
  },
  {
   "cell_type": "code",
   "execution_count": null,
   "id": "2b5054a2-e68c-4ac3-935b-20daf322483e",
   "metadata": {},
   "outputs": [],
   "source": []
  },
  {
   "cell_type": "markdown",
   "id": "4656b3e7-aca6-4ecc-bd82-b0f3bc9684ce",
   "metadata": {},
   "source": [
    "- Get an `error_2` from `solution_1`"
   ]
  },
  {
   "cell_type": "code",
   "execution_count": null,
   "id": "d258fc50-6403-41e5-92b2-b37c1dce77bf",
   "metadata": {},
   "outputs": [],
   "source": []
  },
  {
   "cell_type": "markdown",
   "id": "1664ef66-6e16-40a1-b1a2-1105909ec612",
   "metadata": {},
   "source": [
    "## Concept needed for `error_2`\n",
    "- Parent concept and its elements:\n",
    "    1. Element 1\n",
    "    2. Element 2\n",
    "    3. Element …\n",
    "- `solution_2`\n",
    "    - Solve the `error_2`"
   ]
  },
  {
   "cell_type": "code",
   "execution_count": null,
   "id": "12a550e5-dfff-4022-bf06-9645b92a0a66",
   "metadata": {},
   "outputs": [],
   "source": []
  },
  {
   "cell_type": "markdown",
   "id": "50e736dc-084f-46e3-8856-09417b821aa5",
   "metadata": {},
   "source": [
    "- Get an `error_x` from `solution_2`"
   ]
  },
  {
   "cell_type": "code",
   "execution_count": null,
   "id": "a5d4e28f-6ccc-4024-94cf-032226148ff7",
   "metadata": {},
   "outputs": [],
   "source": []
  },
  {
   "cell_type": "markdown",
   "id": "886739b5-d717-481a-a518-4280e1a99ea2",
   "metadata": {},
   "source": [
    "## Concept needed for `error_x`\n",
    "- Parent concept and its elements:\n",
    "    1. Element 1\n",
    "    2. Element 2\n",
    "    3. Element …\n",
    "- `solution_x`\n",
    "    - Solve the `error_x`"
   ]
  },
  {
   "cell_type": "code",
   "execution_count": null,
   "id": "0ff62969-84de-473a-ad77-fd1bd1cd8632",
   "metadata": {},
   "outputs": [],
   "source": []
  },
  {
   "cell_type": "markdown",
   "id": "d87ba366-1b63-45fd-afcc-6438908684e1",
   "metadata": {},
   "source": [
    "- Do you have a good learning habit?"
   ]
  },
  {
   "cell_type": "code",
   "execution_count": null,
   "id": "766e080a-e6ee-4306-88dc-553652d782b9",
   "metadata": {},
   "outputs": [],
   "source": []
  },
  {
   "cell_type": "markdown",
   "id": "07267670-a3bd-4428-94df-caa484c3dc71",
   "metadata": {},
   "source": [
    "## Python Resolver Discipline for Learning\n",
    "\n",
    "1. **Humbleness**\n",
    "    - ❌ Reach pyramid's top in one jump\n",
    "    - ✅ Reach pyramid's top step by step\n",
    "2. **Flexible Thinking**\n",
    "    - ❌ There is a perfect solution and only 1 way to get there\n",
    "    - ✅ There are many paths to get to Rome, be happy with one that gives you the result you want\n",
    "3. **Curiosity on the Error**\n",
    "    - ❌ Just solve the problem\n",
    "    - ✅ Check the doubts with counter-examples\n",
    "    - ✅ Ask yourself why does it work this way? Why doesn't work this other way?\n",
    "    - ✅ Write code to try it out & leave it there\n",
    "4. **Fundamental Knowledge**\n",
    "    - ❌ You need to learn every single detail\n",
    "    - ✅ You need to learn the common patterns in the syntaxis that always behave the same way\n",
    "5. **Notes**\n",
    "    - ❌ Assume you've learnt it in your head\n",
    "    - ✅ Reflect it on a piece of paper that you can later refer to solve repetitive doubts/errors\n",
    "6. **Efficient Learning**\n",
    "    - ❌ Stuck for 20 minutes because you are trying to solve a problem way above your level\n",
    "    - ✅ Sometimes, you need to pass 20 pages to understand a previous scene\n",
    "    - ✅ Move on with other basic concept because you will take more advantage of the time\n",
    "\n",
    "\n",
    "### Solution:\n",
    "\n",
    "- ✅ Read this every single time you are on your own & take notes about how you measured up\n",
    "\n",
    "### Error:\n",
    "\n",
    "- ❌ Going over the exercises without these friendly reminders will cause you a lot of suffering"
   ]
  },
  {
   "cell_type": "markdown",
   "id": "48450486-7559-47ed-989a-48c123178f86",
   "metadata": {},
   "source": [
    "# The uncovered solution"
   ]
  },
  {
   "cell_type": "code",
   "execution_count": null,
   "id": "6002f489-798c-471a-a393-20b50b9d9c9b",
   "metadata": {},
   "outputs": [],
   "source": []
  },
  {
   "cell_type": "markdown",
   "id": "67a32be7-9b63-420a-9314-674eb009cf2f",
   "metadata": {
    "jp-MarkdownHeadingCollapsed": true,
    "tags": []
   },
   "source": [
    "# Recap on the learning\n",
    "- Fundamental Concept 1\n",
    "    - [ ] `solution`\n",
    "- Fundamental Concept 2\n",
    "    - [ ] `solution`"
   ]
  },
  {
   "cell_type": "markdown",
   "id": "dd97aa2a-f3fc-4872-a0c5-fd97f13867f2",
   "metadata": {},
   "source": [
    "# References\n",
    "- Link Reference 1\n",
    "- Link Reference 2"
   ]
  }
 ],
 "metadata": {
  "kernelspec": {
   "display_name": "Python 3 (ipykernel)",
   "language": "python",
   "name": "python3"
  },
  "language_info": {
   "codemirror_mode": {
    "name": "ipython",
    "version": 3
   },
   "file_extension": ".py",
   "mimetype": "text/x-python",
   "name": "python",
   "nbconvert_exporter": "python",
   "pygments_lexer": "ipython3",
   "version": "3.9.7"
  }
 },
 "nbformat": 4,
 "nbformat_minor": 5
}
